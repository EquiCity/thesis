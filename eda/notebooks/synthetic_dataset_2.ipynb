{
 "cells": [
  {
   "cell_type": "code",
   "execution_count": 1,
   "metadata": {
    "collapsed": false,
    "jupyter": {
     "outputs_hidden": false
    },
    "pycharm": {
     "name": "#%%\n"
    }
   },
   "outputs": [],
   "source": [
    "import igraph as ig\n",
    "import geopandas as gpd\n",
    "import itertools as it\n",
    "\n",
    "import numpy as np\n",
    "from matplotlib import pyplot as plt"
   ]
  },
  {
   "cell_type": "markdown",
   "source": [
    "# Graph"
   ],
   "metadata": {
    "collapsed": false,
    "pycharm": {
     "name": "#%% md\n"
    }
   }
  },
  {
   "cell_type": "code",
   "execution_count": 2,
   "outputs": [],
   "source": [
    "g = ig.Graph(directed=True)"
   ],
   "metadata": {
    "collapsed": false,
    "pycharm": {
     "name": "#%%\n"
    }
   }
  },
  {
   "cell_type": "code",
   "execution_count": 3,
   "outputs": [],
   "source": [
    "V_O = {f'RC{i+1}':i for i in range(4)}\n",
    "V_O_attr = {\n",
    "    'name': [e for e in V_O.keys()],\n",
    "    'x': [0,3,3,0],\n",
    "    'y': [0,0,3,3],\n",
    "    'color': ['red','red','red','red'],\n",
    "    'type': 'res_node',\n",
    "}\n",
    "g.add_vertices(V_O.values(), V_O_attr)"
   ],
   "metadata": {
    "collapsed": false,
    "pycharm": {
     "name": "#%%\n"
    }
   }
  },
  {
   "cell_type": "code",
   "execution_count": 4,
   "outputs": [],
   "source": [
    "V_P = {f'PT{i+1}':e for i,e in enumerate(range(4,8))}\n",
    "V_P_attr = {\n",
    "    'name': [e for e in V_P.keys()],\n",
    "    'x': [0.2,2.8,2.8,0.2],\n",
    "    'y': [0.2,0.2,2.8,2.8],\n",
    "    'color': 'blue',\n",
    "    'type': 'pt_node',\n",
    "}\n",
    "g.add_vertices(V_P.values(), V_P_attr)"
   ],
   "metadata": {
    "collapsed": false,
    "pycharm": {
     "name": "#%%\n"
    }
   }
  },
  {
   "cell_type": "code",
   "execution_count": 5,
   "outputs": [],
   "source": [
    "V_D = {f'POI{i+1}':e for i,e in enumerate(range(8,12))}\n",
    "V_D_attr = {\n",
    "    'name': [e for e in V_D.keys()],\n",
    "    'x': [0.3,2.7,2.7,0.3],\n",
    "    'y': [0.3,0.3,2.7,2.7],\n",
    "    'color': 'green',\n",
    "    'type': 'poi_node',\n",
    "}\n",
    "g.add_vertices(V_D.values(), V_D_attr)"
   ],
   "metadata": {
    "collapsed": false,
    "pycharm": {
     "name": "#%%\n"
    }
   }
  },
  {
   "cell_type": "markdown",
   "source": [
    "## PTN Edges"
   ],
   "metadata": {
    "collapsed": false,
    "pycharm": {
     "name": "#%% md\n"
    }
   }
  },
  {
   "cell_type": "code",
   "execution_count": 6,
   "outputs": [],
   "source": [
    "# Speeds\n",
    "WALKING_SPEED = 5  # units per hour\n",
    "BUS_SPEED = 100  # units per hour\n",
    "TRAIN_SPEED = 1000  # units per hour"
   ],
   "metadata": {
    "collapsed": false,
    "pycharm": {
     "name": "#%%\n"
    }
   }
  },
  {
   "cell_type": "code",
   "execution_count": 7,
   "outputs": [],
   "source": [
    "def compute_dist_from_es(es: list):\n",
    "    positions = [(g.vs[e[0]]['x'], g.vs[e[0]]['y'], g.vs[e[1]]['x'], g.vs[e[1]]['y']) for e in es]\n",
    "    pos_arr = np.array(positions)\n",
    "    return np.sqrt((pos_arr[:,[0,2]].max(axis=1)-pos_arr[:,[0,2]].min(axis=1))**2+\n",
    "                   (pos_arr[:,[1,3]].max(axis=1)-pos_arr[:,[1,3]].min(axis=1))**2)"
   ],
   "metadata": {
    "collapsed": false,
    "pycharm": {
     "name": "#%%\n"
    }
   }
  },
  {
   "cell_type": "markdown",
   "source": [
    "### Walking"
   ],
   "metadata": {
    "collapsed": false,
    "pycharm": {
     "name": "#%% md\n"
    }
   }
  },
  {
   "cell_type": "code",
   "execution_count": 8,
   "outputs": [],
   "source": [
    "E_WALK = list(it.product(V_O.values(),V_P.values())) +\\\n",
    "         list(it.product(V_P.values(), V_D.values())) +\\\n",
    "         list(it.product(V_O.values(), V_D.values()))\n",
    "distances_walk = compute_dist_from_es(E_WALK)\n",
    "E_WALK_attr = {\n",
    "    'distance': distances_walk,\n",
    "    'tt': (distances_walk * 1/WALKING_SPEED) * 60,\n",
    "    'weight': (distances_walk * 1/WALKING_SPEED) * 60,\n",
    "    'color': 'gray',\n",
    "    'type': 'walk',\n",
    "}\n",
    "g.add_edges(E_WALK, E_WALK_attr)"
   ],
   "metadata": {
    "collapsed": false,
    "pycharm": {
     "name": "#%%\n"
    }
   }
  },
  {
   "cell_type": "markdown",
   "source": [
    "### PT"
   ],
   "metadata": {
    "collapsed": false,
    "pycharm": {
     "name": "#%% md\n"
    }
   }
  },
  {
   "cell_type": "code",
   "execution_count": 9,
   "outputs": [],
   "source": [
    "E_TRAIN = [\n",
    "    (V_P['PT1'],V_P['PT2']),  # Train_line_1\n",
    "    (V_P['PT2'],V_P['PT3']),  # Train_line_1\n",
    "    (V_P['PT4'],V_P['PT3']),  # Train_line_2,\n",
    "    (V_P['PT4'],V_P['PT1']),  # Train_line_2\n",
    "]\n",
    "distances_train = compute_dist_from_es(E_TRAIN)\n",
    "E_TRAIN_attr = {\n",
    "    'name': list(it.repeat('Train_line_1',2)).append(it.repeat('Train_line_2',2)),\n",
    "    'distance': distances_train,\n",
    "    'tt': (distances_train * 1/TRAIN_SPEED) * 60,\n",
    "    'weight': (distances_train * 1/TRAIN_SPEED) * 60,\n",
    "    'color': 'orange',\n",
    "    'type': 'train'\n",
    "}\n",
    "g.add_edges(E_TRAIN, E_TRAIN_attr)"
   ],
   "metadata": {
    "collapsed": false,
    "pycharm": {
     "name": "#%%\n"
    }
   }
  },
  {
   "cell_type": "code",
   "execution_count": 10,
   "outputs": [
    {
     "data": {
      "text/plain": "array([2.6, 2.6, 2.6, 2.6])"
     },
     "execution_count": 10,
     "metadata": {},
     "output_type": "execute_result"
    }
   ],
   "source": [
    "distances_train"
   ],
   "metadata": {
    "collapsed": false,
    "pycharm": {
     "name": "#%%\n"
    }
   }
  },
  {
   "cell_type": "code",
   "execution_count": 11,
   "outputs": [],
   "source": [
    "# fig, ax = plt.subplots(figsize=(5,5))\n",
    "# ig.plot(g, target='plots/synthetic_graphs/synthetic_graph_2.svg')"
   ],
   "metadata": {
    "collapsed": false,
    "pycharm": {
     "name": "#%%\n"
    }
   }
  },
  {
   "cell_type": "code",
   "execution_count": 12,
   "outputs": [],
   "source": [
    "g.es['active'] = 1"
   ],
   "metadata": {
    "collapsed": false,
    "pycharm": {
     "name": "#%%\n"
    }
   }
  },
  {
   "cell_type": "code",
   "execution_count": 13,
   "outputs": [],
   "source": [
    "# g.save('/home/rico/Documents/thesis/eda/notebooks/synthetic_dataset_2/graph.gml')\n",
    "# g.save('/home/rico/Documents/thesis/experiments/base_data/graph_2.gml')"
   ],
   "metadata": {
    "collapsed": false,
    "pycharm": {
     "name": "#%%\n"
    }
   }
  },
  {
   "cell_type": "markdown",
   "source": [
    "# Census Data"
   ],
   "metadata": {
    "collapsed": false,
    "pycharm": {
     "name": "#%% md\n"
    }
   }
  },
  {
   "cell_type": "code",
   "execution_count": 14,
   "outputs": [
    {
     "data": {
      "text/plain": "  neighborhood  n_inh  n_purple  n_red            res_centroids\n0          RC1   1000       500    500  POINT (0.00000 0.00000)\n1          RC2   1000       500    500  POINT (3.00000 0.00000)\n2          RC3   1000       500    500  POINT (3.00000 3.00000)\n3          RC4   1000       500    500  POINT (0.00000 3.00000)",
      "text/html": "<div>\n<style scoped>\n    .dataframe tbody tr th:only-of-type {\n        vertical-align: middle;\n    }\n\n    .dataframe tbody tr th {\n        vertical-align: top;\n    }\n\n    .dataframe thead th {\n        text-align: right;\n    }\n</style>\n<table border=\"1\" class=\"dataframe\">\n  <thead>\n    <tr style=\"text-align: right;\">\n      <th></th>\n      <th>neighborhood</th>\n      <th>n_inh</th>\n      <th>n_purple</th>\n      <th>n_red</th>\n      <th>res_centroids</th>\n    </tr>\n  </thead>\n  <tbody>\n    <tr>\n      <th>0</th>\n      <td>RC1</td>\n      <td>1000</td>\n      <td>500</td>\n      <td>500</td>\n      <td>POINT (0.00000 0.00000)</td>\n    </tr>\n    <tr>\n      <th>1</th>\n      <td>RC2</td>\n      <td>1000</td>\n      <td>500</td>\n      <td>500</td>\n      <td>POINT (3.00000 0.00000)</td>\n    </tr>\n    <tr>\n      <th>2</th>\n      <td>RC3</td>\n      <td>1000</td>\n      <td>500</td>\n      <td>500</td>\n      <td>POINT (3.00000 3.00000)</td>\n    </tr>\n    <tr>\n      <th>3</th>\n      <td>RC4</td>\n      <td>1000</td>\n      <td>500</td>\n      <td>500</td>\n      <td>POINT (0.00000 3.00000)</td>\n    </tr>\n  </tbody>\n</table>\n</div>"
     },
     "execution_count": 14,
     "metadata": {},
     "output_type": "execute_result"
    }
   ],
   "source": [
    "data = {\n",
    "    'neighborhood': V_O_attr['name'],\n",
    "    'n_inh': [1000,1000,1000,1000],\n",
    "    'n_purple': [500, 500, 500, 500],\n",
    "    'n_red':    [500, 500, 500, 500],\n",
    "    'res_centroids': gpd.points_from_xy(V_O_attr['x'], V_O_attr['y'])\n",
    "}\n",
    "\n",
    "gdf = gpd.GeoDataFrame(data, geometry='res_centroids')\n",
    "gdf"
   ],
   "metadata": {
    "collapsed": false,
    "pycharm": {
     "name": "#%%\n"
    }
   }
  },
  {
   "cell_type": "code",
   "execution_count": 15,
   "outputs": [],
   "source": [
    "# gdf.to_file('/home/rico/Documents/thesis/eda/notebooks/synthetic_dataset_2/census_data.geojson', driver='GeoJSON')\n",
    "# gdf.to_file('/home/rico/Documents/thesis/experiments/base_data/census_data_2.geojson', driver='GeoJSON')"
   ],
   "metadata": {
    "collapsed": false,
    "pycharm": {
     "name": "#%%\n"
    }
   }
  },
  {
   "cell_type": "markdown",
   "source": [
    "# Reward Computation"
   ],
   "metadata": {
    "collapsed": false,
    "pycharm": {
     "name": "#%% md\n"
    }
   }
  },
  {
   "cell_type": "code",
   "execution_count": 16,
   "outputs": [],
   "source": [
    "from ptnrue.rewards.egalitarian import EgalitarianTheilReward\n",
    "import itertools as it"
   ],
   "metadata": {
    "collapsed": false,
    "pycharm": {
     "name": "#%%\n"
    }
   }
  },
  {
   "cell_type": "code",
   "execution_count": 17,
   "outputs": [],
   "source": [
    "census_data = gdf.copy()\n",
    "census_data['geometry'] = census_data['res_centroids']\n",
    "r = EgalitarianTheilReward(census_data=census_data, com_threshold=15)"
   ],
   "metadata": {
    "collapsed": false,
    "pycharm": {
     "name": "#%%\n"
    }
   }
  },
  {
   "cell_type": "code",
   "execution_count": 30,
   "outputs": [
    {
     "data": {
      "text/plain": "25.79188454310778"
     },
     "execution_count": 30,
     "metadata": {},
     "output_type": "execute_result"
    }
   ],
   "source": [
    "r.evaluate(g)"
   ],
   "metadata": {
    "collapsed": false,
    "pycharm": {
     "name": "#%%\n"
    }
   }
  },
  {
   "cell_type": "code",
   "execution_count": 31,
   "outputs": [
    {
     "name": "stdout",
     "output_type": "stream",
     "text": [
      "PT1->PT2|PT2->PT3|PT4->PT3\n"
     ]
    },
    {
     "ename": "KeyboardInterrupt",
     "evalue": "",
     "output_type": "error",
     "traceback": [
      "\u001B[0;31m---------------------------------------------------------------------------\u001B[0m",
      "\u001B[0;31mKeyboardInterrupt\u001B[0m                         Traceback (most recent call last)",
      "Input \u001B[0;32mIn [31]\u001B[0m, in \u001B[0;36m<cell line: 8>\u001B[0;34m()\u001B[0m\n\u001B[1;32m     12\u001B[0m pes \u001B[38;5;241m=\u001B[39m [e\u001B[38;5;241m.\u001B[39mindex \u001B[38;5;28;01mfor\u001B[39;00m e \u001B[38;5;129;01min\u001B[39;00m ps]\n\u001B[1;32m     13\u001B[0m g_prime\u001B[38;5;241m.\u001B[39mes[pes][\u001B[38;5;124m'\u001B[39m\u001B[38;5;124mactive\u001B[39m\u001B[38;5;124m'\u001B[39m] \u001B[38;5;241m=\u001B[39m \u001B[38;5;241m0\u001B[39m\n\u001B[0;32m---> 14\u001B[0m rewards[pseudo_index] \u001B[38;5;241m=\u001B[39m \u001B[43mr\u001B[49m\u001B[38;5;241m.\u001B[39mevaluate(g_prime)\n",
      "Input \u001B[0;32mIn [31]\u001B[0m, in \u001B[0;36m<cell line: 8>\u001B[0;34m()\u001B[0m\n\u001B[1;32m     12\u001B[0m pes \u001B[38;5;241m=\u001B[39m [e\u001B[38;5;241m.\u001B[39mindex \u001B[38;5;28;01mfor\u001B[39;00m e \u001B[38;5;129;01min\u001B[39;00m ps]\n\u001B[1;32m     13\u001B[0m g_prime\u001B[38;5;241m.\u001B[39mes[pes][\u001B[38;5;124m'\u001B[39m\u001B[38;5;124mactive\u001B[39m\u001B[38;5;124m'\u001B[39m] \u001B[38;5;241m=\u001B[39m \u001B[38;5;241m0\u001B[39m\n\u001B[0;32m---> 14\u001B[0m rewards[pseudo_index] \u001B[38;5;241m=\u001B[39m \u001B[43mr\u001B[49m\u001B[38;5;241m.\u001B[39mevaluate(g_prime)\n",
      "File \u001B[0;32m~/.local/share/JetBrains/Toolbox/apps/DataSpell/ch-0/221.5921.20/plugins/python-ce/helpers/pydev/_pydevd_bundle/pydevd_frame.py:747\u001B[0m, in \u001B[0;36mPyDBFrame.trace_dispatch\u001B[0;34m(self, frame, event, arg)\u001B[0m\n\u001B[1;32m    745\u001B[0m \u001B[38;5;66;03m# if thread has a suspend flag, we suspend with a busy wait\u001B[39;00m\n\u001B[1;32m    746\u001B[0m \u001B[38;5;28;01mif\u001B[39;00m info\u001B[38;5;241m.\u001B[39mpydev_state \u001B[38;5;241m==\u001B[39m STATE_SUSPEND:\n\u001B[0;32m--> 747\u001B[0m     \u001B[38;5;28;43mself\u001B[39;49m\u001B[38;5;241;43m.\u001B[39;49m\u001B[43mdo_wait_suspend\u001B[49m\u001B[43m(\u001B[49m\u001B[43mthread\u001B[49m\u001B[43m,\u001B[49m\u001B[43m \u001B[49m\u001B[43mframe\u001B[49m\u001B[43m,\u001B[49m\u001B[43m \u001B[49m\u001B[43mevent\u001B[49m\u001B[43m,\u001B[49m\u001B[43m \u001B[49m\u001B[43marg\u001B[49m\u001B[43m)\u001B[49m\n\u001B[1;32m    748\u001B[0m     \u001B[38;5;66;03m# No need to reset frame.f_trace to keep the same trace function.\u001B[39;00m\n\u001B[1;32m    749\u001B[0m     \u001B[38;5;28;01mreturn\u001B[39;00m \u001B[38;5;28mself\u001B[39m\u001B[38;5;241m.\u001B[39mtrace_dispatch\n",
      "File \u001B[0;32m~/.local/share/JetBrains/Toolbox/apps/DataSpell/ch-0/221.5921.20/plugins/python-ce/helpers/pydev/_pydevd_bundle/pydevd_frame.py:144\u001B[0m, in \u001B[0;36mPyDBFrame.do_wait_suspend\u001B[0;34m(self, *args, **kwargs)\u001B[0m\n\u001B[1;32m    143\u001B[0m \u001B[38;5;28;01mdef\u001B[39;00m \u001B[38;5;21mdo_wait_suspend\u001B[39m(\u001B[38;5;28mself\u001B[39m, \u001B[38;5;241m*\u001B[39margs, \u001B[38;5;241m*\u001B[39m\u001B[38;5;241m*\u001B[39mkwargs):\n\u001B[0;32m--> 144\u001B[0m     \u001B[38;5;28;43mself\u001B[39;49m\u001B[38;5;241;43m.\u001B[39;49m\u001B[43m_args\u001B[49m\u001B[43m[\u001B[49m\u001B[38;5;241;43m0\u001B[39;49m\u001B[43m]\u001B[49m\u001B[38;5;241;43m.\u001B[39;49m\u001B[43mdo_wait_suspend\u001B[49m\u001B[43m(\u001B[49m\u001B[38;5;241;43m*\u001B[39;49m\u001B[43margs\u001B[49m\u001B[43m,\u001B[49m\u001B[43m \u001B[49m\u001B[38;5;241;43m*\u001B[39;49m\u001B[38;5;241;43m*\u001B[39;49m\u001B[43mkwargs\u001B[49m\u001B[43m)\u001B[49m\n",
      "File \u001B[0;32m~/.local/share/JetBrains/Toolbox/apps/DataSpell/ch-0/221.5921.20/plugins/python-ce/helpers/pydev/pydevd.py:1155\u001B[0m, in \u001B[0;36mPyDB.do_wait_suspend\u001B[0;34m(self, thread, frame, event, arg, send_suspend_message, is_unhandled_exception)\u001B[0m\n\u001B[1;32m   1152\u001B[0m         from_this_thread\u001B[38;5;241m.\u001B[39mappend(frame_id)\n\u001B[1;32m   1154\u001B[0m \u001B[38;5;28;01mwith\u001B[39;00m \u001B[38;5;28mself\u001B[39m\u001B[38;5;241m.\u001B[39m_threads_suspended_single_notification\u001B[38;5;241m.\u001B[39mnotify_thread_suspended(thread_id, stop_reason):\n\u001B[0;32m-> 1155\u001B[0m     \u001B[38;5;28;43mself\u001B[39;49m\u001B[38;5;241;43m.\u001B[39;49m\u001B[43m_do_wait_suspend\u001B[49m\u001B[43m(\u001B[49m\u001B[43mthread\u001B[49m\u001B[43m,\u001B[49m\u001B[43m \u001B[49m\u001B[43mframe\u001B[49m\u001B[43m,\u001B[49m\u001B[43m \u001B[49m\u001B[43mevent\u001B[49m\u001B[43m,\u001B[49m\u001B[43m \u001B[49m\u001B[43marg\u001B[49m\u001B[43m,\u001B[49m\u001B[43m \u001B[49m\u001B[43msuspend_type\u001B[49m\u001B[43m,\u001B[49m\u001B[43m \u001B[49m\u001B[43mfrom_this_thread\u001B[49m\u001B[43m)\u001B[49m\n",
      "File \u001B[0;32m~/.local/share/JetBrains/Toolbox/apps/DataSpell/ch-0/221.5921.20/plugins/python-ce/helpers/pydev/pydevd.py:1170\u001B[0m, in \u001B[0;36mPyDB._do_wait_suspend\u001B[0;34m(self, thread, frame, event, arg, suspend_type, from_this_thread)\u001B[0m\n\u001B[1;32m   1167\u001B[0m             \u001B[38;5;28mself\u001B[39m\u001B[38;5;241m.\u001B[39m_call_mpl_hook()\n\u001B[1;32m   1169\u001B[0m         \u001B[38;5;28mself\u001B[39m\u001B[38;5;241m.\u001B[39mprocess_internal_commands()\n\u001B[0;32m-> 1170\u001B[0m         \u001B[43mtime\u001B[49m\u001B[38;5;241;43m.\u001B[39;49m\u001B[43msleep\u001B[49m\u001B[43m(\u001B[49m\u001B[38;5;241;43m0.01\u001B[39;49m\u001B[43m)\u001B[49m\n\u001B[1;32m   1172\u001B[0m \u001B[38;5;28mself\u001B[39m\u001B[38;5;241m.\u001B[39mcancel_async_evaluation(get_current_thread_id(thread), \u001B[38;5;28mstr\u001B[39m(\u001B[38;5;28mid\u001B[39m(frame)))\n\u001B[1;32m   1174\u001B[0m \u001B[38;5;66;03m# process any stepping instructions\u001B[39;00m\n",
      "\u001B[0;31mKeyboardInterrupt\u001B[0m: "
     ]
    }
   ],
   "source": [
    "g_prime = g.copy()\n",
    "\n",
    "rewards = {}\n",
    "\n",
    "n_edges = 3\n",
    "possible_edges = it.combinations(g_prime.es.select(type_ne='walk', active_eq=1), n_edges)\n",
    "\n",
    "for ps in possible_edges:\n",
    "    g_prime = g.copy()\n",
    "    pseudo_index = '|'.join([f\"{e.source_vertex['name']}->{e.target_vertex['name']}\" for e in ps])\n",
    "    print(pseudo_index)\n",
    "    pes = [e.index for e in ps]\n",
    "    g_prime.es[pes]['active'] = 0\n",
    "    rewards[pseudo_index] = r.evaluate(g_prime)"
   ],
   "metadata": {
    "collapsed": false,
    "pycharm": {
     "name": "#%%\n"
    }
   }
  },
  {
   "cell_type": "code",
   "execution_count": 27,
   "outputs": [
    {
     "data": {
      "text/plain": "{'PT1->PT2|PT2->PT3|PT4->PT3': 60.86631703291793,\n 'PT1->PT2|PT2->PT3|PT4->PT1': 56.53836946015945,\n 'PT1->PT2|PT4->PT3|PT4->PT1': 56.53836946015795,\n 'PT2->PT3|PT4->PT3|PT4->PT1': 56.53836946015721}"
     },
     "execution_count": 27,
     "metadata": {},
     "output_type": "execute_result"
    }
   ],
   "source": [
    "rewards"
   ],
   "metadata": {
    "collapsed": false,
    "pycharm": {
     "name": "#%%\n"
    }
   }
  },
  {
   "cell_type": "code",
   "execution_count": 21,
   "outputs": [
    {
     "data": {
      "text/plain": "25.79188454310778"
     },
     "execution_count": 21,
     "metadata": {},
     "output_type": "execute_result"
    }
   ],
   "source": [
    "r.evaluate(g)"
   ],
   "metadata": {
    "collapsed": false,
    "pycharm": {
     "name": "#%%\n"
    }
   }
  }
 ],
 "metadata": {
  "kernelspec": {
   "display_name": "Python 3",
   "language": "python",
   "name": "python3"
  },
  "language_info": {
   "codemirror_mode": {
    "name": "ipython",
    "version": 3
   },
   "file_extension": ".py",
   "mimetype": "text/x-python",
   "name": "python",
   "nbconvert_exporter": "python",
   "pygments_lexer": "ipython3",
   "version": "3.9.12"
  }
 },
 "nbformat": 4,
 "nbformat_minor": 4
}