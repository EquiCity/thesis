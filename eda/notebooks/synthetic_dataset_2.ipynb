{
 "cells": [
  {
   "cell_type": "code",
   "execution_count": 1,
   "metadata": {
    "collapsed": false,
    "jupyter": {
     "outputs_hidden": false
    },
    "pycharm": {
     "name": "#%%\n"
    }
   },
   "outputs": [],
   "source": [
    "import igraph as ig\n",
    "import geopandas as gpd\n",
    "import itertools as it\n",
    "\n",
    "import numpy as np\n",
    "from matplotlib import pyplot as plt"
   ]
  },
  {
   "cell_type": "markdown",
   "metadata": {
    "pycharm": {
     "name": "#%% md\n"
    }
   },
   "source": [
    "# Graph\n",
    "<img src=\"/home/rico/Documents/thesis/paper/figures/sample_setup_ptn_map.png\" width=400 height=400 />"
   ]
  },
  {
   "cell_type": "markdown",
   "metadata": {
    "pycharm": {
     "name": "#%% md\n"
    }
   },
   "source": []
  },
  {
   "cell_type": "code",
   "execution_count": 2,
   "metadata": {
    "collapsed": false,
    "jupyter": {
     "outputs_hidden": false
    },
    "pycharm": {
     "name": "#%%\n"
    }
   },
   "outputs": [],
   "source": [
    "g = ig.Graph(directed=True)"
   ]
  },
  {
   "cell_type": "code",
   "execution_count": 3,
   "metadata": {
    "collapsed": false,
    "jupyter": {
     "outputs_hidden": false
    },
    "pycharm": {
     "name": "#%%\n"
    }
   },
   "outputs": [],
   "source": [
    "V_O = {f'RC{i+1}':i for i in range(6)}\n",
    "V_O_attr = {\n",
    "    'name': [e for e in V_O.keys()],\n",
    "    'x': [3.5,2.5,3.5,0.5,0.5,1.5],\n",
    "    'y': [3.5,3.5,2.5,1.5,0.5,0.5],\n",
    "    'color': ['red','red','red','purple','purple','purple'],\n",
    "    'type': 'res_node',\n",
    "}\n",
    "g.add_vertices(V_O.values(), V_O_attr)"
   ]
  },
  {
   "cell_type": "code",
   "execution_count": 4,
   "metadata": {
    "collapsed": false,
    "jupyter": {
     "outputs_hidden": false
    },
    "pycharm": {
     "name": "#%%\n"
    }
   },
   "outputs": [],
   "source": [
    "V_P = {f'PT{i+1}':e for i,e in enumerate(range(6,12))}\n",
    "V_P_attr = {\n",
    "    'name': [e for e in V_P.keys()],\n",
    "    'x': [1,2,3,3.5,3,3],\n",
    "    'y': [1,2,1,3,3,3.5],\n",
    "    'color': 'blue',\n",
    "    'type': 'pt_node',\n",
    "}\n",
    "g.add_vertices(V_P.values(), V_P_attr)"
   ]
  },
  {
   "cell_type": "code",
   "execution_count": 5,
   "metadata": {
    "collapsed": false,
    "jupyter": {
     "outputs_hidden": false
    },
    "pycharm": {
     "name": "#%%\n"
    }
   },
   "outputs": [],
   "source": [
    "V_D = {f'POI{i+1}':e for i,e in enumerate(range(12,15))}\n",
    "V_D_attr = {\n",
    "    'name': [e for e in V_D.keys()],\n",
    "    'x': [2.75,2.75,3.25],\n",
    "    'y': [2.75,3.25,2.75],\n",
    "    'color': 'green',\n",
    "    'type': 'poi_node',\n",
    "}\n",
    "g.add_vertices(V_D.values(), V_D_attr)"
   ]
  },
  {
   "cell_type": "markdown",
   "metadata": {
    "pycharm": {
     "name": "#%% md\n"
    }
   },
   "source": [
    "## PTN Edges"
   ]
  },
  {
   "cell_type": "code",
   "execution_count": 6,
   "metadata": {
    "collapsed": false,
    "jupyter": {
     "outputs_hidden": false
    },
    "pycharm": {
     "name": "#%%\n"
    }
   },
   "outputs": [],
   "source": [
    "# Speeds\n",
    "WALKING_SPEED = 5  # units per hour\n",
    "BUS_SPEED = 100  # units per hour\n",
    "TRAIN_SPEED = 1000  # units per hour"
   ]
  },
  {
   "cell_type": "code",
   "execution_count": 7,
   "metadata": {
    "collapsed": false,
    "jupyter": {
     "outputs_hidden": false
    },
    "pycharm": {
     "name": "#%%\n"
    }
   },
   "outputs": [],
   "source": [
    "def compute_dist_from_es(es: list):\n",
    "    positions = [(g.vs[e[0]]['x'], g.vs[e[0]]['y'], g.vs[e[1]]['x'], g.vs[e[1]]['y']) for e in es]\n",
    "    pos_arr = np.array(positions)\n",
    "    return np.sqrt((pos_arr[:,[0,2]].max(axis=1)-pos_arr[:,[0,2]].min(axis=1))**2+\n",
    "                   (pos_arr[:,[1,3]].max(axis=1)-pos_arr[:,[1,3]].min(axis=1))**2)"
   ]
  },
  {
   "cell_type": "markdown",
   "metadata": {
    "pycharm": {
     "name": "#%% md\n"
    }
   },
   "source": [
    "### Walking"
   ]
  },
  {
   "cell_type": "code",
   "execution_count": 8,
   "metadata": {
    "collapsed": false,
    "jupyter": {
     "outputs_hidden": false
    },
    "pycharm": {
     "name": "#%%\n"
    }
   },
   "outputs": [],
   "source": [
    "E_WALK = list(it.product(V_O.values(),V_P.values())) +\\\n",
    "         list(it.product(V_P.values(), V_D.values())) +\\\n",
    "         list(it.product(V_O.values(), V_D.values()))\n",
    "distances_walk = compute_dist_from_es(E_WALK)\n",
    "E_WALK_attr = {\n",
    "    'distance': distances_walk,\n",
    "    'tt': (distances_walk * 1/WALKING_SPEED) * 60,\n",
    "    'weight': (distances_walk * 1/WALKING_SPEED) * 60,\n",
    "    'color': 'gray',\n",
    "    'type': 'walk',\n",
    "}\n",
    "g.add_edges(E_WALK, E_WALK_attr)"
   ]
  },
  {
   "cell_type": "markdown",
   "metadata": {
    "pycharm": {
     "name": "#%% md\n"
    }
   },
   "source": [
    "### PT"
   ]
  },
  {
   "cell_type": "code",
   "execution_count": 9,
   "metadata": {
    "collapsed": false,
    "jupyter": {
     "outputs_hidden": false
    },
    "pycharm": {
     "name": "#%%\n"
    }
   },
   "outputs": [],
   "source": [
    "E_BUS = [\n",
    "    (V_P['PT1'],V_P['PT2']),  # Bus_line_1\n",
    "    (V_P['PT2'],V_P['PT1']),  # Bus_line_1\n",
    "    (V_P['PT2'],V_P['PT5']),  # Bus_line_1\n",
    "    (V_P['PT5'],V_P['PT2']),  # Bus_line_1\n",
    "    (V_P['PT5'],V_P['PT4']),  # Bus_line_2\n",
    "    (V_P['PT4'],V_P['PT5']),  # Bus_line_2\n",
    "    (V_P['PT5'],V_P['PT6']),  # Bus_line_3\n",
    "    (V_P['PT6'],V_P['PT5']),  # Bus_line_3\n",
    "]\n",
    "distances_bus = compute_dist_from_es(E_BUS)\n",
    "E_BUS_attr = {\n",
    "    'name': list(it.repeat(f'Bus_line_1',4)) +\n",
    "            list(it.repeat(f'Bus_line_2',2)) +\n",
    "            list(it.repeat(f'Bus_line_3',2)),\n",
    "    'distance': distances_bus,\n",
    "    'tt': (distances_bus * 1/BUS_SPEED) * 60,\n",
    "    'weight': (distances_bus * 1/BUS_SPEED) * 60,\n",
    "    'color': 'pink',\n",
    "    'type': 'bus'\n",
    "}\n",
    "g.add_edges(E_BUS, E_BUS_attr)"
   ]
  },
  {
   "cell_type": "code",
   "execution_count": 10,
   "metadata": {
    "collapsed": false,
    "jupyter": {
     "outputs_hidden": false
    },
    "pycharm": {
     "name": "#%%\n"
    }
   },
   "outputs": [
    {
     "data": {
      "text/plain": "array([1.41421356, 1.41421356, 1.41421356, 1.41421356, 0.5       ,\n       0.5       , 0.5       , 0.5       ])"
     },
     "execution_count": 10,
     "metadata": {},
     "output_type": "execute_result"
    }
   ],
   "source": [
    "distances_bus"
   ]
  },
  {
   "cell_type": "code",
   "execution_count": 11,
   "metadata": {
    "collapsed": false,
    "jupyter": {
     "outputs_hidden": false
    },
    "pycharm": {
     "name": "#%%\n"
    }
   },
   "outputs": [],
   "source": [
    "E_TRAIN = [\n",
    "    (V_P['PT1'],V_P['PT5']),  # Train_line_1\n",
    "    (V_P['PT5'],V_P['PT3']),  # Train_line_1\n",
    "    (V_P['PT3'],V_P['PT1']),  # Train_line_1\n",
    "]\n",
    "distances_train = compute_dist_from_es(E_TRAIN)\n",
    "E_TRAIN_attr = {\n",
    "    'name': list(it.repeat(f'Train_line_1',3)),\n",
    "    'distance': distances_train,\n",
    "    'tt': (distances_train * 1/TRAIN_SPEED) * 60,\n",
    "    'weight': (distances_train * 1/TRAIN_SPEED) * 60,\n",
    "    'color': 'orange',\n",
    "    'type': 'train'\n",
    "}\n",
    "g.add_edges(E_TRAIN, E_TRAIN_attr)"
   ]
  },
  {
   "cell_type": "code",
   "execution_count": 12,
   "metadata": {
    "collapsed": false,
    "jupyter": {
     "outputs_hidden": false
    },
    "pycharm": {
     "name": "#%%\n"
    }
   },
   "outputs": [
    {
     "data": {
      "text/plain": "array([2.82842712, 2.        , 2.        ])"
     },
     "execution_count": 12,
     "metadata": {},
     "output_type": "execute_result"
    }
   ],
   "source": [
    "distances_train"
   ]
  },
  {
   "cell_type": "code",
   "execution_count": 13,
   "metadata": {
    "collapsed": false,
    "jupyter": {
     "outputs_hidden": false
    },
    "pycharm": {
     "name": "#%%\n"
    }
   },
   "outputs": [],
   "source": [
    "# fig, ax = plt.subplots(figsize=(5,5))\n",
    "# ig.plot(g, target='plots/synthetic_graphs/synthetic_graph_1.svg')"
   ]
  },
  {
   "cell_type": "code",
   "execution_count": 14,
   "metadata": {
    "collapsed": false,
    "jupyter": {
     "outputs_hidden": false
    },
    "pycharm": {
     "name": "#%%\n"
    }
   },
   "outputs": [],
   "source": [
    "g.es['active'] = 1"
   ]
  },
  {
   "cell_type": "code",
   "execution_count": 15,
   "metadata": {
    "collapsed": false,
    "jupyter": {
     "outputs_hidden": false
    },
    "pycharm": {
     "name": "#%%\n"
    }
   },
   "outputs": [],
   "source": [
    "g.save('/home/rico/Documents/thesis/eda/notebooks/synthetic_dataset_2/graph.gml')\n",
    "g.save('/home/rico/Documents/thesis/experiments/base_data/graph_2.gml')"
   ]
  },
  {
   "cell_type": "markdown",
   "metadata": {
    "pycharm": {
     "name": "#%% md\n"
    }
   },
   "source": [
    "# Census Data"
   ]
  },
  {
   "cell_type": "code",
   "execution_count": 16,
   "metadata": {
    "collapsed": false,
    "jupyter": {
     "outputs_hidden": false
    },
    "pycharm": {
     "name": "#%%\n"
    }
   },
   "outputs": [
    {
     "data": {
      "text/plain": "  neighborhood  n_inh  n_purple  n_red            res_centroids\n0          RC1   1000       100    900  POINT (3.50000 3.50000)\n1          RC2   1000       200    800  POINT (2.50000 3.50000)\n2          RC3   1000       200    800  POINT (3.50000 2.50000)\n3          RC4   1200      1000    200  POINT (0.50000 1.50000)\n4          RC5    800       600    200  POINT (0.50000 0.50000)\n5          RC6   1000      1000      0  POINT (1.50000 0.50000)",
      "text/html": "<div>\n<style scoped>\n    .dataframe tbody tr th:only-of-type {\n        vertical-align: middle;\n    }\n\n    .dataframe tbody tr th {\n        vertical-align: top;\n    }\n\n    .dataframe thead th {\n        text-align: right;\n    }\n</style>\n<table border=\"1\" class=\"dataframe\">\n  <thead>\n    <tr style=\"text-align: right;\">\n      <th></th>\n      <th>neighborhood</th>\n      <th>n_inh</th>\n      <th>n_purple</th>\n      <th>n_red</th>\n      <th>res_centroids</th>\n    </tr>\n  </thead>\n  <tbody>\n    <tr>\n      <th>0</th>\n      <td>RC1</td>\n      <td>1000</td>\n      <td>100</td>\n      <td>900</td>\n      <td>POINT (3.50000 3.50000)</td>\n    </tr>\n    <tr>\n      <th>1</th>\n      <td>RC2</td>\n      <td>1000</td>\n      <td>200</td>\n      <td>800</td>\n      <td>POINT (2.50000 3.50000)</td>\n    </tr>\n    <tr>\n      <th>2</th>\n      <td>RC3</td>\n      <td>1000</td>\n      <td>200</td>\n      <td>800</td>\n      <td>POINT (3.50000 2.50000)</td>\n    </tr>\n    <tr>\n      <th>3</th>\n      <td>RC4</td>\n      <td>1200</td>\n      <td>1000</td>\n      <td>200</td>\n      <td>POINT (0.50000 1.50000)</td>\n    </tr>\n    <tr>\n      <th>4</th>\n      <td>RC5</td>\n      <td>800</td>\n      <td>600</td>\n      <td>200</td>\n      <td>POINT (0.50000 0.50000)</td>\n    </tr>\n    <tr>\n      <th>5</th>\n      <td>RC6</td>\n      <td>1000</td>\n      <td>1000</td>\n      <td>0</td>\n      <td>POINT (1.50000 0.50000)</td>\n    </tr>\n  </tbody>\n</table>\n</div>"
     },
     "execution_count": 16,
     "metadata": {},
     "output_type": "execute_result"
    }
   ],
   "source": [
    "data = {\n",
    "    'neighborhood': V_O_attr['name'],\n",
    "    'n_inh': [1000,1000,1000,1200,800,1000],\n",
    "    'n_purple': [100, 200, 200, 1000, 600, 1000],\n",
    "    'n_red': [900, 800, 800, 200, 200, 0],\n",
    "    'res_centroids': gpd.points_from_xy(V_O_attr['x'], V_O_attr['y'])\n",
    "}\n",
    "\n",
    "gdf = gpd.GeoDataFrame(data, geometry='res_centroids')\n",
    "gdf"
   ]
  },
  {
   "cell_type": "code",
   "execution_count": 17,
   "metadata": {
    "collapsed": false,
    "jupyter": {
     "outputs_hidden": false
    },
    "pycharm": {
     "name": "#%%\n"
    }
   },
   "outputs": [
    {
     "name": "stderr",
     "output_type": "stream",
     "text": [
      "/home/rico/anaconda3/envs/thesis/lib/python3.9/site-packages/geopandas/io/file.py:362: FutureWarning: pandas.Int64Index is deprecated and will be removed from pandas in a future version. Use pandas.Index with the appropriate dtype instead.\n",
      "  pd.Int64Index,\n",
      "/home/rico/anaconda3/envs/thesis/lib/python3.9/site-packages/geopandas/io/file.py:362: FutureWarning: pandas.Int64Index is deprecated and will be removed from pandas in a future version. Use pandas.Index with the appropriate dtype instead.\n",
      "  pd.Int64Index,\n"
     ]
    }
   ],
   "source": [
    "gdf.to_file('/home/rico/Documents/thesis/eda/notebooks/synthetic_dataset_2/census_data.geojson', driver='GeoJSON')\n",
    "gdf.to_file('/home/rico/Documents/thesis/experiments/base_data/census_data_2.geojson', driver='GeoJSON')"
   ]
  },
  {
   "cell_type": "code",
   "execution_count": 17,
   "metadata": {
    "collapsed": false,
    "jupyter": {
     "outputs_hidden": false
    },
    "pycharm": {
     "name": "#%%\n"
    }
   },
   "outputs": [],
   "source": []
  }
 ],
 "metadata": {
  "kernelspec": {
   "display_name": "Python 3",
   "language": "python",
   "name": "python3"
  },
  "language_info": {
   "codemirror_mode": {
    "name": "ipython",
    "version": 3
   },
   "file_extension": ".py",
   "mimetype": "text/x-python",
   "name": "python",
   "nbconvert_exporter": "python",
   "pygments_lexer": "ipython3",
   "version": "3.9.12"
  }
 },
 "nbformat": 4,
 "nbformat_minor": 4
}