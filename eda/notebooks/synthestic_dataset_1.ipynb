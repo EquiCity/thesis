{
 "cells": [
  {
   "cell_type": "code",
   "execution_count": 1,
   "outputs": [],
   "source": [
    "import igraph as ig\n",
    "import geopandas as gpd\n",
    "import itertools as it\n",
    "\n",
    "import numpy as np\n",
    "from matplotlib import pyplot as plt"
   ],
   "metadata": {
    "collapsed": false,
    "pycharm": {
     "name": "#%%\n"
    }
   }
  },
  {
   "cell_type": "markdown",
   "source": [
    "# Graph\n",
    "<img src=\"/home/rico/Documents/thesis/paper/figures/sample_setup_ptn_map.png\" width=400 height=400 />"
   ],
   "metadata": {
    "collapsed": false,
    "pycharm": {
     "name": "#%% md\n"
    }
   }
  },
  {
   "cell_type": "markdown",
   "source": [],
   "metadata": {
    "collapsed": false,
    "pycharm": {
     "name": "#%% md\n"
    }
   }
  },
  {
   "cell_type": "code",
   "execution_count": 2,
   "outputs": [],
   "source": [
    "g = ig.Graph(directed=True)"
   ],
   "metadata": {
    "collapsed": false,
    "pycharm": {
     "name": "#%%\n"
    }
   }
  },
  {
   "cell_type": "code",
   "execution_count": 3,
   "outputs": [],
   "source": [
    "V_O = {f'RC{i+1}':i for i in range(6)}\n",
    "V_O_attr = {\n",
    "    'name': [e for e in V_O.keys()],\n",
    "    'x': [3.5,2.5,3.5,0.5,0.5,1.5],\n",
    "    'y': [3.5,3.5,2.5,1.5,0.5,0.5],\n",
    "    'color': ['red','red','red','purple','purple','purple'],\n",
    "    'type': 'res_node'\n",
    "}\n",
    "g.add_vertices(V_O.values(), V_O_attr)"
   ],
   "metadata": {
    "collapsed": false,
    "pycharm": {
     "name": "#%%\n"
    }
   }
  },
  {
   "cell_type": "code",
   "execution_count": 4,
   "outputs": [],
   "source": [
    "V_P = {f'PT{i+1}':e for i,e in enumerate(range(6,12))}\n",
    "V_P_attr = {\n",
    "    'name': [e for e in V_P.keys()],\n",
    "    'x': [1,2,3,3.5,3,3],\n",
    "    'y': [1,2,1,3,3,3.5],\n",
    "    'color': 'blue',\n",
    "    'type': 'pt_node'\n",
    "}\n",
    "g.add_vertices(V_P.values(), V_P_attr)"
   ],
   "metadata": {
    "collapsed": false,
    "pycharm": {
     "name": "#%%\n"
    }
   }
  },
  {
   "cell_type": "code",
   "execution_count": 5,
   "outputs": [],
   "source": [
    "V_D = {f'POI{i+1}':e for i,e in enumerate(range(12,15))}\n",
    "V_D_attr = {\n",
    "    'name': [e for e in V_D.keys()],\n",
    "    'x': [2.75,2.75,3.25],\n",
    "    'y': [2.75,3.25,2.75],\n",
    "    'color': 'green',\n",
    "    'type': 'poi_node'\n",
    "}\n",
    "g.add_vertices(V_D.values(), V_D_attr)"
   ],
   "metadata": {
    "collapsed": false,
    "pycharm": {
     "name": "#%%\n"
    }
   }
  },
  {
   "cell_type": "markdown",
   "source": [
    "## PTN Edges"
   ],
   "metadata": {
    "collapsed": false,
    "pycharm": {
     "name": "#%% md\n"
    }
   }
  },
  {
   "cell_type": "code",
   "execution_count": 6,
   "outputs": [],
   "source": [
    "# Speeds\n",
    "WALKING_SPEED = 5  # units per hour\n",
    "BUS_SPEED = 100  # units per hour\n",
    "TRAIN_SPEED = 1000  # units per hour"
   ],
   "metadata": {
    "collapsed": false,
    "pycharm": {
     "name": "#%%\n"
    }
   }
  },
  {
   "cell_type": "code",
   "execution_count": 7,
   "outputs": [],
   "source": [
    "def compute_dist_from_es(es: list):\n",
    "    positions = [(g.vs[e[0]]['x'], g.vs[e[0]]['y'], g.vs[e[1]]['x'], g.vs[e[1]]['y']) for e in E_WALK]\n",
    "    pos_arr = np.array(positions)\n",
    "    return np.sqrt((pos_arr[:,[0,2]].max(axis=1)-pos_arr[:,[0,2]].min(axis=1))**2+\n",
    "                   (pos_arr[:,[1,3]].max(axis=1)-pos_arr[:,[1,3]].min(axis=1))**2)"
   ],
   "metadata": {
    "collapsed": false,
    "pycharm": {
     "name": "#%%\n"
    }
   }
  },
  {
   "cell_type": "markdown",
   "source": [
    "### Walking"
   ],
   "metadata": {
    "collapsed": false,
    "pycharm": {
     "name": "#%% md\n"
    }
   }
  },
  {
   "cell_type": "code",
   "execution_count": 8,
   "outputs": [],
   "source": [
    "E_WALK = list(it.product(V_O.values(),V_P.values())) +\\\n",
    "         list(it.product(V_P.values(), V_D.values())) +\\\n",
    "         list(it.product(V_O.values(), V_D.values()))\n",
    "distances_walk = compute_dist_from_es(E_WALK)\n",
    "E_WALK_attr = {\n",
    "    'distance': distances_walk,\n",
    "    'tt': (distances_walk * 1/WALKING_SPEED) * 60,\n",
    "    'weight': (distances_walk * 1/WALKING_SPEED) * 60,\n",
    "    'color': 'gray',\n",
    "    'type': 'walk',\n",
    "}\n",
    "g.add_edges(E_WALK, E_WALK_attr)"
   ],
   "metadata": {
    "collapsed": false,
    "pycharm": {
     "name": "#%%\n"
    }
   }
  },
  {
   "cell_type": "markdown",
   "source": [
    "### PT"
   ],
   "metadata": {
    "collapsed": false,
    "pycharm": {
     "name": "#%% md\n"
    }
   }
  },
  {
   "cell_type": "code",
   "execution_count": 9,
   "outputs": [],
   "source": [
    "E_BUS = [\n",
    "    (V_P['PT1'],V_P['PT2']),  # Bus_line_1\n",
    "    (V_P['PT2'],V_P['PT1']),  # Bus_line_1\n",
    "    (V_P['PT2'],V_P['PT5']),  # Bus_line_1\n",
    "    (V_P['PT5'],V_P['PT2']),  # Bus_line_1\n",
    "    (V_P['PT5'],V_P['PT4']),  # Bus_line_2\n",
    "    (V_P['PT4'],V_P['PT5']),  # Bus_line_2\n",
    "    (V_P['PT5'],V_P['PT6']),  # Bus_line_3\n",
    "    (V_P['PT6'],V_P['PT5']),  # Bus_line_3\n",
    "]\n",
    "distances_bus = compute_dist_from_es(E_BUS)\n",
    "E_BUS_attr = {\n",
    "    'name': list(it.repeat(f'Bus_line_1',4)) +\n",
    "            list(it.repeat(f'Bus_line_2',2)) +\n",
    "            list(it.repeat(f'Bus_line_3',2)),\n",
    "    'distance': distances_bus,\n",
    "    'tt': (distances_bus * 1/BUS_SPEED) * 60,\n",
    "    'weight': (distances_bus * 1/BUS_SPEED) * 60,\n",
    "    'color': 'pink',\n",
    "    'type': 'bus'\n",
    "}\n",
    "g.add_edges(E_BUS, E_BUS_attr)"
   ],
   "metadata": {
    "collapsed": false,
    "pycharm": {
     "name": "#%%\n"
    }
   }
  },
  {
   "cell_type": "code",
   "execution_count": 10,
   "outputs": [],
   "source": [
    "E_TRAIN = [\n",
    "    (V_P['PT1'],V_P['PT5']),  # Train_line_1\n",
    "    (V_P['PT5'],V_P['PT3']),  # Train_line_1\n",
    "    (V_P['PT3'],V_P['PT1']),  # Train_line_1\n",
    "]\n",
    "distances_train = compute_dist_from_es(E_TRAIN)\n",
    "E_TRAIN_attr = {\n",
    "    'name': list(it.repeat(f'Train_line_1',3)),\n",
    "    'distance': distances_bus,\n",
    "    'tt': (distances_train * 1/TRAIN_SPEED) * 60,\n",
    "    'weight': (distances_train * 1/TRAIN_SPEED) * 60,\n",
    "    'color': 'orange',\n",
    "    'type': 'train'\n",
    "}\n",
    "g.add_edges(E_TRAIN, E_TRAIN_attr)"
   ],
   "metadata": {
    "collapsed": false,
    "pycharm": {
     "name": "#%%\n"
    }
   }
  },
  {
   "cell_type": "code",
   "execution_count": 27,
   "outputs": [
    {
     "data": {
      "text/plain": "<igraph.drawing.Plot at 0x7f5ae30576d0>",
      "image/svg+xml": "<?xml version=\"1.0\" encoding=\"UTF-8\"?>\n<svg xmlns=\"http://www.w3.org/2000/svg\" xmlns:xlink=\"http://www.w3.org/1999/xlink\" width=\"600pt\" height=\"600pt\" viewBox=\"0 0 600 600\" version=\"1.1\">\n<g id=\"surface74\">\n<rect x=\"0\" y=\"0\" width=\"600\" height=\"600\" style=\"fill:rgb(100%,100%,100%);fill-opacity:1;stroke:none;\"/>\n<path style=\"fill:none;stroke-width:1;stroke-linecap:butt;stroke-linejoin:miter;stroke:rgb(100%,64.705882%,0%);stroke-opacity:1;stroke-miterlimit:10;\" d=\"M 113.332031 113.332031 L 469.507812 469.507812 \"/>\n<path style=\" stroke:none;fill-rule:nonzero;fill:rgb(100%,64.705882%,0%);fill-opacity:1;\" d=\"M 479.59375 479.59375 L 466.230469 472.785156 L 472.785156 466.230469 L 479.59375 479.59375 \"/>\n<path style=\"fill-rule:nonzero;fill:rgb(100%,0%,0%);fill-opacity:1;stroke-width:1;stroke-linecap:butt;stroke-linejoin:miter;stroke:rgb(0%,0%,0%);stroke-opacity:1;stroke-miterlimit:10;\" d=\"M 590 580 C 590 585.523438 585.523438 590 580 590 C 574.476562 590 570 585.523438 570 580 C 570 574.476562 574.476562 570 580 570 C 585.523438 570 590 574.476562 590 580 \"/>\n<path style=\"fill-rule:nonzero;fill:rgb(100%,0%,0%);fill-opacity:1;stroke-width:1;stroke-linecap:butt;stroke-linejoin:miter;stroke:rgb(0%,0%,0%);stroke-opacity:1;stroke-miterlimit:10;\" d=\"M 403.332031 580 C 403.332031 585.523438 398.855469 590 393.332031 590 C 387.808594 590 383.332031 585.523438 383.332031 580 C 383.332031 574.476562 387.808594 570 393.332031 570 C 398.855469 570 403.332031 574.476562 403.332031 580 \"/>\n<path style=\"fill-rule:nonzero;fill:rgb(100%,0%,0%);fill-opacity:1;stroke-width:1;stroke-linecap:butt;stroke-linejoin:miter;stroke:rgb(0%,0%,0%);stroke-opacity:1;stroke-miterlimit:10;\" d=\"M 590 393.332031 C 590 398.855469 585.523438 403.332031 580 403.332031 C 574.476562 403.332031 570 398.855469 570 393.332031 C 570 387.808594 574.476562 383.332031 580 383.332031 C 585.523438 383.332031 590 387.808594 590 393.332031 \"/>\n<path style=\"fill-rule:nonzero;fill:rgb(62.745098%,12.54902%,94.117647%);fill-opacity:1;stroke-width:1;stroke-linecap:butt;stroke-linejoin:miter;stroke:rgb(0%,0%,0%);stroke-opacity:1;stroke-miterlimit:10;\" d=\"M 30 206.667969 C 30 212.191406 25.523438 216.667969 20 216.667969 C 14.476562 216.667969 10 212.191406 10 206.667969 C 10 201.144531 14.476562 196.667969 20 196.667969 C 25.523438 196.667969 30 201.144531 30 206.667969 \"/>\n<path style=\"fill-rule:nonzero;fill:rgb(62.745098%,12.54902%,94.117647%);fill-opacity:1;stroke-width:1;stroke-linecap:butt;stroke-linejoin:miter;stroke:rgb(0%,0%,0%);stroke-opacity:1;stroke-miterlimit:10;\" d=\"M 30 20 C 30 25.523438 25.523438 30 20 30 C 14.476562 30 10 25.523438 10 20 C 10 14.476562 14.476562 10 20 10 C 25.523438 10 30 14.476562 30 20 \"/>\n<path style=\"fill-rule:nonzero;fill:rgb(62.745098%,12.54902%,94.117647%);fill-opacity:1;stroke-width:1;stroke-linecap:butt;stroke-linejoin:miter;stroke:rgb(0%,0%,0%);stroke-opacity:1;stroke-miterlimit:10;\" d=\"M 216.667969 20 C 216.667969 25.523438 212.191406 30 206.667969 30 C 201.144531 30 196.667969 25.523438 196.667969 20 C 196.667969 14.476562 201.144531 10 206.667969 10 C 212.191406 10 216.667969 14.476562 216.667969 20 \"/>\n<path style=\"fill-rule:nonzero;fill:rgb(0%,0%,100%);fill-opacity:1;stroke-width:1;stroke-linecap:butt;stroke-linejoin:miter;stroke:rgb(0%,0%,0%);stroke-opacity:1;stroke-miterlimit:10;\" d=\"M 123.332031 113.332031 C 123.332031 118.855469 118.855469 123.332031 113.332031 123.332031 C 107.808594 123.332031 103.332031 118.855469 103.332031 113.332031 C 103.332031 107.808594 107.808594 103.332031 113.332031 103.332031 C 118.855469 103.332031 123.332031 107.808594 123.332031 113.332031 \"/>\n<path style=\"fill-rule:nonzero;fill:rgb(0%,0%,100%);fill-opacity:1;stroke-width:1;stroke-linecap:butt;stroke-linejoin:miter;stroke:rgb(0%,0%,0%);stroke-opacity:1;stroke-miterlimit:10;\" d=\"M 310 300 C 310 305.523438 305.523438 310 300 310 C 294.476562 310 290 305.523438 290 300 C 290 294.476562 294.476562 290 300 290 C 305.523438 290 310 294.476562 310 300 \"/>\n<path style=\"fill-rule:nonzero;fill:rgb(0%,0%,100%);fill-opacity:1;stroke-width:1;stroke-linecap:butt;stroke-linejoin:miter;stroke:rgb(0%,0%,0%);stroke-opacity:1;stroke-miterlimit:10;\" d=\"M 496.667969 113.332031 C 496.667969 118.855469 492.191406 123.332031 486.667969 123.332031 C 481.144531 123.332031 476.667969 118.855469 476.667969 113.332031 C 476.667969 107.808594 481.144531 103.332031 486.667969 103.332031 C 492.191406 103.332031 496.667969 107.808594 496.667969 113.332031 \"/>\n<path style=\"fill-rule:nonzero;fill:rgb(0%,0%,100%);fill-opacity:1;stroke-width:1;stroke-linecap:butt;stroke-linejoin:miter;stroke:rgb(0%,0%,0%);stroke-opacity:1;stroke-miterlimit:10;\" d=\"M 590 486.667969 C 590 492.191406 585.523438 496.667969 580 496.667969 C 574.476562 496.667969 570 492.191406 570 486.667969 C 570 481.144531 574.476562 476.667969 580 476.667969 C 585.523438 476.667969 590 481.144531 590 486.667969 \"/>\n<path style=\"fill-rule:nonzero;fill:rgb(0%,0%,100%);fill-opacity:1;stroke-width:1;stroke-linecap:butt;stroke-linejoin:miter;stroke:rgb(0%,0%,0%);stroke-opacity:1;stroke-miterlimit:10;\" d=\"M 496.667969 486.667969 C 496.667969 492.191406 492.191406 496.667969 486.667969 496.667969 C 481.144531 496.667969 476.667969 492.191406 476.667969 486.667969 C 476.667969 481.144531 481.144531 476.667969 486.667969 476.667969 C 492.191406 476.667969 496.667969 481.144531 496.667969 486.667969 \"/>\n<path style=\"fill-rule:nonzero;fill:rgb(0%,0%,100%);fill-opacity:1;stroke-width:1;stroke-linecap:butt;stroke-linejoin:miter;stroke:rgb(0%,0%,0%);stroke-opacity:1;stroke-miterlimit:10;\" d=\"M 496.667969 580 C 496.667969 585.523438 492.191406 590 486.667969 590 C 481.144531 590 476.667969 585.523438 476.667969 580 C 476.667969 574.476562 481.144531 570 486.667969 570 C 492.191406 570 496.667969 574.476562 496.667969 580 \"/>\n<path style=\"fill-rule:nonzero;fill:rgb(0%,100%,0%);fill-opacity:1;stroke-width:1;stroke-linecap:butt;stroke-linejoin:miter;stroke:rgb(0%,0%,0%);stroke-opacity:1;stroke-miterlimit:10;\" d=\"M 450 440 C 450 445.523438 445.523438 450 440 450 C 434.476562 450 430 445.523438 430 440 C 430 434.476562 434.476562 430 440 430 C 445.523438 430 450 434.476562 450 440 \"/>\n<path style=\"fill-rule:nonzero;fill:rgb(0%,100%,0%);fill-opacity:1;stroke-width:1;stroke-linecap:butt;stroke-linejoin:miter;stroke:rgb(0%,0%,0%);stroke-opacity:1;stroke-miterlimit:10;\" d=\"M 450 533.332031 C 450 538.855469 445.523438 543.332031 440 543.332031 C 434.476562 543.332031 430 538.855469 430 533.332031 C 430 527.808594 434.476562 523.332031 440 523.332031 C 445.523438 523.332031 450 527.808594 450 533.332031 \"/>\n<path style=\"fill-rule:nonzero;fill:rgb(0%,100%,0%);fill-opacity:1;stroke-width:1;stroke-linecap:butt;stroke-linejoin:miter;stroke:rgb(0%,0%,0%);stroke-opacity:1;stroke-miterlimit:10;\" d=\"M 543.332031 440 C 543.332031 445.523438 538.855469 450 533.332031 450 C 527.808594 450 523.332031 445.523438 523.332031 440 C 523.332031 434.476562 527.808594 430 533.332031 430 C 538.855469 430 543.332031 434.476562 543.332031 440 \"/>\n</g>\n</svg>\n"
     },
     "execution_count": 27,
     "metadata": {
      "image/svg+xml": {
       "isolated": true
      }
     },
     "output_type": "execute_result"
    }
   ],
   "source": [
    "# fig, ax = plt.subplots(figsize=(5,5))\n",
    "ig.plot(g.subgraph_edges([80], delete_vertices=False))\n"
   ],
   "metadata": {
    "collapsed": false,
    "pycharm": {
     "name": "#%%\n"
    }
   }
  },
  {
   "cell_type": "code",
   "execution_count": 46,
   "outputs": [],
   "source": [
    "g.es['active'] = 1"
   ],
   "metadata": {
    "collapsed": false,
    "pycharm": {
     "name": "#%%\n"
    }
   }
  },
  {
   "cell_type": "code",
   "execution_count": 47,
   "outputs": [],
   "source": [
    "g.save('/home/rico/Documents/thesis/eda/notebooks/synthetic_dataset_1/graph.gml')\n",
    "g.save('/home/rico/Documents/thesis/experiments/base_data/graph_1.gml')"
   ],
   "metadata": {
    "collapsed": false,
    "pycharm": {
     "name": "#%%\n"
    }
   }
  },
  {
   "cell_type": "markdown",
   "source": [
    "# Census Data"
   ],
   "metadata": {
    "collapsed": false,
    "pycharm": {
     "name": "#%% md\n"
    }
   }
  },
  {
   "cell_type": "code",
   "execution_count": 48,
   "outputs": [
    {
     "data": {
      "text/plain": "  neighborhood  n_inh  n_purple  n_red            res_centroids\n0          RC1   1000       100    900  POINT (3.50000 3.50000)\n1          RC2   1000       200    800  POINT (2.50000 3.50000)\n2          RC3   1000       200    800  POINT (3.50000 2.50000)\n3          RC4   1200      1000    200  POINT (0.50000 1.50000)\n4          RC5    800       600    200  POINT (0.50000 0.50000)\n5          RC6   1000      1000      0  POINT (1.50000 0.50000)",
      "text/html": "<div>\n<style scoped>\n    .dataframe tbody tr th:only-of-type {\n        vertical-align: middle;\n    }\n\n    .dataframe tbody tr th {\n        vertical-align: top;\n    }\n\n    .dataframe thead th {\n        text-align: right;\n    }\n</style>\n<table border=\"1\" class=\"dataframe\">\n  <thead>\n    <tr style=\"text-align: right;\">\n      <th></th>\n      <th>neighborhood</th>\n      <th>n_inh</th>\n      <th>n_purple</th>\n      <th>n_red</th>\n      <th>res_centroids</th>\n    </tr>\n  </thead>\n  <tbody>\n    <tr>\n      <th>0</th>\n      <td>RC1</td>\n      <td>1000</td>\n      <td>100</td>\n      <td>900</td>\n      <td>POINT (3.50000 3.50000)</td>\n    </tr>\n    <tr>\n      <th>1</th>\n      <td>RC2</td>\n      <td>1000</td>\n      <td>200</td>\n      <td>800</td>\n      <td>POINT (2.50000 3.50000)</td>\n    </tr>\n    <tr>\n      <th>2</th>\n      <td>RC3</td>\n      <td>1000</td>\n      <td>200</td>\n      <td>800</td>\n      <td>POINT (3.50000 2.50000)</td>\n    </tr>\n    <tr>\n      <th>3</th>\n      <td>RC4</td>\n      <td>1200</td>\n      <td>1000</td>\n      <td>200</td>\n      <td>POINT (0.50000 1.50000)</td>\n    </tr>\n    <tr>\n      <th>4</th>\n      <td>RC5</td>\n      <td>800</td>\n      <td>600</td>\n      <td>200</td>\n      <td>POINT (0.50000 0.50000)</td>\n    </tr>\n    <tr>\n      <th>5</th>\n      <td>RC6</td>\n      <td>1000</td>\n      <td>1000</td>\n      <td>0</td>\n      <td>POINT (1.50000 0.50000)</td>\n    </tr>\n  </tbody>\n</table>\n</div>"
     },
     "execution_count": 48,
     "metadata": {},
     "output_type": "execute_result"
    }
   ],
   "source": [
    "data = {\n",
    "    'neighborhood': V_O_attr['name'],\n",
    "    'n_inh': [1000,1000,1000,1200,800,1000],\n",
    "    'n_purple': [100, 200, 200, 1000, 600, 1000],\n",
    "    'n_red': [900, 800, 800, 200, 200, 0],\n",
    "    'res_centroids': gpd.points_from_xy(V_O_attr['x'], V_O_attr['y'])\n",
    "}\n",
    "\n",
    "gdf = gpd.GeoDataFrame(data, geometry='res_centroids')\n",
    "gdf"
   ],
   "metadata": {
    "collapsed": false,
    "pycharm": {
     "name": "#%%\n"
    }
   }
  },
  {
   "cell_type": "code",
   "execution_count": 49,
   "outputs": [
    {
     "name": "stderr",
     "output_type": "stream",
     "text": [
      "/home/rico/anaconda3/envs/thesis/lib/python3.9/site-packages/geopandas/io/file.py:362: FutureWarning: pandas.Int64Index is deprecated and will be removed from pandas in a future version. Use pandas.Index with the appropriate dtype instead.\n",
      "  pd.Int64Index,\n",
      "/home/rico/anaconda3/envs/thesis/lib/python3.9/site-packages/geopandas/io/file.py:362: FutureWarning: pandas.Int64Index is deprecated and will be removed from pandas in a future version. Use pandas.Index with the appropriate dtype instead.\n",
      "  pd.Int64Index,\n"
     ]
    }
   ],
   "source": [
    "gdf.to_file('/home/rico/Documents/thesis/eda/notebooks/synthetic_dataset_1/census_data.geojson', driver='GeoJSON')\n",
    "gdf.to_file('/home/rico/Documents/thesis/experiments/base_data/census_data_1.geojson', driver='GeoJSON')"
   ],
   "metadata": {
    "collapsed": false,
    "pycharm": {
     "name": "#%%\n"
    }
   }
  },
  {
   "cell_type": "code",
   "execution_count": 49,
   "outputs": [],
   "source": [],
   "metadata": {
    "collapsed": false,
    "pycharm": {
     "name": "#%%\n"
    }
   }
  }
 ],
 "metadata": {
  "kernelspec": {
   "display_name": "Python 3",
   "language": "python",
   "name": "python3"
  },
  "language_info": {
   "codemirror_mode": {
    "name": "ipython",
    "version": 2
   },
   "file_extension": ".py",
   "mimetype": "text/x-python",
   "name": "python",
   "nbconvert_exporter": "python",
   "pygments_lexer": "ipython2",
   "version": "2.7.6"
  }
 },
 "nbformat": 4,
 "nbformat_minor": 0
}