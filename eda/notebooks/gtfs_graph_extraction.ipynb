{
 "cells": [
  {
   "cell_type": "code",
   "execution_count": 1,
   "id": "c9054249-1a94-47ac-9b74-e2e85661ff66",
   "metadata": {
    "pycharm": {
     "name": "#%%\n"
    }
   },
   "outputs": [],
   "source": [
    "import os\n",
    "from pathlib import Path\n",
    "import re\n",
    "from tqdm import tqdm\n",
    "\n",
    "import numpy as np\n",
    "import pandas as pd\n",
    "\n",
    "import urbanaccess as ua\n",
    "import networkx as nx\n",
    "import osmnx as ox\n",
    "\n",
    "import logging\n",
    "from enum import Enum\n",
    "\n",
    "import networkx as nx\n",
    "import osmnx as ox\n",
    "import time\n",
    "import numpy as np\n",
    "import pandas as pd\n",
    "from haversine import haversine\n",
    "from sklearn.neighbors import BallTree\n",
    "\n",
    "from zipfile import ZipFile\n",
    "from ua2nx import urbanaccess_to_nx as ua_to_nx\n",
    "\n",
    "from urbanaccess.config import settings\n",
    "\n",
    "EARTH_RADIUS_M = 6_371_009"
   ]
  },
  {
   "cell_type": "code",
   "execution_count": 2,
   "id": "a99cea25-3859-4af0-aac2-e3cfa2e06b6e",
   "metadata": {
    "pycharm": {
     "name": "#%%\n"
    }
   },
   "outputs": [],
   "source": [
    "settings.log_consolse = False"
   ]
  },
  {
   "cell_type": "code",
   "execution_count": 3,
   "id": "8f8c3051-176d-4dc3-9196-e5ea392428da",
   "metadata": {
    "pycharm": {
     "name": "#%%\n"
    }
   },
   "outputs": [],
   "source": [
    "logging.basicConfig()\n",
    "logger = logging.getLogger('graph_extraction')\n",
    "logger.setLevel(logging.INFO)"
   ]
  },
  {
   "cell_type": "code",
   "execution_count": 4,
   "id": "e988bdb8-f64f-4480-be7f-b33466650d18",
   "metadata": {
    "pycharm": {
     "name": "#%%\n"
    }
   },
   "outputs": [],
   "source": [
    "# get the boundaries of Amsterdam\n",
    "gdf = ox.geocode_to_gdf({'city': 'Amsterdam'})\n",
    "BBOX_AMS = {\n",
    "    'west': gdf.loc[0, 'bbox_west'],\n",
    "    'south': gdf.loc[0, 'bbox_south'],\n",
    "    'east': gdf.loc[0, 'bbox_east'],\n",
    "    'north': gdf.loc[0, 'bbox_north']\n",
    "}"
   ]
  },
  {
   "cell_type": "code",
   "execution_count": 23,
   "outputs": [
    {
     "name": "stderr",
     "output_type": "stream",
     "text": [
      "Exception ignored on calling ctypes callback function: <function Index._create_idx_from_stream.<locals>.py_next_item at 0x7f55792c8ee0>\n",
      "Traceback (most recent call last):\n",
      "  File \"/home/rico/anaconda3/envs/thesis/lib/python3.9/site-packages/rtree/index.py\", line 1047, in py_next_item\n",
      "    p_id[0], coordinates, obj = next(stream_iter)\n",
      "  File \"/home/rico/anaconda3/envs/thesis/lib/python3.9/site-packages/geopandas/sindex.py\", line 409, in <genexpr>\n",
      "    (i, item.bounds, None)\n",
      "  File \"/home/rico/anaconda3/envs/thesis/lib/python3.9/site-packages/shapely/geometry/point.py\", line 153, in bounds\n",
      "    xy = self.coords[0]\n",
      "KeyboardInterrupt: \n"
     ]
    },
    {
     "ename": "KeyboardInterrupt",
     "evalue": "",
     "output_type": "error",
     "traceback": [
      "\u001B[0;31m---------------------------------------------------------------------------\u001B[0m",
      "\u001B[0;31mKeyboardInterrupt\u001B[0m                         Traceback (most recent call last)",
      "Input \u001B[0;32mIn [23]\u001B[0m, in \u001B[0;36m<cell line: 1>\u001B[0;34m()\u001B[0m\n\u001B[0;32m----> 1\u001B[0m \u001B[43mox\u001B[49m\u001B[38;5;241;43m.\u001B[39;49m\u001B[43mgraph_from_bbox\u001B[49m\u001B[43m(\u001B[49m\u001B[43mBBOX_AMS\u001B[49m\u001B[43m[\u001B[49m\u001B[38;5;124;43m'\u001B[39;49m\u001B[38;5;124;43msouth\u001B[39;49m\u001B[38;5;124;43m'\u001B[39;49m\u001B[43m]\u001B[49m\u001B[43m,\u001B[49m\u001B[43m \u001B[49m\u001B[43mBBOX_AMS\u001B[49m\u001B[43m[\u001B[49m\u001B[38;5;124;43m'\u001B[39;49m\u001B[38;5;124;43mnorth\u001B[39;49m\u001B[38;5;124;43m'\u001B[39;49m\u001B[43m]\u001B[49m\u001B[43m,\u001B[49m\u001B[43m \u001B[49m\u001B[43mBBOX_AMS\u001B[49m\u001B[43m[\u001B[49m\u001B[38;5;124;43m'\u001B[39;49m\u001B[38;5;124;43mwest\u001B[39;49m\u001B[38;5;124;43m'\u001B[39;49m\u001B[43m]\u001B[49m\u001B[43m,\u001B[49m\u001B[43m \u001B[49m\u001B[43mBBOX_AMS\u001B[49m\u001B[43m[\u001B[49m\u001B[38;5;124;43m'\u001B[39;49m\u001B[38;5;124;43meast\u001B[39;49m\u001B[38;5;124;43m'\u001B[39;49m\u001B[43m]\u001B[49m\u001B[43m,\u001B[49m\u001B[43m \u001B[49m\u001B[43mnetwork_type\u001B[49m\u001B[38;5;241;43m=\u001B[39;49m\u001B[38;5;124;43m'\u001B[39;49m\u001B[38;5;124;43mwalk\u001B[39;49m\u001B[38;5;124;43m'\u001B[39;49m\u001B[43m,\u001B[49m\u001B[43m \u001B[49m\u001B[43msimplify\u001B[49m\u001B[38;5;241;43m=\u001B[39;49m\u001B[38;5;28;43;01mTrue\u001B[39;49;00m\u001B[43m)\u001B[49m\n",
      "File \u001B[0;32m~/anaconda3/envs/thesis/lib/python3.9/site-packages/osmnx/graph.py:83\u001B[0m, in \u001B[0;36mgraph_from_bbox\u001B[0;34m(north, south, east, west, network_type, simplify, retain_all, truncate_by_edge, clean_periphery, custom_filter)\u001B[0m\n\u001B[1;32m     80\u001B[0m polygon \u001B[38;5;241m=\u001B[39m utils_geo\u001B[38;5;241m.\u001B[39mbbox_to_poly(north, south, east, west)\n\u001B[1;32m     82\u001B[0m \u001B[38;5;66;03m# create graph using this polygon geometry\u001B[39;00m\n\u001B[0;32m---> 83\u001B[0m G \u001B[38;5;241m=\u001B[39m \u001B[43mgraph_from_polygon\u001B[49m\u001B[43m(\u001B[49m\n\u001B[1;32m     84\u001B[0m \u001B[43m    \u001B[49m\u001B[43mpolygon\u001B[49m\u001B[43m,\u001B[49m\n\u001B[1;32m     85\u001B[0m \u001B[43m    \u001B[49m\u001B[43mnetwork_type\u001B[49m\u001B[38;5;241;43m=\u001B[39;49m\u001B[43mnetwork_type\u001B[49m\u001B[43m,\u001B[49m\n\u001B[1;32m     86\u001B[0m \u001B[43m    \u001B[49m\u001B[43msimplify\u001B[49m\u001B[38;5;241;43m=\u001B[39;49m\u001B[43msimplify\u001B[49m\u001B[43m,\u001B[49m\n\u001B[1;32m     87\u001B[0m \u001B[43m    \u001B[49m\u001B[43mretain_all\u001B[49m\u001B[38;5;241;43m=\u001B[39;49m\u001B[43mretain_all\u001B[49m\u001B[43m,\u001B[49m\n\u001B[1;32m     88\u001B[0m \u001B[43m    \u001B[49m\u001B[43mtruncate_by_edge\u001B[49m\u001B[38;5;241;43m=\u001B[39;49m\u001B[43mtruncate_by_edge\u001B[49m\u001B[43m,\u001B[49m\n\u001B[1;32m     89\u001B[0m \u001B[43m    \u001B[49m\u001B[43mclean_periphery\u001B[49m\u001B[38;5;241;43m=\u001B[39;49m\u001B[43mclean_periphery\u001B[49m\u001B[43m,\u001B[49m\n\u001B[1;32m     90\u001B[0m \u001B[43m    \u001B[49m\u001B[43mcustom_filter\u001B[49m\u001B[38;5;241;43m=\u001B[39;49m\u001B[43mcustom_filter\u001B[49m\u001B[43m,\u001B[49m\n\u001B[1;32m     91\u001B[0m \u001B[43m\u001B[49m\u001B[43m)\u001B[49m\n\u001B[1;32m     93\u001B[0m utils\u001B[38;5;241m.\u001B[39mlog(\u001B[38;5;124mf\u001B[39m\u001B[38;5;124m\"\u001B[39m\u001B[38;5;124mgraph_from_bbox returned graph with \u001B[39m\u001B[38;5;132;01m{\u001B[39;00m\u001B[38;5;28mlen\u001B[39m(G)\u001B[38;5;132;01m}\u001B[39;00m\u001B[38;5;124m nodes and \u001B[39m\u001B[38;5;132;01m{\u001B[39;00m\u001B[38;5;28mlen\u001B[39m(G\u001B[38;5;241m.\u001B[39medges)\u001B[38;5;132;01m}\u001B[39;00m\u001B[38;5;124m edges\u001B[39m\u001B[38;5;124m\"\u001B[39m)\n\u001B[1;32m     94\u001B[0m \u001B[38;5;28;01mreturn\u001B[39;00m G\n",
      "File \u001B[0;32m~/anaconda3/envs/thesis/lib/python3.9/site-packages/osmnx/graph.py:432\u001B[0m, in \u001B[0;36mgraph_from_polygon\u001B[0;34m(polygon, network_type, simplify, retain_all, truncate_by_edge, clean_periphery, custom_filter)\u001B[0m\n\u001B[1;32m    426\u001B[0m G_buff \u001B[38;5;241m=\u001B[39m _create_graph(response_jsons, retain_all\u001B[38;5;241m=\u001B[39m\u001B[38;5;28;01mTrue\u001B[39;00m, bidirectional\u001B[38;5;241m=\u001B[39mbidirectional)\n\u001B[1;32m    428\u001B[0m \u001B[38;5;66;03m# truncate buffered graph to the buffered polygon and retain_all for\u001B[39;00m\n\u001B[1;32m    429\u001B[0m \u001B[38;5;66;03m# now. needed because overpass returns entire ways that also include\u001B[39;00m\n\u001B[1;32m    430\u001B[0m \u001B[38;5;66;03m# nodes outside the poly if the way (that is, a way with a single OSM\u001B[39;00m\n\u001B[1;32m    431\u001B[0m \u001B[38;5;66;03m# ID) has a node inside the poly at some point.\u001B[39;00m\n\u001B[0;32m--> 432\u001B[0m G_buff \u001B[38;5;241m=\u001B[39m \u001B[43mtruncate\u001B[49m\u001B[38;5;241;43m.\u001B[39;49m\u001B[43mtruncate_graph_polygon\u001B[49m\u001B[43m(\u001B[49m\u001B[43mG_buff\u001B[49m\u001B[43m,\u001B[49m\u001B[43m \u001B[49m\u001B[43mpoly_buff\u001B[49m\u001B[43m,\u001B[49m\u001B[43m \u001B[49m\u001B[38;5;28;43;01mTrue\u001B[39;49;00m\u001B[43m,\u001B[49m\u001B[43m \u001B[49m\u001B[43mtruncate_by_edge\u001B[49m\u001B[43m)\u001B[49m\n\u001B[1;32m    434\u001B[0m \u001B[38;5;66;03m# simplify the graph topology\u001B[39;00m\n\u001B[1;32m    435\u001B[0m \u001B[38;5;28;01mif\u001B[39;00m simplify:\n",
      "File \u001B[0;32m~/anaconda3/envs/thesis/lib/python3.9/site-packages/osmnx/truncate.py:182\u001B[0m, in \u001B[0;36mtruncate_graph_polygon\u001B[0;34m(G, polygon, retain_all, truncate_by_edge, quadrat_width, min_num)\u001B[0m\n\u001B[1;32m    178\u001B[0m     nodes_to_remove \u001B[38;5;241m=\u001B[39m nodes_outside_poly\n\u001B[1;32m    180\u001B[0m \u001B[38;5;66;03m# now remove from the graph all those nodes that lie outside the polygon\u001B[39;00m\n\u001B[1;32m    181\u001B[0m \u001B[38;5;66;03m# make a copy to not mutate original graph object caller passed in\u001B[39;00m\n\u001B[0;32m--> 182\u001B[0m G \u001B[38;5;241m=\u001B[39m \u001B[43mG\u001B[49m\u001B[38;5;241;43m.\u001B[39;49m\u001B[43mcopy\u001B[49m\u001B[43m(\u001B[49m\u001B[43m)\u001B[49m\n\u001B[1;32m    183\u001B[0m G\u001B[38;5;241m.\u001B[39mremove_nodes_from(nodes_to_remove)\n\u001B[1;32m    184\u001B[0m utils\u001B[38;5;241m.\u001B[39mlog(\u001B[38;5;124mf\u001B[39m\u001B[38;5;124m\"\u001B[39m\u001B[38;5;124mRemoved \u001B[39m\u001B[38;5;132;01m{\u001B[39;00m\u001B[38;5;28mlen\u001B[39m(nodes_to_remove)\u001B[38;5;132;01m}\u001B[39;00m\u001B[38;5;124m nodes outside polygon\u001B[39m\u001B[38;5;124m\"\u001B[39m)\n",
      "File \u001B[0;32m~/anaconda3/envs/thesis/lib/python3.9/site-packages/networkx/classes/multigraph.py:1041\u001B[0m, in \u001B[0;36mMultiGraph.copy\u001B[0;34m(self, as_view)\u001B[0m\n\u001B[1;32m   1039\u001B[0m G\u001B[38;5;241m.\u001B[39mgraph\u001B[38;5;241m.\u001B[39mupdate(\u001B[38;5;28mself\u001B[39m\u001B[38;5;241m.\u001B[39mgraph)\n\u001B[1;32m   1040\u001B[0m G\u001B[38;5;241m.\u001B[39madd_nodes_from((n, d\u001B[38;5;241m.\u001B[39mcopy()) \u001B[38;5;28;01mfor\u001B[39;00m n, d \u001B[38;5;129;01min\u001B[39;00m \u001B[38;5;28mself\u001B[39m\u001B[38;5;241m.\u001B[39m_node\u001B[38;5;241m.\u001B[39mitems())\n\u001B[0;32m-> 1041\u001B[0m \u001B[43mG\u001B[49m\u001B[38;5;241;43m.\u001B[39;49m\u001B[43madd_edges_from\u001B[49m\u001B[43m(\u001B[49m\n\u001B[1;32m   1042\u001B[0m \u001B[43m    \u001B[49m\u001B[43m(\u001B[49m\u001B[43mu\u001B[49m\u001B[43m,\u001B[49m\u001B[43m \u001B[49m\u001B[43mv\u001B[49m\u001B[43m,\u001B[49m\u001B[43m \u001B[49m\u001B[43mkey\u001B[49m\u001B[43m,\u001B[49m\u001B[43m \u001B[49m\u001B[43mdatadict\u001B[49m\u001B[38;5;241;43m.\u001B[39;49m\u001B[43mcopy\u001B[49m\u001B[43m(\u001B[49m\u001B[43m)\u001B[49m\u001B[43m)\u001B[49m\n\u001B[1;32m   1043\u001B[0m \u001B[43m    \u001B[49m\u001B[38;5;28;43;01mfor\u001B[39;49;00m\u001B[43m \u001B[49m\u001B[43mu\u001B[49m\u001B[43m,\u001B[49m\u001B[43m \u001B[49m\u001B[43mnbrs\u001B[49m\u001B[43m \u001B[49m\u001B[38;5;129;43;01min\u001B[39;49;00m\u001B[43m \u001B[49m\u001B[38;5;28;43mself\u001B[39;49m\u001B[38;5;241;43m.\u001B[39;49m\u001B[43m_adj\u001B[49m\u001B[38;5;241;43m.\u001B[39;49m\u001B[43mitems\u001B[49m\u001B[43m(\u001B[49m\u001B[43m)\u001B[49m\n\u001B[1;32m   1044\u001B[0m \u001B[43m    \u001B[49m\u001B[38;5;28;43;01mfor\u001B[39;49;00m\u001B[43m \u001B[49m\u001B[43mv\u001B[49m\u001B[43m,\u001B[49m\u001B[43m \u001B[49m\u001B[43mkeydict\u001B[49m\u001B[43m \u001B[49m\u001B[38;5;129;43;01min\u001B[39;49;00m\u001B[43m \u001B[49m\u001B[43mnbrs\u001B[49m\u001B[38;5;241;43m.\u001B[39;49m\u001B[43mitems\u001B[49m\u001B[43m(\u001B[49m\u001B[43m)\u001B[49m\n\u001B[1;32m   1045\u001B[0m \u001B[43m    \u001B[49m\u001B[38;5;28;43;01mfor\u001B[39;49;00m\u001B[43m \u001B[49m\u001B[43mkey\u001B[49m\u001B[43m,\u001B[49m\u001B[43m \u001B[49m\u001B[43mdatadict\u001B[49m\u001B[43m \u001B[49m\u001B[38;5;129;43;01min\u001B[39;49;00m\u001B[43m \u001B[49m\u001B[43mkeydict\u001B[49m\u001B[38;5;241;43m.\u001B[39;49m\u001B[43mitems\u001B[49m\u001B[43m(\u001B[49m\u001B[43m)\u001B[49m\n\u001B[1;32m   1046\u001B[0m \u001B[43m\u001B[49m\u001B[43m)\u001B[49m\n\u001B[1;32m   1047\u001B[0m \u001B[38;5;28;01mreturn\u001B[39;00m G\n",
      "File \u001B[0;32m~/anaconda3/envs/thesis/lib/python3.9/site-packages/networkx/classes/multigraph.py:585\u001B[0m, in \u001B[0;36mMultiGraph.add_edges_from\u001B[0;34m(self, ebunch_to_add, **attr)\u001B[0m\n\u001B[1;32m    583\u001B[0m         key \u001B[38;5;241m=\u001B[39m dd  \u001B[38;5;66;03m# ne == 3 with 3rd value not dict, must be a key\u001B[39;00m\n\u001B[1;32m    584\u001B[0m     key \u001B[38;5;241m=\u001B[39m \u001B[38;5;28mself\u001B[39m\u001B[38;5;241m.\u001B[39madd_edge(u, v, key)\n\u001B[0;32m--> 585\u001B[0m     \u001B[38;5;28;43mself\u001B[39;49m\u001B[43m[\u001B[49m\u001B[43mu\u001B[49m\u001B[43m]\u001B[49m[v][key]\u001B[38;5;241m.\u001B[39mupdate(ddd)\n\u001B[1;32m    586\u001B[0m     keylist\u001B[38;5;241m.\u001B[39mappend(key)\n\u001B[1;32m    587\u001B[0m \u001B[38;5;28;01mreturn\u001B[39;00m keylist\n",
      "File \u001B[0;32m~/anaconda3/envs/thesis/lib/python3.9/site-packages/networkx/classes/graph.py:476\u001B[0m, in \u001B[0;36mGraph.__getitem__\u001B[0;34m(self, n)\u001B[0m\n\u001B[1;32m    452\u001B[0m \u001B[38;5;28;01mdef\u001B[39;00m \u001B[38;5;21m__getitem__\u001B[39m(\u001B[38;5;28mself\u001B[39m, n):\n\u001B[1;32m    453\u001B[0m     \u001B[38;5;124;03m\"\"\"Returns a dict of neighbors of node n.  Use: 'G[n]'.\u001B[39;00m\n\u001B[1;32m    454\u001B[0m \n\u001B[1;32m    455\u001B[0m \u001B[38;5;124;03m    Parameters\u001B[39;00m\n\u001B[0;32m   (...)\u001B[0m\n\u001B[1;32m    474\u001B[0m \u001B[38;5;124;03m    AtlasView({1: {}})\u001B[39;00m\n\u001B[1;32m    475\u001B[0m \u001B[38;5;124;03m    \"\"\"\u001B[39;00m\n\u001B[0;32m--> 476\u001B[0m     \u001B[38;5;28;01mreturn\u001B[39;00m \u001B[38;5;28;43mself\u001B[39;49m\u001B[38;5;241;43m.\u001B[39;49m\u001B[43madj\u001B[49m[n]\n",
      "File \u001B[0;32m~/anaconda3/envs/thesis/lib/python3.9/site-packages/networkx/classes/multidigraph.py:365\u001B[0m, in \u001B[0;36mMultiDiGraph.adj\u001B[0;34m(self)\u001B[0m\n\u001B[1;32m    348\u001B[0m \u001B[38;5;129m@property\u001B[39m\n\u001B[1;32m    349\u001B[0m \u001B[38;5;28;01mdef\u001B[39;00m \u001B[38;5;21madj\u001B[39m(\u001B[38;5;28mself\u001B[39m):\n\u001B[1;32m    350\u001B[0m     \u001B[38;5;124;03m\"\"\"Graph adjacency object holding the neighbors of each node.\u001B[39;00m\n\u001B[1;32m    351\u001B[0m \n\u001B[1;32m    352\u001B[0m \u001B[38;5;124;03m    This object is a read-only dict-like structure with node keys\u001B[39;00m\n\u001B[0;32m   (...)\u001B[0m\n\u001B[1;32m    363\u001B[0m \u001B[38;5;124;03m    For directed graphs, `G.adj` holds outgoing (successor) info.\u001B[39;00m\n\u001B[1;32m    364\u001B[0m \u001B[38;5;124;03m    \"\"\"\u001B[39;00m\n\u001B[0;32m--> 365\u001B[0m     \u001B[38;5;28;01mreturn\u001B[39;00m \u001B[43mMultiAdjacencyView\u001B[49m\u001B[43m(\u001B[49m\u001B[38;5;28;43mself\u001B[39;49m\u001B[38;5;241;43m.\u001B[39;49m\u001B[43m_succ\u001B[49m\u001B[43m)\u001B[49m\n",
      "File \u001B[0;32m~/anaconda3/envs/thesis/lib/python3.9/site-packages/networkx/classes/coreviews.py:44\u001B[0m, in \u001B[0;36mAtlasView.__init__\u001B[0;34m(self, d)\u001B[0m\n\u001B[1;32m     41\u001B[0m \u001B[38;5;28;01mdef\u001B[39;00m \u001B[38;5;21m__setstate__\u001B[39m(\u001B[38;5;28mself\u001B[39m, state):\n\u001B[1;32m     42\u001B[0m     \u001B[38;5;28mself\u001B[39m\u001B[38;5;241m.\u001B[39m_atlas \u001B[38;5;241m=\u001B[39m state[\u001B[38;5;124m\"\u001B[39m\u001B[38;5;124m_atlas\u001B[39m\u001B[38;5;124m\"\u001B[39m]\n\u001B[0;32m---> 44\u001B[0m \u001B[38;5;28;01mdef\u001B[39;00m \u001B[38;5;21m__init__\u001B[39m(\u001B[38;5;28mself\u001B[39m, d):\n\u001B[1;32m     45\u001B[0m     \u001B[38;5;28mself\u001B[39m\u001B[38;5;241m.\u001B[39m_atlas \u001B[38;5;241m=\u001B[39m d\n\u001B[1;32m     47\u001B[0m \u001B[38;5;28;01mdef\u001B[39;00m \u001B[38;5;21m__len__\u001B[39m(\u001B[38;5;28mself\u001B[39m):\n",
      "\u001B[0;31mKeyboardInterrupt\u001B[0m: "
     ]
    }
   ],
   "source": [
    "ox.graph_from_bbox(BBOX_AMS['south'], BBOX_AMS['north'], BBOX_AMS['west'], BBOX_AMS['east'], network_type='walk', simplify=True)"
   ],
   "metadata": {
    "collapsed": false,
    "pycharm": {
     "name": "#%%\n"
    }
   }
  },
  {
   "cell_type": "code",
   "execution_count": 25,
   "outputs": [
    {
     "ename": "TypeError",
     "evalue": "graph_from_gdfs() missing 1 required positional argument: 'gdf_edges'",
     "output_type": "error",
     "traceback": [
      "\u001B[0;31m---------------------------------------------------------------------------\u001B[0m",
      "\u001B[0;31mTypeError\u001B[0m                                 Traceback (most recent call last)",
      "Input \u001B[0;32mIn [25]\u001B[0m, in \u001B[0;36m<cell line: 1>\u001B[0;34m()\u001B[0m\n\u001B[0;32m----> 1\u001B[0m \u001B[43mox\u001B[49m\u001B[38;5;241;43m.\u001B[39;49m\u001B[43mgraph_from_gdfs\u001B[49m\u001B[43m(\u001B[49m\u001B[43mgdf\u001B[49m\u001B[43m)\u001B[49m\n",
      "\u001B[0;31mTypeError\u001B[0m: graph_from_gdfs() missing 1 required positional argument: 'gdf_edges'"
     ]
    }
   ],
   "source": [],
   "metadata": {
    "collapsed": false,
    "pycharm": {
     "name": "#%%\n"
    }
   }
  },
  {
   "cell_type": "markdown",
   "id": "52badcfe-4bca-4929-925c-65105503bbf6",
   "metadata": {
    "pycharm": {
     "name": "#%% md\n"
    }
   },
   "source": [
    "# Graph extraction"
   ]
  },
  {
   "cell_type": "code",
   "execution_count": 5,
   "id": "d8ae9b93-600b-4ad6-955d-b5c44fd9e470",
   "metadata": {
    "pycharm": {
     "name": "#%%\n"
    }
   },
   "outputs": [],
   "source": [
    "GTFS_DATA_DIR = Path('./sample_data/gtfs_monday_extracted')\n",
    "GRAPH_DATA_DIR = Path('./sample_data/graphs')\n",
    "TMP_DATA_PATH = Path('./tmp')"
   ]
  },
  {
   "cell_type": "markdown",
   "id": "a83dcc66-180f-4800-a49b-484f7267b8a4",
   "metadata": {
    "pycharm": {
     "name": "#%% md\n"
    }
   },
   "source": [
    "## OSM Graphs"
   ]
  },
  {
   "cell_type": "code",
   "execution_count": 6,
   "id": "d1521640-e39d-4938-b05d-72ee6a193345",
   "metadata": {
    "pycharm": {
     "name": "#%%\n"
    }
   },
   "outputs": [],
   "source": [
    "class OSMNetworkTypes(Enum):\n",
    "    WALK = 'walk'\n",
    "    BIKE = 'bike'\n",
    "    DRIVE = 'drive'"
   ]
  },
  {
   "cell_type": "code",
   "execution_count": 7,
   "id": "836cea89-aeae-44ac-9758-f797514f7012",
   "metadata": {
    "pycharm": {
     "name": "#%%\n"
    }
   },
   "outputs": [],
   "source": [
    "def create_graph_from_osm(bbox: dict, network_type: OSMNetworkTypes, largest_component: bool = False, speed: float = None):\n",
    "    \n",
    "    G = ox.graph_from_bbox(\n",
    "                bbox['north'],\n",
    "                bbox['south'],\n",
    "                bbox['east'],\n",
    "                bbox['west'],\n",
    "                network_type.value)\n",
    "\n",
    "    if largest_component:\n",
    "        G = ox.utils_graph.get_largest_component(G, strongly=True)\n",
    "    \n",
    "    if speed:\n",
    "        nx.set_edge_attributes(G, speed,'speed_kph')\n",
    "    else:\n",
    "        G = ox.speed.add_edge_speeds(G, precision=1)\n",
    "\n",
    "    G = ox.speed.add_edge_travel_times(G, precision=1)\n",
    "\n",
    "    return G"
   ]
  },
  {
   "cell_type": "code",
   "execution_count": 8,
   "id": "0cf25e90-1189-4dbe-83b6-86e6e4603a5b",
   "metadata": {
    "pycharm": {
     "name": "#%%\n"
    }
   },
   "outputs": [
    {
     "ename": "KeyboardInterrupt",
     "evalue": "",
     "output_type": "error",
     "traceback": [
      "\u001B[0;31m---------------------------------------------------------------------------\u001B[0m",
      "\u001B[0;31mKeyboardInterrupt\u001B[0m                         Traceback (most recent call last)",
      "Input \u001B[0;32mIn [8]\u001B[0m, in \u001B[0;36m<cell line: 2>\u001B[0;34m()\u001B[0m\n\u001B[1;32m      1\u001B[0m \u001B[38;5;66;03m# Create the graphs\u001B[39;00m\n\u001B[0;32m----> 2\u001B[0m G_walk \u001B[38;5;241m=\u001B[39m \u001B[43mcreate_graph_from_osm\u001B[49m\u001B[43m(\u001B[49m\u001B[43mBBOX_AMS\u001B[49m\u001B[43m,\u001B[49m\u001B[43m \u001B[49m\u001B[43mOSMNetworkTypes\u001B[49m\u001B[38;5;241;43m.\u001B[39;49m\u001B[43mWALK\u001B[49m\u001B[43m,\u001B[49m\u001B[43m \u001B[49m\u001B[43mspeed\u001B[49m\u001B[38;5;241;43m=\u001B[39;49m\u001B[38;5;241;43m5\u001B[39;49m\u001B[43m)\u001B[49m\n\u001B[1;32m      3\u001B[0m G_bike \u001B[38;5;241m=\u001B[39m create_graph_from_osm(BBOX_AMS, OSMNetworkTypes\u001B[38;5;241m.\u001B[39mBIKE, speed\u001B[38;5;241m=\u001B[39m\u001B[38;5;241m15\u001B[39m)\n\u001B[1;32m      4\u001B[0m G_drive \u001B[38;5;241m=\u001B[39m create_graph_from_osm(BBOX_AMS, OSMNetworkTypes\u001B[38;5;241m.\u001B[39mDRIVE, largest_component\u001B[38;5;241m=\u001B[39m\u001B[38;5;28;01mTrue\u001B[39;00m)\n",
      "Input \u001B[0;32mIn [7]\u001B[0m, in \u001B[0;36mcreate_graph_from_osm\u001B[0;34m(bbox, network_type, largest_component, speed)\u001B[0m\n\u001B[1;32m      1\u001B[0m \u001B[38;5;28;01mdef\u001B[39;00m \u001B[38;5;21mcreate_graph_from_osm\u001B[39m(bbox: \u001B[38;5;28mdict\u001B[39m, network_type: OSMNetworkTypes, largest_component: \u001B[38;5;28mbool\u001B[39m \u001B[38;5;241m=\u001B[39m \u001B[38;5;28;01mFalse\u001B[39;00m, speed: \u001B[38;5;28mfloat\u001B[39m \u001B[38;5;241m=\u001B[39m \u001B[38;5;28;01mNone\u001B[39;00m):\n\u001B[0;32m----> 3\u001B[0m     G \u001B[38;5;241m=\u001B[39m \u001B[43mox\u001B[49m\u001B[38;5;241;43m.\u001B[39;49m\u001B[43mgraph_from_bbox\u001B[49m\u001B[43m(\u001B[49m\n\u001B[1;32m      4\u001B[0m \u001B[43m                \u001B[49m\u001B[43mbbox\u001B[49m\u001B[43m[\u001B[49m\u001B[38;5;124;43m'\u001B[39;49m\u001B[38;5;124;43mnorth\u001B[39;49m\u001B[38;5;124;43m'\u001B[39;49m\u001B[43m]\u001B[49m\u001B[43m,\u001B[49m\n\u001B[1;32m      5\u001B[0m \u001B[43m                \u001B[49m\u001B[43mbbox\u001B[49m\u001B[43m[\u001B[49m\u001B[38;5;124;43m'\u001B[39;49m\u001B[38;5;124;43msouth\u001B[39;49m\u001B[38;5;124;43m'\u001B[39;49m\u001B[43m]\u001B[49m\u001B[43m,\u001B[49m\n\u001B[1;32m      6\u001B[0m \u001B[43m                \u001B[49m\u001B[43mbbox\u001B[49m\u001B[43m[\u001B[49m\u001B[38;5;124;43m'\u001B[39;49m\u001B[38;5;124;43meast\u001B[39;49m\u001B[38;5;124;43m'\u001B[39;49m\u001B[43m]\u001B[49m\u001B[43m,\u001B[49m\n\u001B[1;32m      7\u001B[0m \u001B[43m                \u001B[49m\u001B[43mbbox\u001B[49m\u001B[43m[\u001B[49m\u001B[38;5;124;43m'\u001B[39;49m\u001B[38;5;124;43mwest\u001B[39;49m\u001B[38;5;124;43m'\u001B[39;49m\u001B[43m]\u001B[49m\u001B[43m,\u001B[49m\n\u001B[1;32m      8\u001B[0m \u001B[43m                \u001B[49m\u001B[43mnetwork_type\u001B[49m\u001B[38;5;241;43m.\u001B[39;49m\u001B[43mvalue\u001B[49m\u001B[43m)\u001B[49m\n\u001B[1;32m     10\u001B[0m     \u001B[38;5;28;01mif\u001B[39;00m largest_component:\n\u001B[1;32m     11\u001B[0m         G \u001B[38;5;241m=\u001B[39m ox\u001B[38;5;241m.\u001B[39mutils_graph\u001B[38;5;241m.\u001B[39mget_largest_component(G, strongly\u001B[38;5;241m=\u001B[39m\u001B[38;5;28;01mTrue\u001B[39;00m)\n",
      "File \u001B[0;32m~/anaconda3/envs/thesis/lib/python3.9/site-packages/osmnx/graph.py:83\u001B[0m, in \u001B[0;36mgraph_from_bbox\u001B[0;34m(north, south, east, west, network_type, simplify, retain_all, truncate_by_edge, clean_periphery, custom_filter)\u001B[0m\n\u001B[1;32m     80\u001B[0m polygon \u001B[38;5;241m=\u001B[39m utils_geo\u001B[38;5;241m.\u001B[39mbbox_to_poly(north, south, east, west)\n\u001B[1;32m     82\u001B[0m \u001B[38;5;66;03m# create graph using this polygon geometry\u001B[39;00m\n\u001B[0;32m---> 83\u001B[0m G \u001B[38;5;241m=\u001B[39m \u001B[43mgraph_from_polygon\u001B[49m\u001B[43m(\u001B[49m\n\u001B[1;32m     84\u001B[0m \u001B[43m    \u001B[49m\u001B[43mpolygon\u001B[49m\u001B[43m,\u001B[49m\n\u001B[1;32m     85\u001B[0m \u001B[43m    \u001B[49m\u001B[43mnetwork_type\u001B[49m\u001B[38;5;241;43m=\u001B[39;49m\u001B[43mnetwork_type\u001B[49m\u001B[43m,\u001B[49m\n\u001B[1;32m     86\u001B[0m \u001B[43m    \u001B[49m\u001B[43msimplify\u001B[49m\u001B[38;5;241;43m=\u001B[39;49m\u001B[43msimplify\u001B[49m\u001B[43m,\u001B[49m\n\u001B[1;32m     87\u001B[0m \u001B[43m    \u001B[49m\u001B[43mretain_all\u001B[49m\u001B[38;5;241;43m=\u001B[39;49m\u001B[43mretain_all\u001B[49m\u001B[43m,\u001B[49m\n\u001B[1;32m     88\u001B[0m \u001B[43m    \u001B[49m\u001B[43mtruncate_by_edge\u001B[49m\u001B[38;5;241;43m=\u001B[39;49m\u001B[43mtruncate_by_edge\u001B[49m\u001B[43m,\u001B[49m\n\u001B[1;32m     89\u001B[0m \u001B[43m    \u001B[49m\u001B[43mclean_periphery\u001B[49m\u001B[38;5;241;43m=\u001B[39;49m\u001B[43mclean_periphery\u001B[49m\u001B[43m,\u001B[49m\n\u001B[1;32m     90\u001B[0m \u001B[43m    \u001B[49m\u001B[43mcustom_filter\u001B[49m\u001B[38;5;241;43m=\u001B[39;49m\u001B[43mcustom_filter\u001B[49m\u001B[43m,\u001B[49m\n\u001B[1;32m     91\u001B[0m \u001B[43m\u001B[49m\u001B[43m)\u001B[49m\n\u001B[1;32m     93\u001B[0m utils\u001B[38;5;241m.\u001B[39mlog(\u001B[38;5;124mf\u001B[39m\u001B[38;5;124m\"\u001B[39m\u001B[38;5;124mgraph_from_bbox returned graph with \u001B[39m\u001B[38;5;132;01m{\u001B[39;00m\u001B[38;5;28mlen\u001B[39m(G)\u001B[38;5;132;01m}\u001B[39;00m\u001B[38;5;124m nodes and \u001B[39m\u001B[38;5;132;01m{\u001B[39;00m\u001B[38;5;28mlen\u001B[39m(G\u001B[38;5;241m.\u001B[39medges)\u001B[38;5;132;01m}\u001B[39;00m\u001B[38;5;124m edges\u001B[39m\u001B[38;5;124m\"\u001B[39m)\n\u001B[1;32m     94\u001B[0m \u001B[38;5;28;01mreturn\u001B[39;00m G\n",
      "File \u001B[0;32m~/anaconda3/envs/thesis/lib/python3.9/site-packages/osmnx/graph.py:426\u001B[0m, in \u001B[0;36mgraph_from_polygon\u001B[0;34m(polygon, network_type, simplify, retain_all, truncate_by_edge, clean_periphery, custom_filter)\u001B[0m\n\u001B[1;32m    424\u001B[0m \u001B[38;5;66;03m# create buffered graph from the downloaded data\u001B[39;00m\n\u001B[1;32m    425\u001B[0m bidirectional \u001B[38;5;241m=\u001B[39m network_type \u001B[38;5;129;01min\u001B[39;00m settings\u001B[38;5;241m.\u001B[39mbidirectional_network_types\n\u001B[0;32m--> 426\u001B[0m G_buff \u001B[38;5;241m=\u001B[39m \u001B[43m_create_graph\u001B[49m\u001B[43m(\u001B[49m\u001B[43mresponse_jsons\u001B[49m\u001B[43m,\u001B[49m\u001B[43m \u001B[49m\u001B[43mretain_all\u001B[49m\u001B[38;5;241;43m=\u001B[39;49m\u001B[38;5;28;43;01mTrue\u001B[39;49;00m\u001B[43m,\u001B[49m\u001B[43m \u001B[49m\u001B[43mbidirectional\u001B[49m\u001B[38;5;241;43m=\u001B[39;49m\u001B[43mbidirectional\u001B[49m\u001B[43m)\u001B[49m\n\u001B[1;32m    428\u001B[0m \u001B[38;5;66;03m# truncate buffered graph to the buffered polygon and retain_all for\u001B[39;00m\n\u001B[1;32m    429\u001B[0m \u001B[38;5;66;03m# now. needed because overpass returns entire ways that also include\u001B[39;00m\n\u001B[1;32m    430\u001B[0m \u001B[38;5;66;03m# nodes outside the poly if the way (that is, a way with a single OSM\u001B[39;00m\n\u001B[1;32m    431\u001B[0m \u001B[38;5;66;03m# ID) has a node inside the poly at some point.\u001B[39;00m\n\u001B[1;32m    432\u001B[0m G_buff \u001B[38;5;241m=\u001B[39m truncate\u001B[38;5;241m.\u001B[39mtruncate_graph_polygon(G_buff, poly_buff, \u001B[38;5;28;01mTrue\u001B[39;00m, truncate_by_edge)\n",
      "File \u001B[0;32m~/anaconda3/envs/thesis/lib/python3.9/site-packages/osmnx/graph.py:567\u001B[0m, in \u001B[0;36m_create_graph\u001B[0;34m(response_jsons, retain_all, bidirectional)\u001B[0m\n\u001B[1;32m    564\u001B[0m     G\u001B[38;5;241m.\u001B[39madd_node(node, \u001B[38;5;241m*\u001B[39m\u001B[38;5;241m*\u001B[39mdata)\n\u001B[1;32m    566\u001B[0m \u001B[38;5;66;03m# add each osm way (ie, a path of edges) to the graph\u001B[39;00m\n\u001B[0;32m--> 567\u001B[0m \u001B[43m_add_paths\u001B[49m\u001B[43m(\u001B[49m\u001B[43mG\u001B[49m\u001B[43m,\u001B[49m\u001B[43m \u001B[49m\u001B[43mpaths\u001B[49m\u001B[38;5;241;43m.\u001B[39;49m\u001B[43mvalues\u001B[49m\u001B[43m(\u001B[49m\u001B[43m)\u001B[49m\u001B[43m,\u001B[49m\u001B[43m \u001B[49m\u001B[43mbidirectional\u001B[49m\u001B[43m)\u001B[49m\n\u001B[1;32m    569\u001B[0m \u001B[38;5;66;03m# retain only the largest connected component if retain_all is False\u001B[39;00m\n\u001B[1;32m    570\u001B[0m \u001B[38;5;28;01mif\u001B[39;00m \u001B[38;5;129;01mnot\u001B[39;00m retain_all:\n",
      "File \u001B[0;32m~/anaconda3/envs/thesis/lib/python3.9/site-packages/osmnx/graph.py:773\u001B[0m, in \u001B[0;36m_add_paths\u001B[0;34m(G, paths, bidirectional)\u001B[0m\n\u001B[1;32m    770\u001B[0m     edges\u001B[38;5;241m.\u001B[39mextend([(v, u) \u001B[38;5;28;01mfor\u001B[39;00m u, v \u001B[38;5;129;01min\u001B[39;00m edges])\n\u001B[1;32m    772\u001B[0m \u001B[38;5;66;03m# add all the edge tuples and give them the path's tag:value attrs\u001B[39;00m\n\u001B[0;32m--> 773\u001B[0m \u001B[43mG\u001B[49m\u001B[38;5;241;43m.\u001B[39;49m\u001B[43madd_edges_from\u001B[49m\u001B[43m(\u001B[49m\u001B[43medges\u001B[49m\u001B[43m,\u001B[49m\u001B[43m \u001B[49m\u001B[38;5;241;43m*\u001B[39;49m\u001B[38;5;241;43m*\u001B[39;49m\u001B[43mpath\u001B[49m\u001B[43m)\u001B[49m\n",
      "File \u001B[0;32m~/anaconda3/envs/thesis/lib/python3.9/site-packages/networkx/classes/multigraph.py:585\u001B[0m, in \u001B[0;36mMultiGraph.add_edges_from\u001B[0;34m(self, ebunch_to_add, **attr)\u001B[0m\n\u001B[1;32m    583\u001B[0m         key \u001B[38;5;241m=\u001B[39m dd  \u001B[38;5;66;03m# ne == 3 with 3rd value not dict, must be a key\u001B[39;00m\n\u001B[1;32m    584\u001B[0m     key \u001B[38;5;241m=\u001B[39m \u001B[38;5;28mself\u001B[39m\u001B[38;5;241m.\u001B[39madd_edge(u, v, key)\n\u001B[0;32m--> 585\u001B[0m     \u001B[38;5;28;43mself\u001B[39;49m\u001B[43m[\u001B[49m\u001B[43mu\u001B[49m\u001B[43m]\u001B[49m[v][key]\u001B[38;5;241m.\u001B[39mupdate(ddd)\n\u001B[1;32m    586\u001B[0m     keylist\u001B[38;5;241m.\u001B[39mappend(key)\n\u001B[1;32m    587\u001B[0m \u001B[38;5;28;01mreturn\u001B[39;00m keylist\n",
      "File \u001B[0;32m~/anaconda3/envs/thesis/lib/python3.9/site-packages/networkx/classes/graph.py:476\u001B[0m, in \u001B[0;36mGraph.__getitem__\u001B[0;34m(self, n)\u001B[0m\n\u001B[1;32m    452\u001B[0m \u001B[38;5;28;01mdef\u001B[39;00m \u001B[38;5;21m__getitem__\u001B[39m(\u001B[38;5;28mself\u001B[39m, n):\n\u001B[1;32m    453\u001B[0m     \u001B[38;5;124;03m\"\"\"Returns a dict of neighbors of node n.  Use: 'G[n]'.\u001B[39;00m\n\u001B[1;32m    454\u001B[0m \n\u001B[1;32m    455\u001B[0m \u001B[38;5;124;03m    Parameters\u001B[39;00m\n\u001B[0;32m   (...)\u001B[0m\n\u001B[1;32m    474\u001B[0m \u001B[38;5;124;03m    AtlasView({1: {}})\u001B[39;00m\n\u001B[1;32m    475\u001B[0m \u001B[38;5;124;03m    \"\"\"\u001B[39;00m\n\u001B[0;32m--> 476\u001B[0m     \u001B[38;5;28;01mreturn\u001B[39;00m \u001B[38;5;28;43mself\u001B[39;49m\u001B[38;5;241;43m.\u001B[39;49m\u001B[43madj\u001B[49m[n]\n",
      "File \u001B[0;32m~/anaconda3/envs/thesis/lib/python3.9/site-packages/networkx/classes/multidigraph.py:365\u001B[0m, in \u001B[0;36mMultiDiGraph.adj\u001B[0;34m(self)\u001B[0m\n\u001B[1;32m    348\u001B[0m \u001B[38;5;129m@property\u001B[39m\n\u001B[1;32m    349\u001B[0m \u001B[38;5;28;01mdef\u001B[39;00m \u001B[38;5;21madj\u001B[39m(\u001B[38;5;28mself\u001B[39m):\n\u001B[1;32m    350\u001B[0m     \u001B[38;5;124;03m\"\"\"Graph adjacency object holding the neighbors of each node.\u001B[39;00m\n\u001B[1;32m    351\u001B[0m \n\u001B[1;32m    352\u001B[0m \u001B[38;5;124;03m    This object is a read-only dict-like structure with node keys\u001B[39;00m\n\u001B[0;32m   (...)\u001B[0m\n\u001B[1;32m    363\u001B[0m \u001B[38;5;124;03m    For directed graphs, `G.adj` holds outgoing (successor) info.\u001B[39;00m\n\u001B[1;32m    364\u001B[0m \u001B[38;5;124;03m    \"\"\"\u001B[39;00m\n\u001B[0;32m--> 365\u001B[0m     \u001B[38;5;28;01mreturn\u001B[39;00m \u001B[43mMultiAdjacencyView\u001B[49m\u001B[43m(\u001B[49m\u001B[38;5;28;43mself\u001B[39;49m\u001B[38;5;241;43m.\u001B[39;49m\u001B[43m_succ\u001B[49m\u001B[43m)\u001B[49m\n",
      "File \u001B[0;32m~/anaconda3/envs/thesis/lib/python3.9/site-packages/networkx/classes/coreviews.py:44\u001B[0m, in \u001B[0;36mAtlasView.__init__\u001B[0;34m(self, d)\u001B[0m\n\u001B[1;32m     41\u001B[0m \u001B[38;5;28;01mdef\u001B[39;00m \u001B[38;5;21m__setstate__\u001B[39m(\u001B[38;5;28mself\u001B[39m, state):\n\u001B[1;32m     42\u001B[0m     \u001B[38;5;28mself\u001B[39m\u001B[38;5;241m.\u001B[39m_atlas \u001B[38;5;241m=\u001B[39m state[\u001B[38;5;124m\"\u001B[39m\u001B[38;5;124m_atlas\u001B[39m\u001B[38;5;124m\"\u001B[39m]\n\u001B[0;32m---> 44\u001B[0m \u001B[38;5;28;01mdef\u001B[39;00m \u001B[38;5;21m__init__\u001B[39m(\u001B[38;5;28mself\u001B[39m, d):\n\u001B[1;32m     45\u001B[0m     \u001B[38;5;28mself\u001B[39m\u001B[38;5;241m.\u001B[39m_atlas \u001B[38;5;241m=\u001B[39m d\n\u001B[1;32m     47\u001B[0m \u001B[38;5;28;01mdef\u001B[39;00m \u001B[38;5;21m__len__\u001B[39m(\u001B[38;5;28mself\u001B[39m):\n",
      "\u001B[0;31mKeyboardInterrupt\u001B[0m: "
     ]
    }
   ],
   "source": [
    "# Create the graphs\n",
    "G_walk = create_graph_from_osm(BBOX_AMS, OSMNetworkTypes.WALK, speed=5)\n",
    "G_bike = create_graph_from_osm(BBOX_AMS, OSMNetworkTypes.BIKE, speed=15)\n",
    "G_drive = create_graph_from_osm(BBOX_AMS, OSMNetworkTypes.DRIVE, largest_component=True)"
   ]
  },
  {
   "cell_type": "code",
   "execution_count": null,
   "id": "27f1ae2f-71f0-44f9-9f64-b8d07a453a3d",
   "metadata": {
    "pycharm": {
     "name": "#%%\n"
    }
   },
   "outputs": [],
   "source": [
    "# fig, ax = ox.plot_graph(G_drive, node_size=3)\n",
    "# fig.savefig('./images/amsterdam_drive_network.png')\n",
    "\n",
    "# fig, ax = ox.plot_graph(G_bike, node_size=3)\n",
    "# fig.savefig('./images/amsterdam_bike_network.png')\n",
    "\n",
    "# fig, ax = ox.plot_graph(G_walk, node_size=3)\n",
    "# fig.savefig('./images/amsterdam_walk_network.png')"
   ]
  },
  {
   "cell_type": "markdown",
   "id": "847b1323-2f96-4c56-852a-436d86255157",
   "metadata": {
    "pycharm": {
     "name": "#%% md\n"
    }
   },
   "source": [
    "## Load GTFS"
   ]
  },
  {
   "cell_type": "code",
   "execution_count": 9,
   "id": "cc5ca20c-0409-46d8-a99d-57fd55f401a5",
   "metadata": {
    "pycharm": {
     "name": "#%%\n"
    }
   },
   "outputs": [],
   "source": [
    "all_gtfs_files = [GTFS_DATA_DIR.joinpath(e) for e in os.listdir(GTFS_DATA_DIR) if Path(e).suffix == '.zip']"
   ]
  },
  {
   "cell_type": "markdown",
   "id": "e3d157e7-6354-4230-a2f5-143e5e14beaf",
   "metadata": {
    "pycharm": {
     "name": "#%% md\n"
    }
   },
   "source": [
    "## Helper functions"
   ]
  },
  {
   "cell_type": "code",
   "execution_count": 10,
   "id": "c5d2de17-5514-4c36-b03b-9c6aa6df768c",
   "metadata": {
    "pycharm": {
     "name": "#%%\n"
    }
   },
   "outputs": [],
   "source": [
    "def append_length_attribute(ua_network):\n",
    "    \"\"\" UrbanAccess networks do not have a 'length' attribute (they have 'weight' instead.)\n",
    "    We want to add the length attribute because it is needed for some osmnx methods. \n",
    "    We will set it to the same value as the weight.\n",
    "    Args:\n",
    "        ua_network (urbanaccess.network.urbanaccess_network):\n",
    "\n",
    "    Returns:\n",
    "        urbanaccess.network.urbanaccess_network: [description]\n",
    "    \"\"\"\n",
    "    ua_network_weights = {}\n",
    "    for node1, node2, key, data in ua_network.edges(data=True, keys=True):\n",
    "        ua_network_weights[(node1, node2, key)] = data['weight']\n",
    "\n",
    "    nx.set_edge_attributes(ua_network, ua_network_weights, \"length\")\n",
    "    nx.set_edge_attributes(ua_network, ua_network_weights, \"travel_time\")\n",
    "\n",
    "    return ua_network"
   ]
  },
  {
   "cell_type": "code",
   "execution_count": 11,
   "id": "c45a7df3-81cc-4a58-8b68-91e487739782",
   "metadata": {
    "pycharm": {
     "name": "#%%\n"
    }
   },
   "outputs": [],
   "source": [
    "def parse_nx_node(row, attr, idcol):\n",
    "    \"\"\"Parses nodes into nx-format\"\"\"\n",
    "    attr = row[attr].copy()\n",
    "    return (row[idcol], attr.to_dict())\n",
    "\n",
    "def parse_nx_edge(row, attr_cols, fr, to):\n",
    "    \"\"\"Parses edges into nx-format\"\"\"\n",
    "    idx = row.name\n",
    "    attr = row[attr_cols].copy().to_dict()\n",
    "    return (row[fr], row[to], idx, attr)\n",
    "\n",
    "def ua_transit_network_to_nx(transit_net):\n",
    "    \"\"\"Convert an urbanaccess transit network to networkx.\n",
    "    ua2nx needs a transit+walk network to work, thus here the function is adjusted for when\n",
    "    only a tranist network is available.\n",
    "\n",
    "    Args:\n",
    "        transit_net (urbanaccess.network.urbanaccess_network): transit network to convert to networkx.\n",
    "    \"\"\"\n",
    "    nodes = transit_net.transit_nodes\n",
    "    edges = transit_net.transit_edges\n",
    "    graph = nx.MultiDiGraph()\n",
    "\n",
    "    # Reset index for nodes to get the integer version of the node_id\n",
    "    nodes = nodes.reset_index()\n",
    "    fr = 'node_id_from'\n",
    "    to = 'node_id_to'\n",
    "    nodeid = 'node_id'\n",
    "\n",
    "    # Don't make an edge out of every trip, instead aggregate them using the median travel time.\n",
    "    edges = edges.groupby([fr, to])['weight'].agg('median').reset_index() \\\n",
    "        .merge(edges, on=[fr, to]).rename(columns={'weight' + '_x': 'weight'}) \\\n",
    "        .drop_duplicates([fr, to]) \\\n",
    "        .drop('weight' + '_y', axis=1)\n",
    "    \n",
    "    edge_attr=['node_id_from', 'node_id_to', 'weight', 'net_type', 'route_type',\n",
    "                                    'sequence', 'unique_agency_id', 'unique_route_id',\n",
    "                                    'unique_trip_id']\n",
    "    exp_edge_attr = edge_attr\n",
    "    exp_node_attr = list(nodes.columns)\n",
    "\n",
    "    nodes['nx_node'] = nodes.apply(parse_nx_node, attr=exp_node_attr, idcol=nodeid, axis=1)\n",
    "    edges['nx_edge'] = edges.apply(parse_nx_edge, attr_cols=exp_edge_attr, fr=fr, to=to, axis=1)\n",
    "\n",
    "    graph.add_nodes_from(nodes['nx_node'].to_list())\n",
    "    graph.add_edges_from(edges['nx_edge'].to_list())\n",
    "\n",
    "    graph.graph['crs'] = {'init': 'epsg:4326'}\n",
    "    graph.graph['name'] = edges['unique_agency_id'].unique()[0]\n",
    "\n",
    "    return graph"
   ]
  },
  {
   "cell_type": "code",
   "execution_count": 12,
   "id": "4a9eed67-35b5-4fd1-bb27-b7405eb0e340",
   "metadata": {
    "pycharm": {
     "name": "#%%\n"
    }
   },
   "outputs": [],
   "source": [
    "def add_transfer_edges(G, headways):\n",
    "    \"\"\" Adds edges between all nodes in the network by taking the avg walking speed/euclidean distance\n",
    "    between each node. This is done to enable inter-layer edges on transit networks.\n",
    "\n",
    "    Args:\n",
    "        G : networkx graph\n",
    "    \"\"\"\n",
    "    def create_edge(orig, dest):\n",
    "        orig = nodes.iloc[orig]\n",
    "        dest = nodes.iloc[dest]\n",
    "\n",
    "        # Do not add loop edges.\n",
    "        if orig['node_id'] == dest['node_id']:\n",
    "            return None\n",
    "\n",
    "        dist = haversine((orig['x'], orig['y']), (dest['x'], dest['y']))\n",
    "            \n",
    "        # Only add a new edge if the distance between the nodes is max 1 kilometer\n",
    "        if dist > 1:\n",
    "            return None\n",
    "        \n",
    "        travel_time = dist/5*60\n",
    "        # 0 means no connection, we prefer a very small number instead.\n",
    "        # This is to avoid re-adding an edge after the previous add had weight=0 (check loop below)\n",
    "        if travel_time == 0:\n",
    "            travel_time = 0.0001\n",
    "\n",
    "        # Add headway time if available\n",
    "        if not np.isnan(dest['mean_hw']):\n",
    "            travel_time += dest['mean_hw']\n",
    "\n",
    "        return (\n",
    "            orig['node_id'],\n",
    "            dest['node_id'],\n",
    "            {\n",
    "                'node_id_from': orig['node_id'],\n",
    "                'node_id_to': dest['node_id'],\n",
    "                'length': dist,\n",
    "                'weight': travel_time,\n",
    "                'travel_time': travel_time,\n",
    "                'net_type': 'walking_estimation'\n",
    "            }\n",
    "        )\n",
    "\n",
    "    nodes = ox.graph_to_gdfs(G, edges=False)\n",
    "    nodes = pd.merge(nodes, headways, how='left', left_on='node_id', right_on='unique_stop_id')\n",
    "\n",
    "    adj_mx = nx.to_numpy_array(G)\n",
    "\n",
    "    start_time = time.time()\n",
    "    edges_to_add = []\n",
    "    # for i in G.nodes():\n",
    "    for i, node_i in enumerate(G.nodes()):\n",
    "        for j, node_j in enumerate(G.nodes()):\n",
    "            if adj_mx[i][j] == 0:\n",
    "                new_edge = create_edge(i, j)\n",
    "                if new_edge:\n",
    "                    edges_to_add.append(new_edge)\n",
    "                    adj_mx[i][j] = new_edge[2]['weight']\n",
    "            if adj_mx[j][i] == 0:\n",
    "                new_edge = create_edge(j, i)\n",
    "                if new_edge:\n",
    "                    edges_to_add.append(new_edge)\n",
    "                    adj_mx[j][i] = new_edge[2]['weight']\n",
    "            \n",
    "            print(f'\\r Completed: {len(edges_to_add)} paths.', end='')\n",
    "\n",
    "    G.add_edges_from(edges_to_add)\n",
    "    print(f'Total time to connect the network: {round((time.time() - start_time)/60, 2)} minutes')\n",
    "    return G, edges_to_add\n"
   ]
  },
  {
   "cell_type": "markdown",
   "id": "37c760b6-88a7-4a2d-ba11-d9c59b3a71ed",
   "metadata": {
    "pycharm": {
     "name": "#%% md\n"
    }
   },
   "source": [
    "## Compute graph from GTFS"
   ]
  },
  {
   "cell_type": "code",
   "execution_count": 15,
   "id": "0be46cb2-2641-4d37-91d8-40810f0254f5",
   "metadata": {
    "pycharm": {
     "name": "#%%\n"
    }
   },
   "outputs": [
    {
     "name": "stderr",
     "output_type": "stream",
     "text": [
      "INFO:urbanaccess:Checking GTFS text file header whitespace... Reading files using encoding: utf-8 set in configuration.\n",
      "INFO:urbanaccess:GTFS text file header whitespace check completed. Took 0.02 seconds\n",
      "INFO:urbanaccess:--------------------------------\n",
      "INFO:urbanaccess:Processing GTFS feed: tmp\n"
     ]
    },
    {
     "name": "stdout",
     "output_type": "stream",
     "text": [
      "Checking GTFS text file header whitespace... Reading files using encoding: utf-8 set in configuration.\n",
      "GTFS text file header whitespace check completed. Took 0.02 seconds\n",
      "--------------------------------\n",
      "Processing GTFS feed: tmp\n"
     ]
    },
    {
     "name": "stderr",
     "output_type": "stream",
     "text": [
      "INFO:urbanaccess:GTFS feed: tmp, calendar_dates uses the same service_id across multiple agency_ids. This feed calendar_dates table will be modified from its original format to provide service_ids for each agency using a one to many join\n"
     ]
    },
    {
     "name": "stdout",
     "output_type": "stream",
     "text": [
      "GTFS feed: tmp, calendar_dates uses the same service_id across multiple agency_ids. This feed calendar_dates table will be modified from its original format to provide service_ids for each agency using a one to many join\n"
     ]
    },
    {
     "name": "stderr",
     "output_type": "stream",
     "text": [
      "INFO:urbanaccess:GTFS feed: tmp, stops uses the same stop_id across multiple agency_ids. This feed stops table will be modified from its original format to provide stop_ids for each agency using a one to many join\n"
     ]
    },
    {
     "name": "stdout",
     "output_type": "stream",
     "text": [
      "GTFS feed: tmp, stops uses the same stop_id across multiple agency_ids. This feed stops table will be modified from its original format to provide stop_ids for each agency using a one to many join\n"
     ]
    },
    {
     "name": "stderr",
     "output_type": "stream",
     "text": [
      "INFO:urbanaccess:agency.txt agency_name column has more than one agency name listed. Unique agency id was assigned using the agency id and associated agency name.\n",
      "INFO:urbanaccess:Unique agency id operation complete. Took 0.67 seconds\n",
      "INFO:urbanaccess:Unique GTFS feed id operation complete. Took 0.00 seconds\n",
      "WARNING:urbanaccess:WARNING: tmp GTFS feed stops: 1,094 of 3,066 (35.68 percent of total) record(s) are outside the bounding box coordinates\n",
      "INFO:urbanaccess:Records:\n",
      "INFO:urbanaccess:              stop_id  unique_agency_id             stop_name stop_code  \\\n",
      "0      stoparea:37036               nan          Lille Europe    lillee   \n",
      "1      stoparea:18059               nan  Groningen Europapark      gerp   \n",
      "2     stoparea:111951               nan        Bunde (Westf.)    buende   \n",
      "3     stoparea:345453               nan   Amersfoort Centraal       amf   \n",
      "4     stoparea:112037               nan   Monchengladbach Hbf      mcgb   \n",
      "...               ...               ...                   ...       ...   \n",
      "3059          2323664                ns                 Gouda       NaN   \n",
      "3061          2422231                ns              Voorhout       NaN   \n",
      "3063          2323806  ns_international               Hengelo       NaN   \n",
      "3064          2323806                ns               Hengelo       NaN   \n",
      "3065          2324672                ns               Woerden       NaN   \n",
      "\n",
      "      stop_desc   stop_lat  stop_lon  zone_id  stop_url  tts_stop_name  \\\n",
      "0           NaN  50.639444  3.075000      NaN       NaN            NaN   \n",
      "1           NaN  53.204708  6.585811      NaN       NaN            NaN   \n",
      "2           NaN  52.202170  8.574140      NaN       NaN            NaN   \n",
      "3           NaN  52.153418  5.373988      NaN       NaN            NaN   \n",
      "4           NaN  51.196582  6.446180      NaN       NaN            NaN   \n",
      "...         ...        ...       ...      ...       ...            ...   \n",
      "3059        NaN  52.017612  4.705700   IFF:gd       NaN            NaN   \n",
      "3061        NaN  52.224103  4.484418   IFF:vh       NaN            NaN   \n",
      "3063        NaN  52.261895  6.794494  IFF:hgl       NaN            NaN   \n",
      "3064        NaN  52.261895  6.794494  IFF:hgl       NaN            NaN   \n",
      "3065        NaN  52.084817  4.893272   IFF:wd       NaN            NaN   \n",
      "\n",
      "     platform_code  location_type  parent_station     stop_timezone  \\\n",
      "0              NaN              1             NaN  Europe/Amsterdam   \n",
      "1              NaN              1             NaN  Europe/Amsterdam   \n",
      "2              NaN              1             NaN  Europe/Amsterdam   \n",
      "3              NaN              1             NaN  Europe/Amsterdam   \n",
      "4              NaN              1             NaN  Europe/Amsterdam   \n",
      "...            ...            ...             ...               ...   \n",
      "3059            10              0  stoparea:17806               NaN   \n",
      "3061             2              0  stoparea:18281               NaN   \n",
      "3063             2              0  stoparea:17896               NaN   \n",
      "3064             2              0  stoparea:17896               NaN   \n",
      "3065             6              0  stoparea:18083               NaN   \n",
      "\n",
      "      wheelchair_boarding  level_id  area_id unique_feed_id  \n",
      "0                       0       NaN      NaN          tmp_1  \n",
      "1                       0       NaN      NaN          tmp_1  \n",
      "2                       0       NaN      NaN          tmp_1  \n",
      "3                       0       NaN      NaN          tmp_1  \n",
      "4                       0       NaN      NaN          tmp_1  \n",
      "...                   ...       ...      ...            ...  \n",
      "3059                    0       NaN      NaN          tmp_1  \n",
      "3061                    0       NaN      NaN          tmp_1  \n",
      "3063                    0       NaN      NaN          tmp_1  \n",
      "3064                    0       NaN      NaN          tmp_1  \n",
      "3065                    0       NaN      NaN          tmp_1  \n",
      "\n",
      "[1094 rows x 18 columns]\n",
      "INFO:urbanaccess:Removed identified stops that are outside of bounding box.\n",
      "INFO:urbanaccess:tmp GTFS feed stops: coordinates are in northeast hemisphere. Latitude = North (90); Longitude = East (90).\n",
      "INFO:urbanaccess:Appended route type to stops\n",
      "INFO:urbanaccess:Appended route type to stop_times\n"
     ]
    },
    {
     "name": "stdout",
     "output_type": "stream",
     "text": [
      "agency.txt agency_name column has more than one agency name listed. Unique agency id was assigned using the agency id and associated agency name.\n",
      "Unique agency id operation complete. Took 0.67 seconds\n",
      "Unique GTFS feed id operation complete. Took 0.00 seconds\n",
      "WARNING: tmp GTFS feed stops: 1,094 of 3,066 (35.68 percent of total) record(s) are outside the bounding box coordinates\n",
      "Records:\n",
      "              stop_id  unique_agency_id             stop_name stop_code  \\\n",
      "0      stoparea:37036               nan          Lille Europe    lillee   \n",
      "1      stoparea:18059               nan  Groningen Europapark      gerp   \n",
      "2     stoparea:111951               nan        Bunde (Westf.)    buende   \n",
      "3     stoparea:345453               nan   Amersfoort Centraal       amf   \n",
      "4     stoparea:112037               nan   Monchengladbach Hbf      mcgb   \n",
      "...               ...               ...                   ...       ...   \n",
      "3059          2323664                ns                 Gouda       NaN   \n",
      "3061          2422231                ns              Voorhout       NaN   \n",
      "3063          2323806  ns_international               Hengelo       NaN   \n",
      "3064          2323806                ns               Hengelo       NaN   \n",
      "3065          2324672                ns               Woerden       NaN   \n",
      "\n",
      "      stop_desc   stop_lat  stop_lon  zone_id  stop_url  tts_stop_name  \\\n",
      "0           NaN  50.639444  3.075000      NaN       NaN            NaN   \n",
      "1           NaN  53.204708  6.585811      NaN       NaN            NaN   \n",
      "2           NaN  52.202170  8.574140      NaN       NaN            NaN   \n",
      "3           NaN  52.153418  5.373988      NaN       NaN            NaN   \n",
      "4           NaN  51.196582  6.446180      NaN       NaN            NaN   \n",
      "...         ...        ...       ...      ...       ...            ...   \n",
      "3059        NaN  52.017612  4.705700   IFF:gd       NaN            NaN   \n",
      "3061        NaN  52.224103  4.484418   IFF:vh       NaN            NaN   \n",
      "3063        NaN  52.261895  6.794494  IFF:hgl       NaN            NaN   \n",
      "3064        NaN  52.261895  6.794494  IFF:hgl       NaN            NaN   \n",
      "3065        NaN  52.084817  4.893272   IFF:wd       NaN            NaN   \n",
      "\n",
      "     platform_code  location_type  parent_station     stop_timezone  \\\n",
      "0              NaN              1             NaN  Europe/Amsterdam   \n",
      "1              NaN              1             NaN  Europe/Amsterdam   \n",
      "2              NaN              1             NaN  Europe/Amsterdam   \n",
      "3              NaN              1             NaN  Europe/Amsterdam   \n",
      "4              NaN              1             NaN  Europe/Amsterdam   \n",
      "...            ...            ...             ...               ...   \n",
      "3059            10              0  stoparea:17806               NaN   \n",
      "3061             2              0  stoparea:18281               NaN   \n",
      "3063             2              0  stoparea:17896               NaN   \n",
      "3064             2              0  stoparea:17896               NaN   \n",
      "3065             6              0  stoparea:18083               NaN   \n",
      "\n",
      "      wheelchair_boarding  level_id  area_id unique_feed_id  \n",
      "0                       0       NaN      NaN          tmp_1  \n",
      "1                       0       NaN      NaN          tmp_1  \n",
      "2                       0       NaN      NaN          tmp_1  \n",
      "3                       0       NaN      NaN          tmp_1  \n",
      "4                       0       NaN      NaN          tmp_1  \n",
      "...                   ...       ...      ...            ...  \n",
      "3059                    0       NaN      NaN          tmp_1  \n",
      "3061                    0       NaN      NaN          tmp_1  \n",
      "3063                    0       NaN      NaN          tmp_1  \n",
      "3064                    0       NaN      NaN          tmp_1  \n",
      "3065                    0       NaN      NaN          tmp_1  \n",
      "\n",
      "[1094 rows x 18 columns]\n",
      "Removed identified stops that are outside of bounding box.\n",
      "tmp GTFS feed stops: coordinates are in northeast hemisphere. Latitude = North (90); Longitude = East (90).\n",
      "Appended route type to stops\n",
      "Appended route type to stop_times\n"
     ]
    },
    {
     "name": "stderr",
     "output_type": "stream",
     "text": [
      "INFO:urbanaccess:--------------------------------\n",
      "INFO:urbanaccess:Added descriptive definitions to stops, routes, stop_times, and trips tables\n"
     ]
    },
    {
     "name": "stdout",
     "output_type": "stream",
     "text": [
      "--------------------------------\n",
      "Added descriptive definitions to stops, routes, stop_times, and trips tables\n"
     ]
    },
    {
     "name": "stderr",
     "output_type": "stream",
     "text": [
      "INFO:urbanaccess:Successfully converted ['departure_time'] to seconds past midnight and appended new columns to stop_times. Took 0.25 seconds\n",
      "INFO:urbanaccess:1 GTFS feed file(s) successfully read as dataframes:\n",
      "INFO:urbanaccess:     tmp\n",
      "INFO:urbanaccess:     Took 1.38 seconds\n"
     ]
    },
    {
     "name": "stdout",
     "output_type": "stream",
     "text": [
      "Successfully converted ['departure_time'] to seconds past midnight and appended new columns to stop_times. Took 0.25 seconds\n",
      "1 GTFS feed file(s) successfully read as dataframes:\n",
      "     tmp\n",
      "     Took 1.38 seconds\n"
     ]
    }
   ],
   "source": [
    "path = all_gtfs_files[0]\n",
    "\n",
    "# (lng_max, lat_min, lng_min, lat_max)\n",
    "bbox = (\n",
    "    gdf.loc[0, 'bbox_west'],\n",
    "    gdf.loc[0, 'bbox_south'],\n",
    "    gdf.loc[0, 'bbox_east'],\n",
    "    gdf.loc[0, 'bbox_north'],\n",
    ")\n",
    "\n",
    "with ZipFile(path) as ref:\n",
    "    ref.extractall(TMP_DATA_PATH)\n",
    "    loaded_feeds = ua.gtfs.load.gtfsfeed_to_df(gtfsfeed_path=str(TMP_DATA_PATH.absolute()), \n",
    "                                               validation=True, \n",
    "                                               verbose=True,\n",
    "                                               bbox=bbox, \n",
    "                                               remove_stops_outsidebbox=True,\n",
    "                                               append_definitions=True)\n",
    "    for f in os.listdir(TMP_DATA_PATH):\n",
    "        os.remove(TMP_DATA_PATH.joinpath(f))"
   ]
  },
  {
   "cell_type": "code",
   "execution_count": 22,
   "outputs": [
    {
     "data": {
      "text/plain": "numpy.int64"
     },
     "execution_count": 22,
     "metadata": {},
     "output_type": "execute_result"
    }
   ],
   "source": [
    "loaded_feeds.calendar_dates['date'].unique()[0]"
   ],
   "metadata": {
    "collapsed": false,
    "pycharm": {
     "name": "#%%\n"
    }
   }
  },
  {
   "cell_type": "code",
   "execution_count": 12,
   "id": "d4647775-a32a-40d3-ae3e-49bfe6ad0b7b",
   "metadata": {
    "tags": [],
    "pycharm": {
     "name": "#%%\n"
    }
   },
   "outputs": [],
   "source": [
    "# print(loaded_feeds.stops.head())\n",
    "# print(loaded_feeds.stops.unique_agency_id.unique())\n",
    "# print(loaded_feeds.routes.head())\n",
    "# print(loaded_feeds.stop_times.head())\n",
    "# print(loaded_feeds.trips.head())\n",
    "# print(loaded_feeds.calendar.head())\n",
    "\n",
    "# loaded_feeds.stops.plot(kind='scatter', x='stop_lon', y='stop_lat', s=0.1)"
   ]
  },
  {
   "cell_type": "code",
   "execution_count": 13,
   "id": "b6967732-0af3-4909-8b0d-42c75f78096b",
   "metadata": {
    "pycharm": {
     "name": "#%%\n"
    }
   },
   "outputs": [
    {
     "ename": "NameError",
     "evalue": "name 'loaded_feeds' is not defined",
     "output_type": "error",
     "traceback": [
      "\u001B[0;31m---------------------------------------------------------------------------\u001B[0m",
      "\u001B[0;31mNameError\u001B[0m                                 Traceback (most recent call last)",
      "Input \u001B[0;32mIn [13]\u001B[0m, in \u001B[0;36m<cell line: 2>\u001B[0;34m()\u001B[0m\n\u001B[1;32m      1\u001B[0m \u001B[38;5;66;03m# Create the transit network graph from GTFS feeds using the urbanaccess library \u001B[39;00m\n\u001B[1;32m      2\u001B[0m transit_net \u001B[38;5;241m=\u001B[39m ua\u001B[38;5;241m.\u001B[39mgtfs\u001B[38;5;241m.\u001B[39mnetwork\u001B[38;5;241m.\u001B[39mcreate_transit_net(\n\u001B[0;32m----> 3\u001B[0m     gtfsfeeds_dfs\u001B[38;5;241m=\u001B[39m\u001B[43mloaded_feeds\u001B[49m,\n\u001B[1;32m      4\u001B[0m     calendar_dates_lookup\u001B[38;5;241m=\u001B[39m{\u001B[38;5;124m'\u001B[39m\u001B[38;5;124munique_feed_id\u001B[39m\u001B[38;5;124m'\u001B[39m: \u001B[38;5;124m'\u001B[39m\u001B[38;5;124mtmp_1\u001B[39m\u001B[38;5;124m'\u001B[39m},\n\u001B[1;32m      5\u001B[0m     day\u001B[38;5;241m=\u001B[39m\u001B[38;5;124m'\u001B[39m\u001B[38;5;124mmonday\u001B[39m\u001B[38;5;124m'\u001B[39m,\n\u001B[1;32m      6\u001B[0m     timerange\u001B[38;5;241m=\u001B[39m[\u001B[38;5;124m'\u001B[39m\u001B[38;5;124m07:00:00\u001B[39m\u001B[38;5;124m'\u001B[39m, \u001B[38;5;124m'\u001B[39m\u001B[38;5;124m09:00:00\u001B[39m\u001B[38;5;124m'\u001B[39m],\n\u001B[1;32m      7\u001B[0m )\n\u001B[1;32m      8\u001B[0m \u001B[38;5;66;03m# Note - this needs to be done after create_transit_net because that's when\u001B[39;00m\n\u001B[1;32m      9\u001B[0m \u001B[38;5;66;03m# stop_times_int is calculated. This means that G_transit does not currently\u001B[39;00m\n\u001B[1;32m     10\u001B[0m \u001B[38;5;66;03m# contain headway information in its calculations.\u001B[39;00m\n\u001B[1;32m     11\u001B[0m loaded_feeds \u001B[38;5;241m=\u001B[39m ua\u001B[38;5;241m.\u001B[39mgtfs\u001B[38;5;241m.\u001B[39mheadways\u001B[38;5;241m.\u001B[39mheadways(loaded_feeds,\n\u001B[1;32m     12\u001B[0m                                          headway_timerange\u001B[38;5;241m=\u001B[39m[\u001B[38;5;124m'\u001B[39m\u001B[38;5;124m07:00:00\u001B[39m\u001B[38;5;124m'\u001B[39m, \u001B[38;5;124m'\u001B[39m\u001B[38;5;124m09:00:00\u001B[39m\u001B[38;5;124m'\u001B[39m])\n",
      "\u001B[0;31mNameError\u001B[0m: name 'loaded_feeds' is not defined"
     ]
    }
   ],
   "source": [
    "# Create the transit network graph from GTFS feeds using the urbanaccess library \n",
    "transit_net = ua.gtfs.network.create_transit_net(\n",
    "    gtfsfeeds_dfs=loaded_feeds,\n",
    "    calendar_dates_lookup={'unique_feed_id': 'tmp_1'},\n",
    "    day='monday',\n",
    "    timerange=['07:00:00', '09:00:00'],\n",
    ")\n",
    "# Note - this needs to be done after create_transit_net because that's when\n",
    "# stop_times_int is calculated. This means that G_transit does not currently\n",
    "# contain headway information in its calculations.\n",
    "loaded_feeds = ua.gtfs.headways.headways(loaded_feeds,\n",
    "                                         headway_timerange=['07:00:00', '09:00:00'])\n",
    "\n",
    "# Calculate average headways by stop\n",
    "hw = loaded_feeds.headways.drop_duplicates()\n",
    "hw['mean_sum'] = hw['count'] * hw['mean']\n",
    "\n",
    "hw = hw.groupby('unique_stop_id')[['mean_sum', 'count']].sum().reset_index()\n",
    "hw['mean_hw'] = hw['mean_sum']/hw['count'] / 2.0 # TODO: figure out - I am not sure why /2 but they also do it in urban access.\n",
    "hw = hw[['unique_stop_id', 'mean_hw']]"
   ]
  },
  {
   "cell_type": "code",
   "execution_count": 14,
   "id": "e08b61c5-fc09-4d68-9a22-b17cb6e2d88f",
   "metadata": {
    "pycharm": {
     "name": "#%%\n"
    }
   },
   "outputs": [
    {
     "name": "stderr",
     "output_type": "stream",
     "text": [
      "INFO:urbanaccess:Figure created. Took 0.68 seconds\n"
     ]
    },
    {
     "name": "stdout",
     "output_type": "stream",
     "text": [
      "Figure created. Took 0.68 seconds\n"
     ]
    },
    {
     "data": {
      "image/png": "[encoded data removed]",
      "text/plain": [
       "<Figure size 432x288 with 1 Axes>"
      ]
     },
     "metadata": {
      "needs_background": "light"
     },
     "output_type": "display_data"
    },
    {
     "data": {
      "image/png": "[encoded data removed]",
      "text/plain": [
       "<Figure size 943.644x432 with 1 Axes>"
      ]
     },
     "metadata": {
      "needs_background": "light"
     },
     "output_type": "display_data"
    },
    {
     "data": {
      "text/plain": [
       "(<Figure size 943.644x432 with 1 Axes>, <AxesSubplot:>)"
      ]
     },
     "execution_count": 14,
     "metadata": {},
     "output_type": "execute_result"
    }
   ],
   "source": [
    "transit_net.transit_nodes.plot(kind='scatter', x='x', y='y', s=0.1)\n",
    "ua.plot.plot_net(transit_net.transit_nodes, transit_net.transit_edges)"
   ]
  },
  {
   "cell_type": "code",
   "execution_count": 15,
   "id": "8ccbfbf4-cb77-4742-b9e6-139dc3a1de00",
   "metadata": {
    "tags": [],
    "pycharm": {
     "name": "#%%\n"
    }
   },
   "outputs": [],
   "source": [
    "G_transit = ua_transit_network_to_nx(transit_net)\n",
    "G_transit = append_length_attribute(G_transit)"
   ]
  },
  {
   "cell_type": "code",
   "execution_count": 31,
   "id": "ecea61bf-83b2-45d5-86e2-6c1e515887fc",
   "metadata": {
    "pycharm": {
     "name": "#%%\n"
    }
   },
   "outputs": [
    {
     "data": {
      "text/plain": [
       "{'node_id': '2422355_ns',\n",
       " 'x': 4.747019,\n",
       " 'y': 52.385901,\n",
       " 'unique_agency_id': 'ns',\n",
       " 'route_type': 2.0,\n",
       " 'stop_id': '2422355',\n",
       " 'stop_name': 'Halfweg-Zwanenburg',\n",
       " 'parent_station': 'stoparea:18248',\n",
       " 'stop_code': nan,\n",
       " 'wheelchair_boarding': 0,\n",
       " 'zone_id': 'IFF:hwzb',\n",
       " 'location_type': 0,\n",
       " 'net_type': 'transit',\n",
       " 'freq': 0}"
      ]
     },
     "execution_count": 31,
     "metadata": {},
     "output_type": "execute_result"
    }
   ],
   "source": [
    "G_transit.nodes(data=True)['2422355_ns']"
   ]
  },
  {
   "cell_type": "code",
   "execution_count": 32,
   "id": "ba034417-cb49-43e6-8430-6df89a9430ee",
   "metadata": {
    "pycharm": {
     "name": "#%%\n"
    }
   },
   "outputs": [
    {
     "data": {
      "text/plain": [
       "networkx.classes.multidigraph.MultiDiGraph"
      ]
     },
     "execution_count": 32,
     "metadata": {},
     "output_type": "execute_result"
    }
   ],
   "source": [
    "type(G_transit)"
   ]
  },
  {
   "cell_type": "code",
   "execution_count": 18,
   "id": "705439df-f45d-4cc4-9064-27dc82277470",
   "metadata": {
    "pycharm": {
     "name": "#%%\n"
    }
   },
   "outputs": [
    {
     "data": {
      "text/plain": [
       "[('2422355_ns', '2422037_ns', 16952),\n",
       " ('2323539_ns', '2422316_ns', 15271),\n",
       " ('2323216_ns', '2422149_ns', 15208),\n",
       " ('2422022_ns', '2422032_ns', 16700),\n",
       " ('2422022_ns', '2422033_ns', 16701),\n",
       " ('2422036_ns', '2422356_ns', 16798),\n",
       " ('2436695_gvb', '2404462_gvb', 17315),\n",
       " ('2436694_gvb', '2436695_gvb', 17307),\n",
       " ('2436693_gvb', '1690104_gvb', 17300),\n",
       " ('2432359_ns', '2422212_ns', 17297),\n",
       " ('2324702_ns', '2323487_ns', 15317),\n",
       " ('2324702_ns', '2422317_ns', 15321),\n",
       " ('2422145_ns', '2323216_ns', 16822),\n",
       " ('2422145_ns', '2323222_ns', 16824),\n",
       " ('2422145_ns', '2422009_ns', 16825),\n",
       " ('2422145_ns', '2422026_ns', 16828),\n",
       " ('2422145_ns', '2422027_ns', 16839),\n",
       " ('2422145_ns_international', '2323217_ns_international', 16847),\n",
       " ('2422145_ns_international', '2422006_ns_international', 16848),\n",
       " ('2323487_ns', '2422290_ns', 15263),\n",
       " ('2422280_ns', '2323541_ns', 16899),\n",
       " ('2422212_ns', '2323199_ns', 16884),\n",
       " ('2404452_gvb', '1538698_gvb', 16174),\n",
       " ('2422317_ns', '2323540_ns', 16944),\n",
       " ('2323540_ns', '2324270_ns', 15279),\n",
       " ('2323540_ns', '2422030_ns', 15287),\n",
       " ('2323540_ns', '2422031_ns', 15291),\n",
       " ('2422289_ns', '2404748_ns', 16922),\n",
       " ('2422025_ns', '2422149_ns', 16704),\n",
       " ('2428112_gvb', '2428113_gvb', 17190),\n",
       " ('2323255_ns', '2323080_ns', 15236),\n",
       " ('2422009_ns', '2422149_ns', 16678),\n",
       " ('2422031_ns', '2422149_ns', 16768),\n",
       " ('2422281_ns', '2323255_ns', 16907),\n",
       " ('2422284_ns', '2422036_ns', 16915),\n",
       " ('2422037_ns', '2422011_ns', 16806),\n",
       " ('2422037_ns', '2422284_ns', 16815),\n",
       " ('2341334_gvb', '2404457_gvb', 15527),\n",
       " ('2422012_ns', '2422036_ns', 16682),\n",
       " ('2422014_ns', '2323199_ns', 16690),\n",
       " ('2422027_ns', '2323539_ns', 16727),\n",
       " ('2422030_ns', '2422148_ns', 16749),\n",
       " ('2422211_ns', '2422002_ns', 16876),\n",
       " ('2422211_ns', '2422019_ns', 16879),\n",
       " ('2422211_ns', '2422022_ns', 16880),\n",
       " ('2422211_ns', '2422422_ns', 16881),\n",
       " ('2323542_ns', '2422281_ns', 15301),\n",
       " ('2323243_ns', '2422289_ns', 15221),\n",
       " ('2429583_gvb', '2429584_gvb', 17245),\n",
       " ('2429586_gvb', '14863_gvb', 17252),\n",
       " ('2429589_gvb', '14863_gvb', 17261),\n",
       " ('2323265_ns', '2422025_ns', 15247),\n",
       " ('2422422_ns', '2422032_ns', 16960),\n",
       " ('2422422_ns', '2422033_ns', 16961),\n",
       " ('2422583_ns', '2422212_ns', 16972),\n",
       " ('2323266_ns', '2422003_ns', 15255),\n",
       " ('2323266_ns', '2422005_ns', 15261),\n",
       " ('2429584_gvb', '14863_gvb', 17247),\n",
       " ('2429584_gvb', '2429585_gvb', 17248),\n",
       " ('2422002_ns', '2422032_ns', 16666),\n",
       " ('2422002_ns', '2422033_ns', 16668),\n",
       " ('2323222_ns_international', '2422149_ns_international', 15217),\n",
       " ('2404782_ns', '2323539_ns', 16296),\n",
       " ('2324270_ns', '2422030_ns', 15309),\n",
       " ('2422210_ns', '2323220_ns', 16868),\n",
       " ('2323254_ns', '2422280_ns', 15228),\n",
       " ('2422582_ns', '2323199_ns', 16968),\n",
       " ('2422423_ns', '2422032_ns', 16963),\n",
       " ('2422423_ns', '2422033_ns', 16965),\n",
       " ('2422290_ns', '2422210_ns', 16930),\n",
       " ('2422279_ns', '2422030_ns', 16892),\n",
       " ('2422316_ns', '2324700_ns', 16937),\n",
       " ('2422316_ns', '2324701_ns', 16941),\n",
       " ('2323199_ns', '2323542_ns', 15201),\n",
       " ('2323264_ns', '2422025_ns', 15243),\n",
       " ('2428113_gvb', '15430_gvb', 17209),\n",
       " ('2393383_gvb', '322631_gvb', 15976),\n",
       " ('2422026_ns', '2323266_ns', 16715),\n",
       " ('2422026_ns', '2323273_ns', 16723),\n",
       " ('2422034_ns', '2422014_ns', 16776),\n",
       " ('2422034_ns', '2422015_ns', 16781),\n",
       " ('2422034_ns', '2422582_ns', 16782),\n",
       " ('2422034_ns', '2422583_ns', 16783),\n",
       " ('2324703_ns', '2323487_ns', 15324),\n",
       " ('2324703_ns', '2422317_ns', 15328),\n",
       " ('2422035_ns', '2422014_ns', 16786),\n",
       " ('2422035_ns', '2422421_ns', 16787),\n",
       " ('2422035_ns', '2422582_ns', 16791),\n",
       " ('2422035_ns', '2422583_ns', 16794),\n",
       " ('2422035_ns', '2432359_ns', 16795),\n",
       " ('2422003_ns', '2323243_ns', 16669),\n",
       " ('2422005_ns', '2323243_ns', 16675),\n",
       " ('2422005_ns', '2422149_ns', 16677),\n",
       " ('2323220_ns', '2323265_ns', 15210),\n",
       " ('2323079_ns', '2323254_ns', 15176),\n",
       " ('2429588_gvb', '2429589_gvb', 17257),\n",
       " ('2422015_ns', '2323199_ns', 16696),\n",
       " ('2404748_ns', '2324700_ns', 16288),\n",
       " ('2404748_ns', '2324701_ns', 16292),\n",
       " ('1523004_gvb', '15048_gvb', 7644),\n",
       " ('15374_gvb', '15035_gvb', 9420),\n",
       " ('14619_gvb', '15285_gvb', 2967),\n",
       " ('15744_gvb', '15506_gvb', 12411),\n",
       " ('15503_gvb', '14938_gvb', 10845),\n",
       " ('15512_gvb', '14710_gvb', 10921),\n",
       " ('15512_gvb', '14939_gvb', 10937),\n",
       " ('74362_gvb', '1547431_gvb', 18254),\n",
       " ('15452_gvb', '15115_gvb', 10332),\n",
       " ('15488_gvb', '15492_gvb', 10721),\n",
       " ('2318362_gvb', '14506_gvb', 15125),\n",
       " ('15716_gvb', '14616_gvb', 12264),\n",
       " ('2327645_gvb', '2327647_gvb', 15332),\n",
       " ('2308384_gvb', '2409641_gvb', 15082),\n",
       " ('96472_gvb', '96463_gvb', 18927),\n",
       " ('15628_gvb', '15514_gvb', 11722),\n",
       " ('14645_gvb', '2414765_gvb', 3183),\n",
       " ('15756_gvb', '1379038_gvb', 12488),\n",
       " ('14751_gvb', '1762154_gvb', 3751),\n",
       " ('14485_gvb', '2345158_gvb', 2153),\n",
       " ('14485_gvb', '2428024_gvb', 2172),\n",
       " ('2345164_gvb', '866106_gvb', 15730),\n",
       " ('15255_gvb', '15180_gvb', 7964),\n",
       " ('15255_gvb', '2308380_gvb', 7971),\n",
       " ('14777_gvb', '14354_gvb', 3891),\n",
       " ('15236_gvb', '14854_gvb', 7888),\n",
       " ('14908_gvb', '1689992_gvb', 4959),\n",
       " ('15112_gvb', '15109_gvb', 6511),\n",
       " ('1689986_gvb', '14659_gvb', 13728),\n",
       " ('408777_gvb', '15562_gvb', 17768),\n",
       " ('15266_gvb', '15256_gvb', 8107),\n",
       " ('15529_gvb', '15266_gvb', 10991),\n",
       " ('1537584_gvb', '14623_gvb', 9488),\n",
       " ('1537584_gvb', '15587_gvb', 9502),\n",
       " ('15129_gvb', '15777_gvb', 6575),\n",
       " ('1541495_gvb', '15661_gvb', 9993),\n",
       " ('15775_gvb', '1547427_gvb', 12557),\n",
       " ('96445_gvb', '96452_gvb', 18528),\n",
       " ('96434_gvb', '96451_gvb', 18460),\n",
       " ('2343483_gvb', '1522970_gvb', 15558),\n",
       " ('14930_gvb', '14931_gvb', 5186),\n",
       " ('15852_gvb', '14424_gvb', 13102),\n",
       " ('15285_gvb', '14832_gvb', 8358),\n",
       " ('2404463_gvb', '15756_gvb', 16273),\n",
       " ('15755_gvb', '15759_gvb', 12481),\n",
       " ('14998_gvb', '15453_gvb', 5592),\n",
       " ('15561_gvb', '1378358_gvb', 11246),\n",
       " ('15564_gvb', '15490_gvb', 11277),\n",
       " ('15624_gvb', '15738_gvb', 11691),\n",
       " ('2318357_gvb', '2345158_gvb', 15113),\n",
       " ('15827_gvb', '1379037_gvb', 13008),\n",
       " ('15231_gvb', '2396462_gvb', 7790),\n",
       " ('15016_gvb', '2298028_gvb', 5752),\n",
       " ('2316235_gvb', '322641_gvb', 15097),\n",
       " ('14761_gvb', '15807_gvb', 3806),\n",
       " ('1523001_gvb', '384756_gvb', 7588),\n",
       " ('15329_gvb', '1861776_gvb', 9085),\n",
       " ('652259_gvb', '15746_gvb', 18112),\n",
       " ('652259_gvb', '560639_gvb', 18122),\n",
       " ('15088_gvb', '15531_gvb', 6374),\n",
       " ('14996_gvb', '14542_gvb', 5577),\n",
       " ('15099_gvb', '560935_gvb', 6466),\n",
       " ('15019_gvb', '2423634_gvb', 5782),\n",
       " ('15019_gvb', '75252_gvb', 5805),\n",
       " ('15637_gvb', '15535_gvb', 11805),\n",
       " ('15637_gvb', '15642_gvb', 11817),\n",
       " ('1419759_gvb', '1379031_gvb', 1317),\n",
       " ('408779_gvb', '14743_gvb', 17784),\n",
       " ('408779_gvb', '15236_gvb', 17803),\n",
       " ('15906_gvb', '15905_gvb', 13389),\n",
       " ('103168_gvb', '1379025_gvb', 63),\n",
       " ('15853_gvb', '1523000_gvb', 13110),\n",
       " ('15098_gvb', '1522985_gvb', 6451),\n",
       " ('15098_gvb', '1525666_gvb', 6459),\n",
       " ('15201_gvb', '15203_gvb', 7140),\n",
       " ('15450_gvb', '15218_gvb', 10310),\n",
       " ('2409248_gvb', '15116_gvb', 16384),\n",
       " ('1378358_gvb', '1762156_gvb', 1146),\n",
       " ('1541494_gvb', '1530749_gvb', 9949),\n",
       " ('1480220_gvb', '1480222_gvb', 4013),\n",
       " ('1538655_gvb', '15293_gvb', 9604),\n",
       " ('14913_gvb', '1377846_gvb', 4993),\n",
       " ('14913_gvb', '2409623_gvb', 5009),\n",
       " ('15495_gvb', '15615_gvb', 10793),\n",
       " ('14512_gvb', '616042_gvb', 2464),\n",
       " ('14497_gvb', '14495_gvb', 2300),\n",
       " ('15369_gvb', '14373_gvb', 9311),\n",
       " ('15421_gvb', '15414_gvb', 10093),\n",
       " ('1522970_gvb', '15076_gvb', 7419),\n",
       " ('1522970_gvb', '1689990_gvb', 7434),\n",
       " ('14995_gvb', '556602_gvb', 5565),\n",
       " ('1762160_gvb', '14965_gvb', 14228),\n",
       " ('14429_gvb', '14523_gvb', 1854),\n",
       " ('14866_gvb', '14453_gvb', 4702),\n",
       " ('14746_gvb', '1501556_gvb', 3707),\n",
       " ('14746_gvb', '2341330_gvb', 3721),\n",
       " ('96430_gvb', '15846_gvb', 18374),\n",
       " ('15738_gvb', '15272_gvb', 12345),\n",
       " ('15180_gvb', '15184_gvb', 6961),\n",
       " ('15411_gvb', '1692122_gvb', 9895),\n",
       " ('2409627_gvb', '15540_gvb', 16500),\n",
       " ('1530736_gvb', '15784_gvb', 8762),\n",
       " ('1530736_gvb', '15785_gvb', 8788),\n",
       " ('86377_gvb', '1999086_gvb', 18337),\n",
       " ('1540145_gvb', '1540146_gvb', 9851),\n",
       " ('103902_gvb', '15669_gvb', 510),\n",
       " ('2409642_gvb', '14629_gvb', 16599),\n",
       " ('15342_gvb', '15876_gvb', 9129),\n",
       " ('96479_gvb', '96481_gvb', 19036),\n",
       " ('2415928_gvb', '1480231_gvb', 16634),\n",
       " ('15040_gvb', '1377869_gvb', 5908),\n",
       " ('2066922_gvb', '14800_gvb', 14694),\n",
       " ('15222_gvb', '15220_gvb', 7357),\n",
       " ('15135_gvb', '15469_gvb', 6639),\n",
       " ('15847_gvb', '96431_gvb', 13064),\n",
       " ('1544358_gvb', '15461_gvb', 10261),\n",
       " ('15781_gvb', '15779_gvb', 12655),\n",
       " ('15781_gvb', '15784_gvb', 12669),\n",
       " ('1401154_gvb', '14490_gvb', 1289),\n",
       " ('15224_gvb', '103898_gvb', 7395),\n",
       " ('103170_gvb', '15032_gvb', 104),\n",
       " ('1217971_gvb', '1535328_gvb', 724),\n",
       " ('1217971_gvb', '640284_gvb', 736),\n",
       " ('14721_gvb', '14374_gvb', 3613),\n",
       " ('1522985_gvb', '327334_gvb', 7509),\n",
       " ('2257993_gvb', '15217_gvb', 14916),\n",
       " ('15115_gvb', '15692_gvb', 6522),\n",
       " ('96433_gvb', '14852_gvb', 18440),\n",
       " ('14978_gvb', '15588_gvb', 5523),\n",
       " ('14966_gvb', '15068_gvb', 5457),\n",
       " ('14966_gvb', '15191_gvb', 5468),\n",
       " ('14857_gvb', '1692124_gvb', 4659),\n",
       " ('1480233_gvb', '1480221_gvb', 4170),\n",
       " ('14503_gvb', '14543_gvb', 2346),\n",
       " ('14929_gvb', '14802_gvb', 5163),\n",
       " ('15269_gvb', '15224_gvb', 8136),\n",
       " ('1535328_gvb', '14915_gvb', 9253),\n",
       " ('1535328_gvb', '15825_gvb', 9264),\n",
       " ('1523016_gvb', '103896_gvb', 7759),\n",
       " ('2403067_gvb', '15326_gvb', 16081),\n",
       " ('1541625_gvb', '1541624_gvb', 10057),\n",
       " ('327331_gvb', '1522994_gvb', 17549),\n",
       " ('14447_gvb', '14448_gvb', 1892),\n",
       " ('15446_gvb', '15452_gvb', 10287),\n",
       " ('224271_gvb', '14453_gvb', 14770),\n",
       " ('224271_gvb', '15713_gvb', 14784),\n",
       " ('15055_gvb', '14923_gvb', 6035),\n",
       " ('207054_gvb', '15254_gvb', 14728),\n",
       " ('207054_gvb', '1762155_gvb', 14743),\n",
       " ('1301867_gvb', '1529034_gvb', 796),\n",
       " ('14506_gvb', '2345164_gvb', 2356),\n",
       " ('15128_gvb', '2262214_gvb', 6555),\n",
       " ('1540142_gvb', '322607_gvb', 9844),\n",
       " ('15917_gvb', '15582_gvb', 13415),\n",
       " ('103185_gvb', '1997285_gvb', 203),\n",
       " ('15045_gvb', '1377843_gvb', 5951),\n",
       " ('15045_gvb', '2404449_gvb', 5959),\n",
       " ('322603_gvb', '103868_gvb', 17360),\n",
       " ('96449_gvb', '96447_gvb', 18573),\n",
       " ('103894_gvb', '15516_gvb', 482),\n",
       " ('15839_gvb', '15838_gvb', 13031),\n",
       " ('2431310_gvb', '652259_gvb', 17276),\n",
       " ('15424_gvb', '15418_gvb', 10129),\n",
       " ('2404462_gvb', '15078_gvb', 16266),\n",
       " ('15737_gvb', '15607_gvb', 12319),\n",
       " ('15737_gvb', '15623_gvb', 12329),\n",
       " ('14616_gvb', '96454_gvb', 2924),\n",
       " ('1655499_gvb', '14873_gvb', 13492),\n",
       " ('15234_gvb', '408780_gvb', 7869),\n",
       " ('165055_gvb', '165054_gvb', 13486),\n",
       " ('15153_gvb', '1401154_gvb', 6798),\n",
       " ('15153_gvb', '1419757_gvb', 6808),\n",
       " ('15153_gvb', '1421073_gvb', 6822),\n",
       " ('14911_gvb', '616043_gvb', 4970),\n",
       " ('14832_gvb', '14833_gvb', 4464),\n",
       " ('14832_gvb', '1689991_gvb', 4475),\n",
       " ('2262944_gvb', '15324_gvb', 14987),\n",
       " ('15470_gvb', '15877_gvb', 10549),\n",
       " ('411172_gvb', '1535314_gvb', 17893),\n",
       " ('15295_gvb', '15687_gvb', 8582),\n",
       " ('1690103_gvb', '15663_gvb', 13852),\n",
       " ('15514_gvb', '15616_gvb', 10957),\n",
       " ('15151_gvb', '15150_gvb', 6774),\n",
       " ('103933_gvb', '2409226_gvb', 670),\n",
       " ('14700_gvb', '14795_gvb', 3421),\n",
       " ('96453_gvb', '14617_gvb', 18617),\n",
       " ('15467_gvb', '1544358_gvb', 10480),\n",
       " ('15467_gvb', '1548224_gvb', 10491),\n",
       " ('322606_gvb', '1997271_gvb', 17390),\n",
       " ('1997289_gvb', '2254828_gvb', 14495),\n",
       " ('15044_gvb', '1999087_gvb', 5931),\n",
       " ('14969_gvb', '2371745_gvb', 5490),\n",
       " ('14816_gvb', '15176_gvb', 4384),\n",
       " ('14533_gvb', '1523002_gvb', 2591),\n",
       " ('14533_gvb', '1528380_gvb', 2609),\n",
       " ('14644_gvb', '1522971_gvb', 3172),\n",
       " ('14915_gvb', '2403068_gvb', 5041),\n",
       " ('1689990_gvb', '1377842_gvb', 13784),\n",
       " ('14707_gvb', '1377845_gvb', 3553),\n",
       " ('15505_gvb', '14934_gvb', 10852),\n",
       " ('14572_gvb', '103872_gvb', 2707),\n",
       " ('14572_gvb', '1762161_gvb', 2717),\n",
       " ('2327655_gvb', '2327656_gvb', 15452),\n",
       " ('15176_gvb', '14625_gvb', 6931),\n",
       " ('14941_gvb', '14943_gvb', 5315),\n",
       " ('15510_gvb', '506849_gvb', 10906),\n",
       " ('1861776_gvb', '15632_gvb', 14288),\n",
       " ('103173_gvb', '14512_gvb', 158),\n",
       " ('14384_gvb', '15597_gvb', 1612),\n",
       " ('15034_gvb', '14794_gvb', 5885),\n",
       " ('408721_gvb', '322598_gvb', 17737),\n",
       " ('15076_gvb', '15412_gvb', 6282),\n",
       " ('15461_gvb', '14753_gvb', 10380),\n",
       " ('15461_gvb', '14879_gvb', 10405),\n",
       " ('2423634_gvb', '14900_gvb', 16977),\n",
       " ('2423634_gvb', '2423754_gvb', 16988),\n",
       " ('14715_gvb', '1690103_gvb', 3599),\n",
       " ('640284_gvb', '103176_gvb', 18053),\n",
       " ('640284_gvb', '1240728_gvb', 18065),\n",
       " ('640284_gvb', '2403067_gvb', 18078),\n",
       " ('14660_gvb', '1535321_gvb', 3285),\n",
       " ('15896_gvb', '322626_gvb', 13354),\n",
       " ('1522981_gvb', '14630_gvb', 7469),\n",
       " ('15195_gvb', '15197_gvb', 7083),\n",
       " ('14835_gvb', '15636_gvb', 4494),\n",
       " ('1690104_gvb', '15284_gvb', 13859),\n",
       " ('1690104_gvb', '1530852_gvb', 13867),\n",
       " ('14869_gvb', '1762159_gvb', 4728),\n",
       " ('14606_gvb', '14359_gvb', 2876),\n",
       " ('15872_gvb', '15493_gvb', 13221),\n",
       " ('15264_gvb', '2428023_gvb', 8078),\n",
       " ('15430_gvb', '2428114_gvb', 10169),\n",
       " ('14488_gvb', '15569_gvb', 2203),\n",
       " ('1997286_gvb', '1997284_gvb', 14436),\n",
       " ('15192_gvb', '14969_gvb', 7061),\n",
       " ('15192_gvb', '15068_gvb', 7072),\n",
       " ('96481_gvb', '96450_gvb', 19081),\n",
       " ('96481_gvb', '96473_gvb', 19092),\n",
       " ('15699_gvb', '15828_gvb', 12167),\n",
       " ('15422_gvb', '15412_gvb', 10104),\n",
       " ('15759_gvb', '15422_gvb', 12511),\n",
       " ('1547432_gvb', '74363_gvb', 10632),\n",
       " ('14453_gvb', '14746_gvb', 1966),\n",
       " ('14922_gvb', '15056_gvb', 5064),\n",
       " ('2345162_gvb', '15624_gvb', 15699),\n",
       " ('1377841_gvb', '1530738_gvb', 863),\n",
       " ('1690100_gvb', '15852_gvb', 13837),\n",
       " ('15081_gvb', '322624_gvb', 6316),\n",
       " ('14674_gvb', '14567_gvb', 3336),\n",
       " ('1301869_gvb', '1301874_gvb', 808),\n",
       " ('15130_gvb', '15131_gvb', 6586),\n",
       " ('15900_gvb', '15815_gvb', 13366),\n",
       " ('15900_gvb', '1692117_gvb', 13373),\n",
       " ('2066186_gvb', '2409642_gvb', 14680),\n",
       " ('14415_gvb', '15175_gvb', 1721),\n",
       " ('14415_gvb', '1689906_gvb', 1734),\n",
       " ('15313_gvb', '15211_gvb', 8969),\n",
       " ('15313_gvb', '2254824_gvb', 8977),\n",
       " ('15642_gvb', '237981_gvb', 11873),\n",
       " ('1480230_gvb', '1480232_gvb', 4123),\n",
       " ('1377853_gvb', '506848_gvb', 989),\n",
       " ('15152_gvb', '15265_gvb', 6787),\n",
       " ('15760_gvb', '2404463_gvb', 12518),\n",
       " ('15202_gvb', '1377870_gvb', 7151),\n",
       " ('15196_gvb', '14835_gvb', 7094),\n",
       " ('14933_gvb', '15503_gvb', 5221),\n",
       " ('14933_gvb', '15640_gvb', 5228),\n",
       " ('1522988_gvb', '14875_gvb', 7529),\n",
       " ('1528998_gvb', '15470_gvb', 8404),\n",
       " ('1528998_gvb', '15885_gvb', 8419),\n",
       " ('15051_gvb', '15827_gvb', 5993),\n",
       " ('15272_gvb', '103905_gvb', 8181),\n",
       " ('15272_gvb', '14692_gvb', 8197),\n",
       " ('14617_gvb', '15717_gvb', 2945),\n",
       " ('15706_gvb', '1529002_gvb', 12179),\n",
       " ('15126_gvb', '14901_gvb', 6544),\n",
       " ('15161_gvb', '15258_gvb', 6884),\n",
       " ('2343486_gvb', '1762006_gvb', 15588),\n",
       " ('14809_gvb', '14933_gvb', 4261),\n",
       " ('14808_gvb', '14811_gvb', 4237),\n",
       " ('14483_gvb', '2345158_gvb', 2138),\n",
       " ('2345163_gvb', '14961_gvb', 15715),\n",
       " ('15061_gvb', '15188_gvb', 6084),\n",
       " ('1540138_gvb', '2409225_gvb', 9833),\n",
       " ('14454_gvb', '1528997_gvb', 1996),\n",
       " ('15608_gvb', '15611_gvb', 11551),\n",
       " ('96478_gvb', '15143_gvb', 19014),\n",
       " ('96480_gvb', '96478_gvb', 19058),\n",
       " ('96446_gvb', '96448_gvb', 18539),\n",
       " ('96447_gvb', '15355_gvb', 18551),\n",
       " ('1538654_gvb', '322620_gvb', 9585),\n",
       " ('2409623_gvb', '1240727_gvb', 16468),\n",
       " ('2409623_gvb', '14703_gvb', 16487),\n",
       " ('15739_gvb', '15387_gvb', 12373),\n",
       " ('15838_gvb', '652270_gvb', 13020),\n",
       " ('15368_gvb', '103161_gvb', 9299),\n",
       " ('1530738_gvb', '14409_gvb', 8800),\n",
       " ('15090_gvb', '15531_gvb', 6409),\n",
       " ('1523000_gvb', '1690101_gvb', 7580),\n",
       " ('14655_gvb', '15704_gvb', 3234),\n",
       " ('14874_gvb', '1961658_gvb', 4799),\n",
       " ('14677_gvb', '15044_gvb', 3352),\n",
       " ('15806_gvb', '15916_gvb', 12901),\n",
       " ('15211_gvb', '15662_gvb', 7210),\n",
       " ('1538646_gvb', '1538653_gvb', 9548),\n",
       " ('1538646_gvb', '1538655_gvb', 9555),\n",
       " ('2409628_gvb', '14838_gvb', 16510),\n",
       " ('1689984_gvb', '14635_gvb', 13686),\n",
       " ('14621_gvb', '14628_gvb', 2982),\n",
       " ('2323541_ns', '2323198_ns', 15294),\n",
       " ('1529034_gvb', '1301869_gvb', 8479),\n",
       " ('1529034_gvb', '14393_gvb', 8490),\n",
       " ('866106_gvb', '322605_gvb', 18349),\n",
       " ('14927_gvb', '1377867_gvb', 5139),\n",
       " ('14495_gvb', '14493_gvb', 2277),\n",
       " ('1689988_gvb', '652253_gvb', 13773),\n",
       " ('14938_gvb', '14935_gvb', 5291),\n",
       " ('14871_gvb', '14869_gvb', 4751),\n",
       " ('1377866_gvb', '15469_gvb', 1020),\n",
       " ('1762156_gvb', '14748_gvb', 14166),\n",
       " ('15489_gvb', '15488_gvb', 10733),\n",
       " ('15064_gvb', '2409628_gvb', 6108),\n",
       " ('14945_gvb', '2066186_gvb', 5359),\n",
       " ('322612_gvb', '2316235_gvb', 17421),\n",
       " ('15534_gvb', '15774_gvb', 11089),\n",
       " ('15534_gvb', '1689910_gvb', 11100),\n",
       " ('14716_gvb', '14414_gvb', 3606),\n",
       " ('1480227_gvb', '2415928_gvb', 4092),\n",
       " ('15041_gvb', '15182_gvb', 5920),\n",
       " ('15861_gvb', '1693304_gvb', 13194),\n",
       " ('15304_gvb', '15303_gvb', 8704),\n",
       " ('15219_gvb', '15221_gvb', 7277),\n",
       " ('2032008_gvb', '2428112_gvb', 14574),\n",
       " ('96455_gvb', '96453_gvb', 18659),\n",
       " ('15423_gvb', '15850_gvb', 10111),\n",
       " ('2298028_gvb', '103185_gvb', 15028),\n",
       " ('2327647_gvb', '2327648_gvb', 15347),\n",
       " ('2254824_gvb', '1689898_gvb', 14822),\n",
       " ('15774_gvb', '103923_gvb', 12533),\n",
       " ('2409254_gvb', '14969_gvb', 16408),\n",
       " ('2409254_gvb', '15069_gvb', 16420),\n",
       " ('2409254_gvb', '15191_gvb', 16433),\n",
       " ('237983_gvb', '2308384_gvb', 15880),\n",
       " ('103895_gvb', '103864_gvb', 486),\n",
       " ('103850_gvb', '103169_gvb', 232),\n",
       " ('15635_gvb', '15195_gvb', 11767),\n",
       " ('15635_gvb', '15710_gvb', 11779),\n",
       " ('14359_gvb', '103852_gvb', 1441),\n",
       " ('15816_gvb', '14458_gvb', 12937),\n",
       " ('15816_gvb', '75251_gvb', 12948),\n",
       " ('14357_gvb', '14355_gvb', 1394),\n",
       " ('103925_gvb', '15637_gvb', 614),\n",
       " ('103925_gvb', '15682_gvb', 640),\n",
       " ('14628_gvb', '2409639_gvb', 3052),\n",
       " ('15156_gvb', '14929_gvb', 6849),\n",
       " ('15197_gvb', '15199_gvb', 7106),\n",
       " ('1379602_gvb', '14673_gvb', 1273),\n",
       " ('15185_gvb', '15181_gvb', 7006),\n",
       " ('1997285_gvb', '2032208_gvb', 14407),\n",
       " ('103903_gvb', '15535_gvb', 521),\n",
       " ('15663_gvb', '2175499_gvb', 11946),\n",
       " ('14854_gvb', '14856_gvb', 4624),\n",
       " ('1538652_gvb', '14400_gvb', 9566),\n",
       " ('14703_gvb', '1377847_gvb', 3477),\n",
       " ('14703_gvb', '2409254_gvb', 3493),\n",
       " ('15491_gvb', '15495_gvb', 10755),\n",
       " ('15491_gvb', '15502_gvb', 10767),\n",
       " ('14427_gvb', '15413_gvb', 1830),\n",
       " ('14730_gvb', '15284_gvb', 3635),\n",
       " ('15108_gvb', '15112_gvb', 6488),\n",
       " ('2031495_gvb', '15782_gvb', 14567),\n",
       " ('14666_gvb', '14665_gvb', 3312),\n",
       " ('103883_gvb', '14799_gvb', 422),\n",
       " ('15252_gvb', '15264_gvb', 7929),\n",
       " ('15082_gvb', '15252_gvb', 6332),\n",
       " ('15300_gvb', '1537582_gvb', 8638),\n",
       " ('14901_gvb', '2423635_gvb', 4948),\n",
       " ('15258_gvb', '15260_gvb', 8036),\n",
       " ('15807_gvb', '15916_gvb', 12912),\n",
       " ('14954_gvb', '14956_gvb', 5408),\n",
       " ('1689903_gvb', '1689907_gvb', 13612),\n",
       " ('96451_gvb', '96444_gvb', 18596),\n",
       " ('389234_gvb', '384759_gvb', 17693),\n",
       " ('14702_gvb', '2409254_gvb', 3454),\n",
       " ('2066924_gvb', '14920_gvb', 14716),\n",
       " ('1523015_gvb', '1522985_gvb', 7732),\n",
       " ('1523015_gvb', '1541106_gvb', 7744),\n",
       " ('15878_gvb', '14556_gvb', 13294),\n",
       " ('15795_gvb', '15798_gvb', 12852),\n",
       " ('15597_gvb', '14721_gvb', 11487),\n",
       " ('322631_gvb', '15657_gvb', 17514),\n",
       " ('14936_gvb', '14937_gvb', 5275),\n",
       " ('1378360_gvb', '1535319_gvb', 1177),\n",
       " ('1528375_gvb', '1528384_gvb', 8283),\n",
       " ('15587_gvb', '1538696_gvb', 11449),\n",
       " ('15210_gvb', '14873_gvb', 7187),\n",
       " ('15355_gvb', '96445_gvb', 9288),\n",
       " ('1480232_gvb', '1480227_gvb', 4155),\n",
       " ('1480232_gvb', '1480228_gvb', 4162),\n",
       " ('14543_gvb', '15153_gvb', 2636),\n",
       " ('1379025_gvb', '384755_gvb', 1189),\n",
       " ('14412_gvb', '1530743_gvb', 1672),\n",
       " ('14704_gvb', '14709_gvb', 3506),\n",
       " ('14812_gvb', '1377848_gvb', 4307),\n",
       " ('14734_gvb', '15634_gvb', 3646),\n",
       " ('1689901_gvb', '1528363_gvb', 13592),\n",
       " ('14868_gvb', '14871_gvb', 4717),\n",
       " ('2307955_gvb', '74362_gvb', 15057),\n",
       " ('14567_gvb', '224266_gvb', 2699),\n",
       " ('2428114_gvb', '1538654_gvb', 17227),\n",
       " ('15254_gvb', '15259_gvb', 7948),\n",
       " ('2404451_gvb', '2404452_gvb', 16162),\n",
       " ('1528374_gvb', '14421_gvb', 8273),\n",
       " ('96444_gvb', '15354_gvb', 18516),\n",
       " ('15579_gvb', '96470_gvb', 11406),\n",
       " ('1480229_gvb', '1480234_gvb', 4107),\n",
       " ('1538697_gvb', '15293_gvb', 9646),\n",
       " ('14493_gvb', '652252_gvb', 2253),\n",
       " ('652253_gvb', '14494_gvb', 18101),\n",
       " ('15323_gvb', '2409256_gvb', 9025),\n",
       " ('2409652_gvb', '14851_gvb', 16614),\n",
       " ('15191_gvb', '14930_gvb', 7038),\n",
       " ('15191_gvb', '15169_gvb', 7050),\n",
       " ('1655500_gvb', '15276_gvb', 13507),\n",
       " ('616043_gvb', '14378_gvb', 18042),\n",
       " ('1693304_gvb', '15090_gvb', 14019),\n",
       " ('1693304_gvb', '15854_gvb', 14031),\n",
       " ('2429587_gvb', '2429588_gvb', 17253),\n",
       " ('1997284_gvb', '2298027_gvb', 14377),\n",
       " ('2032208_gvb', '2254829_gvb', 14591),\n",
       " ('1689907_gvb', '2254826_gvb', 13655),\n",
       " ('14498_gvb', '103856_gvb', 2312),\n",
       " ('15854_gvb', '322640_gvb', 13118),\n",
       " ('322625_gvb', '15520_gvb', 17463),\n",
       " ('15089_gvb', '1690100_gvb', 6389),\n",
       " ('15089_gvb', '1693304_gvb', 6397),\n",
       " ('14935_gvb', '14940_gvb', 5267),\n",
       " ('1377873_gvb', '14432_gvb', 1098),\n",
       " ('103858_gvb', '14429_gvb', 330),\n",
       " ('15687_gvb', '14451_gvb', 12049),\n",
       " ('15687_gvb', '1689901_gvb', 12064),\n",
       " ('15687_gvb', '2409248_gvb', 12074),\n",
       " ('1501556_gvb', '1525671_gvb', 5738),\n",
       " ('15588_gvb', '15608_gvb', 11480),\n",
       " ('2318364_gvb', '2318357_gvb', 15140),\n",
       " ('506844_gvb', '15814_gvb', 17922),\n",
       " ('1692117_gvb', '1547425_gvb', 13896),\n",
       " ('2298027_gvb', '2404458_gvb', 14997),\n",
       " ('14952_gvb', '14954_gvb', 5388),\n",
       " ('1377847_gvb', '15069_gvb', 949),\n",
       " ('322604_gvb', '384758_gvb', 17375),\n",
       " ('15873_gvb', '15341_gvb', 13231),\n",
       " ('14855_gvb', '14853_gvb', 4636),\n",
       " ('96435_gvb', '15140_gvb', 18466),\n",
       " ('14582_gvb', '14579_gvb', 2785),\n",
       " ('14794_gvb', '1523004_gvb', 3956),\n",
       " ('14753_gvb', '1762158_gvb', 3781),\n",
       " ('224272_gvb', '1378344_gvb', 14799),\n",
       " ('15391_gvb', '408781_gvb', 9781),\n",
       " ('15540_gvb', '103903_gvb', 11169),\n",
       " ('15337_gvb', '1528374_gvb', 9100),\n",
       " ('14490_gvb', '14502_gvb', 2214),\n",
       " ('14490_gvb', '15157_gvb', 2225),\n",
       " ('14490_gvb', '15697_gvb', 2237),\n",
       " ('103898_gvb', '103172_gvb', 494),\n",
       " ('15386_gvb', '1217971_gvb', 9705),\n",
       " ('14374_gvb', '15368_gvb', 1563),\n",
       " ('15286_gvb', '14612_gvb', 8369),\n",
       " ('1377839_gvb', '14832_gvb', 855),\n",
       " ('2428024_gvb', '14449_gvb', 17171),\n",
       " ('15186_gvb', '1689909_gvb', 7015),\n",
       " ('15237_gvb', '401224_gvb', 7900),\n",
       " ('237988_gvb', '15694_gvb', 15909),\n",
       " ('96436_gvb', '96451_gvb', 18489),\n",
       " ('15157_gvb', '14499_gvb', 6872),\n",
       " ('14595_gvb', '103172_gvb', 2864),\n",
       " ('1377842_gvb', '14730_gvb', 878),\n",
       " ('14814_gvb', '14704_gvb', 4353),\n",
       " ('1377845_gvb', '15744_gvb', 898),\n",
       " ('14448_gvb', '14445_gvb', 1896),\n",
       " ('15449_gvb', '2257993_gvb', 10299),\n",
       " ('15014_gvb', '14752_gvb', 5715),\n",
       " ('15014_gvb', '15453_gvb', 5728),\n",
       " ('2427511_gvb', '15300_gvb', 17127),\n",
       " ('15683_gvb', '1762005_gvb', 12038),\n",
       " ('15679_gvb', '15683_gvb', 12006),\n",
       " ('1480225_gvb', '2415929_gvb', 4076),\n",
       " ('433778_gvb', '14946_gvb', 17908),\n",
       " ('1692119_gvb', '1692120_gvb', 13927),\n",
       " ('96470_gvb', '14766_gvb', 18862),\n",
       " ('2393390_gvb', '15425_gvb', 15988),\n",
       " ('15889_gvb', '1379603_gvb', 13321),\n",
       " ('15560_gvb', '14879_gvb', 11230),\n",
       " ('14361_gvb', '15569_gvb', 1516),\n",
       " ('2345161_gvb', '14484_gvb', 15658),\n",
       " ('2345161_gvb', '14606_gvb', 15666),\n",
       " ('2345161_gvb', '2318362_gvb', 15685),\n",
       " ('1692122_gvb', '15391_gvb', 13969),\n",
       " ('96454_gvb', '96456_gvb', 18639),\n",
       " ('15785_gvb', '15783_gvb', 12783),\n",
       " ('15020_gvb', '1537010_gvb', 5815),\n",
       " ('15020_gvb', '2423634_gvb', 5826),\n",
       " ('15182_gvb', '103169_gvb', 6976),\n",
       " ('560638_gvb', '652270_gvb', 18003),\n",
       " ('15661_gvb', '1530734_gvb', 11898),\n",
       " ('15661_gvb', '1530736_gvb', 11915),\n",
       " ('1547425_gvb', '1547426_gvb', 10565),\n",
       " ('1689898_gvb', '2254825_gvb', 13569),\n",
       " ('1689909_gvb', '14635_gvb', 13666),\n",
       " ('1480223_gvb', '1480230_gvb', 4060),\n",
       " ('1538653_gvb', '14400_gvb', 9577),\n",
       " ('1480639_gvb', '881351_gvb', 4224),\n",
       " ('14932_gvb', '15192_gvb', 5209),\n",
       " ('652266_gvb', '15386_gvb', 18133),\n",
       " ('15828_gvb', '103172_gvb', 13016),\n",
       " ('384757_gvb', '389234_gvb', 17650),\n",
       " ('15199_gvb', '15201_gvb', 7129),\n",
       " ('15483_gvb', '506851_gvb', 10706),\n",
       " ('15324_gvb', '14837_gvb', 9037),\n",
       " ('14657_gvb', '2409229_gvb', 3238),\n",
       " ('2409229_gvb', '15804_gvb', 16325),\n",
       " ('14965_gvb', '14870_gvb', 5445),\n",
       " ('14964_gvb', '14654_gvb', 5441),\n",
       " ('15609_gvb', '15603_gvb', 11558),\n",
       " ('15431_gvb', '15300_gvb', 10188),\n",
       " ('15784_gvb', '15925_gvb', 12738),\n",
       " ('2327649_gvb', '2327650_gvb', 15379),\n",
       " ('1528380_gvb', '2403071_gvb', 8305),\n",
       " ('96457_gvb', '15579_gvb', 18701),\n",
       " ('96457_gvb', '15806_gvb', 18712),\n",
       " ('14579_gvb', '14480_gvb', 2728),\n",
       " ('14579_gvb', '15097_gvb', 2758),\n",
       " ('14579_gvb', '1522971_gvb', 2773),\n",
       " ('15799_gvb', '15889_gvb', 12882),\n",
       " ('14748_gvb', '15792_gvb', 3736),\n",
       " ('1379032_gvb', '14557_gvb', 1227),\n",
       " ('2345166_gvb', '2318364_gvb', 15743),\n",
       " ('15779_gvb', '1530734_gvb', 12587),\n",
       " ('15779_gvb', '2262214_gvb', 12600),\n",
       " ('103923_gvb', '14784_gvb', 573),\n",
       " ('14956_gvb', '15542_gvb', 5428),\n",
       " ('1530749_gvb', '103925_gvb', 8830),\n",
       " ('15063_gvb', '15069_gvb', 6098),\n",
       " ('15109_gvb', '15214_gvb', 6499),\n",
       " ('15274_gvb', '15273_gvb', 8231),\n",
       " ('15497_gvb', '14693_gvb', 10805),\n",
       " ('15497_gvb', '745048_gvb', 10814),\n",
       " ('2254826_gvb', '1689905_gvb', 14844),\n",
       " ('14838_gvb', '14841_gvb', 4515),\n",
       " ('1547427_gvb', '15900_gvb', 10601),\n",
       " ('1480222_gvb', '1480223_gvb', 4045),\n",
       " ('14502_gvb', '1523004_gvb', 2335),\n",
       " ('15678_gvb', '14927_gvb', 11995),\n",
       " ('652267_gvb', '15269_gvb', 18170),\n",
       " ('652267_gvb', '15639_gvb', 18181),\n",
       " ('103172_gvb', '103166_gvb', 128),\n",
       " ('103172_gvb', '103850_gvb', 132),\n",
       " ('103172_gvb', '103874_gvb', 144),\n",
       " ('103172_gvb', '2403070_gvb', 147),\n",
       " ('384756_gvb', '15750_gvb', 17636),\n",
       " ('15671_gvb', '408721_gvb', 11965),\n",
       " ('14612_gvb', '15202_gvb', 2913),\n",
       " ('14815_gvb', '14812_gvb', 4368),\n",
       " ('15316_gvb', '2409249_gvb', 8988),\n",
       " ('14851_gvb', '96432_gvb', 4572),\n",
       " ('15012_gvb', '15014_gvb', 5663),\n",
       " ('14972_gvb', '15185_gvb', 5514),\n",
       " ('14400_gvb', '15313_gvb', 1630),\n",
       " ('15662_gvb', '1693305_gvb', 11938),\n",
       " ('14418_gvb', '1537009_gvb', 1764),\n",
       " ('1480234_gvb', '1480233_gvb', 4186),\n",
       " ('14800_gvb', '15678_gvb', 4002),\n",
       " ('14912_gvb', '1657408_gvb', 4981),\n",
       " ('15710_gvb', '1377839_gvb', 12216),\n",
       " ('1689900_gvb', '15692_gvb', 13580),\n",
       " ('1523005_gvb', '15466_gvb', 7667),\n",
       " ('15259_gvb', '15155_gvb', 8049),\n",
       " ('15718_gvb', '506844_gvb', 12307),\n",
       " ('15874_gvb', '14481_gvb', 13242),\n",
       " ('15516_gvb', '15699_gvb', 10968),\n",
       " ('560639_gvb', '15170_gvb', 18013),\n",
       " ('14423_gvb', '15853_gvb', 1784),\n",
       " ('14423_gvb', '15858_gvb', 1792),\n",
       " ('15482_gvb', '14452_gvb', 10690),\n",
       " ('1535306_gvb', '2032008_gvb', 9144),\n",
       " ('15469_gvb', '103884_gvb', 10510),\n",
       " ('15469_gvb', '1136391_gvb', 10539),\n",
       " ('15294_gvb', '1538652_gvb', 8545),\n",
       " ('15294_gvb', '1538697_gvb', 8556),\n",
       " ('15294_gvb', '1538699_gvb', 8571),\n",
       " ('15293_gvb', '15295_gvb', 8508),\n",
       " ('2404455_gvb', '1535324_gvb', 16195),\n",
       " ('14840_gvb', '14842_gvb', 4526),\n",
       " ('1692120_gvb', '2409238_gvb', 13948),\n",
       " ('1692120_gvb', '401224_gvb', 13958),\n",
       " ('1535324_gvb', '1537009_gvb', 9243),\n",
       " ('1379031_gvb', '408779_gvb', 1219),\n",
       " ('1480231_gvb', '1480229_gvb', 4139),\n",
       " ('14798_gvb', '15476_gvb', 3984),\n",
       " ('103169_gvb', '15268_gvb', 78),\n",
       " ('103169_gvb', '15510_gvb', 90),\n",
       " ('15169_gvb', '560638_gvb', 6897),\n",
       " ('15657_gvb', '14911_gvb', 11887),\n",
       " ('322640_gvb', '408722_gvb', 17526),\n",
       " ('1379038_gvb', '15079_gvb', 1242),\n",
       " ('2343482_gvb', '2343483_gvb', 15542),\n",
       " ('2257994_gvb', '15450_gvb', 14928),\n",
       " ('14981_gvb', '14433_gvb', 5550),\n",
       " ('15492_gvb', '14979_gvb', 10771),\n",
       " ('1538696_gvb', '15541_gvb', 9615),\n",
       " ('1538696_gvb', '2404454_gvb', 9635),\n",
       " ('15021_gvb', '1537010_gvb', 5840),\n",
       " ('15021_gvb', '75252_gvb', 5861),\n",
       " ('15537_gvb', '14644_gvb', 11157),\n",
       " ('14841_gvb', '15534_gvb', 4536),\n",
       " ('14740_gvb', '14744_gvb', 3654),\n",
       " ('14853_gvb', '15237_gvb', 4613),\n",
       " ('96473_gvb', '96480_gvb', 18958),\n",
       " ('96463_gvb', '14765_gvb', 18735),\n",
       " ('14766_gvb', '96464_gvb', 3859),\n",
       " ('14480_gvb', '103923_gvb', 2069),\n",
       " ('14480_gvb', '15875_gvb', 2087),\n",
       " ('14920_gvb', '14660_gvb', 5052),\n",
       " ('1377869_gvb', '1861776_gvb', 1068),\n",
       " ('15605_gvb', '14543_gvb', 11527),\n",
       " ('15414_gvb', '15521_gvb', 10034),\n",
       " ('14706_gvb', '14705_gvb', 3537),\n",
       " ('14979_gvb', '14876_gvb', 5530),\n",
       " ('15462_gvb', '15781_gvb', 10417),\n",
       " ('1762006_gvb', '15816_gvb', 14081),\n",
       " ('15071_gvb', '15207_gvb', 6245),\n",
       " ('15071_gvb', '1655500_gvb', 6267),\n",
       " ('1690101_gvb', '15090_gvb', 13844),\n",
       " ('1541106_gvb', '1523014_gvb', 9879),\n",
       " ('408781_gvb', '103880_gvb', 17824),\n",
       " ('1537582_gvb', '14510_gvb', 9431),\n",
       " ('15233_gvb', '15231_gvb', 7842),\n",
       " ('2396461_gvb', '15230_gvb', 16028),\n",
       " ('14860_gvb', '15679_gvb', 4670),\n",
       " ('1928474_gvb', '14894_gvb', 14331),\n",
       " ('103162_gvb', '15183_gvb', 12),\n",
       " ('14826_gvb', '15826_gvb', 4452),\n",
       " ('616042_gvb', '14912_gvb', 18031),\n",
       " ('15476_gvb', '1657408_gvb', 10645),\n",
       " ('15856_gvb', '14631_gvb', 13134),\n",
       " ('14710_gvb', '14706_gvb', 3583),\n",
       " ('14709_gvb', '14707_gvb', 3568),\n",
       " ('15215_gvb', '15108_gvb', 7230),\n",
       " ('14963_gvb', '15302_gvb', 5438),\n",
       " ('1528384_gvb', '14456_gvb', 8317),\n",
       " ('2345168_gvb', '2318651_gvb', 15756),\n",
       " ('15603_gvb', '14972_gvb', 11518),\n",
       " ('14394_gvb', '1301869_gvb', 1623),\n",
       " ('14355_gvb', '14572_gvb', 1373),\n",
       " ('2423753_gvb', '15161_gvb', 17049),\n",
       " ('2423753_gvb', '2423635_gvb', 17062),\n",
       " ('14632_gvb', '14516_gvb', 3110),\n",
       " ('14632_gvb', '14715_gvb', 3122),\n",
       " ('15682_gvb', '14481_gvb', 12018),\n",
       " ('1689902_gvb', '330892_gvb', 13602),\n",
       " ('2409641_gvb', '14941_gvb', 16584),\n",
       " ('237979_gvb', '103890_gvb', 15835),\n",
       " ('14820_gvb', '14816_gvb', 4412),\n",
       " ('1419757_gvb', '14490_gvb', 1301),\n",
       " ('14743_gvb', '14741_gvb', 3670),\n",
       " ('14743_gvb', '1692118_gvb', 3678),\n",
       " ('2409238_gvb', '15235_gvb', 16363),\n",
       " ('15140_gvb', '96477_gvb', 6693),\n",
       " ('327333_gvb', '1522966_gvb', 17567),\n",
       " ('327333_gvb', '319992_gvb', 17572),\n",
       " ('14852_gvb', '14849_gvb', 4594),\n",
       " ('14852_gvb', '2409652_gvb', 4601),\n",
       " ('14555_gvb', '14655_gvb', 2672),\n",
       " ('2327656_gvb', '2404459_gvb', 15465),\n",
       " ('2409640_gvb', '237983_gvb', 16570),\n",
       " ('2428023_gvb', '14450_gvb', 17153),\n",
       " ('14514_gvb', '14513_gvb', 2507),\n",
       " ('15569_gvb', '14647_gvb', 11337),\n",
       " ('15569_gvb', '15467_gvb', 11355),\n",
       " ('15003_gvb', '1541494_gvb', 5618),\n",
       " ('1693305_gvb', '14716_gvb', 14047),\n",
       " ('103878_gvb', '103887_gvb', 407),\n",
       " ('1522982_gvb', '15536_gvb', 7485),\n",
       " ('15502_gvb', '14620_gvb', 10841),\n",
       " ('14494_gvb', '14496_gvb', 2265),\n",
       " ('1541624_gvb', '15896_gvb', 10045),\n",
       " ('15858_gvb', '15856_gvb', 13164),\n",
       " ('1421074_gvb', '1532160_gvb', 1337),\n",
       " ('2409256_gvb', '15446_gvb', 16456),\n",
       " ('14849_gvb', '14851_gvb', 4558),\n",
       " ('14556_gvb', '14963_gvb', 2676),\n",
       " ('14654_gvb', '1379045_gvb', 3230),\n",
       " ('411168_gvb', '411172_gvb', 17831),\n",
       " ('2341331_gvb', '14674_gvb', 15509),\n",
       " ('2341331_gvb', '1525671_gvb', 15516),\n",
       " ('14986_gvb', '2318652_gvb', 5557),\n",
       " ('15611_gvb', '15272_gvb', 11567),\n",
       " ('14900_gvb', '15129_gvb', 4937),\n",
       " ('103872_gvb', '14677_gvb', 384),\n",
       " ('2327654_gvb', '2327655_gvb', 15438),\n",
       " ('14741_gvb', '15775_gvb', 3662),\n",
       " ('2409236_gvb', '15234_gvb', 16354),\n",
       " ('1379033_gvb', '14740_gvb', 1234),\n",
       " ('103919_gvb', '15617_gvb', 561),\n",
       " ('1689987_gvb', '103926_gvb', 13762),\n",
       " ('1377848_gvb', '14809_gvb', 965),\n",
       " ('1547431_gvb', '15316_gvb', 10619),\n",
       " ('15793_gvb', '14751_gvb', 12836),\n",
       " ('14509_gvb', '15431_gvb', 2370),\n",
       " ('14487_gvb', '207054_gvb', 2191),\n",
       " ('15097_gvb', '237988_gvb', 6437),\n",
       " ('15615_gvb', '15616_gvb', 11598),\n",
       " ('506849_gvb', '15491_gvb', 17952),\n",
       " ('103174_gvb', '2066924_gvb', 169),\n",
       " ('103171_gvb', '652271_gvb', 116),\n",
       " ('103176_gvb', '15326_gvb', 180),\n",
       " ('1530743_gvb', '15675_gvb', 8815),\n",
       " ('15284_gvb', '14734_gvb', 8339),\n",
       " ('15284_gvb', '15286_gvb', 8347),\n",
       " ('1762159_gvb', '15222_gvb', 14206),\n",
       " ('1762159_gvb', '15223_gvb', 14217),\n",
       " ('1689985_gvb', '1523005_gvb', 13698),\n",
       " ('1689985_gvb', '1544358_gvb', 13716),\n",
       " ('322629_gvb', '1537584_gvb', 17482),\n",
       " ('15232_gvb', '1530734_gvb', 7817),\n",
       " ('1540146_gvb', '1762151_gvb', 9863),\n",
       " ('2175499_gvb', '15299_gvb', 14754),\n",
       " ('237982_gvb', '15206_gvb', 15866),\n",
       " ('14641_gvb', '1537009_gvb', 3148),\n",
       " ('96450_gvb', '96480_gvb', 18583),\n",
       " ('96437_gvb', '96457_gvb', 18494),\n",
       " ('103893_gvb', '103894_gvb', 478),\n",
       " ('1377846_gvb', '14702_gvb', 921),\n",
       " ('1377846_gvb', '14703_gvb', 933),\n",
       " ('14802_gvb', '14798_gvb', 4201),\n",
       " ('14802_gvb', '1523003_gvb', 4212),\n",
       " ('14481_gvb', '14913_gvb', 2098),\n",
       " ('14593_gvb', '14595_gvb', 2841),\n",
       " ('652271_gvb', '15151_gvb', 18230),\n",
       " ('1240728_gvb', '15326_gvb', 781),\n",
       " ('15675_gvb', '1537001_gvb', 11980),\n",
       " ('1689991_gvb', '15509_gvb', 13796),\n",
       " ('14520_gvb', '14863_gvb', 2552),\n",
       " ('1532160_gvb', '15553_gvb', 9014),\n",
       " ('2409249_gvb', '15779_gvb', 16395),\n",
       " ('15498_gvb', '1379032_gvb', 10821),\n",
       " ('15498_gvb', '15489_gvb', 10829),\n",
       " ('15541_gvb', '14955_gvb', 11179),\n",
       " ('15541_gvb', '2409627_gvb', 11189),\n",
       " ('15230_gvb', '15232_gvb', 7763),\n",
       " ('14558_gvb', '75251_gvb', 2687),\n",
       " ('1928469_gvb', '2404457_gvb', 14315),\n",
       " ('15535_gvb', '14840_gvb', 11112),\n",
       " ('15535_gvb', '15537_gvb', 11122),\n",
       " ('2409639_gvb', '433778_gvb', 16556),\n",
       " ('408780_gvb', '14743_gvb', 17814),\n",
       " ('15340_gvb', '2409236_gvb', 9110),\n",
       " ('15626_gvb', '1523016_gvb', 11706),\n",
       " ('652252_gvb', '652274_gvb', 18089),\n",
       " ('652274_gvb', '103171_gvb', 18242),\n",
       " ('14409_gvb', '15088_gvb', 1657),\n",
       " ('14382_gvb', '1377841_gvb', 1585),\n",
       " ('2409226_gvb', '14520_gvb', 16315),\n",
       " ('14452_gvb', '15692_gvb', 1951),\n",
       " ('15070_gvb', '15064_gvb', 6207),\n",
       " ('15070_gvb', '15068_gvb', 6219),\n",
       " ('14622_gvb', '14624_gvb', 2996),\n",
       " ('14765_gvb', '96469_gvb', 3827),\n",
       " ('15513_gvb', '15627_gvb', 10945),\n",
       " ('15632_gvb', '652266_gvb', 11733),\n",
       " ('15413_gvb', '1377865_gvb', 9925),\n",
       " ('15413_gvb', '15758_gvb', 9941),\n",
       " ('1528997_gvb', '1528998_gvb', 8380),\n",
       " ('2404457_gvb', '1997289_gvb', 16205),\n",
       " ('15890_gvb', '14857_gvb', 13329),\n",
       " ('15106_gvb', '14913_gvb', 6473),\n",
       " ('15387_gvb', '652267_gvb', 9743),\n",
       " ('15612_gvb', '15614_gvb', 11574),\n",
       " ('1656351_gvb', '1657407_gvb', 13522),\n",
       " ('384755_gvb', '384757_gvb', 17621),\n",
       " ('14630_gvb', '15857_gvb', 3079),\n",
       " ('15885_gvb', '15888_gvb', 13298),\n",
       " ('15453_gvb', '1522988_gvb', 10344),\n",
       " ('15453_gvb', '1523005_gvb', 10354),\n",
       " ('15453_gvb', '1548224_gvb', 10366),\n",
       " ('2345159_gvb', '14925_gvb', 15639),\n",
       " ('15542_gvb', '1538698_gvb', 11199),\n",
       " ('1531125_gvb', '15233_gvb', 8943),\n",
       " ('96467_gvb', '96435_gvb', 18798),\n",
       " ('103167_gvb', '15617_gvb', 51),\n",
       " ('2403070_gvb', '14594_gvb', 16102),\n",
       " ('14496_gvb', '14498_gvb', 2289),\n",
       " ('103161_gvb', '14826_gvb', 0),\n",
       " ('14445_gvb', '14964_gvb', 1888),\n",
       " ('15223_gvb', '15012_gvb', 7384),\n",
       " ('1379045_gvb', '14555_gvb', 1261),\n",
       " ('560935_gvb', '15497_gvb', 18024),\n",
       " ('15601_gvb', '15609_gvb', 11509),\n",
       " ('103905_gvb', '15274_gvb', 546),\n",
       " ('15846_gvb', '96455_gvb', 13042),\n",
       " ('1762161_gvb', '15255_gvb', 14241),\n",
       " ('1762005_gvb', '1539946_gvb', 14054),\n",
       " ('1762005_gvb', '2431307_gvb', 14070),\n",
       " ('1377867_gvb', '1522982_gvb', 1044),\n",
       " ('103926_gvb', '1689988_gvb', 659),\n",
       " ('15096_gvb', '322625_gvb', 6429),\n",
       " ('1522994_gvb', '1523014_gvb', 7562),\n",
       " ('14542_gvb', '15482_gvb', 2620),\n",
       " ('15451_gvb', '2262944_gvb', 10321),\n",
       " ('1529002_gvb', '14509_gvb', 8453),\n",
       " ('1529002_gvb', '15779_gvb', 8468),\n",
       " ('15429_gvb', '1535306_gvb', 10151),\n",
       " ('15131_gvb', '14648_gvb', 6603),\n",
       " ('2396462_gvb', '2427511_gvb', 16055),\n",
       " ('2404458_gvb', '1539944_gvb', 16236),\n",
       " ('1689910_gvb', '103902_gvb', 13674),\n",
       " ('14842_gvb', '14967_gvb', 4548),\n",
       " ('103890_gvb', '322604_gvb', 463),\n",
       " ('14744_gvb', '401224_gvb', 3699),\n",
       " ('15354_gvb', '96446_gvb', 9276),\n",
       " ('319992_gvb', '327333_gvb', 17338),\n",
       " ('2343484_gvb', '1689991_gvb', 15573),\n",
       " ('103864_gvb', '103878_gvb', 362),\n",
       " ('15032_gvb', '15041_gvb', 5873),\n",
       " ('15639_gvb', '103168_gvb', 11831),\n",
       " ('15639_gvb', '103170_gvb', 11846),\n",
       " ('15408_gvb', '15626_gvb', 9874),\n",
       " ('15198_gvb', '15196_gvb', 7117),\n",
       " ('327334_gvb', '15635_gvb', 17578),\n",
       " ('15302_gvb', '15304_gvb', 8696),\n",
       " ('506850_gvb', '14812_gvb', 17967),\n",
       " ('15709_gvb', '15449_gvb', 12205),\n",
       " ('15792_gvb', '15795_gvb', 12821),\n",
       " ('1378348_gvb', '14874_gvb', 1132),\n",
       " ('15493_gvb', '15564_gvb', 10783),\n",
       " ('15308_gvb', '14514_gvb', 8884),\n",
       " ('15308_gvb', '2396461_gvb', 8917),\n",
       " ('14354_gvb', '1762152_gvb', 1349),\n",
       " ('14354_gvb', '2404450_gvb', 1361),\n",
       " ('1762151_gvb', '14355_gvb', 14107),\n",
       " ('1997271_gvb', '322611_gvb', 14369),\n",
       " ('2404454_gvb', '2404455_gvb', 16185),\n",
       " ('14967_gvb', '15063_gvb', 5480),\n",
       " ('14624_gvb', '1537584_gvb', 3024),\n",
       " ('1523002_gvb', '1419759_gvb', 7602),\n",
       " ('1523002_gvb', '14490_gvb', 7610),\n",
       " ('96464_gvb', '96471_gvb', 18766),\n",
       " ('96452_gvb', '96434_gvb', 18607),\n",
       " ('96452_gvb', '96436_gvb', 18612),\n",
       " ('15798_gvb', '14999_gvb', 12867),\n",
       " ('14875_gvb', '15872_gvb', 4825),\n",
       " ('14557_gvb', '1379027_gvb', 2680),\n",
       " ('15818_gvb', '14357_gvb', 12963),\n",
       " ('15818_gvb', '1762005_gvb', 12973),\n",
       " ('14955_gvb', '14953_gvb', 5418),\n",
       " ('15578_gvb', '96458_gvb', 11385),\n",
       " ('15578_gvb', '96467_gvb', 11395),\n",
       " ('15905_gvb', '15906_gvb', 13383),\n",
       " ('2414765_gvb', '15291_gvb', 16622),\n",
       " ('14692_gvb', '1379029_gvb', 3372),\n",
       " ('14692_gvb', '15498_gvb', 3380),\n",
       " ('14450_gvb', '15423_gvb', 1918),\n",
       " ('238000_gvb', '15917_gvb', 15935),\n",
       " ('1689905_gvb', '15299_gvb', 13623),\n",
       " ('15054_gvb', '14932_gvb', 6023),\n",
       " ('2403068_gvb', '2066923_gvb', 16091),\n",
       " ('15617_gvb', '15513_gvb', 11632),\n",
       " ('15617_gvb', '15612_gvb', 11644),\n",
       " ('103166_gvb', '15408_gvb', 47),\n",
       " ('15418_gvb', '2393383_gvb', 10069),\n",
       " ('322624_gvb', '15098_gvb', 17448),\n",
       " ('14424_gvb', '14427_gvb', 1807),\n",
       " ('14833_gvb', '14908_gvb', 4482),\n",
       " ('15692_gvb', '15435_gvb', 12085),\n",
       " ('1535313_gvb', '1379601_gvb', 9162),\n",
       " ('1535313_gvb', '411168_gvb', 9170),\n",
       " ('14752_gvb', '15561_gvb', 3766),\n",
       " ('14360_gvb', '103851_gvb', 1478),\n",
       " ('14693_gvb', '15271_gvb', 3392),\n",
       " ('15780_gvb', '1378345_gvb', 12625),\n",
       " ('15780_gvb', '2409234_gvb', 12637),\n",
       " ('15155_gvb', '2423754_gvb', 6834),\n",
       " ('2254829_gvb', '2032210_gvb', 14887),\n",
       " ('2327650_gvb', '2341334_gvb', 15395),\n",
       " ('2371745_gvb', '15086_gvb', 15798),\n",
       " ('15235_gvb', '15337_gvb', 7878),\n",
       " ('96448_gvb', '96468_gvb', 18562),\n",
       " ('15745_gvb', '15512_gvb', 12433),\n",
       " ('15137_gvb', '15135_gvb', 6654),\n",
       " ('15582_gvb', '14762_gvb', 11428),\n",
       " ('15582_gvb', '96467_gvb', 11439),\n",
       " ('15697_gvb', '15695_gvb', 12152),\n",
       " ('15170_gvb', '15192_gvb', 6907),\n",
       " ('322626_gvb', '2393390_gvb', 17471),\n",
       " ('15079_gvb', '1440632_gvb', 6304),\n",
       " ('1525671_gvb', '15713_gvb', 7990),\n",
       " ('1525671_gvb', '15892_gvb', 8002),\n",
       " ('15379_gvb', '103904_gvb', 9533),\n",
       " ('1997288_gvb', '1928469_gvb', 14467),\n",
       " ('1997288_gvb', '2327652_gvb', 14482),\n",
       " ('14625_gvb', '14632_gvb', 3038),\n",
       " ...]"
      ]
     },
     "execution_count": 18,
     "metadata": {},
     "output_type": "execute_result"
    }
   ],
   "source": [
    "list(G_transit.edges)"
   ]
  },
  {
   "cell_type": "code",
   "execution_count": 15,
   "id": "20e815c0-b87c-4374-a6e9-76aebcf84a39",
   "metadata": {
    "pycharm": {
     "name": "#%%\n"
    }
   },
   "outputs": [],
   "source": [
    "def add_transfer_edges_fast(G, headways):\n",
    "    adj_mat = nx.to_numpy_array(G)\n",
    "\n",
    "    nodes = ox.graph_to_gdfs(G, edges=False)\n",
    "    nodes = pd.merge(nodes, headways, how='left', left_on='node_id', right_on='unique_stop_id')\n",
    "\n",
    "    ndf = nodes[[\"y\",\"x\"]]\n",
    "    ndf[\"yx\"] = ndf.apply(tuple, axis=1)\n",
    "\n",
    "    import itertools\n",
    "    a = list(itertools.product(ndf[\"yx\"], ndf[\"yx\"]))\n",
    "\n",
    "    def hav(args):\n",
    "        return haversine(args[0], args[1])\n",
    "\n",
    "    hav_mat = np.array(list(map(hav, a))).reshape(adj_mat.shape)\n",
    "\n",
    "    # Convert distance to travel_time\n",
    "    travel_time = hav_mat/5*60\n",
    "    # Set travel_time to more than 0\n",
    "    travel_time[travel_time==0] = 0.0001\n",
    "\n",
    "    node_ids_list = nodes['node_id'].to_list()\n",
    "    dest_node_ids = node_ids_list*len(node_ids_list)\n",
    "    orig_node_ids = np.array([[n]*len(node_ids_list) for n in node_ids_list]).flatten().tolist()\n",
    "    fitting_travel_times = travel_time.reshape(-1)\n",
    "    adjacencies = adj_mat.reshape(-1)\n",
    "    dist = hav_mat.reshape(-1)\n",
    "    net_type = ['walking_estimation']*len(dist)\n",
    "\n",
    "    np.testing.assert_equal([len(dest_node_ids),len(orig_node_ids),len(fitting_travel_times),len(adjacencies),len(dist),len(net_type)], [len(adjacencies)]*6)\n",
    "\n",
    "    new_edges_dict = {\n",
    "        'node_id_from': orig_node_ids,\n",
    "        'node_id_to': dest_node_ids,\n",
    "        'length': dist,\n",
    "        'weight': fitting_travel_times,\n",
    "        'travel_time': fitting_travel_times,\n",
    "        'net_type': net_type,\n",
    "        'adjacencies': adjacencies\n",
    "    }\n",
    "\n",
    "    new_edges = pd.DataFrame(new_edges_dict)\n",
    "\n",
    "    # Fix orig['node_id'] == dest['node_id']\n",
    "    new_edges = new_edges[new_edges['node_id_from']!=new_edges['node_id_to']]\n",
    "\n",
    "    # Fix dist > 1\n",
    "    new_edges = new_edges[new_edges['length'] > 1]\n",
    "    \n",
    "    # Fix adj_mx[i][j] == 0; adj_mx[j][i] == 0:\n",
    "    new_edges = new_edges[new_edges['adjacencies'] == 0]\n",
    "\n",
    "    # Add headway time if available\n",
    "    new_edges = pd.merge(new_edges, hw.fillna(0), how='left', left_on='node_id_to', right_on='unique_stop_id')\n",
    "    new_edges[\"weight\"] = new_edges[\"weight\"] + new_edges[\"mean_hw\"]\n",
    "    new_edges[\"length\"] = new_edges[\"length\"] + new_edges[\"mean_hw\"]\n",
    "    new_edges = new_edges.drop([\"unique_stop_id\",\"mean_hw\", 'adjacencies'],1)\n",
    "    \n",
    "    # G.add_edges_from(edges_to_add)\n",
    "\n",
    "    # Convert to entries for new graph edges\n",
    "    return new_edges.to_dict(orient='records')"
   ]
  },
  {
   "cell_type": "code",
   "execution_count": 15,
   "id": "31554990-73fd-4151-8beb-50d1c5c1536a",
   "metadata": {
    "pycharm": {
     "name": "#%%\n"
    }
   },
   "outputs": [
    {
     "name": "stdout",
     "output_type": "stream",
     "text": [
      " Completed: 24104 paths.Total time to connect the network: 6.29 minutes\n"
     ]
    }
   ],
   "source": [
    "# Takes FOREVER!\n",
    "G_transit_slow, edges_to_add_slow = add_transfer_edges(G_transit, hw)"
   ]
  },
  {
   "cell_type": "code",
   "execution_count": 16,
   "id": "76818f6b-712e-425b-bf74-6872a9427ab1",
   "metadata": {
    "pycharm": {
     "name": "#%%\n"
    }
   },
   "outputs": [],
   "source": [
    "# Hopefully does the right thing\n",
    "edges_to_add_fast = add_transfer_edges_fast(G_transit, hw)"
   ]
  },
  {
   "cell_type": "code",
   "execution_count": 38,
   "id": "87e0e014-8f69-4d54-8209-8e35a0e79ae4",
   "metadata": {
    "pycharm": {
     "name": "#%%\n"
    }
   },
   "outputs": [
    {
     "data": {
      "text/plain": [
       "False"
      ]
     },
     "execution_count": 38,
     "metadata": {},
     "output_type": "execute_result"
    }
   ],
   "source": [
    "edges_to_add_slow == edges_to_add_fast"
   ]
  },
  {
   "cell_type": "code",
   "execution_count": 40,
   "id": "c44736e6-67ba-4eff-a216-51d38d0723e8",
   "metadata": {
    "pycharm": {
     "name": "#%%\n"
    }
   },
   "outputs": [
    {
     "data": {
      "text/plain": [
       "24104"
      ]
     },
     "execution_count": 40,
     "metadata": {},
     "output_type": "execute_result"
    }
   ],
   "source": [
    "len(edges_to_add_slow)"
   ]
  },
  {
   "cell_type": "code",
   "execution_count": 17,
   "id": "31ac52af-db96-4b8a-add7-e21d3bcb4346",
   "metadata": {
    "pycharm": {
     "name": "#%%\n"
    }
   },
   "outputs": [
    {
     "data": {
      "text/plain": [
       "1467921"
      ]
     },
     "execution_count": 17,
     "metadata": {},
     "output_type": "execute_result"
    }
   ],
   "source": [
    "len(edges_to_add_fast)"
   ]
  },
  {
   "cell_type": "code",
   "execution_count": null,
   "id": "35a046d7-f263-4ac1-8773-0f52337e51a4",
   "metadata": {
    "pycharm": {
     "name": "#%%\n"
    }
   },
   "outputs": [],
   "source": [
    "nx.write_gpickle(G_drive, './graphs/ams_drive_network.gpickle')\n",
    "nx.write_gpickle(G_bike, './graphs/ams_bike_network.gpickle')\n",
    "nx.write_gpickle(G_walk, './graphs/ams_walk_network.gpickle')\n",
    "\n",
    "nx.write_gpickle(G_transit, './graphs/ams_transit_network_transfer_hw_correct.gpickle')\n",
    "nx.write_gpickle(G_transit_walk, './graphs/ams_transit_walk_network.gpickle')\n",
    "\n",
    "# GML files are used to read networks into igraph\n",
    "nx.write_gml(G_transit, './graphs/ams_transit_network_transfer_hw_correct.gml')\n",
    "nx.write_gml(G_transit_walk, './graphs/ams_transit_walk_network.gml')"
   ]
  },
  {
   "cell_type": "code",
   "execution_count": null,
   "id": "60dba06b-2c33-4ac7-b35d-b07a11fc7a6d",
   "metadata": {
    "pycharm": {
     "name": "#%%\n"
    }
   },
   "outputs": [],
   "source": [
    "# Add walking network to the transit network.\n",
    "osm_nodes, osm_edges = ua.osm.load.ua_network_from_bbox(bbox=bbox)\n",
    "\n",
    "ua_network = ua.osm.network.create_osm_net(\n",
    "    osm_edges=osm_edges,\n",
    "    osm_nodes=osm_nodes,\n",
    "    travel_speed_mph=3,\n",
    "    network_type='walk')\n",
    "\n",
    "urbanaccess_nw = ua.network.integrate_network(\n",
    "    urbanaccess_network=ua_network,\n",
    "    urbanaccess_gtfsfeeds_df=loaded_feeds,\n",
    "    headways=True,\n",
    "    headway_statistic='mean'\n",
    "    )"
   ]
  },
  {
   "cell_type": "code",
   "execution_count": null,
   "id": "7586f3bf-202c-4a1e-b663-3dd45888b031",
   "metadata": {
    "pycharm": {
     "name": "#%%\n"
    }
   },
   "outputs": [],
   "source": [
    "G_transit_walk = ua_to_nx(urbanaccess_nw, optimize='median')\n",
    "G_transit_walk = append_length_attribute(G_transit_walk)"
   ]
  },
  {
   "cell_type": "code",
   "execution_count": null,
   "id": "7d3fa4da-217d-4104-a1ab-18f7eae408d6",
   "metadata": {
    "pycharm": {
     "name": "#%%\n"
    }
   },
   "outputs": [],
   "source": [
    "# %% Save Graphs\n",
    "# nx.write_gpickle(G_drive, './graphs/ams_drive_network.gpickle')\n",
    "# nx.write_gpickle(G_bike, './graphs/ams_bike_network.gpickle')\n",
    "# nx.write_gpickle(G_walk, './graphs/ams_walk_network.gpickle')\n",
    "\n",
    "nx.write_gpickle(G_transit, GRAPH_DATA_DIR.joinpath('ams_transit_network_transfer_hw_correct.gpickle'))\n",
    "nx.write_gpickle(G_transit_walk, GRAPH_DATA_DIR.joinpath('ams_transit_walk_network.gpickle'))\n",
    "\n",
    "# GML files are used to read networks into igraph\n",
    "nx.write_gml(G_transit, GRAPH_DATA_DIR.joinpath('ams_transit_network_transfer_hw_correct.gml'))\n",
    "nx.write_gml(G_transit_walk, GRAPH_DATA_DIR.joinpath('ams_transit_walk_network.gml'))"
   ]
  },
  {
   "cell_type": "code",
   "execution_count": null,
   "id": "a28b24f1-b1df-429a-8293-32738d9dadd8",
   "metadata": {
    "pycharm": {
     "name": "#%%\n"
    }
   },
   "outputs": [],
   "source": [
    "# fig, ax = ox.plot_graph(G_transit, node_size=3)\n",
    "# fig.savefig('./images/amsterdam_transit_network.png')\n",
    "\n",
    "# For node colouring\n",
    "# nc = ['r' if node in (2094064399, 46408191) else 'w' for node in G.nodes()]"
   ]
  }
 ],
 "metadata": {
  "kernelspec": {
   "display_name": "Python 3",
   "language": "python",
   "name": "python3"
  },
  "language_info": {
   "codemirror_mode": {
    "name": "ipython",
    "version": 3
   },
   "file_extension": ".py",
   "mimetype": "text/x-python",
   "name": "python",
   "nbconvert_exporter": "python",
   "pygments_lexer": "ipython3",
   "version": "3.9.12"
  }
 },
 "nbformat": 4,
 "nbformat_minor": 5
}