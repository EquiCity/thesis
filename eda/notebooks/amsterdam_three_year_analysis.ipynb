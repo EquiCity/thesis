{
 "cells": [
  {
   "cell_type": "code",
   "execution_count": 12,
   "outputs": [],
   "source": [
    "import numpy as np\n",
    "import pandas as pd\n",
    "import geopandas as gpd\n",
    "import igraph as ig\n",
    "from pathlib import Path\n",
    "from tqdm import tqdm\n",
    "import os\n",
    "import datetime\n",
    "\n",
    "from matplotlib import pyplot as plt\n",
    "import matplotlib.dates as mdates\n",
    "from matplotlib import rcParams\n",
    "params = {\n",
    "    'axes.labelsize': 20,\n",
    "    'axes.titlepad': 15,\n",
    "    'axes.titlesize': 24,\n",
    "    'font.size': 20,\n",
    "    'legend.fontsize': 14,\n",
    "    'axes.labelsize' : 18,\n",
    "    'text.usetex': False,\n",
    "    'figure.figsize': [5,5],\n",
    "    'axes.labelpad' : 16,\n",
    "    'lines.linewidth' : 2,\n",
    "    \"figure.edgecolor\": \"black\",\n",
    "    'axes.linewidth':2,\n",
    "    'xtick.major.pad':6,\n",
    "    'ytick.major.pad':6,\n",
    "    'xtick.minor.pad':6,\n",
    "    'ytick.minor.pad':6\n",
    "}\n",
    "rcParams['agg.path.chunksize'] = 10000\n",
    "rcParams.update(params)\n",
    "\n",
    "import contextily as cx"
   ],
   "metadata": {
    "collapsed": false,
    "pycharm": {
     "name": "#%%\n"
    }
   }
  },
  {
   "cell_type": "markdown",
   "source": [
    "# Load reference graphs"
   ],
   "metadata": {
    "collapsed": false,
    "pycharm": {
     "name": "#%% md\n"
    }
   }
  },
  {
   "cell_type": "code",
   "execution_count": 13,
   "outputs": [],
   "source": [
    "GRAPHS_BASE_PATH = Path(\"/home/rico/Documents/thesis/experiments/historical_data_ams/size_only_graphs/\")\n",
    "ref_ams_pt_2019 = ig.read(GRAPHS_BASE_PATH.joinpath(\"ams_2019/resulting_graph/Amsterdam_pt_network_monday_20190103_20190804.gml\"))\n",
    "ref_ams_pt_2020 = ig.read(GRAPHS_BASE_PATH.joinpath(\"ams_2020/resulting_graph/Amsterdam_pt_network_monday_20191230_20200802.gml\"))\n",
    "ref_ams_pt_2021 = ig.read(GRAPHS_BASE_PATH.joinpath(\"ams_2021/resulting_graph/Amsterdam_pt_network_monday_20210103_20210808.gml\"))"
   ],
   "metadata": {
    "collapsed": false,
    "pycharm": {
     "name": "#%%\n"
    }
   }
  },
  {
   "cell_type": "code",
   "execution_count": 14,
   "outputs": [
    {
     "name": "stdout",
     "output_type": "stream",
     "text": [
      "Graph size of Amsterdam in 2019: 1853\n",
      "Graph size of Amsterdam in 2020: 1803\n",
      "Graph size of Amsterdam in 2021: 1611\n"
     ]
    }
   ],
   "source": [
    "ref_n_edges_len_2019 = len(ref_ams_pt_2019.es.select(type_ne='walk'))\n",
    "ref_n_edges_len_2020 = len(ref_ams_pt_2020.es.select(type_ne='walk'))\n",
    "ref_n_edges_len_2021 = len(ref_ams_pt_2021.es.select(type_ne='walk'))\n",
    "print(f\"Graph size of Amsterdam in 2019: {ref_n_edges_len_2019}\")\n",
    "print(f\"Graph size of Amsterdam in 2020: {ref_n_edges_len_2020}\")\n",
    "print(f\"Graph size of Amsterdam in 2021: {ref_n_edges_len_2021}\")"
   ],
   "metadata": {
    "collapsed": false,
    "pycharm": {
     "name": "#%%\n"
    }
   }
  },
  {
   "cell_type": "code",
   "execution_count": 15,
   "outputs": [],
   "source": [
    "ref_complete_stats = pd.read_csv(\"/home/rico/Documents/thesis/eda/notebooks/reference_results/complete_stats.csv\")\n",
    "ref_inequalities = pd.read_csv(\"/home/rico/Documents/thesis/eda/notebooks/reference_results/inequalities.csv\")\n",
    "ref_nw_to_w_trend = pd.read_csv(\"/home/rico/Documents/thesis/eda/notebooks/reference_results/nw_to_w_trend.csv\")\n",
    "\n",
    "ref_complete_stats['date'] = pd.to_datetime(ref_complete_stats['date'])\n",
    "ref_inequalities['date'] = pd.to_datetime(ref_inequalities['date'])\n",
    "ref_nw_to_w_trend['date'] = pd.to_datetime(ref_nw_to_w_trend['date'])\n",
    "\n",
    "ref_complete_stats['year'] = pd.DatetimeIndex(ref_complete_stats.date).year\n",
    "ref_inequalities['year'] = pd.DatetimeIndex(ref_inequalities.date).year\n",
    "ref_nw_to_w_trend['year'] = pd.DatetimeIndex(ref_nw_to_w_trend.date).year\n",
    "\n",
    "ref_complete_stats['month'] = pd.DatetimeIndex(ref_complete_stats.date).month\n",
    "ref_inequalities['month'] = pd.DatetimeIndex(ref_inequalities.date).month\n",
    "ref_nw_to_w_trend['month'] = pd.DatetimeIndex(ref_nw_to_w_trend.date).month\n",
    "\n",
    "ref_complete_stats['quarter'] = pd.DatetimeIndex(ref_complete_stats.date).quarter\n",
    "ref_inequalities['quarter'] = pd.DatetimeIndex(ref_inequalities.date).quarter\n",
    "ref_nw_to_w_trend['quarter'] = pd.DatetimeIndex(ref_nw_to_w_trend.date).quarter"
   ],
   "metadata": {
    "collapsed": false,
    "pycharm": {
     "name": "#%%\n"
    }
   }
  },
  {
   "cell_type": "code",
   "execution_count": 16,
   "outputs": [
    {
     "data": {
      "text/plain": "        date  size\n0 2019-01-03  1853\n1 2020-12-30  1803\n2 2021-01-03  1611",
      "text/html": "<div>\n<style scoped>\n    .dataframe tbody tr th:only-of-type {\n        vertical-align: middle;\n    }\n\n    .dataframe tbody tr th {\n        vertical-align: top;\n    }\n\n    .dataframe thead th {\n        text-align: right;\n    }\n</style>\n<table border=\"1\" class=\"dataframe\">\n  <thead>\n    <tr style=\"text-align: right;\">\n      <th></th>\n      <th>date</th>\n      <th>size</th>\n    </tr>\n  </thead>\n  <tbody>\n    <tr>\n      <th>0</th>\n      <td>2019-01-03</td>\n      <td>1853</td>\n    </tr>\n    <tr>\n      <th>1</th>\n      <td>2020-12-30</td>\n      <td>1803</td>\n    </tr>\n    <tr>\n      <th>2</th>\n      <td>2021-01-03</td>\n      <td>1611</td>\n    </tr>\n  </tbody>\n</table>\n</div>"
     },
     "execution_count": 16,
     "metadata": {},
     "output_type": "execute_result"
    }
   ],
   "source": [
    "ref_graph_sizes_df = pd.DataFrame([{'date': ref_inequalities['date'].unique()[0], 'size': ref_n_edges_len_2019},\n",
    "                                   {'date': ref_inequalities['date'].unique()[1], 'size': ref_n_edges_len_2020},\n",
    "                                   {'date': ref_inequalities['date'].unique()[2], 'size': ref_n_edges_len_2021},\n",
    "                                   ], columns=['date', 'size'])\n",
    "ref_graph_sizes_df['date'] = pd.to_datetime(ref_graph_sizes_df['date'])\n",
    "ref_graph_sizes_df.head()"
   ],
   "metadata": {
    "collapsed": false,
    "pycharm": {
     "name": "#%%\n"
    }
   }
  },
  {
   "cell_type": "code",
   "execution_count": 17,
   "outputs": [],
   "source": [
    "ref_complete_stats = pd.merge(ref_complete_stats, ref_graph_sizes_df, how='left', on='date')\n",
    "ref_inequalities = pd.merge(ref_inequalities, ref_graph_sizes_df, how='left', on='date')\n",
    "ref_nw_to_w_trend = pd.merge(ref_nw_to_w_trend, ref_graph_sizes_df, how='left', on='date')"
   ],
   "metadata": {
    "collapsed": false,
    "pycharm": {
     "name": "#%%\n"
    }
   }
  },
  {
   "cell_type": "markdown",
   "source": [
    "# Compute graph sizes"
   ],
   "metadata": {
    "collapsed": false,
    "pycharm": {
     "name": "#%% md\n"
    }
   }
  },
  {
   "cell_type": "code",
   "execution_count": 18,
   "outputs": [],
   "source": [
    "GRAPH_DATA_DIR = Path(\"/home/rico/Documents/thesis/eda/notebooks/sample_data/transit_graphs\")\n",
    "graph_folders = [d for d in os.listdir(GRAPH_DATA_DIR) if os.path.isdir(GRAPH_DATA_DIR.joinpath(d))]\n",
    "graphs = [GRAPH_DATA_DIR.joinpath(folder).joinpath(file) for folder in graph_folders for file in\n",
    "          os.listdir(GRAPH_DATA_DIR.joinpath(folder)) if Path(file).suffix == '.gml']\n",
    "ams_nb = gpd.read_file('/home/rico/Documents/thesis/eda/notebooks/sample_data/amsterdam/ams-neighbourhoods.geojson')"
   ],
   "metadata": {
    "collapsed": false,
    "pycharm": {
     "name": "#%%\n"
    }
   }
  },
  {
   "cell_type": "code",
   "execution_count": 19,
   "outputs": [
    {
     "data": {
      "text/plain": "[PosixPath('/home/rico/Documents/thesis/eda/notebooks/sample_data/transit_graphs/filtered-ov-gtfs-20210201/ams_pt_network_monday_20210201.gml'),\n PosixPath('/home/rico/Documents/thesis/eda/notebooks/sample_data/transit_graphs/filtered-ov-gtfs-20200203/ams_pt_network_monday_20200203.gml'),\n PosixPath('/home/rico/Documents/thesis/eda/notebooks/sample_data/transit_graphs/filtered-ov-gtfs-20190923/ams_pt_network_monday_20190923.gml'),\n PosixPath('/home/rico/Documents/thesis/eda/notebooks/sample_data/transit_graphs/filtered-ov-gtfs-20210726/ams_pt_network_monday_20210726.gml'),\n PosixPath('/home/rico/Documents/thesis/eda/notebooks/sample_data/transit_graphs/filtered-ov-gtfs-20191223/ams_pt_network_monday_20191223.gml')]"
     },
     "execution_count": 19,
     "metadata": {},
     "output_type": "execute_result"
    }
   ],
   "source": [
    "graphs[:5]"
   ],
   "metadata": {
    "collapsed": false,
    "pycharm": {
     "name": "#%%\n"
    }
   }
  },
  {
   "cell_type": "code",
   "execution_count": 20,
   "outputs": [],
   "source": [
    "date_extractor = lambda x: x.name.removesuffix('.gml').split('_')[-1]\n",
    "date_converter = lambda x: x[0:4] + '-' + x[4:6] + '-' + x[6:9]\n",
    "dates = [datetime.date.fromisoformat(date_converter(date_extractor(p))) for p in graphs]"
   ],
   "metadata": {
    "collapsed": false,
    "pycharm": {
     "name": "#%%\n"
    }
   }
  },
  {
   "cell_type": "code",
   "execution_count": 21,
   "outputs": [
    {
     "name": "stderr",
     "output_type": "stream",
     "text": [
      "100%|██████████| 156/156 [00:09<00:00, 15.71it/s]\n"
     ]
    }
   ],
   "source": [
    "graph_sizes = {}\n",
    "\n",
    "for k, g in enumerate(tqdm(graphs)):\n",
    "    # Read the transit network\n",
    "    G_transit = ig.read(g)\n",
    "    graph_sizes[dates[k]] = len(G_transit.es)"
   ],
   "metadata": {
    "collapsed": false,
    "pycharm": {
     "name": "#%%\n"
    }
   }
  },
  {
   "cell_type": "code",
   "execution_count": 22,
   "outputs": [],
   "source": [
    "sorted_date_graph_size = {}\n",
    "\n",
    "for k in sorted(graph_sizes.keys()):\n",
    "    sorted_date_graph_size[k] = graph_sizes[k]"
   ],
   "metadata": {
    "collapsed": false,
    "pycharm": {
     "name": "#%%\n"
    }
   }
  },
  {
   "cell_type": "code",
   "execution_count": 23,
   "outputs": [
    {
     "data": {
      "text/plain": "          date  size\n0   2019-01-07  1517\n1   2019-01-14  1517\n2   2019-01-21  1517\n3   2019-01-28  1513\n4   2019-02-04  1517\n..         ...   ...\n151 2021-11-29  1395\n152 2021-12-06  1396\n153 2021-12-13  1387\n154 2021-12-20  1382\n155 2021-12-27  1386\n\n[156 rows x 2 columns]",
      "text/html": "<div>\n<style scoped>\n    .dataframe tbody tr th:only-of-type {\n        vertical-align: middle;\n    }\n\n    .dataframe tbody tr th {\n        vertical-align: top;\n    }\n\n    .dataframe thead th {\n        text-align: right;\n    }\n</style>\n<table border=\"1\" class=\"dataframe\">\n  <thead>\n    <tr style=\"text-align: right;\">\n      <th></th>\n      <th>date</th>\n      <th>size</th>\n    </tr>\n  </thead>\n  <tbody>\n    <tr>\n      <th>0</th>\n      <td>2019-01-07</td>\n      <td>1517</td>\n    </tr>\n    <tr>\n      <th>1</th>\n      <td>2019-01-14</td>\n      <td>1517</td>\n    </tr>\n    <tr>\n      <th>2</th>\n      <td>2019-01-21</td>\n      <td>1517</td>\n    </tr>\n    <tr>\n      <th>3</th>\n      <td>2019-01-28</td>\n      <td>1513</td>\n    </tr>\n    <tr>\n      <th>4</th>\n      <td>2019-02-04</td>\n      <td>1517</td>\n    </tr>\n    <tr>\n      <th>...</th>\n      <td>...</td>\n      <td>...</td>\n    </tr>\n    <tr>\n      <th>151</th>\n      <td>2021-11-29</td>\n      <td>1395</td>\n    </tr>\n    <tr>\n      <th>152</th>\n      <td>2021-12-06</td>\n      <td>1396</td>\n    </tr>\n    <tr>\n      <th>153</th>\n      <td>2021-12-13</td>\n      <td>1387</td>\n    </tr>\n    <tr>\n      <th>154</th>\n      <td>2021-12-20</td>\n      <td>1382</td>\n    </tr>\n    <tr>\n      <th>155</th>\n      <td>2021-12-27</td>\n      <td>1386</td>\n    </tr>\n  </tbody>\n</table>\n<p>156 rows × 2 columns</p>\n</div>"
     },
     "execution_count": 23,
     "metadata": {},
     "output_type": "execute_result"
    }
   ],
   "source": [
    "graph_sizes_df = pd.DataFrame(sorted_date_graph_size.items(), columns=['date', 'size'])\n",
    "graph_sizes_df['date'] = pd.to_datetime(graph_sizes_df['date'])\n",
    "graph_sizes_df"
   ],
   "metadata": {
    "collapsed": false,
    "pycharm": {
     "name": "#%%\n"
    }
   }
  },
  {
   "cell_type": "code",
   "execution_count": 24,
   "outputs": [
    {
     "data": {
      "text/plain": "<AxesSubplot:>"
     },
     "execution_count": 24,
     "metadata": {},
     "output_type": "execute_result"
    },
    {
     "data": {
      "text/plain": "<Figure size 432x288 with 1 Axes>",
      "image/png": "[encoded data removed]"
     },
     "metadata": {
      "needs_background": "light"
     },
     "output_type": "display_data"
    }
   ],
   "source": [
    "graph_sizes_df['size'].hist(bins=50)"
   ],
   "metadata": {
    "collapsed": false,
    "pycharm": {
     "name": "#%%\n"
    }
   }
  },
  {
   "cell_type": "markdown",
   "source": [
    "# Merge with inequality data"
   ],
   "metadata": {
    "collapsed": false,
    "pycharm": {
     "name": "#%% md\n"
    }
   }
  },
  {
   "cell_type": "code",
   "execution_count": 25,
   "outputs": [],
   "source": [
    "complete_stats = pd.read_csv(\"/home/rico/Documents/thesis/eda/notebooks/results/complete_stats.csv\")\n",
    "inequalities = pd.read_csv(\"/home/rico/Documents/thesis/eda/notebooks/results/inequalities.csv\")\n",
    "nw_to_w_trend = pd.read_csv(\"/home/rico/Documents/thesis/eda/notebooks/results/nw_to_w_trend.csv\")"
   ],
   "metadata": {
    "collapsed": false,
    "pycharm": {
     "name": "#%%\n"
    }
   }
  },
  {
   "cell_type": "code",
   "execution_count": 26,
   "outputs": [],
   "source": [
    "complete_stats['date'] = pd.to_datetime(complete_stats['date'])\n",
    "inequalities['date'] = pd.to_datetime(inequalities['date'])\n",
    "nw_to_w_trend['date'] =  pd.to_datetime(nw_to_w_trend['date'])\n",
    "\n",
    "complete_stats['year'] = pd.DatetimeIndex(complete_stats.date).year\n",
    "inequalities['year'] = pd.DatetimeIndex(inequalities.date).year\n",
    "nw_to_w_trend['year'] = pd.DatetimeIndex(nw_to_w_trend.date).year\n",
    "\n",
    "complete_stats['month'] = pd.DatetimeIndex(complete_stats.date).month\n",
    "inequalities['month'] = pd.DatetimeIndex(inequalities.date).month\n",
    "nw_to_w_trend['month'] = pd.DatetimeIndex(nw_to_w_trend.date).month\n",
    "\n",
    "complete_stats['quarter'] = pd.DatetimeIndex(complete_stats.date).quarter\n",
    "inequalities['quarter'] = pd.DatetimeIndex(inequalities.date).quarter\n",
    "nw_to_w_trend['quarter'] = pd.DatetimeIndex(nw_to_w_trend.date).quarter"
   ],
   "metadata": {
    "collapsed": false,
    "pycharm": {
     "name": "#%%\n"
    }
   }
  },
  {
   "cell_type": "code",
   "execution_count": 27,
   "outputs": [],
   "source": [
    "del complete_stats['Unnamed: 0']\n",
    "del inequalities['Unnamed: 0']\n",
    "del nw_to_w_trend['Unnamed: 0']\n",
    "\n",
    "complete_stats = complete_stats.set_index('date')\n",
    "inequalities = inequalities.set_index('date')\n",
    "nw_to_w_trend = nw_to_w_trend.set_index('date')\n",
    "\n",
    "complete_stats = complete_stats.sort_index()\n",
    "inequalities = inequalities.sort_index()\n",
    "nw_to_w_trend = nw_to_w_trend.sort_index()"
   ],
   "metadata": {
    "collapsed": false,
    "pycharm": {
     "name": "#%%\n"
    }
   }
  },
  {
   "cell_type": "code",
   "execution_count": 28,
   "outputs": [],
   "source": [
    "complete_stats = pd.merge(complete_stats, graph_sizes_df, how='left', on='date')\n",
    "inequalities = pd.merge(inequalities, graph_sizes_df, how='left', on='date')\n",
    "nw_to_w_trend = pd.merge(nw_to_w_trend, graph_sizes_df, how='left', on='date')"
   ],
   "metadata": {
    "collapsed": false,
    "pycharm": {
     "name": "#%%\n"
    }
   }
  },
  {
   "cell_type": "code",
   "execution_count": 29,
   "outputs": [],
   "source": [
    "complete_stats = complete_stats[complete_stats['size'] > 1000]\n",
    "inequalities = inequalities[inequalities['size'] > 1000]\n",
    "nw_to_w_trend = nw_to_w_trend[nw_to_w_trend['size'] > 1000]"
   ],
   "metadata": {
    "collapsed": false,
    "pycharm": {
     "name": "#%%\n"
    }
   }
  },
  {
   "cell_type": "code",
   "execution_count": 30,
   "outputs": [
    {
     "data": {
      "text/plain": "        date          metric  BU03630000  BU03630001  BU03630002  BU03630003  \\\n0 2019-01-07  thr_15min_pois  229.000000  312.000000  363.000000  376.000000   \n1 2019-01-07        avg_hops   11.437553   10.591837   10.948762   10.350215   \n2 2019-01-07       avg_lines    3.966865    3.719388    4.185312    3.952790   \n3 2019-01-07          avg_tt   21.259504   19.396264   19.066842   18.740918   \n4 2019-01-07       avg_modes    3.282923    3.250850    3.224594    3.238627   \n\n   BU03630004  BU03630100  BU03630101  BU03630102  ...  BU03639702  \\\n0  334.000000    4.000000  275.000000  281.000000  ...   46.000000   \n1   10.350215    5.312500   11.129582   11.129582  ...   24.989761   \n2    3.952790    1.812500    4.159420    4.159420  ...    4.893345   \n3   19.498835   21.731384   20.169245   20.051918  ...   35.764250   \n4    3.238627    2.000000    3.256607    3.256607  ...    3.449659   \n\n   BU03639703  BU03639800  BU03639801  BU03631003  BU03631005  year  month  \\\n0   59.000000   29.000000    9.000000         NaN         NaN  2019      1   \n1   23.487223   19.720613   19.720613         NaN         NaN  2019      1   \n2    4.919080    4.766610    4.766610         NaN         NaN  2019      1   \n3   32.678302   36.479290   40.382958         NaN         NaN  2019      1   \n4    3.436116    3.476150    3.476150         NaN         NaN  2019      1   \n\n   quarter  size  \n0        1  1517  \n1        1  1517  \n2        1  1517  \n3        1  1517  \n4        1  1517  \n\n[5 rows x 485 columns]",
      "text/html": "<div>\n<style scoped>\n    .dataframe tbody tr th:only-of-type {\n        vertical-align: middle;\n    }\n\n    .dataframe tbody tr th {\n        vertical-align: top;\n    }\n\n    .dataframe thead th {\n        text-align: right;\n    }\n</style>\n<table border=\"1\" class=\"dataframe\">\n  <thead>\n    <tr style=\"text-align: right;\">\n      <th></th>\n      <th>date</th>\n      <th>metric</th>\n      <th>BU03630000</th>\n      <th>BU03630001</th>\n      <th>BU03630002</th>\n      <th>BU03630003</th>\n      <th>BU03630004</th>\n      <th>BU03630100</th>\n      <th>BU03630101</th>\n      <th>BU03630102</th>\n      <th>...</th>\n      <th>BU03639702</th>\n      <th>BU03639703</th>\n      <th>BU03639800</th>\n      <th>BU03639801</th>\n      <th>BU03631003</th>\n      <th>BU03631005</th>\n      <th>year</th>\n      <th>month</th>\n      <th>quarter</th>\n      <th>size</th>\n    </tr>\n  </thead>\n  <tbody>\n    <tr>\n      <th>0</th>\n      <td>2019-01-07</td>\n      <td>thr_15min_pois</td>\n      <td>229.000000</td>\n      <td>312.000000</td>\n      <td>363.000000</td>\n      <td>376.000000</td>\n      <td>334.000000</td>\n      <td>4.000000</td>\n      <td>275.000000</td>\n      <td>281.000000</td>\n      <td>...</td>\n      <td>46.000000</td>\n      <td>59.000000</td>\n      <td>29.000000</td>\n      <td>9.000000</td>\n      <td>NaN</td>\n      <td>NaN</td>\n      <td>2019</td>\n      <td>1</td>\n      <td>1</td>\n      <td>1517</td>\n    </tr>\n    <tr>\n      <th>1</th>\n      <td>2019-01-07</td>\n      <td>avg_hops</td>\n      <td>11.437553</td>\n      <td>10.591837</td>\n      <td>10.948762</td>\n      <td>10.350215</td>\n      <td>10.350215</td>\n      <td>5.312500</td>\n      <td>11.129582</td>\n      <td>11.129582</td>\n      <td>...</td>\n      <td>24.989761</td>\n      <td>23.487223</td>\n      <td>19.720613</td>\n      <td>19.720613</td>\n      <td>NaN</td>\n      <td>NaN</td>\n      <td>2019</td>\n      <td>1</td>\n      <td>1</td>\n      <td>1517</td>\n    </tr>\n    <tr>\n      <th>2</th>\n      <td>2019-01-07</td>\n      <td>avg_lines</td>\n      <td>3.966865</td>\n      <td>3.719388</td>\n      <td>4.185312</td>\n      <td>3.952790</td>\n      <td>3.952790</td>\n      <td>1.812500</td>\n      <td>4.159420</td>\n      <td>4.159420</td>\n      <td>...</td>\n      <td>4.893345</td>\n      <td>4.919080</td>\n      <td>4.766610</td>\n      <td>4.766610</td>\n      <td>NaN</td>\n      <td>NaN</td>\n      <td>2019</td>\n      <td>1</td>\n      <td>1</td>\n      <td>1517</td>\n    </tr>\n    <tr>\n      <th>3</th>\n      <td>2019-01-07</td>\n      <td>avg_tt</td>\n      <td>21.259504</td>\n      <td>19.396264</td>\n      <td>19.066842</td>\n      <td>18.740918</td>\n      <td>19.498835</td>\n      <td>21.731384</td>\n      <td>20.169245</td>\n      <td>20.051918</td>\n      <td>...</td>\n      <td>35.764250</td>\n      <td>32.678302</td>\n      <td>36.479290</td>\n      <td>40.382958</td>\n      <td>NaN</td>\n      <td>NaN</td>\n      <td>2019</td>\n      <td>1</td>\n      <td>1</td>\n      <td>1517</td>\n    </tr>\n    <tr>\n      <th>4</th>\n      <td>2019-01-07</td>\n      <td>avg_modes</td>\n      <td>3.282923</td>\n      <td>3.250850</td>\n      <td>3.224594</td>\n      <td>3.238627</td>\n      <td>3.238627</td>\n      <td>2.000000</td>\n      <td>3.256607</td>\n      <td>3.256607</td>\n      <td>...</td>\n      <td>3.449659</td>\n      <td>3.436116</td>\n      <td>3.476150</td>\n      <td>3.476150</td>\n      <td>NaN</td>\n      <td>NaN</td>\n      <td>2019</td>\n      <td>1</td>\n      <td>1</td>\n      <td>1517</td>\n    </tr>\n  </tbody>\n</table>\n<p>5 rows × 485 columns</p>\n</div>"
     },
     "execution_count": 30,
     "metadata": {},
     "output_type": "execute_result"
    }
   ],
   "source": [
    "complete_stats.head()"
   ],
   "metadata": {
    "collapsed": false,
    "pycharm": {
     "name": "#%%\n"
    }
   }
  },
  {
   "cell_type": "code",
   "execution_count": 31,
   "outputs": [
    {
     "data": {
      "text/plain": "        date          metric  theil_inequality  theil_bg_inequality  \\\n0 2019-01-07        avg_hops          0.019823             0.001079   \n1 2019-01-07          avg_tt          0.013044             0.000634   \n2 2019-01-07  thr_15min_pois          0.181922             0.004163   \n3 2019-01-14        avg_hops          0.019500             0.000175   \n4 2019-01-14          avg_tt          0.018573             0.000004   \n\n   theil_wg_inequality  year  month  quarter  size  \n0             0.018744  2019      1        1  1517  \n1             0.012410  2019      1        1  1517  \n2             0.177759  2019      1        1  1517  \n3             0.019325  2019      1        1  1517  \n4             0.018568  2019      1        1  1517  ",
      "text/html": "<div>\n<style scoped>\n    .dataframe tbody tr th:only-of-type {\n        vertical-align: middle;\n    }\n\n    .dataframe tbody tr th {\n        vertical-align: top;\n    }\n\n    .dataframe thead th {\n        text-align: right;\n    }\n</style>\n<table border=\"1\" class=\"dataframe\">\n  <thead>\n    <tr style=\"text-align: right;\">\n      <th></th>\n      <th>date</th>\n      <th>metric</th>\n      <th>theil_inequality</th>\n      <th>theil_bg_inequality</th>\n      <th>theil_wg_inequality</th>\n      <th>year</th>\n      <th>month</th>\n      <th>quarter</th>\n      <th>size</th>\n    </tr>\n  </thead>\n  <tbody>\n    <tr>\n      <th>0</th>\n      <td>2019-01-07</td>\n      <td>avg_hops</td>\n      <td>0.019823</td>\n      <td>0.001079</td>\n      <td>0.018744</td>\n      <td>2019</td>\n      <td>1</td>\n      <td>1</td>\n      <td>1517</td>\n    </tr>\n    <tr>\n      <th>1</th>\n      <td>2019-01-07</td>\n      <td>avg_tt</td>\n      <td>0.013044</td>\n      <td>0.000634</td>\n      <td>0.012410</td>\n      <td>2019</td>\n      <td>1</td>\n      <td>1</td>\n      <td>1517</td>\n    </tr>\n    <tr>\n      <th>2</th>\n      <td>2019-01-07</td>\n      <td>thr_15min_pois</td>\n      <td>0.181922</td>\n      <td>0.004163</td>\n      <td>0.177759</td>\n      <td>2019</td>\n      <td>1</td>\n      <td>1</td>\n      <td>1517</td>\n    </tr>\n    <tr>\n      <th>3</th>\n      <td>2019-01-14</td>\n      <td>avg_hops</td>\n      <td>0.019500</td>\n      <td>0.000175</td>\n      <td>0.019325</td>\n      <td>2019</td>\n      <td>1</td>\n      <td>1</td>\n      <td>1517</td>\n    </tr>\n    <tr>\n      <th>4</th>\n      <td>2019-01-14</td>\n      <td>avg_tt</td>\n      <td>0.018573</td>\n      <td>0.000004</td>\n      <td>0.018568</td>\n      <td>2019</td>\n      <td>1</td>\n      <td>1</td>\n      <td>1517</td>\n    </tr>\n  </tbody>\n</table>\n</div>"
     },
     "execution_count": 31,
     "metadata": {},
     "output_type": "execute_result"
    }
   ],
   "source": [
    "inequalities.head()"
   ],
   "metadata": {
    "collapsed": false,
    "pycharm": {
     "name": "#%%\n"
    }
   }
  },
  {
   "cell_type": "code",
   "execution_count": 32,
   "outputs": [
    {
     "data": {
      "text/plain": "        date          metric       slope   intercept   r_value       p_value  \\\n0 2019-01-07        avg_hops   -5.012126   16.166390 -0.337457  3.309578e-13   \n1 2019-01-07          avg_tt   -6.104845   27.555600 -0.272682  5.858667e-09   \n2 2019-01-07  thr_15min_pois  123.076292  119.448549  0.229868  1.066147e-06   \n3 2019-01-14        avg_hops   -0.750304    8.216196 -0.078765  9.854740e-02   \n4 2019-01-14          avg_tt    2.176464   13.055618  0.124105  9.083280e-03   \n\n     std_err  year  month  quarter  size  \n0   0.667295  2019      1        1  1517  \n1   1.028034  2019      1        1  1517  \n2  24.869951  2019      1        1  1517  \n3   0.453232  2019      1        1  1517  \n4   0.830537  2019      1        1  1517  ",
      "text/html": "<div>\n<style scoped>\n    .dataframe tbody tr th:only-of-type {\n        vertical-align: middle;\n    }\n\n    .dataframe tbody tr th {\n        vertical-align: top;\n    }\n\n    .dataframe thead th {\n        text-align: right;\n    }\n</style>\n<table border=\"1\" class=\"dataframe\">\n  <thead>\n    <tr style=\"text-align: right;\">\n      <th></th>\n      <th>date</th>\n      <th>metric</th>\n      <th>slope</th>\n      <th>intercept</th>\n      <th>r_value</th>\n      <th>p_value</th>\n      <th>std_err</th>\n      <th>year</th>\n      <th>month</th>\n      <th>quarter</th>\n      <th>size</th>\n    </tr>\n  </thead>\n  <tbody>\n    <tr>\n      <th>0</th>\n      <td>2019-01-07</td>\n      <td>avg_hops</td>\n      <td>-5.012126</td>\n      <td>16.166390</td>\n      <td>-0.337457</td>\n      <td>3.309578e-13</td>\n      <td>0.667295</td>\n      <td>2019</td>\n      <td>1</td>\n      <td>1</td>\n      <td>1517</td>\n    </tr>\n    <tr>\n      <th>1</th>\n      <td>2019-01-07</td>\n      <td>avg_tt</td>\n      <td>-6.104845</td>\n      <td>27.555600</td>\n      <td>-0.272682</td>\n      <td>5.858667e-09</td>\n      <td>1.028034</td>\n      <td>2019</td>\n      <td>1</td>\n      <td>1</td>\n      <td>1517</td>\n    </tr>\n    <tr>\n      <th>2</th>\n      <td>2019-01-07</td>\n      <td>thr_15min_pois</td>\n      <td>123.076292</td>\n      <td>119.448549</td>\n      <td>0.229868</td>\n      <td>1.066147e-06</td>\n      <td>24.869951</td>\n      <td>2019</td>\n      <td>1</td>\n      <td>1</td>\n      <td>1517</td>\n    </tr>\n    <tr>\n      <th>3</th>\n      <td>2019-01-14</td>\n      <td>avg_hops</td>\n      <td>-0.750304</td>\n      <td>8.216196</td>\n      <td>-0.078765</td>\n      <td>9.854740e-02</td>\n      <td>0.453232</td>\n      <td>2019</td>\n      <td>1</td>\n      <td>1</td>\n      <td>1517</td>\n    </tr>\n    <tr>\n      <th>4</th>\n      <td>2019-01-14</td>\n      <td>avg_tt</td>\n      <td>2.176464</td>\n      <td>13.055618</td>\n      <td>0.124105</td>\n      <td>9.083280e-03</td>\n      <td>0.830537</td>\n      <td>2019</td>\n      <td>1</td>\n      <td>1</td>\n      <td>1517</td>\n    </tr>\n  </tbody>\n</table>\n</div>"
     },
     "execution_count": 32,
     "metadata": {},
     "output_type": "execute_result"
    }
   ],
   "source": [
    "nw_to_w_trend.head()"
   ],
   "metadata": {
    "collapsed": false,
    "pycharm": {
     "name": "#%%\n"
    }
   }
  },
  {
   "cell_type": "markdown",
   "source": [
    "# Identify most unequal setting"
   ],
   "metadata": {
    "collapsed": false,
    "pycharm": {
     "name": "#%% md\n"
    }
   }
  },
  {
   "cell_type": "code",
   "execution_count": 33,
   "outputs": [],
   "source": [
    "total_inequalities = inequalities[inequalities.metric == 'thr_15min_pois']['theil_inequality'].to_numpy() + inequalities[inequalities.metric == 'avg_tt']['theil_inequality'].to_numpy()\n",
    "most_unequal_idx = np.argmax(total_inequalities)"
   ],
   "metadata": {
    "collapsed": false,
    "pycharm": {
     "name": "#%%\n"
    }
   }
  },
  {
   "cell_type": "code",
   "execution_count": 34,
   "outputs": [
    {
     "name": "stdout",
     "output_type": "stream",
     "text": [
      "2019-04-01 00:00:00\n"
     ]
    }
   ],
   "source": [
    "most_unequal_date = inequalities[inequalities.metric=='thr_15min_pois'].iloc[most_unequal_idx,:].date\n",
    "print(most_unequal_date)\n",
    "most_unequal_date = most_unequal_date.date().isoformat().replace('-','')"
   ],
   "metadata": {
    "collapsed": false,
    "pycharm": {
     "name": "#%%\n"
    }
   }
  },
  {
   "cell_type": "code",
   "execution_count": 35,
   "outputs": [],
   "source": [
    "unequal_graph = [g for g in graphs if most_unequal_date in str(g)][0]\n",
    "g = ig.read(unequal_graph)"
   ],
   "metadata": {
    "collapsed": false,
    "pycharm": {
     "name": "#%%\n"
    }
   }
  },
  {
   "cell_type": "code",
   "execution_count": 36,
   "outputs": [
    {
     "name": "stdout",
     "output_type": "stream",
     "text": [
      "Size of unequal graph before removal: 1507\n",
      "Number of removed edges: 11\n",
      "Size of cleaned unequal graph: 1461\n",
      "Edge set size difference between base graph and unequal graph: 392\n"
     ]
    }
   ],
   "source": [
    "print(f\"Size of unequal graph before removal: {len(g.es)}\")\n",
    "wrong_vertices = g.vs.select(x_eq=0,y_eq=0)\n",
    "print(f\"Number of removed edges: {len(g.subgraph(wrong_vertices).es)}\")\n",
    "g.delete_vertices(wrong_vertices)\n",
    "print(f\"Size of cleaned unequal graph: {len(g.es)}\")\n",
    "print(f\"Edge set size difference between base graph and unequal graph: {ref_n_edges_len_2019 - len(g.es)}\")"
   ],
   "metadata": {
    "collapsed": false,
    "pycharm": {
     "name": "#%%\n"
    }
   }
  },
  {
   "cell_type": "code",
   "execution_count": 37,
   "outputs": [],
   "source": [
    "# fig, ax = plt.subplots(figsize=(12,12))\n",
    "# ax = ams_nb.to_crs(epsg=4326).plot(ax=ax, alpha=0)\n",
    "# cx.add_basemap(ax, crs='epsg:4326')\n",
    "# ax = ig.plot(g, target=ax)"
   ],
   "metadata": {
    "collapsed": false,
    "pycharm": {
     "name": "#%%\n"
    }
   }
  },
  {
   "cell_type": "markdown",
   "source": [
    "# Group difference computation"
   ],
   "metadata": {
    "collapsed": false,
    "pycharm": {
     "name": "#%% md\n"
    }
   }
  },
  {
   "cell_type": "code",
   "execution_count": 38,
   "outputs": [],
   "source": [
    "overall_inequalities = inequalities.groupby('date').sum()['theil_inequality']"
   ],
   "metadata": {
    "collapsed": false,
    "pycharm": {
     "name": "#%%\n"
    }
   }
  },
  {
   "cell_type": "code",
   "execution_count": 39,
   "outputs": [
    {
     "data": {
      "text/plain": "        date  size  theil_inequality  year\n0 2019-01-07  1517          0.214788  2019\n1 2019-01-14  1517          0.116141  2019\n2 2019-01-21  1517          0.215308  2019\n3 2019-01-28  1513          0.214257  2019\n4 2019-02-04  1517          0.215470  2019",
      "text/html": "<div>\n<style scoped>\n    .dataframe tbody tr th:only-of-type {\n        vertical-align: middle;\n    }\n\n    .dataframe tbody tr th {\n        vertical-align: top;\n    }\n\n    .dataframe thead th {\n        text-align: right;\n    }\n</style>\n<table border=\"1\" class=\"dataframe\">\n  <thead>\n    <tr style=\"text-align: right;\">\n      <th></th>\n      <th>date</th>\n      <th>size</th>\n      <th>theil_inequality</th>\n      <th>year</th>\n    </tr>\n  </thead>\n  <tbody>\n    <tr>\n      <th>0</th>\n      <td>2019-01-07</td>\n      <td>1517</td>\n      <td>0.214788</td>\n      <td>2019</td>\n    </tr>\n    <tr>\n      <th>1</th>\n      <td>2019-01-14</td>\n      <td>1517</td>\n      <td>0.116141</td>\n      <td>2019</td>\n    </tr>\n    <tr>\n      <th>2</th>\n      <td>2019-01-21</td>\n      <td>1517</td>\n      <td>0.215308</td>\n      <td>2019</td>\n    </tr>\n    <tr>\n      <th>3</th>\n      <td>2019-01-28</td>\n      <td>1513</td>\n      <td>0.214257</td>\n      <td>2019</td>\n    </tr>\n    <tr>\n      <th>4</th>\n      <td>2019-02-04</td>\n      <td>1517</td>\n      <td>0.215470</td>\n      <td>2019</td>\n    </tr>\n  </tbody>\n</table>\n</div>"
     },
     "execution_count": 39,
     "metadata": {},
     "output_type": "execute_result"
    }
   ],
   "source": [
    "ineq_over_time = pd.merge(graph_sizes_df, overall_inequalities, on='date')\n",
    "ineq_over_time['year'] = pd.DatetimeIndex(ineq_over_time.date).year\n",
    "ineq_over_time.head()"
   ],
   "metadata": {
    "collapsed": false,
    "pycharm": {
     "name": "#%%\n"
    }
   }
  },
  {
   "cell_type": "code",
   "execution_count": 40,
   "outputs": [
    {
     "data": {
      "text/plain": "           theil_inequality_yearly size_yearly  year\n                                                    \ndate                                                \n2019-01-03                0.199509        1853  2019\n2020-12-30                0.201138        1803  2020\n2021-01-03                0.217126        1611  2021",
      "text/html": "<div>\n<style scoped>\n    .dataframe tbody tr th:only-of-type {\n        vertical-align: middle;\n    }\n\n    .dataframe tbody tr th {\n        vertical-align: top;\n    }\n\n    .dataframe thead tr th {\n        text-align: left;\n    }\n\n    .dataframe thead tr:last-of-type th {\n        text-align: right;\n    }\n</style>\n<table border=\"1\" class=\"dataframe\">\n  <thead>\n    <tr>\n      <th></th>\n      <th>theil_inequality_yearly</th>\n      <th>size_yearly</th>\n      <th>year</th>\n    </tr>\n    <tr>\n      <th></th>\n      <th></th>\n      <th></th>\n      <th></th>\n    </tr>\n    <tr>\n      <th>date</th>\n      <th></th>\n      <th></th>\n      <th></th>\n    </tr>\n  </thead>\n  <tbody>\n    <tr>\n      <th>2019-01-03</th>\n      <td>0.199509</td>\n      <td>1853</td>\n      <td>2019</td>\n    </tr>\n    <tr>\n      <th>2020-12-30</th>\n      <td>0.201138</td>\n      <td>1803</td>\n      <td>2020</td>\n    </tr>\n    <tr>\n      <th>2021-01-03</th>\n      <td>0.217126</td>\n      <td>1611</td>\n      <td>2021</td>\n    </tr>\n  </tbody>\n</table>\n</div>"
     },
     "execution_count": 40,
     "metadata": {},
     "output_type": "execute_result"
    }
   ],
   "source": [
    "ref_total_ineq = ref_inequalities.groupby('date').agg({'theil_inequality': ['sum'], 'size': ['max']})\n",
    "ref_total_ineq['theil_inequality_yearly'] = ref_total_ineq[('theil_inequality', 'sum')]\n",
    "del ref_total_ineq[('theil_inequality', 'sum')]\n",
    "ref_total_ineq['size_yearly'] = ref_total_ineq[('size', 'max')]\n",
    "del ref_total_ineq[('size', 'max')]\n",
    "ref_total_ineq['year'] = pd.DatetimeIndex(ref_total_ineq.index).year\n",
    "ref_total_ineq.head()"
   ],
   "metadata": {
    "collapsed": false,
    "pycharm": {
     "name": "#%%\n"
    }
   }
  },
  {
   "cell_type": "code",
   "execution_count": 41,
   "outputs": [
    {
     "name": "stderr",
     "output_type": "stream",
     "text": [
      "<ipython-input-41-9d5111f713c2>:1: FutureWarning: merging between different levels is deprecated and will be removed in a future version. (1 levels on the left, 2 on the right)\n",
      "  ineq_over_time = pd.merge(ineq_over_time, ref_total_ineq, on='year')\n"
     ]
    },
    {
     "data": {
      "text/plain": "        date  size  theil_inequality  year  (theil_inequality_yearly, )  \\\n0 2019-01-07  1517          0.214788  2019                     0.199509   \n1 2019-01-14  1517          0.116141  2019                     0.199509   \n2 2019-01-21  1517          0.215308  2019                     0.199509   \n3 2019-01-28  1513          0.214257  2019                     0.199509   \n4 2019-02-04  1517          0.215470  2019                     0.199509   \n\n   (size_yearly, )  \n0             1853  \n1             1853  \n2             1853  \n3             1853  \n4             1853  ",
      "text/html": "<div>\n<style scoped>\n    .dataframe tbody tr th:only-of-type {\n        vertical-align: middle;\n    }\n\n    .dataframe tbody tr th {\n        vertical-align: top;\n    }\n\n    .dataframe thead th {\n        text-align: right;\n    }\n</style>\n<table border=\"1\" class=\"dataframe\">\n  <thead>\n    <tr style=\"text-align: right;\">\n      <th></th>\n      <th>date</th>\n      <th>size</th>\n      <th>theil_inequality</th>\n      <th>year</th>\n      <th>(theil_inequality_yearly, )</th>\n      <th>(size_yearly, )</th>\n    </tr>\n  </thead>\n  <tbody>\n    <tr>\n      <th>0</th>\n      <td>2019-01-07</td>\n      <td>1517</td>\n      <td>0.214788</td>\n      <td>2019</td>\n      <td>0.199509</td>\n      <td>1853</td>\n    </tr>\n    <tr>\n      <th>1</th>\n      <td>2019-01-14</td>\n      <td>1517</td>\n      <td>0.116141</td>\n      <td>2019</td>\n      <td>0.199509</td>\n      <td>1853</td>\n    </tr>\n    <tr>\n      <th>2</th>\n      <td>2019-01-21</td>\n      <td>1517</td>\n      <td>0.215308</td>\n      <td>2019</td>\n      <td>0.199509</td>\n      <td>1853</td>\n    </tr>\n    <tr>\n      <th>3</th>\n      <td>2019-01-28</td>\n      <td>1513</td>\n      <td>0.214257</td>\n      <td>2019</td>\n      <td>0.199509</td>\n      <td>1853</td>\n    </tr>\n    <tr>\n      <th>4</th>\n      <td>2019-02-04</td>\n      <td>1517</td>\n      <td>0.215470</td>\n      <td>2019</td>\n      <td>0.199509</td>\n      <td>1853</td>\n    </tr>\n  </tbody>\n</table>\n</div>"
     },
     "execution_count": 41,
     "metadata": {},
     "output_type": "execute_result"
    }
   ],
   "source": [
    "ineq_over_time = pd.merge(ineq_over_time, ref_total_ineq, on='year')\n",
    "ineq_over_time.head()"
   ],
   "metadata": {
    "collapsed": false,
    "pycharm": {
     "name": "#%%\n"
    }
   }
  },
  {
   "cell_type": "code",
   "execution_count": 42,
   "outputs": [
    {
     "data": {
      "text/plain": "Index([                         'date',                          'size',\n                    'theil_inequality',                          'year',\n       ('theil_inequality_yearly', ''),             ('size_yearly', '')],\n      dtype='object')"
     },
     "execution_count": 42,
     "metadata": {},
     "output_type": "execute_result"
    }
   ],
   "source": [
    "ineq_over_time.columns"
   ],
   "metadata": {
    "collapsed": false,
    "pycharm": {
     "name": "#%%\n"
    }
   }
  },
  {
   "cell_type": "code",
   "execution_count": 43,
   "outputs": [
    {
     "data": {
      "text/plain": "            size  theil_inequality  year  ('theil_inequality_yearly', '')  \\\ndate                                                                        \n2019-01-07  1517          0.214788  2019                         0.199509   \n2019-01-14  1517          0.116141  2019                         0.199509   \n2019-01-21  1517          0.215308  2019                         0.199509   \n2019-01-28  1513          0.214257  2019                         0.199509   \n2019-02-04  1517          0.215470  2019                         0.199509   \n\n            ('size_yearly', '')  size_mean  theil_inequality_mean  \\\ndate                                                                \n2019-01-07                 1853    1511.64               0.211946   \n2019-01-14                 1853    1511.64               0.211946   \n2019-01-21                 1853    1511.64               0.211946   \n2019-01-28                 1853    1511.64               0.211946   \n2019-02-04                 1853    1511.64               0.211946   \n\n            ('theil_inequality_yearly', '')_mean  ('size_yearly', '')_mean  \ndate                                                                        \n2019-01-07                              0.199509                    1853.0  \n2019-01-14                              0.199509                    1853.0  \n2019-01-21                              0.199509                    1853.0  \n2019-01-28                              0.199509                    1853.0  \n2019-02-04                              0.199509                    1853.0  ",
      "text/html": "<div>\n<style scoped>\n    .dataframe tbody tr th:only-of-type {\n        vertical-align: middle;\n    }\n\n    .dataframe tbody tr th {\n        vertical-align: top;\n    }\n\n    .dataframe thead th {\n        text-align: right;\n    }\n</style>\n<table border=\"1\" class=\"dataframe\">\n  <thead>\n    <tr style=\"text-align: right;\">\n      <th></th>\n      <th>size</th>\n      <th>theil_inequality</th>\n      <th>year</th>\n      <th>('theil_inequality_yearly', '')</th>\n      <th>('size_yearly', '')</th>\n      <th>size_mean</th>\n      <th>theil_inequality_mean</th>\n      <th>('theil_inequality_yearly', '')_mean</th>\n      <th>('size_yearly', '')_mean</th>\n    </tr>\n    <tr>\n      <th>date</th>\n      <th></th>\n      <th></th>\n      <th></th>\n      <th></th>\n      <th></th>\n      <th></th>\n      <th></th>\n      <th></th>\n      <th></th>\n    </tr>\n  </thead>\n  <tbody>\n    <tr>\n      <th>2019-01-07</th>\n      <td>1517</td>\n      <td>0.214788</td>\n      <td>2019</td>\n      <td>0.199509</td>\n      <td>1853</td>\n      <td>1511.64</td>\n      <td>0.211946</td>\n      <td>0.199509</td>\n      <td>1853.0</td>\n    </tr>\n    <tr>\n      <th>2019-01-14</th>\n      <td>1517</td>\n      <td>0.116141</td>\n      <td>2019</td>\n      <td>0.199509</td>\n      <td>1853</td>\n      <td>1511.64</td>\n      <td>0.211946</td>\n      <td>0.199509</td>\n      <td>1853.0</td>\n    </tr>\n    <tr>\n      <th>2019-01-21</th>\n      <td>1517</td>\n      <td>0.215308</td>\n      <td>2019</td>\n      <td>0.199509</td>\n      <td>1853</td>\n      <td>1511.64</td>\n      <td>0.211946</td>\n      <td>0.199509</td>\n      <td>1853.0</td>\n    </tr>\n    <tr>\n      <th>2019-01-28</th>\n      <td>1513</td>\n      <td>0.214257</td>\n      <td>2019</td>\n      <td>0.199509</td>\n      <td>1853</td>\n      <td>1511.64</td>\n      <td>0.211946</td>\n      <td>0.199509</td>\n      <td>1853.0</td>\n    </tr>\n    <tr>\n      <th>2019-02-04</th>\n      <td>1517</td>\n      <td>0.215470</td>\n      <td>2019</td>\n      <td>0.199509</td>\n      <td>1853</td>\n      <td>1511.64</td>\n      <td>0.211946</td>\n      <td>0.199509</td>\n      <td>1853.0</td>\n    </tr>\n  </tbody>\n</table>\n</div>"
     },
     "execution_count": 43,
     "metadata": {},
     "output_type": "execute_result"
    }
   ],
   "source": [
    "ineq_over_time_avgs = ineq_over_time.groupby('year').mean()\n",
    "ineq_over_time = pd.merge(ineq_over_time, ineq_over_time_avgs, on='year', suffixes=['','_mean'])\n",
    "ineq_over_time = ineq_over_time.set_index('date')\n",
    "ineq_over_time.head()"
   ],
   "metadata": {
    "collapsed": false,
    "pycharm": {
     "name": "#%%\n"
    }
   }
  },
  {
   "cell_type": "markdown",
   "source": [
    "# Plotting"
   ],
   "metadata": {
    "collapsed": false,
    "pycharm": {
     "name": "#%% md\n"
    }
   }
  },
  {
   "cell_type": "markdown",
   "source": [
    "## Inequality over time"
   ],
   "metadata": {
    "collapsed": false,
    "pycharm": {
     "name": "#%% md\n"
    }
   }
  },
  {
   "cell_type": "code",
   "execution_count": 44,
   "outputs": [],
   "source": [
    "start = datetime.datetime(2019,1,1,0,0,0)\n",
    "end = datetime.datetime(2023,1,1,0,0,0)\n",
    "years = mdates.drange(start,end,datetime.timedelta(days=366))"
   ],
   "metadata": {
    "collapsed": false,
    "pycharm": {
     "name": "#%%\n"
    }
   }
  },
  {
   "cell_type": "code",
   "execution_count": 45,
   "outputs": [
    {
     "data": {
      "text/plain": "                   size  theil_inequality    year  \\\ndate                                                \n2019-01-07  1517.000000          0.214788  2019.0   \n2019-01-14  1517.000000          0.165465  2019.0   \n2019-01-21  1517.000000          0.182079  2019.0   \n2019-01-28  1516.000000          0.190124  2019.0   \n2019-02-04  1516.200000          0.195193  2019.0   \n...                 ...               ...     ...   \n2021-11-29  1396.937500          0.203874  2021.0   \n2021-12-06  1397.500000          0.201138  2021.0   \n2021-12-13  1396.882353          0.192967  2021.0   \n2021-12-20  1396.647059          0.183023  2021.0   \n2021-12-27  1395.529412          0.182801  2021.0   \n\n            ('theil_inequality_yearly', '')  ('size_yearly', '')  size_mean  \\\ndate                                                                          \n2019-01-07                         0.199509               1853.0    1511.64   \n2019-01-14                         0.199509               1853.0    1511.64   \n2019-01-21                         0.199509               1853.0    1511.64   \n2019-01-28                         0.199509               1853.0    1511.64   \n2019-02-04                         0.199509               1853.0    1511.64   \n...                                     ...                  ...        ...   \n2021-11-29                         0.217126               1611.0    1384.70   \n2021-12-06                         0.217126               1611.0    1384.70   \n2021-12-13                         0.217126               1611.0    1384.70   \n2021-12-20                         0.217126               1611.0    1384.70   \n2021-12-27                         0.217126               1611.0    1384.70   \n\n            theil_inequality_mean  ('theil_inequality_yearly', '')_mean  \\\ndate                                                                      \n2019-01-07               0.211946                              0.199509   \n2019-01-14               0.211946                              0.199509   \n2019-01-21               0.211946                              0.199509   \n2019-01-28               0.211946                              0.199509   \n2019-02-04               0.211946                              0.199509   \n...                           ...                                   ...   \n2021-11-29               0.206879                              0.217126   \n2021-12-06               0.206879                              0.217126   \n2021-12-13               0.206879                              0.217126   \n2021-12-20               0.206879                              0.217126   \n2021-12-27               0.206879                              0.217126   \n\n            ('size_yearly', '')_mean  \ndate                                  \n2019-01-07                    1853.0  \n2019-01-14                    1853.0  \n2019-01-21                    1853.0  \n2019-01-28                    1853.0  \n2019-02-04                    1853.0  \n...                              ...  \n2021-11-29                    1611.0  \n2021-12-06                    1611.0  \n2021-12-13                    1611.0  \n2021-12-20                    1611.0  \n2021-12-27                    1611.0  \n\n[150 rows x 9 columns]",
      "text/html": "<div>\n<style scoped>\n    .dataframe tbody tr th:only-of-type {\n        vertical-align: middle;\n    }\n\n    .dataframe tbody tr th {\n        vertical-align: top;\n    }\n\n    .dataframe thead th {\n        text-align: right;\n    }\n</style>\n<table border=\"1\" class=\"dataframe\">\n  <thead>\n    <tr style=\"text-align: right;\">\n      <th></th>\n      <th>size</th>\n      <th>theil_inequality</th>\n      <th>year</th>\n      <th>('theil_inequality_yearly', '')</th>\n      <th>('size_yearly', '')</th>\n      <th>size_mean</th>\n      <th>theil_inequality_mean</th>\n      <th>('theil_inequality_yearly', '')_mean</th>\n      <th>('size_yearly', '')_mean</th>\n    </tr>\n    <tr>\n      <th>date</th>\n      <th></th>\n      <th></th>\n      <th></th>\n      <th></th>\n      <th></th>\n      <th></th>\n      <th></th>\n      <th></th>\n      <th></th>\n    </tr>\n  </thead>\n  <tbody>\n    <tr>\n      <th>2019-01-07</th>\n      <td>1517.000000</td>\n      <td>0.214788</td>\n      <td>2019.0</td>\n      <td>0.199509</td>\n      <td>1853.0</td>\n      <td>1511.64</td>\n      <td>0.211946</td>\n      <td>0.199509</td>\n      <td>1853.0</td>\n    </tr>\n    <tr>\n      <th>2019-01-14</th>\n      <td>1517.000000</td>\n      <td>0.165465</td>\n      <td>2019.0</td>\n      <td>0.199509</td>\n      <td>1853.0</td>\n      <td>1511.64</td>\n      <td>0.211946</td>\n      <td>0.199509</td>\n      <td>1853.0</td>\n    </tr>\n    <tr>\n      <th>2019-01-21</th>\n      <td>1517.000000</td>\n      <td>0.182079</td>\n      <td>2019.0</td>\n      <td>0.199509</td>\n      <td>1853.0</td>\n      <td>1511.64</td>\n      <td>0.211946</td>\n      <td>0.199509</td>\n      <td>1853.0</td>\n    </tr>\n    <tr>\n      <th>2019-01-28</th>\n      <td>1516.000000</td>\n      <td>0.190124</td>\n      <td>2019.0</td>\n      <td>0.199509</td>\n      <td>1853.0</td>\n      <td>1511.64</td>\n      <td>0.211946</td>\n      <td>0.199509</td>\n      <td>1853.0</td>\n    </tr>\n    <tr>\n      <th>2019-02-04</th>\n      <td>1516.200000</td>\n      <td>0.195193</td>\n      <td>2019.0</td>\n      <td>0.199509</td>\n      <td>1853.0</td>\n      <td>1511.64</td>\n      <td>0.211946</td>\n      <td>0.199509</td>\n      <td>1853.0</td>\n    </tr>\n    <tr>\n      <th>...</th>\n      <td>...</td>\n      <td>...</td>\n      <td>...</td>\n      <td>...</td>\n      <td>...</td>\n      <td>...</td>\n      <td>...</td>\n      <td>...</td>\n      <td>...</td>\n    </tr>\n    <tr>\n      <th>2021-11-29</th>\n      <td>1396.937500</td>\n      <td>0.203874</td>\n      <td>2021.0</td>\n      <td>0.217126</td>\n      <td>1611.0</td>\n      <td>1384.70</td>\n      <td>0.206879</td>\n      <td>0.217126</td>\n      <td>1611.0</td>\n    </tr>\n    <tr>\n      <th>2021-12-06</th>\n      <td>1397.500000</td>\n      <td>0.201138</td>\n      <td>2021.0</td>\n      <td>0.217126</td>\n      <td>1611.0</td>\n      <td>1384.70</td>\n      <td>0.206879</td>\n      <td>0.217126</td>\n      <td>1611.0</td>\n    </tr>\n    <tr>\n      <th>2021-12-13</th>\n      <td>1396.882353</td>\n      <td>0.192967</td>\n      <td>2021.0</td>\n      <td>0.217126</td>\n      <td>1611.0</td>\n      <td>1384.70</td>\n      <td>0.206879</td>\n      <td>0.217126</td>\n      <td>1611.0</td>\n    </tr>\n    <tr>\n      <th>2021-12-20</th>\n      <td>1396.647059</td>\n      <td>0.183023</td>\n      <td>2021.0</td>\n      <td>0.217126</td>\n      <td>1611.0</td>\n      <td>1384.70</td>\n      <td>0.206879</td>\n      <td>0.217126</td>\n      <td>1611.0</td>\n    </tr>\n    <tr>\n      <th>2021-12-27</th>\n      <td>1395.529412</td>\n      <td>0.182801</td>\n      <td>2021.0</td>\n      <td>0.217126</td>\n      <td>1611.0</td>\n      <td>1384.70</td>\n      <td>0.206879</td>\n      <td>0.217126</td>\n      <td>1611.0</td>\n    </tr>\n  </tbody>\n</table>\n<p>150 rows × 9 columns</p>\n</div>"
     },
     "execution_count": 45,
     "metadata": {},
     "output_type": "execute_result"
    }
   ],
   "source": [
    "ineq_over_time_smoothed = ineq_over_time.rolling('120D').mean()\n",
    "ineq_over_time_smoothed"
   ],
   "metadata": {
    "collapsed": false,
    "pycharm": {
     "name": "#%%\n"
    }
   }
  },
  {
   "cell_type": "code",
   "execution_count": 46,
   "outputs": [],
   "source": [
    "# Data\n",
    "dates_data = ineq_over_time_smoothed.index\n",
    "theil_ineq_data = ineq_over_time_smoothed.theil_inequality\n",
    "size_data = ineq_over_time_smoothed['size']\n",
    "mean_size_data = ineq_over_time_smoothed.size_mean\n",
    "theil_ineq_mean_data = ineq_over_time_smoothed.theil_inequality_mean"
   ],
   "metadata": {
    "collapsed": false,
    "pycharm": {
     "name": "#%%\n"
    }
   }
  },
  {
   "cell_type": "code",
   "execution_count": 47,
   "outputs": [
    {
     "data": {
      "text/plain": "<Figure size 756x432 with 2 Axes>",
      "image/png": "[encoded data removed]"
     },
     "metadata": {
      "needs_background": "light"
     },
     "output_type": "display_data"
    }
   ],
   "source": [
    "fig,ax = plt.subplots(figsize=(10.5,6))\n",
    "\n",
    "l1 = ax.plot(dates_data, theil_ineq_data, color='teal', label='quarterly smoothed inequality')\n",
    "# ineq_over_time.plot('date', \"('theil_inequality_yearly', '')\", ax=ax, style='-.', label='yearly base inequality').legend(loc='lower left')\n",
    "l2 = ax.plot(dates_data, theil_ineq_mean_data, '--', color='darkslategray', label='yearly mean inequality')\n",
    "\n",
    "now = datetime.datetime(2019,1,1,0,0,0)\n",
    "then = datetime.datetime(2023,1,1,0,0,0)\n",
    "years = mdates.drange(now,then,datetime.timedelta(days=366))\n",
    "ax.set_xticks(years)\n",
    "\n",
    "ax2 = ax.twinx()\n",
    "l3 = ax2.plot(dates_data, size_data, color='purple', label='quarterly smoothed network size')\n",
    "# ineq_over_time.plot('date', \"('size_yearly', '')\", ax=ax2, color='purple', style='-.', label='yearly base network size').legend(loc='upper right')\n",
    "l4 = ax2.plot(dates_data, mean_size_data, '--', color='mediumpurple', label='yearly mean network size')\n",
    "\n",
    "lns = l1+l2+l3+l4\n",
    "labs = [l.get_label() for l in lns]\n",
    "ax.legend(lns, labs, loc=3)\n",
    "ax.xaxis.labelpad = 20\n",
    "ax2.grid(None)\n",
    "# ax.set_title(\"Egalitarian reward and PTN size over time\\nquarterly smoothed\")\n",
    "ax.set_ylabel(\"Cumulative Theil T Inequality\")\n",
    "ax.set_ylim(0.14,0.24)\n",
    "ax2.set_ylabel(\"Number of transit edges\", labelpad=20)\n",
    "ax2.set_ylim(1350,1600)\n",
    "ax.set_xlabel(\"Years\")\n",
    "\n",
    "ax.yaxis.label.set_color('teal')\n",
    "ax.tick_params(axis='y', colors='teal')\n",
    "\n",
    "ax2.yaxis.label.set_color('purple')\n",
    "ax2.tick_params(axis='y', colors='purple')\n",
    "\n",
    "fig.tight_layout()\n",
    "\n",
    "# fig.savefig('plots/ams_analysis/inequality_size_over_years.png')\n",
    "# fig.savefig('/home/rico/Documents/thesis/paper/overleaf/62a466789b2183065a639cda/content-media/inequality_size_over_years.png')\n",
    "# fig.savefig('/home/rico/Documents/thesis/paper/overleaf/62a466789b2183065a639cda/content-media/inequality_size_over_years.svg')\n",
    "\n"
   ],
   "metadata": {
    "collapsed": false,
    "pycharm": {
     "name": "#%%\n"
    }
   }
  },
  {
   "cell_type": "code",
   "execution_count": 48,
   "outputs": [
    {
     "data": {
      "text/plain": "0.08405029781601589"
     },
     "execution_count": 48,
     "metadata": {},
     "output_type": "execute_result"
    }
   ],
   "source": [
    "127/1511"
   ],
   "metadata": {
    "collapsed": false,
    "pycharm": {
     "name": "#%%\n"
    }
   }
  },
  {
   "cell_type": "markdown",
   "source": [
    "## Correlation metric over non-western/western over time"
   ],
   "metadata": {
    "collapsed": false,
    "pycharm": {
     "name": "#%% md\n"
    }
   }
  },
  {
   "cell_type": "code",
   "execution_count": 49,
   "outputs": [
    {
     "data": {
      "text/plain": "          date  metric     slope  intercept   r_value       p_value   std_err  \\\n1   2019-01-07  avg_tt -6.104845  27.555600 -0.272682  5.858667e-09  1.028034   \n4   2019-01-14  avg_tt  2.176464  13.055618  0.124105  9.083280e-03  0.830537   \n6   2019-01-21  avg_tt -6.160150  27.547670 -0.274398  4.661595e-09  1.030340   \n10  2019-01-28  avg_tt -6.086131  27.543073 -0.272014  6.401755e-09  1.027603   \n13  2019-02-04  avg_tt -6.119169  27.534452 -0.272766  5.793551e-09  1.030103   \n..         ...     ...       ...        ...       ...           ...       ...   \n453 2021-11-29  avg_tt -5.696380  27.634737 -0.213276  6.237839e-06  1.245422   \n456 2021-12-06  avg_tt  0.191864  15.090947  0.008200  8.641256e-01  1.120532   \n461 2021-12-13  avg_tt  2.199445  11.277693  0.112203  1.896379e-02  0.933929   \n464 2021-12-20  avg_tt  2.667345  10.427095  0.136217  4.334798e-03  0.930112   \n467 2021-12-27  avg_tt -5.543345  27.465236 -0.210924  7.925551e-06  1.226117   \n\n     year  month  quarter  size  \n1    2019      1        1  1517  \n4    2019      1        1  1517  \n6    2019      1        1  1517  \n10   2019      1        1  1513  \n13   2019      2        1  1517  \n..    ...    ...      ...   ...  \n453  2021     11        4  1395  \n456  2021     12        4  1396  \n461  2021     12        4  1387  \n464  2021     12        4  1382  \n467  2021     12        4  1386  \n\n[150 rows x 11 columns]",
      "text/html": "<div>\n<style scoped>\n    .dataframe tbody tr th:only-of-type {\n        vertical-align: middle;\n    }\n\n    .dataframe tbody tr th {\n        vertical-align: top;\n    }\n\n    .dataframe thead th {\n        text-align: right;\n    }\n</style>\n<table border=\"1\" class=\"dataframe\">\n  <thead>\n    <tr style=\"text-align: right;\">\n      <th></th>\n      <th>date</th>\n      <th>metric</th>\n      <th>slope</th>\n      <th>intercept</th>\n      <th>r_value</th>\n      <th>p_value</th>\n      <th>std_err</th>\n      <th>year</th>\n      <th>month</th>\n      <th>quarter</th>\n      <th>size</th>\n    </tr>\n  </thead>\n  <tbody>\n    <tr>\n      <th>1</th>\n      <td>2019-01-07</td>\n      <td>avg_tt</td>\n      <td>-6.104845</td>\n      <td>27.555600</td>\n      <td>-0.272682</td>\n      <td>5.858667e-09</td>\n      <td>1.028034</td>\n      <td>2019</td>\n      <td>1</td>\n      <td>1</td>\n      <td>1517</td>\n    </tr>\n    <tr>\n      <th>4</th>\n      <td>2019-01-14</td>\n      <td>avg_tt</td>\n      <td>2.176464</td>\n      <td>13.055618</td>\n      <td>0.124105</td>\n      <td>9.083280e-03</td>\n      <td>0.830537</td>\n      <td>2019</td>\n      <td>1</td>\n      <td>1</td>\n      <td>1517</td>\n    </tr>\n    <tr>\n      <th>6</th>\n      <td>2019-01-21</td>\n      <td>avg_tt</td>\n      <td>-6.160150</td>\n      <td>27.547670</td>\n      <td>-0.274398</td>\n      <td>4.661595e-09</td>\n      <td>1.030340</td>\n      <td>2019</td>\n      <td>1</td>\n      <td>1</td>\n      <td>1517</td>\n    </tr>\n    <tr>\n      <th>10</th>\n      <td>2019-01-28</td>\n      <td>avg_tt</td>\n      <td>-6.086131</td>\n      <td>27.543073</td>\n      <td>-0.272014</td>\n      <td>6.401755e-09</td>\n      <td>1.027603</td>\n      <td>2019</td>\n      <td>1</td>\n      <td>1</td>\n      <td>1513</td>\n    </tr>\n    <tr>\n      <th>13</th>\n      <td>2019-02-04</td>\n      <td>avg_tt</td>\n      <td>-6.119169</td>\n      <td>27.534452</td>\n      <td>-0.272766</td>\n      <td>5.793551e-09</td>\n      <td>1.030103</td>\n      <td>2019</td>\n      <td>2</td>\n      <td>1</td>\n      <td>1517</td>\n    </tr>\n    <tr>\n      <th>...</th>\n      <td>...</td>\n      <td>...</td>\n      <td>...</td>\n      <td>...</td>\n      <td>...</td>\n      <td>...</td>\n      <td>...</td>\n      <td>...</td>\n      <td>...</td>\n      <td>...</td>\n      <td>...</td>\n    </tr>\n    <tr>\n      <th>453</th>\n      <td>2021-11-29</td>\n      <td>avg_tt</td>\n      <td>-5.696380</td>\n      <td>27.634737</td>\n      <td>-0.213276</td>\n      <td>6.237839e-06</td>\n      <td>1.245422</td>\n      <td>2021</td>\n      <td>11</td>\n      <td>4</td>\n      <td>1395</td>\n    </tr>\n    <tr>\n      <th>456</th>\n      <td>2021-12-06</td>\n      <td>avg_tt</td>\n      <td>0.191864</td>\n      <td>15.090947</td>\n      <td>0.008200</td>\n      <td>8.641256e-01</td>\n      <td>1.120532</td>\n      <td>2021</td>\n      <td>12</td>\n      <td>4</td>\n      <td>1396</td>\n    </tr>\n    <tr>\n      <th>461</th>\n      <td>2021-12-13</td>\n      <td>avg_tt</td>\n      <td>2.199445</td>\n      <td>11.277693</td>\n      <td>0.112203</td>\n      <td>1.896379e-02</td>\n      <td>0.933929</td>\n      <td>2021</td>\n      <td>12</td>\n      <td>4</td>\n      <td>1387</td>\n    </tr>\n    <tr>\n      <th>464</th>\n      <td>2021-12-20</td>\n      <td>avg_tt</td>\n      <td>2.667345</td>\n      <td>10.427095</td>\n      <td>0.136217</td>\n      <td>4.334798e-03</td>\n      <td>0.930112</td>\n      <td>2021</td>\n      <td>12</td>\n      <td>4</td>\n      <td>1382</td>\n    </tr>\n    <tr>\n      <th>467</th>\n      <td>2021-12-27</td>\n      <td>avg_tt</td>\n      <td>-5.543345</td>\n      <td>27.465236</td>\n      <td>-0.210924</td>\n      <td>7.925551e-06</td>\n      <td>1.226117</td>\n      <td>2021</td>\n      <td>12</td>\n      <td>4</td>\n      <td>1386</td>\n    </tr>\n  </tbody>\n</table>\n<p>150 rows × 11 columns</p>\n</div>"
     },
     "execution_count": 49,
     "metadata": {},
     "output_type": "execute_result"
    }
   ],
   "source": [
    "nw_to_w_trend[nw_to_w_trend.metric == 'avg_tt']"
   ],
   "metadata": {
    "collapsed": false,
    "pycharm": {
     "name": "#%%\n"
    }
   }
  },
  {
   "cell_type": "code",
   "execution_count": 53,
   "outputs": [
    {
     "data": {
      "text/plain": "25"
     },
     "execution_count": 53,
     "metadata": {},
     "output_type": "execute_result"
    }
   ],
   "source": [
    "sum(nw_to_w_trend[nw_to_w_trend.metric == 'avg_tt']['slope']>0)"
   ],
   "metadata": {
    "collapsed": false,
    "pycharm": {
     "name": "#%%\n"
    }
   }
  },
  {
   "cell_type": "code",
   "execution_count": null,
   "outputs": [],
   "source": [
    "def plot_metric_correlation_nw_w(metric: str, metric_name: str, loc=None):\n",
    "\n",
    "    considered_trend = nw_to_w_trend[nw_to_w_trend.metric == metric]\n",
    "    considered_trend_means = considered_trend.groupby('year').mean()\n",
    "    considered_trend = pd.merge(considered_trend, considered_trend_means, on='year', suffixes=['','_yearly_means'])\n",
    "\n",
    "    fig,ax = plt.subplots(figsize=(10,6))\n",
    "\n",
    "    ineq_over_time_smoothed = ineq_over_time.rolling('120D').mean()\n",
    "    dates_data = ineq_over_time_smoothed.index\n",
    "    size_data = ineq_over_time_smoothed['size']\n",
    "    mean_size_data = ineq_over_time_smoothed.size_mean\n",
    "    r_value_data = considered_trend.r_value\n",
    "    r_value_yearly_data = considered_trend.r_value_yearly_means\n",
    "\n",
    "    # l1 = ax.plot(dates_data, r_value_data, color='teal', label='R2 value')\n",
    "    l2 = ax.plot(dates_data, r_value_yearly_data, '--', color='darkslategray', label='yearly mean R2 value')\n",
    "    s1 = ax.scatter(dates_data, r_value_data,\n",
    "                    c=[p < 0.05 for p in considered_trend.p_value],\n",
    "                    cmap='flag',\n",
    "                    s=40)\n",
    "\n",
    "    ax.set_xticks(years)\n",
    "\n",
    "    ax2 = ax.twinx()\n",
    "\n",
    "    l3 = ax2.plot(dates_data, size_data, color='purple', label='quarterly smoothed network size')\n",
    "    l4 = ax2.plot(dates_data, mean_size_data, '--', color='mediumpurple', label='yearly mean network size')\n",
    "\n",
    "    ax2.yaxis.label.set_color('purple')\n",
    "    ax2.tick_params(axis='y', colors='purple')\n",
    "\n",
    "    lns = l2+l3+l4\n",
    "    labs = [l.get_label() for l in lns]\n",
    "    legend1 = ax.legend(lns, labs, loc=loc if loc else 0)\n",
    "    ax.xaxis.labelpad = 20\n",
    "    ax2.grid(None)\n",
    "\n",
    "    legend2 = ax.legend(s1.legend_elements()[0], ['$\\\\mathdefault{p>0.05}$', '$\\\\mathdefault{p<0.05}$'],\n",
    "                        loc=\"lower left\", title=\"Significance\")\n",
    "    ax.add_artist(legend1)\n",
    "    ax.add_artist(legend2)\n",
    "\n",
    "    ax.set_ylabel(\"R2 value\")\n",
    "    ax.set_ylim(-0.6,0.5)\n",
    "    ax2.set_ylabel(\"Number of transit edges\")\n",
    "    ax2.set_ylim(1350,1600)\n",
    "    ax.set_xlabel(\"Years\")\n",
    "\n",
    "    # ax.set_title(f\"Correlation of % western population and {metric_name} over time\")\n",
    "    fig.tight_layout()\n",
    "    return fig, ax\n",
    "\n",
    "fig, ax = plot_metric_correlation_nw_w('avg_tt', metric_name=\"avg. travel time\")\n",
    "# fig.savefig('plots/ams_analysis/correlation_size_over_years_travel_time.svg')\n",
    "# fig.savefig('plots/ams_analysis/correlation_size_over_years_travel_time.png')\n",
    "# fig.savefig('/home/rico/Documents/thesis/paper/overleaf/62a466789b2183065a639cda/content-media/correlation_size_over_years_travel_time.png')\n",
    "# fig.savefig('/home/rico/Documents/thesis/paper/overleaf/62a466789b2183065a639cda/content-media/correlation_size_over_years_travel_time.svg')\n",
    "plt.show()\n",
    "#\n",
    "fig, ax = plot_metric_correlation_nw_w('avg_hops', metric_name=\"avg. hops\")\n",
    "# fig.savefig('plots/ams_analysis/correlation_size_over_years_hops.svg')\n",
    "# fig.savefig('plots/ams_analysis/correlation_size_over_years_hops.png')\n",
    "# fig.savefig('/home/rico/Documents/thesis/paper/overleaf/62a466789b2183065a639cda/content-media/correlation_size_over_years_hops.png')\n",
    "# fig.savefig('/home/rico/Documents/thesis/paper/overleaf/62a466789b2183065a639cda/content-media/correlation_size_over_years_hops.svg')\n",
    "plt.show()\n",
    "#\n",
    "fig, ax = plot_metric_correlation_nw_w('thr_15min_pois', metric_name=\"15 min COM\", loc='lower center')\n",
    "# fig.savefig('plots/ams_analysis/correlation_size_over_years_com.svg')\n",
    "# fig.savefig('plots/ams_analysis/correlation_size_over_years_com.png')\n",
    "# fig.savefig('/home/rico/Documents/thesis/paper/overleaf/62a466789b2183065a639cda/content-media/correlation_size_over_years_com.png')\n",
    "# fig.savefig('/home/rico/Documents/thesis/paper/overleaf/62a466789b2183065a639cda/content-media/correlation_size_over_years_com.svg')\n",
    "plt.show()"
   ],
   "metadata": {
    "collapsed": false,
    "pycharm": {
     "name": "#%%\n"
    }
   }
  },
  {
   "cell_type": "code",
   "execution_count": null,
   "outputs": [],
   "source": [
    "\n",
    "\n",
    "\n",
    "considered_trend = nw_to_w_trend[nw_to_w_trend.metric == 'avg_tt']"
   ],
   "metadata": {
    "collapsed": false,
    "pycharm": {
     "name": "#%%\n"
    }
   }
  },
  {
   "cell_type": "markdown",
   "source": [
    "## Metric over time"
   ],
   "metadata": {
    "collapsed": false,
    "pycharm": {
     "name": "#%% md\n"
    }
   }
  },
  {
   "cell_type": "code",
   "execution_count": null,
   "outputs": [],
   "source": [
    "considered_stat = complete_stats[complete_stats.metric=='avg_tt']"
   ],
   "metadata": {
    "collapsed": false,
    "pycharm": {
     "name": "#%%\n"
    }
   }
  },
  {
   "cell_type": "code",
   "execution_count": null,
   "outputs": [],
   "source": [
    "considered_metrics_only = considered_stat[[nb for nb in considered_stat.columns if 'BU' in nb]].copy()\n",
    "considered_metrics_only['date'] = considered_stat.date\n",
    "considered_metrics_only = considered_metrics_only.set_index('date', drop=False)\n",
    "nbs = considered_metrics_only.columns\n",
    "considered_metrics_only['std_value'] = considered_metrics_only[nbs].std(axis=1)\n",
    "considered_metrics_only['mean_value'] = considered_metrics_only[nbs].median(axis=1)\n",
    "\n",
    "considered_metrics_only"
   ],
   "metadata": {
    "collapsed": false,
    "pycharm": {
     "name": "#%%\n"
    }
   }
  },
  {
   "cell_type": "code",
   "execution_count": null,
   "outputs": [],
   "source": [
    "fig, ax = plt.subplots(figsize=(10,10))\n",
    "ax.plot(considered_metrics_only.date, considered_metrics_only.mean_value, label='avg. of per-neighborhood avg. travel times')\n",
    "ax.fill_between(considered_metrics_only.date,\n",
    "                considered_metrics_only.mean_value - considered_metrics_only.std_value,\n",
    "                considered_metrics_only.mean_value + considered_metrics_only.std_value,\n",
    "                alpha=0.2)\n",
    "\n",
    "ax.set_xticks(years)\n",
    "\n",
    "ax.set_ylabel('Avg. travel time')\n",
    "ax.set_xlabel('Year')\n",
    "\n",
    "ax.legend()"
   ],
   "metadata": {
    "collapsed": false,
    "pycharm": {
     "name": "#%%\n"
    }
   }
  },
  {
   "cell_type": "code",
   "execution_count": null,
   "outputs": [],
   "source": [
    "years"
   ],
   "metadata": {
    "collapsed": false,
    "pycharm": {
     "name": "#%%\n"
    }
   }
  },
  {
   "cell_type": "code",
   "execution_count": null,
   "outputs": [],
   "source": [
    "considered_stat.date"
   ],
   "metadata": {
    "collapsed": false,
    "pycharm": {
     "name": "#%%\n"
    }
   }
  },
  {
   "cell_type": "code",
   "execution_count": null,
   "outputs": [],
   "source": [],
   "metadata": {
    "collapsed": false,
    "pycharm": {
     "name": "#%%\n"
    }
   }
  }
 ],
 "metadata": {
  "kernelspec": {
   "display_name": "Python 3",
   "language": "python",
   "name": "python3"
  },
  "language_info": {
   "codemirror_mode": {
    "name": "ipython",
    "version": 2
   },
   "file_extension": ".py",
   "mimetype": "text/x-python",
   "name": "python",
   "nbconvert_exporter": "python",
   "pygments_lexer": "ipython2",
   "version": "2.7.6"
  }
 },
 "nbformat": 4,
 "nbformat_minor": 0
}