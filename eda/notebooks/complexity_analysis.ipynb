{
 "cells": [
  {
   "cell_type": "code",
   "execution_count": 2,
   "id": "4a45160d-95ff-47d2-8e5d-bf59010b6904",
   "metadata": {},
   "outputs": [],
   "source": [
    "import numpy as np\n",
    "import math"
   ]
  },
  {
   "cell_type": "code",
   "execution_count": 3,
   "id": "b87b97e1-ad16-4772-8f0e-c9ea49f94ef9",
   "metadata": {},
   "outputs": [],
   "source": [
    "def state_space_size(n: int, k: int):\n",
    "    return np.sum([math.comb(n,i) for i in range(k+1)])"
   ]
  },
  {
   "cell_type": "code",
   "execution_count": 6,
   "id": "9bcb051d-07cd-4b72-8980-562208ace803",
   "metadata": {},
   "outputs": [
    {
     "data": {
      "text/plain": [
       "272726507601"
      ]
     },
     "execution_count": 6,
     "metadata": {},
     "output_type": "execute_result"
    }
   ],
   "source": [
    "state_space_size(1600,4)"
   ]
  },
  {
   "cell_type": "code",
   "execution_count": null,
   "id": "7ab00924-c228-495e-99eb-987fbb4daf50",
   "metadata": {},
   "outputs": [],
   "source": []
  }
 ],
 "metadata": {
  "kernelspec": {
   "display_name": "Python 3",
   "language": "python",
   "name": "python3"
  },
  "language_info": {
   "codemirror_mode": {
    "name": "ipython",
    "version": 3
   },
   "file_extension": ".py",
   "mimetype": "text/x-python",
   "name": "python",
   "nbconvert_exporter": "python",
   "pygments_lexer": "ipython3",
   "version": "3.9.12"
  }
 },
 "nbformat": 4,
 "nbformat_minor": 5
}
