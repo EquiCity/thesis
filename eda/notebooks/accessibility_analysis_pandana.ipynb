{
 "cells": [
  {
   "cell_type": "code",
   "execution_count": 1,
   "id": "8d55feb6-8fc1-4a6d-8d5e-b7cfa4b576d2",
   "metadata": {},
   "outputs": [],
   "source": [
    "import numpy as np\n",
    "import pandas as pd\n",
    "\n",
    "import pandana\n",
    "from pandana.loaders import osm\n",
    "\n",
    "import osmnx as ox\n",
    "\n",
    "import warnings\n",
    "warnings.filterwarnings('ignore')"
   ]
  },
  {
   "cell_type": "code",
   "execution_count": 2,
   "id": "e5fdd01d-ec3b-4ba8-a966-55b30efcaa39",
   "metadata": {},
   "outputs": [],
   "source": [
    "def get_bbox(city: str) -> dict:\n",
    "    gdf = ox.geocode_to_gdf({'city': city})\n",
    "    return dict(\n",
    "        west=gdf.loc[0, 'bbox_west'],\n",
    "        south=gdf.loc[0, 'bbox_south'],\n",
    "        east=gdf.loc[0, 'bbox_east'],\n",
    "        north=gdf.loc[0, 'bbox_north']\n",
    "    )"
   ]
  },
  {
   "cell_type": "code",
   "execution_count": 3,
   "id": "9aa265fe-bb9f-4758-b735-28d3dd7b412e",
   "metadata": {},
   "outputs": [
    {
     "name": "stdout",
     "output_type": "stream",
     "text": [
      "Requesting network data within bounding box from Overpass API in 1 request(s)\n",
      "Posting to http://www.overpass-api.de/api/interpreter with timeout=180, \"{'data': '[out:json][timeout:180];(way[\"highway\"][\"highway\"!~\"motor|proposed|construction|abandoned|platform|raceway\"][\"foot\"!~\"no\"][\"pedestrians\"!~\"no\"](52.27817420,4.72875630,52.43106380,5.07916220);>;);out;'}\"\n",
      "Downloaded 48,085.1KB from www.overpass-api.de in 13.30 seconds\n",
      "Downloaded OSM network data within bounding box from Overpass API in 1 request(s) and 14.02 seconds\n",
      "Returning OSM data with 303,954 nodes and 86,208 ways...\n",
      "Edge node pairs completed. Took 44.84 seconds\n",
      "Returning processed graph with 105,586 nodes and 152,607 edges...\n",
      "Completed OSM data download and Pandana node and edge table creation in 61.69 seconds\n"
     ]
    }
   ],
   "source": [
    "bbox_dict = get_bbox('Amsterdam')\n",
    "bbox_tuple = (\n",
    "    bbox_dict['south'],\n",
    "    bbox_dict['west'],\n",
    "    bbox_dict['north'],\n",
    "    bbox_dict['east'],\n",
    ")\n",
    "\n",
    "network = osm.pdna_network_from_bbox(*bbox_tuple)  # San Francisco, CA"
   ]
  },
  {
   "cell_type": "code",
   "execution_count": null,
   "id": "4466a8ca-7f18-4aa1-bc7a-ac8977f0bfea",
   "metadata": {},
   "outputs": [],
   "source": [
    "# Store the network - Just once\n",
    "network.nodes_df.to_csv('ams_walk_nodes.csv')\n",
    "network.edges_df.to_csv('ams_walk_edges.csv')"
   ]
  },
  {
   "cell_type": "code",
   "execution_count": 4,
   "id": "f2f5ba0a-6180-4ae9-bfe6-cf9b56630aa4",
   "metadata": {},
   "outputs": [],
   "source": [
    "?osm.pdna_network_from_bbox"
   ]
  }
 ],
 "metadata": {
  "kernelspec": {
   "display_name": "Python 3",
   "language": "python",
   "name": "python3"
  },
  "language_info": {
   "codemirror_mode": {
    "name": "ipython",
    "version": 3
   },
   "file_extension": ".py",
   "mimetype": "text/x-python",
   "name": "python",
   "nbconvert_exporter": "python",
   "pygments_lexer": "ipython3",
   "version": "3.9.12"
  }
 },
 "nbformat": 4,
 "nbformat_minor": 5
}