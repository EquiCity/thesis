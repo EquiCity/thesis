{
 "cells": [
  {
   "cell_type": "code",
   "execution_count": 151,
   "outputs": [],
   "source": [
    "import numpy as np\n",
    "import igraph as ig\n",
    "import geopandas as gpd\n",
    "import pandas as pd\n",
    "import math\n",
    "from typing import Tuple, List\n",
    "from sklearn.neighbors import KernelDensity\n",
    "from matplotlib import pyplot as plt"
   ],
   "metadata": {
    "collapsed": false,
    "pycharm": {
     "name": "#%%\n"
    }
   }
  },
  {
   "cell_type": "code",
   "execution_count": 152,
   "outputs": [],
   "source": [
    "g = ig.load('/home/rico/Documents/thesis/eda/notebooks/synthetic_dataset/graph.gml')\n",
    "census = gpd.read_file('/home/rico/Documents/thesis/eda/notebooks/synthetic_dataset/census_data.geojson')"
   ],
   "metadata": {
    "collapsed": false,
    "pycharm": {
     "name": "#%%\n"
    }
   }
  },
  {
   "cell_type": "markdown",
   "source": [
    "# Helper Functions"
   ],
   "metadata": {
    "collapsed": false,
    "pycharm": {
     "name": "#%% md\n"
    }
   }
  },
  {
   "cell_type": "code",
   "execution_count": 153,
   "outputs": [
    {
     "data": {
      "text/plain": "['RC1', 'RC2', 'RC3', 'RC4', 'RC5', 'RC6']"
     },
     "execution_count": 153,
     "metadata": {},
     "output_type": "execute_result"
    }
   ],
   "source": [
    "g.vs.select(type_eq='res_node')['name']"
   ],
   "metadata": {
    "collapsed": false,
    "pycharm": {
     "name": "#%%\n"
    }
   }
  },
  {
   "cell_type": "code",
   "execution_count": 154,
   "outputs": [],
   "source": [
    "def evaluate_graph(g: ig.Graph) -> pd.DataFrame:\n",
    "    nb_nodes = g.vs.select(type_eq='res_node')\n",
    "    poi_nodes = g.vs.select(type_eq='poi_node')\n",
    "\n",
    "    tt_mx = np.zeros((len(nb_nodes), len(poi_nodes)))\n",
    "    hops_mx = np.zeros((len(nb_nodes), len(poi_nodes)))\n",
    "\n",
    "    failed = {}\n",
    "\n",
    "    for i, o in enumerate(nb_nodes):\n",
    "        for j, d in enumerate(poi_nodes):\n",
    "            # Travel Time\n",
    "            tt = g.shortest_paths(o, d, weights='tt')[0][0]\n",
    "            if tt == math.inf:\n",
    "                if not failed.get(f\"{o['node_id']}_tt\", None) == d['node_id']:\n",
    "                    failed[f\"{o['node_id']}_tt\"] = d[\"node_id\"]\n",
    "            else:\n",
    "                tt_mx[i, j] = tt\n",
    "            # Number of hops\n",
    "            edges = g.get_shortest_paths(o, d, weights='tt', output='epath')[0]\n",
    "            if edges == math.inf or not edges:\n",
    "                if not failed.get(f\"{o['node_id']}_edges\", None) == d[\"node_id\"]:\n",
    "                    failed[f\"{o['node_id']}_edges\"] = d[\"node_id\"]\n",
    "            else:\n",
    "                hops_mx[i, j] = len(edges)\n",
    "\n",
    "    df_tt = pd.DataFrame(tt_mx, columns=poi_nodes['name'])\n",
    "    df_tt['metric'] = 'travel_time'\n",
    "    df_tt['rc'] = nb_nodes['name']\n",
    "\n",
    "    df_hops = pd.DataFrame(hops_mx, columns=poi_nodes['name'])\n",
    "    df_hops['metric'] = 'hops'\n",
    "    df_hops['rc'] = nb_nodes['name']\n",
    "\n",
    "    return pd.concat([df_tt,df_hops], axis=0)"
   ],
   "metadata": {
    "collapsed": false,
    "pycharm": {
     "name": "#%%\n"
    }
   }
  },
  {
   "cell_type": "code",
   "execution_count": 155,
   "outputs": [
    {
     "data": {
      "text/plain": "        POI1       POI2       POI3       metric   rc\n0  53.413481  57.314920  53.413481  travel_time  RC1\n1  44.598206  49.203658  44.598206  travel_time  RC2\n2  53.413481  57.314920  53.413481  travel_time  RC3\n3  33.541020  39.458839  33.541020  travel_time  RC4\n4  33.541020  39.458839  33.541020  travel_time  RC5\n5  37.589892  42.953463  37.589892  travel_time  RC6\n0   1.000000   1.000000   1.000000         hops  RC1\n1   1.000000   1.000000   1.000000         hops  RC2\n2   1.000000   1.000000   1.000000         hops  RC3\n3   1.000000   1.000000   1.000000         hops  RC4\n4   1.000000   1.000000   1.000000         hops  RC5\n5   1.000000   1.000000   1.000000         hops  RC6",
      "text/html": "<div>\n<style scoped>\n    .dataframe tbody tr th:only-of-type {\n        vertical-align: middle;\n    }\n\n    .dataframe tbody tr th {\n        vertical-align: top;\n    }\n\n    .dataframe thead th {\n        text-align: right;\n    }\n</style>\n<table border=\"1\" class=\"dataframe\">\n  <thead>\n    <tr style=\"text-align: right;\">\n      <th></th>\n      <th>POI1</th>\n      <th>POI2</th>\n      <th>POI3</th>\n      <th>metric</th>\n      <th>rc</th>\n    </tr>\n  </thead>\n  <tbody>\n    <tr>\n      <th>0</th>\n      <td>53.413481</td>\n      <td>57.314920</td>\n      <td>53.413481</td>\n      <td>travel_time</td>\n      <td>RC1</td>\n    </tr>\n    <tr>\n      <th>1</th>\n      <td>44.598206</td>\n      <td>49.203658</td>\n      <td>44.598206</td>\n      <td>travel_time</td>\n      <td>RC2</td>\n    </tr>\n    <tr>\n      <th>2</th>\n      <td>53.413481</td>\n      <td>57.314920</td>\n      <td>53.413481</td>\n      <td>travel_time</td>\n      <td>RC3</td>\n    </tr>\n    <tr>\n      <th>3</th>\n      <td>33.541020</td>\n      <td>39.458839</td>\n      <td>33.541020</td>\n      <td>travel_time</td>\n      <td>RC4</td>\n    </tr>\n    <tr>\n      <th>4</th>\n      <td>33.541020</td>\n      <td>39.458839</td>\n      <td>33.541020</td>\n      <td>travel_time</td>\n      <td>RC5</td>\n    </tr>\n    <tr>\n      <th>5</th>\n      <td>37.589892</td>\n      <td>42.953463</td>\n      <td>37.589892</td>\n      <td>travel_time</td>\n      <td>RC6</td>\n    </tr>\n    <tr>\n      <th>0</th>\n      <td>1.000000</td>\n      <td>1.000000</td>\n      <td>1.000000</td>\n      <td>hops</td>\n      <td>RC1</td>\n    </tr>\n    <tr>\n      <th>1</th>\n      <td>1.000000</td>\n      <td>1.000000</td>\n      <td>1.000000</td>\n      <td>hops</td>\n      <td>RC2</td>\n    </tr>\n    <tr>\n      <th>2</th>\n      <td>1.000000</td>\n      <td>1.000000</td>\n      <td>1.000000</td>\n      <td>hops</td>\n      <td>RC3</td>\n    </tr>\n    <tr>\n      <th>3</th>\n      <td>1.000000</td>\n      <td>1.000000</td>\n      <td>1.000000</td>\n      <td>hops</td>\n      <td>RC4</td>\n    </tr>\n    <tr>\n      <th>4</th>\n      <td>1.000000</td>\n      <td>1.000000</td>\n      <td>1.000000</td>\n      <td>hops</td>\n      <td>RC5</td>\n    </tr>\n    <tr>\n      <th>5</th>\n      <td>1.000000</td>\n      <td>1.000000</td>\n      <td>1.000000</td>\n      <td>hops</td>\n      <td>RC6</td>\n    </tr>\n  </tbody>\n</table>\n</div>"
     },
     "execution_count": 155,
     "metadata": {},
     "output_type": "execute_result"
    }
   ],
   "source": [
    "evaluate_graph(g)"
   ],
   "metadata": {
    "collapsed": false,
    "pycharm": {
     "name": "#%%\n"
    }
   }
  },
  {
   "cell_type": "code",
   "execution_count": 156,
   "outputs": [],
   "source": [
    "def generate_samples(metric_matrix: np.array, census: gpd.GeoDataFrame):\n",
    "    pass"
   ],
   "metadata": {
    "collapsed": false,
    "pycharm": {
     "name": "#%%\n"
    }
   }
  },
  {
   "cell_type": "markdown",
   "source": [
    "# Reward Functions"
   ],
   "metadata": {
    "collapsed": false,
    "pycharm": {
     "name": "#%% md\n"
    }
   }
  },
  {
   "cell_type": "code",
   "execution_count": 157,
   "outputs": [],
   "source": [
    "def egalitarian(g: ig.Graph, census_data: gpd.GeoDataFrame) -> float:\n",
    "    # fit KDE (sklearn) on each component\n",
    "    kde = KernelDensity(kernel='gaussian', bandwidth=0.2).fit(X)\n",
    "    # fit KDE on all aggregated data (mixture)\n",
    "\n",
    "    # kde_mixture.entropy - 1/n_components * sum([kde_component.entropy  for  kde_component in components] )\n"
   ],
   "metadata": {
    "collapsed": false,
    "pycharm": {
     "name": "#%%\n"
    }
   }
  },
  {
   "cell_type": "code",
   "execution_count": 158,
   "outputs": [],
   "source": [
    "def utilitarian() -> float:\n",
    "    pass"
   ],
   "metadata": {
    "collapsed": false,
    "pycharm": {
     "name": "#%%\n"
    }
   }
  },
  {
   "cell_type": "code",
   "execution_count": 159,
   "outputs": [],
   "source": [
    "def elitarian() -> float:\n",
    "    pass"
   ],
   "metadata": {
    "collapsed": false,
    "pycharm": {
     "name": "#%%\n"
    }
   }
  },
  {
   "cell_type": "markdown",
   "source": [
    "# Random Baseline"
   ],
   "metadata": {
    "collapsed": false,
    "pycharm": {
     "name": "#%% md\n"
    }
   }
  },
  {
   "cell_type": "code",
   "execution_count": 159,
   "outputs": [],
   "source": [],
   "metadata": {
    "collapsed": false,
    "pycharm": {
     "name": "#%%\n"
    }
   }
  },
  {
   "cell_type": "markdown",
   "source": [
    "# Fully Informed Greedy Baseline"
   ],
   "metadata": {
    "collapsed": false,
    "pycharm": {
     "name": "#%% md\n"
    }
   }
  },
  {
   "cell_type": "code",
   "execution_count": 159,
   "outputs": [],
   "source": [],
   "metadata": {
    "collapsed": false,
    "pycharm": {
     "name": "#%%\n"
    }
   }
  },
  {
   "cell_type": "markdown",
   "source": [
    "# Genetic Algorithm Baseline"
   ],
   "metadata": {
    "collapsed": false,
    "pycharm": {
     "name": "#%% md\n"
    }
   }
  },
  {
   "cell_type": "code",
   "execution_count": 159,
   "outputs": [],
   "source": [],
   "metadata": {
    "collapsed": false,
    "pycharm": {
     "name": "#%%\n"
    }
   }
  },
  {
   "cell_type": "markdown",
   "source": [
    "# Q-Learning"
   ],
   "metadata": {
    "collapsed": false,
    "pycharm": {
     "name": "#%% md\n"
    }
   }
  },
  {
   "cell_type": "code",
   "execution_count": 159,
   "outputs": [],
   "source": [],
   "metadata": {
    "collapsed": false,
    "pycharm": {
     "name": "#%%\n"
    }
   }
  }
 ],
 "metadata": {
  "kernelspec": {
   "display_name": "Python 3",
   "language": "python",
   "name": "python3"
  },
  "language_info": {
   "codemirror_mode": {
    "name": "ipython",
    "version": 2
   },
   "file_extension": ".py",
   "mimetype": "text/x-python",
   "name": "python",
   "nbconvert_exporter": "python",
   "pygments_lexer": "ipython2",
   "version": "2.7.6"
  }
 },
 "nbformat": 4,
 "nbformat_minor": 0
}