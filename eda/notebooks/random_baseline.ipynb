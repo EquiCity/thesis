{
 "cells": [
  {
   "cell_type": "code",
   "execution_count": 1,
   "outputs": [],
   "source": [
    "import random\n",
    "import math\n",
    "import itertools as it\n",
    "\n",
    "import matplotlib\n",
    "font = {'family' : 'normal',\n",
    "        'weight' : 'bold',\n",
    "        'size'   : 22}\n",
    "\n",
    "matplotlib.rc('font', **font)\n",
    "\n",
    "import matplotlib.pyplot as plt\n",
    "import numpy as np\n",
    "import igraph as ig\n",
    "from tqdm import tqdm\n",
    "import geopandas as gpd\n",
    "import pandas as pd\n",
    "import math\n",
    "import statsmodels.api as sm\n",
    "from typing import Tuple, List\n",
    "from copy import copy\n",
    "import pygad\n",
    "from inequality.gini import Gini\n",
    "pd.options.mode.chained_assignment = None"
   ],
   "metadata": {
    "collapsed": false,
    "pycharm": {
     "name": "#%%\n"
    }
   }
  },
  {
   "cell_type": "code",
   "execution_count": 2,
   "outputs": [],
   "source": [
    "g = ig.load('/home/rico/Documents/thesis/eda/notebooks/synthetic_dataset/graph.gml')\n",
    "census = gpd.read_file('/home/rico/Documents/thesis/eda/notebooks/synthetic_dataset/census_data.geojson')"
   ],
   "metadata": {
    "collapsed": false,
    "pycharm": {
     "name": "#%%\n"
    }
   }
  },
  {
   "cell_type": "code",
   "execution_count": 3,
   "outputs": [
    {
     "data": {
      "text/plain": "<igraph.drawing.Plot at 0x7ff9d5f01700>",
      "image/svg+xml": "<?xml version=\"1.0\" encoding=\"UTF-8\"?>\n<svg xmlns=\"http://www.w3.org/2000/svg\" xmlns:xlink=\"http://www.w3.org/1999/xlink\" width=\"600pt\" height=\"600pt\" viewBox=\"0 0 600 600\" version=\"1.1\">\n<g id=\"surface2\">\n<rect x=\"0\" y=\"0\" width=\"600\" height=\"600\" style=\"fill:rgb(100%,100%,100%);fill-opacity:1;stroke:none;\"/>\n<path style=\"fill:none;stroke-width:1;stroke-linecap:butt;stroke-linejoin:miter;stroke:rgb(74.509804%,74.509804%,74.509804%);stroke-opacity:1;stroke-miterlimit:10;\" d=\"M 580 580 L 130.492188 130.492188 \"/>\n<path style=\" stroke:none;fill-rule:nonzero;fill:rgb(74.509804%,74.509804%,74.509804%);fill-opacity:1;\" d=\"M 120.40625 120.40625 L 133.769531 127.214844 L 127.214844 133.769531 L 120.40625 120.40625 \"/>\n<path style=\"fill:none;stroke-width:1;stroke-linecap:butt;stroke-linejoin:miter;stroke:rgb(74.509804%,74.509804%,74.509804%);stroke-opacity:1;stroke-miterlimit:10;\" d=\"M 580 580 L 317.160156 317.160156 \"/>\n<path style=\" stroke:none;fill-rule:nonzero;fill:rgb(74.509804%,74.509804%,74.509804%);fill-opacity:1;\" d=\"M 307.070312 307.070312 L 320.4375 313.882812 L 313.882812 320.4375 L 307.070312 307.070312 \"/>\n<path style=\"fill:none;stroke-width:1;stroke-linecap:butt;stroke-linejoin:miter;stroke:rgb(74.509804%,74.509804%,74.509804%);stroke-opacity:1;stroke-miterlimit:10;\" d=\"M 580 580 L 491.425781 137.128906 \"/>\n<path style=\" stroke:none;fill-rule:nonzero;fill:rgb(74.509804%,74.509804%,74.509804%);fill-opacity:1;\" d=\"M 488.628906 123.140625 L 495.972656 136.21875 L 486.878906 138.035156 L 488.628906 123.140625 \"/>\n<path style=\"fill:none;stroke-width:1;stroke-linecap:butt;stroke-linejoin:miter;stroke:rgb(74.509804%,74.509804%,74.509804%);stroke-opacity:1;stroke-miterlimit:10;\" d=\"M 580 580 L 580 510.933594 \"/>\n<path style=\" stroke:none;fill-rule:nonzero;fill:rgb(74.509804%,74.509804%,74.509804%);fill-opacity:1;\" d=\"M 580 496.667969 L 584.636719 510.933594 L 575.363281 510.933594 L 580 496.667969 \"/>\n<path style=\"fill:none;stroke-width:1;stroke-linecap:butt;stroke-linejoin:miter;stroke:rgb(74.509804%,74.509804%,74.509804%);stroke-opacity:1;stroke-miterlimit:10;\" d=\"M 580 580 L 503.824219 503.824219 \"/>\n<path style=\" stroke:none;fill-rule:nonzero;fill:rgb(74.509804%,74.509804%,74.509804%);fill-opacity:1;\" d=\"M 493.738281 493.738281 L 507.101562 500.546875 L 500.546875 507.101562 L 493.738281 493.738281 \"/>\n<path style=\"fill:none;stroke-width:1;stroke-linecap:butt;stroke-linejoin:miter;stroke:rgb(74.509804%,74.509804%,74.509804%);stroke-opacity:1;stroke-miterlimit:10;\" d=\"M 580 580 L 510.933594 580 \"/>\n<path style=\" stroke:none;fill-rule:nonzero;fill:rgb(74.509804%,74.509804%,74.509804%);fill-opacity:1;\" d=\"M 496.667969 580 L 510.933594 575.363281 L 510.933594 584.636719 L 496.667969 580 \"/>\n<path style=\"fill:none;stroke-width:1;stroke-linecap:butt;stroke-linejoin:miter;stroke:rgb(74.509804%,74.509804%,74.509804%);stroke-opacity:1;stroke-miterlimit:10;\" d=\"M 393.332031 580 L 125.816406 134.140625 \"/>\n<path style=\" stroke:none;fill-rule:nonzero;fill:rgb(74.509804%,74.509804%,74.509804%);fill-opacity:1;\" d=\"M 118.476562 121.910156 L 129.792969 131.757812 L 121.84375 136.527344 L 118.476562 121.910156 \"/>\n<path style=\"fill:none;stroke-width:1;stroke-linecap:butt;stroke-linejoin:miter;stroke:rgb(74.509804%,74.509804%,74.509804%);stroke-opacity:1;stroke-miterlimit:10;\" d=\"M 393.332031 580 L 307.671875 323.019531 \"/>\n<path style=\" stroke:none;fill-rule:nonzero;fill:rgb(74.509804%,74.509804%,74.509804%);fill-opacity:1;\" d=\"M 303.164062 309.488281 L 312.070312 321.554688 L 303.277344 324.488281 L 303.164062 309.488281 \"/>\n<path style=\"fill:none;stroke-width:1;stroke-linecap:butt;stroke-linejoin:miter;stroke:rgb(74.509804%,74.509804%,74.509804%);stroke-opacity:1;stroke-miterlimit:10;\" d=\"M 393.332031 580 L 481.90625 137.128906 \"/>\n<path style=\" stroke:none;fill-rule:nonzero;fill:rgb(74.509804%,74.509804%,74.509804%);fill-opacity:1;\" d=\"M 484.707031 123.140625 L 486.453125 138.035156 L 477.363281 136.21875 L 484.707031 123.140625 \"/>\n<path style=\"fill:none;stroke-width:1;stroke-linecap:butt;stroke-linejoin:miter;stroke:rgb(74.509804%,74.509804%,74.509804%);stroke-opacity:1;stroke-miterlimit:10;\" d=\"M 393.332031 580 L 558.296875 497.519531 \"/>\n<path style=\" stroke:none;fill-rule:nonzero;fill:rgb(74.509804%,74.509804%,74.509804%);fill-opacity:1;\" d=\"M 571.054688 491.140625 L 560.367188 501.664062 L 556.222656 493.371094 L 571.054688 491.140625 \"/>\n<path style=\"fill:none;stroke-width:1;stroke-linecap:butt;stroke-linejoin:miter;stroke:rgb(74.509804%,74.509804%,74.509804%);stroke-opacity:1;stroke-miterlimit:10;\" d=\"M 393.332031 580 L 469.507812 503.824219 \"/>\n<path style=\" stroke:none;fill-rule:nonzero;fill:rgb(74.509804%,74.509804%,74.509804%);fill-opacity:1;\" d=\"M 479.59375 493.738281 L 472.785156 507.101562 L 466.230469 500.546875 L 479.59375 493.738281 \"/>\n<path style=\"fill:none;stroke-width:1;stroke-linecap:butt;stroke-linejoin:miter;stroke:rgb(74.509804%,74.509804%,74.509804%);stroke-opacity:1;stroke-miterlimit:10;\" d=\"M 393.332031 580 L 462.402344 580 \"/>\n<path style=\" stroke:none;fill-rule:nonzero;fill:rgb(74.509804%,74.509804%,74.509804%);fill-opacity:1;\" d=\"M 476.667969 580 L 462.402344 584.636719 L 462.402344 575.363281 L 476.667969 580 \"/>\n<path style=\"fill:none;stroke-width:1;stroke-linecap:butt;stroke-linejoin:miter;stroke:rgb(74.509804%,74.509804%,74.509804%);stroke-opacity:1;stroke-miterlimit:10;\" d=\"M 580 393.332031 L 134.140625 125.816406 \"/>\n<path style=\" stroke:none;fill-rule:nonzero;fill:rgb(74.509804%,74.509804%,74.509804%);fill-opacity:1;\" d=\"M 121.910156 118.476562 L 136.527344 121.84375 L 131.757812 129.792969 L 121.910156 118.476562 \"/>\n<path style=\"fill:none;stroke-width:1;stroke-linecap:butt;stroke-linejoin:miter;stroke:rgb(74.509804%,74.509804%,74.509804%);stroke-opacity:1;stroke-miterlimit:10;\" d=\"M 580 393.332031 L 323.019531 307.671875 \"/>\n<path style=\" stroke:none;fill-rule:nonzero;fill:rgb(74.509804%,74.509804%,74.509804%);fill-opacity:1;\" d=\"M 309.488281 303.164062 L 324.488281 303.277344 L 321.554688 312.070312 L 309.488281 303.164062 \"/>\n<path style=\"fill:none;stroke-width:1;stroke-linecap:butt;stroke-linejoin:miter;stroke:rgb(74.509804%,74.509804%,74.509804%);stroke-opacity:1;stroke-miterlimit:10;\" d=\"M 580 393.332031 L 494.339844 136.355469 \"/>\n<path style=\" stroke:none;fill-rule:nonzero;fill:rgb(74.509804%,74.509804%,74.509804%);fill-opacity:1;\" d=\"M 489.828125 122.820312 L 498.738281 134.886719 L 489.941406 137.820312 L 489.828125 122.820312 \"/>\n<path style=\"fill:none;stroke-width:1;stroke-linecap:butt;stroke-linejoin:miter;stroke:rgb(74.509804%,74.509804%,74.509804%);stroke-opacity:1;stroke-miterlimit:10;\" d=\"M 580 393.332031 L 580 462.402344 \"/>\n<path style=\" stroke:none;fill-rule:nonzero;fill:rgb(74.509804%,74.509804%,74.509804%);fill-opacity:1;\" d=\"M 580 476.667969 L 575.363281 462.402344 L 584.636719 462.402344 L 580 476.667969 \"/>\n<path style=\"fill:none;stroke-width:1;stroke-linecap:butt;stroke-linejoin:miter;stroke:rgb(74.509804%,74.509804%,74.509804%);stroke-opacity:1;stroke-miterlimit:10;\" d=\"M 580 393.332031 L 503.824219 469.507812 \"/>\n<path style=\" stroke:none;fill-rule:nonzero;fill:rgb(74.509804%,74.509804%,74.509804%);fill-opacity:1;\" d=\"M 493.738281 479.59375 L 500.546875 466.230469 L 507.101562 472.785156 L 493.738281 479.59375 \"/>\n<path style=\"fill:none;stroke-width:1;stroke-linecap:butt;stroke-linejoin:miter;stroke:rgb(74.509804%,74.509804%,74.509804%);stroke-opacity:1;stroke-miterlimit:10;\" d=\"M 580 393.332031 L 497.519531 558.296875 \"/>\n<path style=\" stroke:none;fill-rule:nonzero;fill:rgb(74.509804%,74.509804%,74.509804%);fill-opacity:1;\" d=\"M 491.140625 571.054688 L 493.371094 556.222656 L 501.664062 560.367188 L 491.140625 571.054688 \"/>\n<path style=\"fill:none;stroke-width:1;stroke-linecap:butt;stroke-linejoin:miter;stroke:rgb(74.509804%,74.509804%,74.509804%);stroke-opacity:1;stroke-miterlimit:10;\" d=\"M 20 206.667969 L 96.175781 130.492188 \"/>\n<path style=\" stroke:none;fill-rule:nonzero;fill:rgb(74.509804%,74.509804%,74.509804%);fill-opacity:1;\" d=\"M 106.261719 120.40625 L 99.453125 133.769531 L 92.898438 127.214844 L 106.261719 120.40625 \"/>\n<path style=\"fill:none;stroke-width:1;stroke-linecap:butt;stroke-linejoin:miter;stroke:rgb(74.509804%,74.509804%,74.509804%);stroke-opacity:1;stroke-miterlimit:10;\" d=\"M 20 206.667969 L 276.980469 292.328125 \"/>\n<path style=\" stroke:none;fill-rule:nonzero;fill:rgb(74.509804%,74.509804%,74.509804%);fill-opacity:1;\" d=\"M 290.511719 296.835938 L 275.511719 296.722656 L 278.445312 287.929688 L 290.511719 296.835938 \"/>\n<path style=\"fill:none;stroke-width:1;stroke-linecap:butt;stroke-linejoin:miter;stroke:rgb(74.509804%,74.509804%,74.509804%);stroke-opacity:1;stroke-miterlimit:10;\" d=\"M 20 206.667969 L 462.871094 118.09375 \"/>\n<path style=\" stroke:none;fill-rule:nonzero;fill:rgb(74.509804%,74.509804%,74.509804%);fill-opacity:1;\" d=\"M 476.859375 115.292969 L 463.78125 122.636719 L 461.964844 113.546875 L 476.859375 115.292969 \"/>\n<path style=\"fill:none;stroke-width:1;stroke-linecap:butt;stroke-linejoin:miter;stroke:rgb(74.509804%,74.509804%,74.509804%);stroke-opacity:1;stroke-miterlimit:10;\" d=\"M 20 206.667969 L 558.296875 475.816406 \"/>\n<path style=\" stroke:none;fill-rule:nonzero;fill:rgb(74.509804%,74.509804%,74.509804%);fill-opacity:1;\" d=\"M 571.054688 482.195312 L 556.222656 479.960938 L 560.367188 471.667969 L 571.054688 482.195312 \"/>\n<path style=\"fill:none;stroke-width:1;stroke-linecap:butt;stroke-linejoin:miter;stroke:rgb(74.509804%,74.509804%,74.509804%);stroke-opacity:1;stroke-miterlimit:10;\" d=\"M 20 206.667969 L 465.859375 474.183594 \"/>\n<path style=\" stroke:none;fill-rule:nonzero;fill:rgb(74.509804%,74.509804%,74.509804%);fill-opacity:1;\" d=\"M 478.089844 481.523438 L 463.472656 478.15625 L 468.242188 470.207031 L 478.089844 481.523438 \"/>\n<path style=\"fill:none;stroke-width:1;stroke-linecap:butt;stroke-linejoin:miter;stroke:rgb(74.509804%,74.509804%,74.509804%);stroke-opacity:1;stroke-miterlimit:10;\" d=\"M 20 206.667969 L 467.71875 564.839844 \"/>\n<path style=\" stroke:none;fill-rule:nonzero;fill:rgb(74.509804%,74.509804%,74.509804%);fill-opacity:1;\" d=\"M 478.859375 573.753906 L 464.824219 568.460938 L 470.613281 561.222656 L 478.859375 573.753906 \"/>\n<path style=\"fill:none;stroke-width:1;stroke-linecap:butt;stroke-linejoin:miter;stroke:rgb(74.509804%,74.509804%,74.509804%);stroke-opacity:1;stroke-miterlimit:10;\" d=\"M 20 20 L 96.175781 96.175781 \"/>\n<path style=\" stroke:none;fill-rule:nonzero;fill:rgb(74.509804%,74.509804%,74.509804%);fill-opacity:1;\" d=\"M 106.261719 106.261719 L 92.898438 99.453125 L 99.453125 92.898438 L 106.261719 106.261719 \"/>\n<path style=\"fill:none;stroke-width:1;stroke-linecap:butt;stroke-linejoin:miter;stroke:rgb(74.509804%,74.509804%,74.509804%);stroke-opacity:1;stroke-miterlimit:10;\" d=\"M 20 20 L 282.839844 282.839844 \"/>\n<path style=\" stroke:none;fill-rule:nonzero;fill:rgb(74.509804%,74.509804%,74.509804%);fill-opacity:1;\" d=\"M 292.929688 292.929688 L 279.5625 286.117188 L 286.117188 279.5625 L 292.929688 292.929688 \"/>\n<path style=\"fill:none;stroke-width:1;stroke-linecap:butt;stroke-linejoin:miter;stroke:rgb(74.509804%,74.509804%,74.509804%);stroke-opacity:1;stroke-miterlimit:10;\" d=\"M 20 20 L 462.871094 108.574219 \"/>\n<path style=\" stroke:none;fill-rule:nonzero;fill:rgb(74.509804%,74.509804%,74.509804%);fill-opacity:1;\" d=\"M 476.859375 111.371094 L 461.964844 113.121094 L 463.78125 104.027344 L 476.859375 111.371094 \"/>\n<path style=\"fill:none;stroke-width:1;stroke-linecap:butt;stroke-linejoin:miter;stroke:rgb(74.509804%,74.509804%,74.509804%);stroke-opacity:1;stroke-miterlimit:10;\" d=\"M 20 20 L 561.359375 471.132812 \"/>\n<path style=\" stroke:none;fill-rule:nonzero;fill:rgb(74.509804%,74.509804%,74.509804%);fill-opacity:1;\" d=\"M 572.316406 480.265625 L 558.390625 474.691406 L 564.324219 467.570312 L 572.316406 480.265625 \"/>\n<path style=\"fill:none;stroke-width:1;stroke-linecap:butt;stroke-linejoin:miter;stroke:rgb(74.509804%,74.509804%,74.509804%);stroke-opacity:1;stroke-miterlimit:10;\" d=\"M 20 20 L 469.507812 469.507812 \"/>\n<path style=\" stroke:none;fill-rule:nonzero;fill:rgb(74.509804%,74.509804%,74.509804%);fill-opacity:1;\" d=\"M 479.59375 479.59375 L 466.230469 472.785156 L 472.785156 466.230469 L 479.59375 479.59375 \"/>\n<path style=\"fill:none;stroke-width:1;stroke-linecap:butt;stroke-linejoin:miter;stroke:rgb(74.509804%,74.509804%,74.509804%);stroke-opacity:1;stroke-miterlimit:10;\" d=\"M 20 20 L 471.132812 561.359375 \"/>\n<path style=\" stroke:none;fill-rule:nonzero;fill:rgb(74.509804%,74.509804%,74.509804%);fill-opacity:1;\" d=\"M 480.265625 572.316406 L 467.570312 564.324219 L 474.691406 558.390625 L 480.265625 572.316406 \"/>\n<path style=\"fill:none;stroke-width:1;stroke-linecap:butt;stroke-linejoin:miter;stroke:rgb(74.509804%,74.509804%,74.509804%);stroke-opacity:1;stroke-miterlimit:10;\" d=\"M 206.667969 20 L 130.492188 96.175781 \"/>\n<path style=\" stroke:none;fill-rule:nonzero;fill:rgb(74.509804%,74.509804%,74.509804%);fill-opacity:1;\" d=\"M 120.40625 106.261719 L 127.214844 92.898438 L 133.769531 99.453125 L 120.40625 106.261719 \"/>\n<path style=\"fill:none;stroke-width:1;stroke-linecap:butt;stroke-linejoin:miter;stroke:rgb(74.509804%,74.509804%,74.509804%);stroke-opacity:1;stroke-miterlimit:10;\" d=\"M 206.667969 20 L 292.328125 276.980469 \"/>\n<path style=\" stroke:none;fill-rule:nonzero;fill:rgb(74.509804%,74.509804%,74.509804%);fill-opacity:1;\" d=\"M 296.835938 290.511719 L 287.929688 278.445312 L 296.722656 275.511719 L 296.835938 290.511719 \"/>\n<path style=\"fill:none;stroke-width:1;stroke-linecap:butt;stroke-linejoin:miter;stroke:rgb(74.509804%,74.509804%,74.509804%);stroke-opacity:1;stroke-miterlimit:10;\" d=\"M 206.667969 20 L 463.644531 105.660156 \"/>\n<path style=\" stroke:none;fill-rule:nonzero;fill:rgb(74.509804%,74.509804%,74.509804%);fill-opacity:1;\" d=\"M 477.179688 110.171875 L 462.179688 110.058594 L 465.113281 101.261719 L 477.179688 110.171875 \"/>\n<path style=\"fill:none;stroke-width:1;stroke-linecap:butt;stroke-linejoin:miter;stroke:rgb(74.509804%,74.509804%,74.509804%);stroke-opacity:1;stroke-miterlimit:10;\" d=\"M 206.667969 20 L 564.839844 467.71875 \"/>\n<path style=\" stroke:none;fill-rule:nonzero;fill:rgb(74.509804%,74.509804%,74.509804%);fill-opacity:1;\" d=\"M 573.753906 478.859375 L 561.222656 470.613281 L 568.460938 464.824219 L 573.753906 478.859375 \"/>\n<path style=\"fill:none;stroke-width:1;stroke-linecap:butt;stroke-linejoin:miter;stroke:rgb(74.509804%,74.509804%,74.509804%);stroke-opacity:1;stroke-miterlimit:10;\" d=\"M 206.667969 20 L 474.183594 465.859375 \"/>\n<path style=\" stroke:none;fill-rule:nonzero;fill:rgb(74.509804%,74.509804%,74.509804%);fill-opacity:1;\" d=\"M 481.523438 478.089844 L 470.207031 468.242188 L 478.15625 463.472656 L 481.523438 478.089844 \"/>\n<path style=\"fill:none;stroke-width:1;stroke-linecap:butt;stroke-linejoin:miter;stroke:rgb(74.509804%,74.509804%,74.509804%);stroke-opacity:1;stroke-miterlimit:10;\" d=\"M 206.667969 20 L 475.816406 558.296875 \"/>\n<path style=\" stroke:none;fill-rule:nonzero;fill:rgb(74.509804%,74.509804%,74.509804%);fill-opacity:1;\" d=\"M 482.195312 571.054688 L 471.667969 560.367188 L 479.960938 556.222656 L 482.195312 571.054688 \"/>\n<path style=\"fill:none;stroke-width:1;stroke-linecap:butt;stroke-linejoin:miter;stroke:rgb(74.509804%,74.509804%,74.509804%);stroke-opacity:1;stroke-miterlimit:10;\" d=\"M 113.332031 113.332031 L 422.839844 422.839844 \"/>\n<path style=\" stroke:none;fill-rule:nonzero;fill:rgb(74.509804%,74.509804%,74.509804%);fill-opacity:1;\" d=\"M 432.929688 432.929688 L 419.5625 426.117188 L 426.117188 419.5625 L 432.929688 432.929688 \"/>\n<path style=\"fill:none;stroke-width:1;stroke-linecap:butt;stroke-linejoin:miter;stroke:rgb(74.509804%,74.509804%,74.509804%);stroke-opacity:1;stroke-miterlimit:10;\" d=\"M 113.332031 113.332031 L 425.101562 514.179688 \"/>\n<path style=\" stroke:none;fill-rule:nonzero;fill:rgb(74.509804%,74.509804%,74.509804%);fill-opacity:1;\" d=\"M 433.859375 525.441406 L 421.445312 517.023438 L 428.761719 511.332031 L 433.859375 525.441406 \"/>\n<path style=\"fill:none;stroke-width:1;stroke-linecap:butt;stroke-linejoin:miter;stroke:rgb(74.509804%,74.509804%,74.509804%);stroke-opacity:1;stroke-miterlimit:10;\" d=\"M 113.332031 113.332031 L 514.179688 425.101562 \"/>\n<path style=\" stroke:none;fill-rule:nonzero;fill:rgb(74.509804%,74.509804%,74.509804%);fill-opacity:1;\" d=\"M 525.441406 433.859375 L 511.332031 428.761719 L 517.023438 421.445312 L 525.441406 433.859375 \"/>\n<path style=\"fill:none;stroke-width:1;stroke-linecap:butt;stroke-linejoin:miter;stroke:rgb(74.509804%,74.509804%,74.509804%);stroke-opacity:1;stroke-miterlimit:10;\" d=\"M 300 300 L 422.839844 422.839844 \"/>\n<path style=\" stroke:none;fill-rule:nonzero;fill:rgb(74.509804%,74.509804%,74.509804%);fill-opacity:1;\" d=\"M 432.929688 432.929688 L 419.5625 426.117188 L 426.117188 419.5625 L 432.929688 432.929688 \"/>\n<path style=\"fill:none;stroke-width:1;stroke-linecap:butt;stroke-linejoin:miter;stroke:rgb(74.509804%,74.509804%,74.509804%);stroke-opacity:1;stroke-miterlimit:10;\" d=\"M 300 300 L 427.515625 512.527344 \"/>\n<path style=\" stroke:none;fill-rule:nonzero;fill:rgb(74.509804%,74.509804%,74.509804%);fill-opacity:1;\" d=\"M 434.855469 524.757812 L 423.539062 514.910156 L 431.488281 510.140625 L 434.855469 524.757812 \"/>\n<path style=\"fill:none;stroke-width:1;stroke-linecap:butt;stroke-linejoin:miter;stroke:rgb(74.509804%,74.509804%,74.509804%);stroke-opacity:1;stroke-miterlimit:10;\" d=\"M 300 300 L 512.527344 427.515625 \"/>\n<path style=\" stroke:none;fill-rule:nonzero;fill:rgb(74.509804%,74.509804%,74.509804%);fill-opacity:1;\" d=\"M 524.757812 434.855469 L 510.140625 431.488281 L 514.910156 423.539062 L 524.757812 434.855469 \"/>\n<path style=\"fill:none;stroke-width:1;stroke-linecap:butt;stroke-linejoin:miter;stroke:rgb(74.509804%,74.509804%,74.509804%);stroke-opacity:1;stroke-miterlimit:10;\" d=\"M 486.667969 113.332031 L 443.433594 415.976562 \"/>\n<path style=\" stroke:none;fill-rule:nonzero;fill:rgb(74.509804%,74.509804%,74.509804%);fill-opacity:1;\" d=\"M 441.414062 430.101562 L 438.84375 415.324219 L 448.019531 416.632812 L 441.414062 430.101562 \"/>\n<path style=\"fill:none;stroke-width:1;stroke-linecap:butt;stroke-linejoin:miter;stroke:rgb(74.509804%,74.509804%,74.509804%);stroke-opacity:1;stroke-miterlimit:10;\" d=\"M 486.667969 113.332031 L 442.679688 509.214844 \"/>\n<path style=\" stroke:none;fill-rule:nonzero;fill:rgb(74.509804%,74.509804%,74.509804%);fill-opacity:1;\" d=\"M 441.105469 523.394531 L 438.074219 508.703125 L 447.285156 509.726562 L 441.105469 523.394531 \"/>\n<path style=\"fill:none;stroke-width:1;stroke-linecap:butt;stroke-linejoin:miter;stroke:rgb(74.509804%,74.509804%,74.509804%);stroke-opacity:1;stroke-miterlimit:10;\" d=\"M 486.667969 113.332031 L 529.902344 415.976562 \"/>\n<path style=\" stroke:none;fill-rule:nonzero;fill:rgb(74.509804%,74.509804%,74.509804%);fill-opacity:1;\" d=\"M 531.917969 430.101562 L 525.3125 416.632812 L 534.492188 415.324219 L 531.917969 430.101562 \"/>\n<path style=\"fill:none;stroke-width:1;stroke-linecap:butt;stroke-linejoin:miter;stroke:rgb(74.509804%,74.509804%,74.509804%);stroke-opacity:1;stroke-miterlimit:10;\" d=\"M 580 486.667969 L 463.019531 447.671875 \"/>\n<path style=\" stroke:none;fill-rule:nonzero;fill:rgb(74.509804%,74.509804%,74.509804%);fill-opacity:1;\" d=\"M 449.488281 443.164062 L 464.488281 443.277344 L 461.554688 452.070312 L 449.488281 443.164062 \"/>\n<path style=\"fill:none;stroke-width:1;stroke-linecap:butt;stroke-linejoin:miter;stroke:rgb(74.509804%,74.509804%,74.509804%);stroke-opacity:1;stroke-miterlimit:10;\" d=\"M 580 486.667969 L 463.019531 525.660156 \"/>\n<path style=\" stroke:none;fill-rule:nonzero;fill:rgb(74.509804%,74.509804%,74.509804%);fill-opacity:1;\" d=\"M 449.488281 530.171875 L 461.554688 521.261719 L 464.488281 530.058594 L 449.488281 530.171875 \"/>\n<path style=\"fill:none;stroke-width:1;stroke-linecap:butt;stroke-linejoin:miter;stroke:rgb(74.509804%,74.509804%,74.509804%);stroke-opacity:1;stroke-miterlimit:10;\" d=\"M 580 486.667969 L 550.492188 457.160156 \"/>\n<path style=\" stroke:none;fill-rule:nonzero;fill:rgb(74.509804%,74.509804%,74.509804%);fill-opacity:1;\" d=\"M 540.40625 447.070312 L 553.769531 453.882812 L 547.214844 460.4375 L 540.40625 447.070312 \"/>\n<path style=\"fill:none;stroke-width:1;stroke-linecap:butt;stroke-linejoin:miter;stroke:rgb(74.509804%,74.509804%,74.509804%);stroke-opacity:1;stroke-miterlimit:10;\" d=\"M 486.667969 486.667969 L 457.160156 457.160156 \"/>\n<path style=\" stroke:none;fill-rule:nonzero;fill:rgb(74.509804%,74.509804%,74.509804%);fill-opacity:1;\" d=\"M 447.070312 447.070312 L 460.4375 453.882812 L 453.882812 460.4375 L 447.070312 447.070312 \"/>\n<path style=\"fill:none;stroke-width:1;stroke-linecap:butt;stroke-linejoin:miter;stroke:rgb(74.509804%,74.509804%,74.509804%);stroke-opacity:1;stroke-miterlimit:10;\" d=\"M 486.667969 486.667969 L 457.160156 516.175781 \"/>\n<path style=\" stroke:none;fill-rule:nonzero;fill:rgb(74.509804%,74.509804%,74.509804%);fill-opacity:1;\" d=\"M 447.070312 526.261719 L 453.882812 512.898438 L 460.4375 519.453125 L 447.070312 526.261719 \"/>\n<path style=\"fill:none;stroke-width:1;stroke-linecap:butt;stroke-linejoin:miter;stroke:rgb(74.509804%,74.509804%,74.509804%);stroke-opacity:1;stroke-miterlimit:10;\" d=\"M 486.667969 486.667969 L 516.175781 457.160156 \"/>\n<path style=\" stroke:none;fill-rule:nonzero;fill:rgb(74.509804%,74.509804%,74.509804%);fill-opacity:1;\" d=\"M 526.261719 447.070312 L 519.453125 460.4375 L 512.898438 453.882812 L 526.261719 447.070312 \"/>\n<path style=\"fill:none;stroke-width:1;stroke-linecap:butt;stroke-linejoin:miter;stroke:rgb(74.509804%,74.509804%,74.509804%);stroke-opacity:1;stroke-miterlimit:10;\" d=\"M 486.667969 580 L 447.671875 463.019531 \"/>\n<path style=\" stroke:none;fill-rule:nonzero;fill:rgb(74.509804%,74.509804%,74.509804%);fill-opacity:1;\" d=\"M 443.164062 449.488281 L 452.070312 461.554688 L 443.277344 464.488281 L 443.164062 449.488281 \"/>\n<path style=\"fill:none;stroke-width:1;stroke-linecap:butt;stroke-linejoin:miter;stroke:rgb(74.509804%,74.509804%,74.509804%);stroke-opacity:1;stroke-miterlimit:10;\" d=\"M 486.667969 580 L 457.160156 550.492188 \"/>\n<path style=\" stroke:none;fill-rule:nonzero;fill:rgb(74.509804%,74.509804%,74.509804%);fill-opacity:1;\" d=\"M 447.070312 540.40625 L 460.4375 547.214844 L 453.882812 553.769531 L 447.070312 540.40625 \"/>\n<path style=\"fill:none;stroke-width:1;stroke-linecap:butt;stroke-linejoin:miter;stroke:rgb(74.509804%,74.509804%,74.509804%);stroke-opacity:1;stroke-miterlimit:10;\" d=\"M 486.667969 580 L 525.660156 463.019531 \"/>\n<path style=\" stroke:none;fill-rule:nonzero;fill:rgb(74.509804%,74.509804%,74.509804%);fill-opacity:1;\" d=\"M 530.171875 449.488281 L 530.058594 464.488281 L 521.261719 461.554688 L 530.171875 449.488281 \"/>\n<path style=\"fill:none;stroke-width:1;stroke-linecap:butt;stroke-linejoin:miter;stroke:rgb(74.509804%,74.509804%,74.509804%);stroke-opacity:1;stroke-miterlimit:10;\" d=\"M 580 580 L 457.160156 457.160156 \"/>\n<path style=\" stroke:none;fill-rule:nonzero;fill:rgb(74.509804%,74.509804%,74.509804%);fill-opacity:1;\" d=\"M 447.070312 447.070312 L 460.4375 453.882812 L 453.882812 460.4375 L 447.070312 447.070312 \"/>\n<path style=\"fill:none;stroke-width:1;stroke-linecap:butt;stroke-linejoin:miter;stroke:rgb(74.509804%,74.509804%,74.509804%);stroke-opacity:1;stroke-miterlimit:10;\" d=\"M 580 580 L 463.019531 541.007812 \"/>\n<path style=\" stroke:none;fill-rule:nonzero;fill:rgb(74.509804%,74.509804%,74.509804%);fill-opacity:1;\" d=\"M 449.488281 536.496094 L 464.488281 536.609375 L 461.554688 545.402344 L 449.488281 536.496094 \"/>\n<path style=\"fill:none;stroke-width:1;stroke-linecap:butt;stroke-linejoin:miter;stroke:rgb(74.509804%,74.509804%,74.509804%);stroke-opacity:1;stroke-miterlimit:10;\" d=\"M 580 580 L 541.007812 463.019531 \"/>\n<path style=\" stroke:none;fill-rule:nonzero;fill:rgb(74.509804%,74.509804%,74.509804%);fill-opacity:1;\" d=\"M 536.496094 449.488281 L 545.402344 461.554688 L 536.609375 464.488281 L 536.496094 449.488281 \"/>\n<path style=\"fill:none;stroke-width:1;stroke-linecap:butt;stroke-linejoin:miter;stroke:rgb(74.509804%,74.509804%,74.509804%);stroke-opacity:1;stroke-miterlimit:10;\" d=\"M 393.332031 580 L 432.328125 463.019531 \"/>\n<path style=\" stroke:none;fill-rule:nonzero;fill:rgb(74.509804%,74.509804%,74.509804%);fill-opacity:1;\" d=\"M 436.835938 449.488281 L 436.722656 464.488281 L 427.929688 461.554688 L 436.835938 449.488281 \"/>\n<path style=\"fill:none;stroke-width:1;stroke-linecap:butt;stroke-linejoin:miter;stroke:rgb(74.509804%,74.509804%,74.509804%);stroke-opacity:1;stroke-miterlimit:10;\" d=\"M 393.332031 580 L 422.839844 550.492188 \"/>\n<path style=\" stroke:none;fill-rule:nonzero;fill:rgb(74.509804%,74.509804%,74.509804%);fill-opacity:1;\" d=\"M 432.929688 540.40625 L 426.117188 553.769531 L 419.5625 547.214844 L 432.929688 540.40625 \"/>\n<path style=\"fill:none;stroke-width:1;stroke-linecap:butt;stroke-linejoin:miter;stroke:rgb(74.509804%,74.509804%,74.509804%);stroke-opacity:1;stroke-miterlimit:10;\" d=\"M 393.332031 580 L 516.175781 457.160156 \"/>\n<path style=\" stroke:none;fill-rule:nonzero;fill:rgb(74.509804%,74.509804%,74.509804%);fill-opacity:1;\" d=\"M 526.261719 447.070312 L 519.453125 460.4375 L 512.898438 453.882812 L 526.261719 447.070312 \"/>\n<path style=\"fill:none;stroke-width:1;stroke-linecap:butt;stroke-linejoin:miter;stroke:rgb(74.509804%,74.509804%,74.509804%);stroke-opacity:1;stroke-miterlimit:10;\" d=\"M 580 393.332031 L 463.019531 432.328125 \"/>\n<path style=\" stroke:none;fill-rule:nonzero;fill:rgb(74.509804%,74.509804%,74.509804%);fill-opacity:1;\" d=\"M 449.488281 436.835938 L 461.554688 427.929688 L 464.488281 436.722656 L 449.488281 436.835938 \"/>\n<path style=\"fill:none;stroke-width:1;stroke-linecap:butt;stroke-linejoin:miter;stroke:rgb(74.509804%,74.509804%,74.509804%);stroke-opacity:1;stroke-miterlimit:10;\" d=\"M 580 393.332031 L 457.160156 516.175781 \"/>\n<path style=\" stroke:none;fill-rule:nonzero;fill:rgb(74.509804%,74.509804%,74.509804%);fill-opacity:1;\" d=\"M 447.070312 526.261719 L 453.882812 512.898438 L 460.4375 519.453125 L 447.070312 526.261719 \"/>\n<path style=\"fill:none;stroke-width:1;stroke-linecap:butt;stroke-linejoin:miter;stroke:rgb(74.509804%,74.509804%,74.509804%);stroke-opacity:1;stroke-miterlimit:10;\" d=\"M 580 393.332031 L 550.492188 422.839844 \"/>\n<path style=\" stroke:none;fill-rule:nonzero;fill:rgb(74.509804%,74.509804%,74.509804%);fill-opacity:1;\" d=\"M 540.40625 432.929688 L 547.214844 419.5625 L 553.769531 426.117188 L 540.40625 432.929688 \"/>\n<path style=\"fill:none;stroke-width:1;stroke-linecap:butt;stroke-linejoin:miter;stroke:rgb(74.509804%,74.509804%,74.509804%);stroke-opacity:1;stroke-miterlimit:10;\" d=\"M 20 206.667969 L 418.789062 428.214844 \"/>\n<path style=\" stroke:none;fill-rule:nonzero;fill:rgb(74.509804%,74.509804%,74.509804%);fill-opacity:1;\" d=\"M 431.257812 435.144531 L 416.535156 432.265625 L 421.039062 424.164062 L 431.257812 435.144531 \"/>\n<path style=\"fill:none;stroke-width:1;stroke-linecap:butt;stroke-linejoin:miter;stroke:rgb(74.509804%,74.509804%,74.509804%);stroke-opacity:1;stroke-miterlimit:10;\" d=\"M 20 206.667969 L 420.84375 518.433594 \"/>\n<path style=\" stroke:none;fill-rule:nonzero;fill:rgb(74.509804%,74.509804%,74.509804%);fill-opacity:1;\" d=\"M 432.105469 527.195312 L 418 522.09375 L 423.691406 514.777344 L 432.105469 527.195312 \"/>\n<path style=\"fill:none;stroke-width:1;stroke-linecap:butt;stroke-linejoin:miter;stroke:rgb(74.509804%,74.509804%,74.509804%);stroke-opacity:1;stroke-miterlimit:10;\" d=\"M 20 206.667969 L 511.242188 429.957031 \"/>\n<path style=\" stroke:none;fill-rule:nonzero;fill:rgb(74.509804%,74.509804%,74.509804%);fill-opacity:1;\" d=\"M 524.230469 435.863281 L 509.324219 434.179688 L 513.160156 425.738281 L 524.230469 435.863281 \"/>\n<path style=\"fill:none;stroke-width:1;stroke-linecap:butt;stroke-linejoin:miter;stroke:rgb(74.509804%,74.509804%,74.509804%);stroke-opacity:1;stroke-miterlimit:10;\" d=\"M 20 20 L 422.839844 422.839844 \"/>\n<path style=\" stroke:none;fill-rule:nonzero;fill:rgb(74.509804%,74.509804%,74.509804%);fill-opacity:1;\" d=\"M 432.929688 432.929688 L 419.5625 426.117188 L 426.117188 419.5625 L 432.929688 432.929688 \"/>\n<path style=\"fill:none;stroke-width:1;stroke-linecap:butt;stroke-linejoin:miter;stroke:rgb(74.509804%,74.509804%,74.509804%);stroke-opacity:1;stroke-miterlimit:10;\" d=\"M 20 20 L 424.632812 514.550781 \"/>\n<path style=\" stroke:none;fill-rule:nonzero;fill:rgb(74.509804%,74.509804%,74.509804%);fill-opacity:1;\" d=\"M 433.667969 525.59375 L 421.046875 517.488281 L 428.222656 511.617188 L 433.667969 525.59375 \"/>\n<path style=\"fill:none;stroke-width:1;stroke-linecap:butt;stroke-linejoin:miter;stroke:rgb(74.509804%,74.509804%,74.509804%);stroke-opacity:1;stroke-miterlimit:10;\" d=\"M 20 20 L 514.550781 424.632812 \"/>\n<path style=\" stroke:none;fill-rule:nonzero;fill:rgb(74.509804%,74.509804%,74.509804%);fill-opacity:1;\" d=\"M 525.59375 433.667969 L 511.617188 428.222656 L 517.488281 421.046875 L 525.59375 433.667969 \"/>\n<path style=\"fill:none;stroke-width:1;stroke-linecap:butt;stroke-linejoin:miter;stroke:rgb(74.509804%,74.509804%,74.509804%);stroke-opacity:1;stroke-miterlimit:10;\" d=\"M 206.667969 20 L 428.214844 418.789062 \"/>\n<path style=\" stroke:none;fill-rule:nonzero;fill:rgb(74.509804%,74.509804%,74.509804%);fill-opacity:1;\" d=\"M 435.144531 431.257812 L 424.164062 421.039062 L 432.265625 416.535156 L 435.144531 431.257812 \"/>\n<path style=\"fill:none;stroke-width:1;stroke-linecap:butt;stroke-linejoin:miter;stroke:rgb(74.509804%,74.509804%,74.509804%);stroke-opacity:1;stroke-miterlimit:10;\" d=\"M 206.667969 20 L 429.957031 511.242188 \"/>\n<path style=\" stroke:none;fill-rule:nonzero;fill:rgb(74.509804%,74.509804%,74.509804%);fill-opacity:1;\" d=\"M 435.863281 524.230469 L 425.738281 513.160156 L 434.179688 509.324219 L 435.863281 524.230469 \"/>\n<path style=\"fill:none;stroke-width:1;stroke-linecap:butt;stroke-linejoin:miter;stroke:rgb(74.509804%,74.509804%,74.509804%);stroke-opacity:1;stroke-miterlimit:10;\" d=\"M 206.667969 20 L 518.433594 420.84375 \"/>\n<path style=\" stroke:none;fill-rule:nonzero;fill:rgb(74.509804%,74.509804%,74.509804%);fill-opacity:1;\" d=\"M 527.195312 432.105469 L 514.777344 423.691406 L 522.09375 418 L 527.195312 432.105469 \"/>\n<path style=\"fill:none;stroke-width:1;stroke-linecap:butt;stroke-linejoin:miter;stroke:rgb(100%,75.294118%,79.607843%);stroke-opacity:1;stroke-miterlimit:10;\" d=\"M 113.332031 113.332031 C 120.664062 216.054688 174.660156 299.984375 275.328125 299.996094 \"/>\n<path style=\" stroke:none;fill-rule:nonzero;fill:rgb(100%,75.294118%,79.607843%);fill-opacity:1;\" d=\"M 289.59375 300 L 275.328125 304.632812 L 275.328125 295.363281 L 289.59375 300 \"/>\n<path style=\"fill:none;stroke-width:1;stroke-linecap:butt;stroke-linejoin:miter;stroke:rgb(100%,75.294118%,79.607843%);stroke-opacity:1;stroke-miterlimit:10;\" d=\"M 300 300 C 292.667969 197.28125 238.671875 113.347656 138.007812 113.335938 \"/>\n<path style=\" stroke:none;fill-rule:nonzero;fill:rgb(100%,75.294118%,79.607843%);fill-opacity:1;\" d=\"M 123.742188 113.335938 L 138.007812 108.699219 L 138.003906 117.972656 L 123.742188 113.335938 \"/>\n<path style=\"fill:none;stroke-width:1;stroke-linecap:butt;stroke-linejoin:miter;stroke:rgb(100%,75.294118%,79.607843%);stroke-opacity:1;stroke-miterlimit:10;\" d=\"M 300 300 C 307.332031 402.71875 361.328125 486.652344 461.992188 486.664062 \"/>\n<path style=\" stroke:none;fill-rule:nonzero;fill:rgb(100%,75.294118%,79.607843%);fill-opacity:1;\" d=\"M 476.257812 486.664062 L 461.992188 491.300781 L 461.996094 482.027344 L 476.257812 486.664062 \"/>\n<path style=\"fill:none;stroke-width:1;stroke-linecap:butt;stroke-linejoin:miter;stroke:rgb(100%,75.294118%,79.607843%);stroke-opacity:1;stroke-miterlimit:10;\" d=\"M 486.667969 486.667969 C 479.335938 383.945312 425.339844 300.015625 324.671875 300.003906 \"/>\n<path style=\" stroke:none;fill-rule:nonzero;fill:rgb(100%,75.294118%,79.607843%);fill-opacity:1;\" d=\"M 310.40625 300 L 324.671875 295.367188 L 324.671875 304.636719 L 310.40625 300 \"/>\n<path style=\"fill:none;stroke-width:1;stroke-linecap:butt;stroke-linejoin:miter;stroke:rgb(100%,75.294118%,79.607843%);stroke-opacity:1;stroke-miterlimit:10;\" d=\"M 486.667969 486.667969 C 511.570312 471.335938 541.390625 497.253906 556.5625 493.09375 \"/>\n<path style=\" stroke:none;fill-rule:nonzero;fill:rgb(100%,75.294118%,79.607843%);fill-opacity:1;\" d=\"M 570.320312 489.320312 L 557.789062 497.5625 L 555.335938 488.621094 L 570.320312 489.320312 \"/>\n<path style=\"fill:none;stroke-width:1;stroke-linecap:butt;stroke-linejoin:miter;stroke:rgb(100%,75.294118%,79.607843%);stroke-opacity:1;stroke-miterlimit:10;\" d=\"M 580 486.667969 C 558.925781 509.566406 531.988281 517.699219 506.5625 500.289062 \"/>\n<path style=\" stroke:none;fill-rule:nonzero;fill:rgb(100%,75.294118%,79.607843%);fill-opacity:1;\" d=\"M 494.792969 492.230469 L 509.179688 496.464844 L 503.945312 504.113281 L 494.792969 492.230469 \"/>\n<path style=\"fill:none;stroke-width:1;stroke-linecap:butt;stroke-linejoin:miter;stroke:rgb(100%,75.294118%,79.607843%);stroke-opacity:1;stroke-miterlimit:10;\" d=\"M 486.667969 486.667969 C 463.765625 507.738281 455.632812 534.679688 473.042969 560.105469 \"/>\n<path style=\" stroke:none;fill-rule:nonzero;fill:rgb(100%,75.294118%,79.607843%);fill-opacity:1;\" d=\"M 481.101562 571.875 L 469.21875 562.722656 L 476.867188 557.484375 L 481.101562 571.875 \"/>\n<path style=\"fill:none;stroke-width:1;stroke-linecap:butt;stroke-linejoin:miter;stroke:rgb(100%,75.294118%,79.607843%);stroke-opacity:1;stroke-miterlimit:10;\" d=\"M 486.667969 580 C 515.328125 557.421875 532.441406 504.375 509.183594 495.378906 \"/>\n<path style=\" stroke:none;fill-rule:nonzero;fill:rgb(100%,75.294118%,79.607843%);fill-opacity:1;\" d=\"M 495.878906 490.230469 L 510.855469 491.054688 L 507.511719 499.699219 L 495.878906 490.230469 \"/>\n<path style=\"fill:none;stroke-width:1;stroke-linecap:butt;stroke-linejoin:miter;stroke:rgb(100%,64.705882%,0%);stroke-opacity:1;stroke-miterlimit:10;\" d=\"M 113.332031 113.332031 L 469.507812 469.507812 \"/>\n<path style=\" stroke:none;fill-rule:nonzero;fill:rgb(100%,64.705882%,0%);fill-opacity:1;\" d=\"M 479.59375 479.59375 L 466.230469 472.785156 L 472.785156 466.230469 L 479.59375 479.59375 \"/>\n<path style=\"fill:none;stroke-width:1;stroke-linecap:butt;stroke-linejoin:miter;stroke:rgb(100%,64.705882%,0%);stroke-opacity:1;stroke-miterlimit:10;\" d=\"M 486.667969 486.667969 L 486.667969 137.597656 \"/>\n<path style=\" stroke:none;fill-rule:nonzero;fill:rgb(100%,64.705882%,0%);fill-opacity:1;\" d=\"M 486.667969 123.332031 L 491.300781 137.597656 L 482.03125 137.597656 L 486.667969 123.332031 \"/>\n<path style=\"fill:none;stroke-width:1;stroke-linecap:butt;stroke-linejoin:miter;stroke:rgb(100%,64.705882%,0%);stroke-opacity:1;stroke-miterlimit:10;\" d=\"M 486.667969 113.332031 L 137.597656 113.332031 \"/>\n<path style=\" stroke:none;fill-rule:nonzero;fill:rgb(100%,64.705882%,0%);fill-opacity:1;\" d=\"M 123.332031 113.332031 L 137.597656 108.699219 L 137.597656 117.96875 L 123.332031 113.332031 \"/>\n<path style=\"fill-rule:nonzero;fill:rgb(100%,0%,0%);fill-opacity:1;stroke-width:1;stroke-linecap:butt;stroke-linejoin:miter;stroke:rgb(0%,0%,0%);stroke-opacity:1;stroke-miterlimit:10;\" d=\"M 590 580 C 590 585.523438 585.523438 590 580 590 C 574.476562 590 570 585.523438 570 580 C 570 574.476562 574.476562 570 580 570 C 585.523438 570 590 574.476562 590 580 \"/>\n<path style=\"fill-rule:nonzero;fill:rgb(100%,0%,0%);fill-opacity:1;stroke-width:1;stroke-linecap:butt;stroke-linejoin:miter;stroke:rgb(0%,0%,0%);stroke-opacity:1;stroke-miterlimit:10;\" d=\"M 403.332031 580 C 403.332031 585.523438 398.855469 590 393.332031 590 C 387.808594 590 383.332031 585.523438 383.332031 580 C 383.332031 574.476562 387.808594 570 393.332031 570 C 398.855469 570 403.332031 574.476562 403.332031 580 \"/>\n<path style=\"fill-rule:nonzero;fill:rgb(100%,0%,0%);fill-opacity:1;stroke-width:1;stroke-linecap:butt;stroke-linejoin:miter;stroke:rgb(0%,0%,0%);stroke-opacity:1;stroke-miterlimit:10;\" d=\"M 590 393.332031 C 590 398.855469 585.523438 403.332031 580 403.332031 C 574.476562 403.332031 570 398.855469 570 393.332031 C 570 387.808594 574.476562 383.332031 580 383.332031 C 585.523438 383.332031 590 387.808594 590 393.332031 \"/>\n<path style=\"fill-rule:nonzero;fill:rgb(62.745098%,12.54902%,94.117647%);fill-opacity:1;stroke-width:1;stroke-linecap:butt;stroke-linejoin:miter;stroke:rgb(0%,0%,0%);stroke-opacity:1;stroke-miterlimit:10;\" d=\"M 30 206.667969 C 30 212.191406 25.523438 216.667969 20 216.667969 C 14.476562 216.667969 10 212.191406 10 206.667969 C 10 201.144531 14.476562 196.667969 20 196.667969 C 25.523438 196.667969 30 201.144531 30 206.667969 \"/>\n<path style=\"fill-rule:nonzero;fill:rgb(62.745098%,12.54902%,94.117647%);fill-opacity:1;stroke-width:1;stroke-linecap:butt;stroke-linejoin:miter;stroke:rgb(0%,0%,0%);stroke-opacity:1;stroke-miterlimit:10;\" d=\"M 30 20 C 30 25.523438 25.523438 30 20 30 C 14.476562 30 10 25.523438 10 20 C 10 14.476562 14.476562 10 20 10 C 25.523438 10 30 14.476562 30 20 \"/>\n<path style=\"fill-rule:nonzero;fill:rgb(62.745098%,12.54902%,94.117647%);fill-opacity:1;stroke-width:1;stroke-linecap:butt;stroke-linejoin:miter;stroke:rgb(0%,0%,0%);stroke-opacity:1;stroke-miterlimit:10;\" d=\"M 216.667969 20 C 216.667969 25.523438 212.191406 30 206.667969 30 C 201.144531 30 196.667969 25.523438 196.667969 20 C 196.667969 14.476562 201.144531 10 206.667969 10 C 212.191406 10 216.667969 14.476562 216.667969 20 \"/>\n<path style=\"fill-rule:nonzero;fill:rgb(0%,0%,100%);fill-opacity:1;stroke-width:1;stroke-linecap:butt;stroke-linejoin:miter;stroke:rgb(0%,0%,0%);stroke-opacity:1;stroke-miterlimit:10;\" d=\"M 123.332031 113.332031 C 123.332031 118.855469 118.855469 123.332031 113.332031 123.332031 C 107.808594 123.332031 103.332031 118.855469 103.332031 113.332031 C 103.332031 107.808594 107.808594 103.332031 113.332031 103.332031 C 118.855469 103.332031 123.332031 107.808594 123.332031 113.332031 \"/>\n<path style=\"fill-rule:nonzero;fill:rgb(0%,0%,100%);fill-opacity:1;stroke-width:1;stroke-linecap:butt;stroke-linejoin:miter;stroke:rgb(0%,0%,0%);stroke-opacity:1;stroke-miterlimit:10;\" d=\"M 310 300 C 310 305.523438 305.523438 310 300 310 C 294.476562 310 290 305.523438 290 300 C 290 294.476562 294.476562 290 300 290 C 305.523438 290 310 294.476562 310 300 \"/>\n<path style=\"fill-rule:nonzero;fill:rgb(0%,0%,100%);fill-opacity:1;stroke-width:1;stroke-linecap:butt;stroke-linejoin:miter;stroke:rgb(0%,0%,0%);stroke-opacity:1;stroke-miterlimit:10;\" d=\"M 496.667969 113.332031 C 496.667969 118.855469 492.191406 123.332031 486.667969 123.332031 C 481.144531 123.332031 476.667969 118.855469 476.667969 113.332031 C 476.667969 107.808594 481.144531 103.332031 486.667969 103.332031 C 492.191406 103.332031 496.667969 107.808594 496.667969 113.332031 \"/>\n<path style=\"fill-rule:nonzero;fill:rgb(0%,0%,100%);fill-opacity:1;stroke-width:1;stroke-linecap:butt;stroke-linejoin:miter;stroke:rgb(0%,0%,0%);stroke-opacity:1;stroke-miterlimit:10;\" d=\"M 590 486.667969 C 590 492.191406 585.523438 496.667969 580 496.667969 C 574.476562 496.667969 570 492.191406 570 486.667969 C 570 481.144531 574.476562 476.667969 580 476.667969 C 585.523438 476.667969 590 481.144531 590 486.667969 \"/>\n<path style=\"fill-rule:nonzero;fill:rgb(0%,0%,100%);fill-opacity:1;stroke-width:1;stroke-linecap:butt;stroke-linejoin:miter;stroke:rgb(0%,0%,0%);stroke-opacity:1;stroke-miterlimit:10;\" d=\"M 496.667969 486.667969 C 496.667969 492.191406 492.191406 496.667969 486.667969 496.667969 C 481.144531 496.667969 476.667969 492.191406 476.667969 486.667969 C 476.667969 481.144531 481.144531 476.667969 486.667969 476.667969 C 492.191406 476.667969 496.667969 481.144531 496.667969 486.667969 \"/>\n<path style=\"fill-rule:nonzero;fill:rgb(0%,0%,100%);fill-opacity:1;stroke-width:1;stroke-linecap:butt;stroke-linejoin:miter;stroke:rgb(0%,0%,0%);stroke-opacity:1;stroke-miterlimit:10;\" d=\"M 496.667969 580 C 496.667969 585.523438 492.191406 590 486.667969 590 C 481.144531 590 476.667969 585.523438 476.667969 580 C 476.667969 574.476562 481.144531 570 486.667969 570 C 492.191406 570 496.667969 574.476562 496.667969 580 \"/>\n<path style=\"fill-rule:nonzero;fill:rgb(0%,100%,0%);fill-opacity:1;stroke-width:1;stroke-linecap:butt;stroke-linejoin:miter;stroke:rgb(0%,0%,0%);stroke-opacity:1;stroke-miterlimit:10;\" d=\"M 450 440 C 450 445.523438 445.523438 450 440 450 C 434.476562 450 430 445.523438 430 440 C 430 434.476562 434.476562 430 440 430 C 445.523438 430 450 434.476562 450 440 \"/>\n<path style=\"fill-rule:nonzero;fill:rgb(0%,100%,0%);fill-opacity:1;stroke-width:1;stroke-linecap:butt;stroke-linejoin:miter;stroke:rgb(0%,0%,0%);stroke-opacity:1;stroke-miterlimit:10;\" d=\"M 450 533.332031 C 450 538.855469 445.523438 543.332031 440 543.332031 C 434.476562 543.332031 430 538.855469 430 533.332031 C 430 527.808594 434.476562 523.332031 440 523.332031 C 445.523438 523.332031 450 527.808594 450 533.332031 \"/>\n<path style=\"fill-rule:nonzero;fill:rgb(0%,100%,0%);fill-opacity:1;stroke-width:1;stroke-linecap:butt;stroke-linejoin:miter;stroke:rgb(0%,0%,0%);stroke-opacity:1;stroke-miterlimit:10;\" d=\"M 543.332031 440 C 543.332031 445.523438 538.855469 450 533.332031 450 C 527.808594 450 523.332031 445.523438 523.332031 440 C 523.332031 434.476562 527.808594 430 533.332031 430 C 538.855469 430 543.332031 434.476562 543.332031 440 \"/>\n</g>\n</svg>\n"
     },
     "execution_count": 3,
     "metadata": {
      "image/svg+xml": {
       "isolated": true
      }
     },
     "output_type": "execute_result"
    }
   ],
   "source": [
    "ig.plot(g)"
   ],
   "metadata": {
    "collapsed": false,
    "pycharm": {
     "name": "#%%\n"
    }
   }
  },
  {
   "cell_type": "code",
   "execution_count": 4,
   "outputs": [
    {
     "data": {
      "text/plain": "  neighborhood  n_inh  n_purple  n_red                 geometry\n0          RC1   1000       100    900  POINT (3.50000 3.50000)\n1          RC2   1000       200    800  POINT (2.50000 3.50000)\n2          RC3   1000       200    800  POINT (3.50000 2.50000)\n3          RC4   1200      1000    200  POINT (0.50000 1.50000)\n4          RC5    800       600    200  POINT (0.50000 0.50000)\n5          RC6   1000      1000      0  POINT (1.50000 0.50000)",
      "text/html": "<div>\n<style scoped>\n    .dataframe tbody tr th:only-of-type {\n        vertical-align: middle;\n    }\n\n    .dataframe tbody tr th {\n        vertical-align: top;\n    }\n\n    .dataframe thead th {\n        text-align: right;\n    }\n</style>\n<table border=\"1\" class=\"dataframe\">\n  <thead>\n    <tr style=\"text-align: right;\">\n      <th></th>\n      <th>neighborhood</th>\n      <th>n_inh</th>\n      <th>n_purple</th>\n      <th>n_red</th>\n      <th>geometry</th>\n    </tr>\n  </thead>\n  <tbody>\n    <tr>\n      <th>0</th>\n      <td>RC1</td>\n      <td>1000</td>\n      <td>100</td>\n      <td>900</td>\n      <td>POINT (3.50000 3.50000)</td>\n    </tr>\n    <tr>\n      <th>1</th>\n      <td>RC2</td>\n      <td>1000</td>\n      <td>200</td>\n      <td>800</td>\n      <td>POINT (2.50000 3.50000)</td>\n    </tr>\n    <tr>\n      <th>2</th>\n      <td>RC3</td>\n      <td>1000</td>\n      <td>200</td>\n      <td>800</td>\n      <td>POINT (3.50000 2.50000)</td>\n    </tr>\n    <tr>\n      <th>3</th>\n      <td>RC4</td>\n      <td>1200</td>\n      <td>1000</td>\n      <td>200</td>\n      <td>POINT (0.50000 1.50000)</td>\n    </tr>\n    <tr>\n      <th>4</th>\n      <td>RC5</td>\n      <td>800</td>\n      <td>600</td>\n      <td>200</td>\n      <td>POINT (0.50000 0.50000)</td>\n    </tr>\n    <tr>\n      <th>5</th>\n      <td>RC6</td>\n      <td>1000</td>\n      <td>1000</td>\n      <td>0</td>\n      <td>POINT (1.50000 0.50000)</td>\n    </tr>\n  </tbody>\n</table>\n</div>"
     },
     "execution_count": 4,
     "metadata": {},
     "output_type": "execute_result"
    }
   ],
   "source": [
    "census"
   ],
   "metadata": {
    "collapsed": false,
    "pycharm": {
     "name": "#%%\n"
    }
   }
  },
  {
   "cell_type": "markdown",
   "source": [
    "# Helper Functions"
   ],
   "metadata": {
    "collapsed": false,
    "pycharm": {
     "name": "#%% md\n"
    }
   }
  },
  {
   "cell_type": "code",
   "execution_count": 5,
   "outputs": [
    {
     "data": {
      "text/plain": "['RC1', 'RC2', 'RC3', 'RC4', 'RC5', 'RC6']"
     },
     "execution_count": 5,
     "metadata": {},
     "output_type": "execute_result"
    }
   ],
   "source": [
    "g.vs.select(type_eq='res_node')['name']"
   ],
   "metadata": {
    "collapsed": false,
    "pycharm": {
     "name": "#%%\n"
    }
   }
  },
  {
   "cell_type": "code",
   "execution_count": 6,
   "outputs": [],
   "source": [
    "def evaluate_graph(g: ig.Graph) -> pd.DataFrame:\n",
    "    nb_nodes = g.vs.select(type_eq='res_node')\n",
    "    poi_nodes = g.vs.select(type_eq='poi_node')\n",
    "\n",
    "    tt_mx = np.zeros((len(nb_nodes), len(poi_nodes)))\n",
    "    hops_mx = np.zeros((len(nb_nodes), len(poi_nodes)))\n",
    "\n",
    "    failed = {}\n",
    "\n",
    "    for i, o in enumerate(nb_nodes):\n",
    "        for j, d in enumerate(poi_nodes):\n",
    "            # Travel Time\n",
    "            tt = g.shortest_paths(o, d, weights='tt')[0][0]\n",
    "            if tt == math.inf:\n",
    "                if not failed.get(f\"{o['node_id']}_tt\", None) == d['node_id']:\n",
    "                    failed[f\"{o['node_id']}_tt\"] = d[\"node_id\"]\n",
    "            else:\n",
    "                tt_mx[i, j] = tt\n",
    "            # Number of hops\n",
    "            edges = g.get_shortest_paths(o, d, weights='tt', output='epath')[0]\n",
    "            if edges == math.inf or not edges:\n",
    "                if not failed.get(f\"{o['node_id']}_edges\", None) == d[\"node_id\"]:\n",
    "                    failed[f\"{o['node_id']}_edges\"] = d[\"node_id\"]\n",
    "            else:\n",
    "                hops_mx[i, j] = len(edges)\n",
    "\n",
    "    df_tt = pd.DataFrame(tt_mx, columns=poi_nodes['name'])\n",
    "    df_tt['metric'] = 'travel_time'\n",
    "    df_tt['rc'] = nb_nodes['name']\n",
    "\n",
    "    df_hops = pd.DataFrame(hops_mx, columns=poi_nodes['name'])\n",
    "    df_hops['metric'] = 'hops'\n",
    "    df_hops['rc'] = nb_nodes['name']\n",
    "\n",
    "    return pd.concat([df_tt,df_hops], axis=0)"
   ],
   "metadata": {
    "collapsed": false,
    "pycharm": {
     "name": "#%%\n"
    }
   }
  },
  {
   "cell_type": "code",
   "execution_count": 7,
   "outputs": [
    {
     "data": {
      "text/plain": "        POI1       POI2       POI3       metric   rc\n0  10.542641   9.486833   9.486833  travel_time  RC1\n1   9.486833   4.242641  11.191324  travel_time  RC2\n2   9.486833  10.542641   4.242641  travel_time  RC3\n3  12.940054  12.940054  12.940054  travel_time  RC4\n4  12.940054  12.940054  12.940054  travel_time  RC5\n5  12.940054  12.940054  12.940054  travel_time  RC6\n0   3.000000   1.000000   1.000000         hops  RC1\n1   1.000000   1.000000   3.000000         hops  RC2\n2   1.000000   3.000000   1.000000         hops  RC3\n3   3.000000   3.000000   3.000000         hops  RC4\n4   3.000000   3.000000   3.000000         hops  RC5\n5   3.000000   3.000000   3.000000         hops  RC6",
      "text/html": "<div>\n<style scoped>\n    .dataframe tbody tr th:only-of-type {\n        vertical-align: middle;\n    }\n\n    .dataframe tbody tr th {\n        vertical-align: top;\n    }\n\n    .dataframe thead th {\n        text-align: right;\n    }\n</style>\n<table border=\"1\" class=\"dataframe\">\n  <thead>\n    <tr style=\"text-align: right;\">\n      <th></th>\n      <th>POI1</th>\n      <th>POI2</th>\n      <th>POI3</th>\n      <th>metric</th>\n      <th>rc</th>\n    </tr>\n  </thead>\n  <tbody>\n    <tr>\n      <th>0</th>\n      <td>10.542641</td>\n      <td>9.486833</td>\n      <td>9.486833</td>\n      <td>travel_time</td>\n      <td>RC1</td>\n    </tr>\n    <tr>\n      <th>1</th>\n      <td>9.486833</td>\n      <td>4.242641</td>\n      <td>11.191324</td>\n      <td>travel_time</td>\n      <td>RC2</td>\n    </tr>\n    <tr>\n      <th>2</th>\n      <td>9.486833</td>\n      <td>10.542641</td>\n      <td>4.242641</td>\n      <td>travel_time</td>\n      <td>RC3</td>\n    </tr>\n    <tr>\n      <th>3</th>\n      <td>12.940054</td>\n      <td>12.940054</td>\n      <td>12.940054</td>\n      <td>travel_time</td>\n      <td>RC4</td>\n    </tr>\n    <tr>\n      <th>4</th>\n      <td>12.940054</td>\n      <td>12.940054</td>\n      <td>12.940054</td>\n      <td>travel_time</td>\n      <td>RC5</td>\n    </tr>\n    <tr>\n      <th>5</th>\n      <td>12.940054</td>\n      <td>12.940054</td>\n      <td>12.940054</td>\n      <td>travel_time</td>\n      <td>RC6</td>\n    </tr>\n    <tr>\n      <th>0</th>\n      <td>3.000000</td>\n      <td>1.000000</td>\n      <td>1.000000</td>\n      <td>hops</td>\n      <td>RC1</td>\n    </tr>\n    <tr>\n      <th>1</th>\n      <td>1.000000</td>\n      <td>1.000000</td>\n      <td>3.000000</td>\n      <td>hops</td>\n      <td>RC2</td>\n    </tr>\n    <tr>\n      <th>2</th>\n      <td>1.000000</td>\n      <td>3.000000</td>\n      <td>1.000000</td>\n      <td>hops</td>\n      <td>RC3</td>\n    </tr>\n    <tr>\n      <th>3</th>\n      <td>3.000000</td>\n      <td>3.000000</td>\n      <td>3.000000</td>\n      <td>hops</td>\n      <td>RC4</td>\n    </tr>\n    <tr>\n      <th>4</th>\n      <td>3.000000</td>\n      <td>3.000000</td>\n      <td>3.000000</td>\n      <td>hops</td>\n      <td>RC5</td>\n    </tr>\n    <tr>\n      <th>5</th>\n      <td>3.000000</td>\n      <td>3.000000</td>\n      <td>3.000000</td>\n      <td>hops</td>\n      <td>RC6</td>\n    </tr>\n  </tbody>\n</table>\n</div>"
     },
     "execution_count": 7,
     "metadata": {},
     "output_type": "execute_result"
    }
   ],
   "source": [
    "df = evaluate_graph(g)\n",
    "df"
   ],
   "metadata": {
    "collapsed": false,
    "pycharm": {
     "name": "#%%\n"
    }
   }
  },
  {
   "cell_type": "code",
   "execution_count": 8,
   "outputs": [],
   "source": [
    "def generate_samples(metric_df: pd.DataFrame, inh_per_group: pd.DataFrame) -> pd.DataFrame:\n",
    "    merged_df = pd.merge(metric_df, inh_per_group, how='left', left_on='rc', right_on='neighborhood')\n",
    "\n",
    "    city = pd.DataFrame(columns=['metric_value', 'group'])\n",
    "\n",
    "    for group in merged_df.loc[:,merged_df.columns.str.contains('n_')].columns:\n",
    "        samples_group = np.repeat(merged_df['average'].values, merged_df[group])\n",
    "        samples_group = samples_group.reshape((-1,1))\n",
    "        labels = np.repeat(group.replace('n_',''),samples_group.shape[0]).reshape((-1,1))\n",
    "        group_individuals = np.hstack([samples_group, labels])\n",
    "        df = pd.DataFrame(group_individuals, columns=['metric_value', 'group'])\n",
    "        city = pd.concat([city, df], axis=0)\n",
    "\n",
    "    return city"
   ],
   "metadata": {
    "collapsed": false,
    "pycharm": {
     "name": "#%%\n"
    }
   }
  },
  {
   "cell_type": "code",
   "execution_count": 9,
   "outputs": [],
   "source": [
    "def get_tt_hops_com_dfs(g: ig.Graph, census_data: pd.DataFrame) -> Tuple[pd.DataFrame, pd.DataFrame, pd.DataFrame]:\n",
    "    metric_df = evaluate_graph(g)\n",
    "    groups_census = census_data.drop(columns=['n_inh','geometry'])\n",
    "\n",
    "    metric_df['average'] = metric_df.loc[:,metric_df.columns.str.contains('POI')].mean(axis=1)\n",
    "    tt_samples = generate_samples(metric_df[metric_df['metric']=='travel_time'], groups_census)\n",
    "    hops_samples = generate_samples(metric_df[metric_df['metric']=='hops'], groups_census)\n",
    "\n",
    "    value_cols = metric_df.loc[:,metric_df.columns.str.contains('POI')]\n",
    "    metric_df['average'] = (value_cols<12).sum(axis=1)\n",
    "    com_samples = generate_samples(metric_df[metric_df['metric']=='travel_time'], groups_census)\n",
    "\n",
    "    return tt_samples, hops_samples, com_samples"
   ],
   "metadata": {
    "collapsed": false,
    "pycharm": {
     "name": "#%%\n"
    }
   }
  },
  {
   "cell_type": "code",
   "execution_count": 10,
   "outputs": [],
   "source": [
    "def series_min_max_norm(sr: pd.Series):\n",
    "    return (sr-sr.min())/(sr.max()-sr.min())"
   ],
   "metadata": {
    "collapsed": false,
    "pycharm": {
     "name": "#%%\n"
    }
   }
  },
  {
   "cell_type": "markdown",
   "source": [
    "# Reward Functions"
   ],
   "metadata": {
    "collapsed": false,
    "pycharm": {
     "name": "#%% md\n"
    }
   }
  },
  {
   "cell_type": "code",
   "execution_count": 11,
   "outputs": [],
   "source": [
    "def egalitarian(g: ig.Graph, census_data: gpd.GeoDataFrame, groups: List[str] = None) -> float:\n",
    "\n",
    "    tt_samples, hops_samples, com_samples = get_tt_hops_com_dfs(g, census_data)\n",
    "\n",
    "    groups = list(tt_samples.group.unique()) if not groups else groups\n",
    "    assert isinstance(groups, list)\n",
    "\n",
    "    # fit KDE (sklearn) on each component\n",
    "    kdes = {group: {metric: None for metric in ['tt','hops','com']} for group in groups}\n",
    "    kde_mixtures = {metric: None for metric in ['tt','hops','com']}\n",
    "\n",
    "    for group in groups:\n",
    "        for metric, metric_df in zip(['tt','hops','com'], [tt_samples, hops_samples, com_samples]):\n",
    "            X = metric_df[metric_df.group==group].drop(columns='group').astype(float).to_numpy()\n",
    "            kde = sm.nonparametric.KDEUnivariate(X)\n",
    "            kde.fit(bw=0.2)\n",
    "            kdes[group][metric] = kde\n",
    "        #     # score_samples returns the log of the probability density\n",
    "        #     x_d = np.linspace(0,X.max()+5, 100).reshape((-1,1))\n",
    "        #     logprob = kde.score_samples(x_d)\n",
    "        #     x_d = np.linspace(0,X.max()+5, 100)\n",
    "        #     plt.fill_between(x_d, np.exp(logprob), alpha=0.5)\n",
    "        #     plt.plot(X, np.full_like(X, -0.01), '|k', markeredgewidth=1)\n",
    "        #     break\n",
    "        # break\n",
    "\n",
    "    for metric, metric_df in zip(['tt','hops','com'], [tt_samples, hops_samples, com_samples]):\n",
    "        X = metric_df.drop(columns='group').astype(float).to_numpy()\n",
    "        kde = sm.nonparametric.KDEUnivariate(X)\n",
    "        kde.fit(bw=0.2)\n",
    "        kde_mixtures[metric] = kde\n",
    "\n",
    "    reward = 0\n",
    "    for metric in ['tt','hops','com']:\n",
    "        n_dist = len(kdes.keys())\n",
    "        reward += kde_mixtures[metric].entropy - 1/n_dist * sum([kdes[group][metric].entropy  for group in kdes])\n",
    "\n",
    "    return -reward"
   ],
   "metadata": {
    "collapsed": false,
    "pycharm": {
     "name": "#%%\n"
    }
   }
  },
  {
   "cell_type": "code",
   "execution_count": 12,
   "outputs": [
    {
     "data": {
      "text/plain": "-0.809928924341548"
     },
     "execution_count": 12,
     "metadata": {},
     "output_type": "execute_result"
    }
   ],
   "source": [
    "egalitarian(g, census)"
   ],
   "metadata": {
    "collapsed": false,
    "pycharm": {
     "name": "#%%\n"
    }
   }
  },
  {
   "cell_type": "code",
   "execution_count": 13,
   "outputs": [],
   "source": [
    "def utilitarian(g: ig.Graph, census_data: gpd.GeoDataFrame, groups: List[str] = None) -> float:\n",
    "    # TODO: Look into multi-obj. learning but for now just consider one at a time or with weights\n",
    "    tt_samples, hops_samples, com_samples = get_tt_hops_com_dfs(g, census_data)\n",
    "\n",
    "    groups = tt_samples.group.unique() if not groups else groups\n",
    "\n",
    "    tt_samples_hat = tt_samples\n",
    "    hops_samples_hat = hops_samples\n",
    "    com_samples_hat = com_samples\n",
    "\n",
    "    tt_samples_hat['metric_value'] = series_min_max_norm(tt_samples.metric_value.astype(float))\n",
    "    hops_samples_hat['metric_value'] =  series_min_max_norm(hops_samples.metric_value.astype(float))\n",
    "    com_samples_hat['metric_value'] = series_min_max_norm(com_samples.metric_value.astype(float))\n",
    "\n",
    "    reward = 0\n",
    "\n",
    "    for group in groups:\n",
    "        reward += -float(np.mean(tt_samples_hat[tt_samples_hat.group==group]['metric_value']))\\\n",
    "                  -float(np.mean(hops_samples_hat[hops_samples_hat.group==group]['metric_value']))\\\n",
    "                  +float(np.mean(com_samples_hat[com_samples_hat.group==group]['metric_value']))\n",
    "\n",
    "    return reward"
   ],
   "metadata": {
    "collapsed": false,
    "pycharm": {
     "name": "#%%\n"
    }
   }
  },
  {
   "cell_type": "code",
   "execution_count": 14,
   "outputs": [
    {
     "data": {
      "text/plain": "-1.0685986858449785"
     },
     "execution_count": 14,
     "metadata": {},
     "output_type": "execute_result"
    }
   ],
   "source": [
    "utilitarian(g, census)"
   ],
   "metadata": {
    "collapsed": false,
    "pycharm": {
     "name": "#%%\n"
    }
   }
  },
  {
   "cell_type": "code",
   "execution_count": 14,
   "outputs": [],
   "source": [],
   "metadata": {
    "collapsed": false,
    "pycharm": {
     "name": "#%%\n"
    }
   }
  },
  {
   "cell_type": "code",
   "execution_count": 15,
   "outputs": [],
   "source": [
    "def elitarian(g: ig.Graph, census_data: gpd.GeoDataFrame, group: str) -> float:\n",
    "    # TODO: Use only utilitarian approach maybe\n",
    "\n",
    "    return egalitarian(g, census_data, [group]) + utilitarian(g, census_data, [group])"
   ],
   "metadata": {
    "collapsed": false,
    "pycharm": {
     "name": "#%%\n"
    }
   }
  },
  {
   "cell_type": "code",
   "execution_count": 16,
   "outputs": [
    {
     "data": {
      "text/plain": "-0.14050322836186213"
     },
     "execution_count": 16,
     "metadata": {},
     "output_type": "execute_result"
    }
   ],
   "source": [
    "elitarian(g, census, 'red')"
   ],
   "metadata": {
    "collapsed": false,
    "pycharm": {
     "name": "#%%\n"
    }
   }
  },
  {
   "cell_type": "code",
   "execution_count": 17,
   "outputs": [],
   "source": [
    "def ai_economist_reward(g: ig.Graph, census_data: gpd.GeoDataFrame) -> float:\n",
    "    # Total utility of all groups * (1-gini_index between groups)\n",
    "    pass"
   ],
   "metadata": {
    "collapsed": false,
    "pycharm": {
     "name": "#%%\n"
    }
   }
  },
  {
   "cell_type": "markdown",
   "source": [
    "# Random Baseline"
   ],
   "metadata": {
    "collapsed": false,
    "pycharm": {
     "name": "#%% md\n"
    }
   }
  },
  {
   "cell_type": "code",
   "execution_count": null,
   "outputs": [],
   "source": [
    "budget =  5\n",
    "reward = egalitarian\n",
    "\n",
    "g_prime = copy(g)\n",
    "\n",
    "for i in range(budget):\n",
    "    removable_edges = g_prime.es.select(type_ne='walk')\n",
    "    edge_to_remove = random.sample(list(removable_edges), 1)[0]\n",
    "    g_prime.delete_edges(edge_to_remove)\n",
    "    r = reward(g_prime, census)\n",
    "    print(r)\n",
    "\n",
    "ig.plot(g_prime)"
   ],
   "metadata": {
    "collapsed": false,
    "pycharm": {
     "name": "#%%\n"
    }
   }
  },
  {
   "cell_type": "markdown",
   "source": [
    "# Fully Informed Greedy Baseline"
   ],
   "metadata": {
    "collapsed": false,
    "pycharm": {
     "name": "#%% md\n"
    }
   }
  },
  {
   "cell_type": "code",
   "execution_count": null,
   "outputs": [],
   "source": [
    "def greedy_baseline(g: ig.Graph, census_data: pd.DataFrame, budget: int = 5, reward_func: callable = egalitarian):\n",
    "\n",
    "    g_prime = copy(g)\n",
    "\n",
    "    assert budget > 0\n",
    "\n",
    "    removed_edges = []\n",
    "\n",
    "    for i in range(budget):\n",
    "        removable_edges = g_prime.es.select(type_ne='walk')\n",
    "        all_rewards = {}\n",
    "        for edge in removable_edges:\n",
    "            g_star = copy(g_prime)\n",
    "            g_star.delete_edges(edge)\n",
    "            r = reward_func(g_star, census_data)\n",
    "            all_rewards[r] = edge\n",
    "        max_reward = max(all_rewards.keys())\n",
    "        edge_to_remove = all_rewards[max_reward]\n",
    "        removed_edges.append(edge_to_remove)\n",
    "        g_prime.delete_edges(edge_to_remove)\n",
    "        print(max_reward)\n",
    "\n",
    "    return g_prime, removed_edges, max_reward\n",
    "\n",
    "g_prime, _, _ = greedy_baseline(g, census, 5, egalitarian)\n",
    "ig.plot(g_prime)"
   ],
   "metadata": {
    "collapsed": false,
    "pycharm": {
     "name": "#%%\n"
    }
   }
  },
  {
   "cell_type": "markdown",
   "source": [
    "# Genetic Algorithm Baseline"
   ],
   "metadata": {
    "collapsed": false,
    "pycharm": {
     "name": "#%% md\n"
    }
   }
  },
  {
   "cell_type": "code",
   "execution_count": null,
   "outputs": [],
   "source": [
    "removable_edges = g.es.select(type_ne='walk').indices\n",
    "reward_func = egalitarian\n",
    "budget = 5\n",
    "\n",
    "def individual_fitness(solution, solution_idx):\n",
    "    g_prime = copy(g)\n",
    "    g_prime.delete_edges(solution)\n",
    "    r = reward_func(g_prime, census)\n",
    "    return r\n",
    "\n",
    "ga_instance = pygad.GA(\n",
    "    num_generations=200,\n",
    "    num_parents_mating=5,\n",
    "    fitness_func=individual_fitness,\n",
    "    initial_population=None,\n",
    "    sol_per_pop=5,\n",
    "    num_genes=budget,\n",
    "    gene_type=int,\n",
    "    parent_selection_type=\"sss\",\n",
    "    crossover_type=\"single_point\",\n",
    "    crossover_probability=0.4,\n",
    "    mutation_type=\"random\",\n",
    "    mutation_probability=0.4,\n",
    "    mutation_by_replacement=False,\n",
    "    mutation_percent_genes=\"default\",\n",
    "    mutation_num_genes=None,\n",
    "    gene_space=list(removable_edges),\n",
    "    # on_start=None,\n",
    "    # on_fitness=None,\n",
    "    # on_parents=None,\n",
    "    # on_crossover=None,\n",
    "    # on_mutation=None,\n",
    "    # callback_generation=None,\n",
    "    # on_generation=None,\n",
    "    # on_stop=None,\n",
    "    delay_after_gen=0.0,\n",
    "    save_best_solutions=True,\n",
    "    save_solutions=False,\n",
    "    suppress_warnings=False,\n",
    "    stop_criteria='saturate_20',\n",
    ")"
   ],
   "metadata": {
    "collapsed": false,
    "pycharm": {
     "name": "#%%\n"
    }
   }
  },
  {
   "cell_type": "code",
   "execution_count": null,
   "outputs": [],
   "source": [
    "ga_instance.run()"
   ],
   "metadata": {
    "collapsed": false,
    "pycharm": {
     "name": "#%%\n"
    }
   }
  },
  {
   "cell_type": "code",
   "execution_count": null,
   "outputs": [],
   "source": [
    "solution, solution_fitness, solution_idx = ga_instance.best_solution()\n",
    "print(\"Parameters of the best solution : {solution}\".format(solution=solution))\n",
    "print(\"Fitness value of the best solution = {solution_fitness}\".format(solution_fitness=solution_fitness))\n",
    "\n",
    "g_prime = copy(g)\n",
    "g_prime.delete_edges(solution)\n",
    "ig.plot(g_prime)"
   ],
   "metadata": {
    "collapsed": false,
    "pycharm": {
     "name": "#%%\n"
    }
   }
  },
  {
   "cell_type": "markdown",
   "source": [
    "# maxQ-Learning"
   ],
   "metadata": {
    "collapsed": false,
    "pycharm": {
     "name": "#%% md\n"
    }
   }
  },
  {
   "cell_type": "code",
   "execution_count": 18,
   "outputs": [],
   "source": [
    "# Not sure about the undo action\n",
    "BASE_GRAPH = g\n",
    "START = ()\n",
    "GOAL = 5  # Budget\n",
    "ALPHA = 0.5  # step size\n",
    "EPSILON = 0.1  # probability for exploration\n",
    "GAMMA = 1\n",
    "ACTIONS = [e.index for e in g.es.select(type_ne='walk')]\n",
    "REWARD_FUNC = egalitarian"
   ],
   "metadata": {
    "collapsed": false,
    "pycharm": {
     "name": "#%%\n"
    }
   }
  },
  {
   "cell_type": "code",
   "execution_count": 19,
   "outputs": [],
   "source": [
    "def get_state_key(removed_edges: Tuple) -> Tuple:\n",
    "    return tuple(np.sort(list(removed_edges)))\n",
    "\n",
    "def step(state, action_idx):\n",
    "    # TODO: Consider scaling the probabilities of not-allowed actions\n",
    "    g_prime = copy(BASE_GRAPH)\n",
    "\n",
    "    try:\n",
    "        edge_idx = ACTIONS[action_idx]\n",
    "        if edge_idx in state:\n",
    "            raise ValueError(\"Cannot choose same action twice\")\n",
    "        next_state = state + (edge_idx,)\n",
    "        g_prime.delete_edges([(e.source_vertex.index, e.target_vertex.index) for e in BASE_GRAPH.es[list(next_state)]])\n",
    "        reward = REWARD_FUNC(g_prime, census)\n",
    "    except ValueError:\n",
    "        reward = -100\n",
    "        next_state = START\n",
    "\n",
    "    return next_state, reward\n",
    "\n",
    "\n",
    "# choose an action based on epsilon greedy algorithm\n",
    "def choose_action(state: tuple, q_value: dict, epsilon: float):\n",
    "    if np.random.binomial(1, epsilon) == 1:\n",
    "        return np.random.choice(range(len(ACTIONS)))\n",
    "    else:\n",
    "        values_ = q_value[state]\n",
    "        return np.random.choice([action_ for action_, value_ in enumerate(values_) if value_ == np.max(values_)])\n"
   ],
   "metadata": {
    "collapsed": false,
    "pycharm": {
     "name": "#%%\n"
    }
   }
  },
  {
   "cell_type": "code",
   "execution_count": 20,
   "outputs": [],
   "source": [
    "def q_learning(q_value, step_size=ALPHA, epsilon=EPSILON):\n",
    "    ord_state = get_state_key(START)\n",
    "    rewards = []\n",
    "    while len(ord_state) != GOAL:\n",
    "        action = choose_action(ord_state, q_value, epsilon)\n",
    "        next_state, reward = step(ord_state, action)\n",
    "        next_ord_state = get_state_key(next_state)\n",
    "        rewards += reward\n",
    "        # Q-Learning update\n",
    "        q_value[ord_state][action] += step_size * (\n",
    "                reward + GAMMA * np.max(q_value[next_ord_state]) -\n",
    "                q_value[ord_state][action])\n",
    "        ord_state = next_ord_state\n",
    "    return rewards"
   ],
   "metadata": {
    "collapsed": false,
    "pycharm": {
     "name": "#%%\n"
    }
   }
  },
  {
   "cell_type": "code",
   "execution_count": 36,
   "outputs": [],
   "source": [
    "def max_q_learning(q_value, step_size=ALPHA, epsilon=EPSILON):\n",
    "    ord_state = get_state_key(START)\n",
    "    reward = -np.inf\n",
    "    while len(ord_state) != GOAL:\n",
    "        action = choose_action(ord_state, q_value, epsilon)\n",
    "        next_state, reward = step(ord_state, action)\n",
    "        next_ord_state = get_state_key(next_state)\n",
    "        # Q-Learning update\n",
    "        q_value[ord_state][action] += step_size * (\n",
    "                reward + GAMMA * np.max(q_value[next_ord_state]) +\n",
    "                q_value[ord_state][action])\n",
    "        ord_state = next_ord_state\n",
    "    return reward\n"
   ],
   "metadata": {
    "collapsed": false,
    "pycharm": {
     "name": "#%%\n"
    }
   }
  },
  {
   "cell_type": "code",
   "execution_count": 33,
   "outputs": [],
   "source": [
    "def sarsa(q_value: dict, expected=False, step_size: float = ALPHA, epsilon=EPSILON) -> float:\n",
    "    ord_state = get_state_key(START)\n",
    "    action = choose_action(ord_state, q_value, epsilon)\n",
    "    rewards = 0.0\n",
    "    while len(ord_state) != GOAL:\n",
    "        next_state, reward = step(ord_state, action)\n",
    "        next_ord_state = get_state_key(next_state)\n",
    "        next_action = choose_action(next_ord_state, q_value, epsilon)\n",
    "        rewards += reward\n",
    "        if not expected:\n",
    "            target = q_value[next_ord_state][next_action]\n",
    "        else:\n",
    "            # calculate the expected value of new state\n",
    "            target = 0.0\n",
    "            q_next = q_value[next_ord_state]\n",
    "            best_actions = np.argwhere(q_next == np.max(q_next))\n",
    "            for action_ in ACTIONS:\n",
    "                if action_ in best_actions:\n",
    "                    target += ((1.0 - EPSILON) / len(best_actions) + EPSILON / len(ACTIONS)) * q_value[next_ord_state][action_]\n",
    "                else:\n",
    "                    target += EPSILON / len(ACTIONS) * q_value[next_ord_state][action_]\n",
    "        target *= GAMMA\n",
    "        q_value[ord_state][action] += step_size * (\n",
    "                reward + target - q_value[ord_state][action])\n",
    "        # Updating\n",
    "        ord_state = next_ord_state\n",
    "        action = next_action\n",
    "    return rewards\n"
   ],
   "metadata": {
    "collapsed": false,
    "pycharm": {
     "name": "#%%\n"
    }
   }
  },
  {
   "cell_type": "code",
   "execution_count": 37,
   "outputs": [
    {
     "name": "stderr",
     "output_type": "stream",
     "text": [
      "100%|██████████| 100/100 [04:45<00:00,  2.85s/it]\n"
     ]
    }
   ],
   "source": [
    "episodes = 100\n",
    "\n",
    "# rewards_sarsa = np.zeros(episodes)\n",
    "# rewards_exp_q_learning = np.zeros(episodes)\n",
    "rewards_max_q_learning = np.zeros(episodes)\n",
    "# https://math.stackexchange.com/a/144258\n",
    "# Sum of nCk for k in [0,n] = 2^n\n",
    "# As our indexing starts at 1, we have (2^n)-1\n",
    "# state_space_size = (2**len(ACTIONS)-1,1,len(ACTIONS))\n",
    "# for r in tqdm(range(runs)):\n",
    "# q_values = {get_state_key(tuple(e)): np.zeros(len(ACTIONS)) for k in range(GOAL+1) for e in it.combinations(ACTIONS, k)}\n",
    "# exp_q_learning_values = copy(q_values)\n",
    "max_q_learning_values = {get_state_key(tuple(e)): np.zeros(len(ACTIONS)) for k in range(GOAL+1) for e in it.combinations(ACTIONS, k)}\n",
    "for i in tqdm(range(0, episodes)):\n",
    "    # rewards_sarsa[i] += sarsa(q_values)\n",
    "    # rewards_exp_q_learning[i] += q_learning(exp_q_learning_values)\n",
    "    rewards_max_q_learning[i] += max_q_learning(max_q_learning_values, epsilon=1/(i+1))\n",
    "\n",
    "# averaging over independent runs\n",
    "# rewards_sarsa /= runs\n",
    "# rewards_q_learning /= runs"
   ],
   "metadata": {
    "collapsed": false,
    "pycharm": {
     "name": "#%%\n"
    }
   }
  },
  {
   "cell_type": "code",
   "execution_count": 39,
   "outputs": [
    {
     "name": "stderr",
     "output_type": "stream",
     "text": [
      "No artists with labels found to put in legend.  Note that artists whose label start with an underscore are ignored when legend() is called with no argument.\n"
     ]
    },
    {
     "data": {
      "text/plain": "<matplotlib.legend.Legend at 0x7ff9bd7fa790>"
     },
     "execution_count": 39,
     "metadata": {},
     "output_type": "execute_result"
    },
    {
     "data": {
      "text/plain": "<Figure size 432x288 with 1 Axes>",
      "image/png": "[encoded data removed]"
     },
     "metadata": {},
     "output_type": "display_data"
    }
   ],
   "source": [
    "# draw reward curves\n",
    "# plt.plot(rewards_sarsa, label='Sarsa')\n",
    "plt.plot(rewards_max_q_learning)\n",
    "plt.xlabel('Episodes')\n",
    "# plt.xlim([0, 500])\n",
    "plt.ylabel('Reward')\n",
    "# plt.ylim([-60, 0])\n",
    "plt.legend()"
   ],
   "metadata": {
    "collapsed": false,
    "pycharm": {
     "name": "#%%\n"
    }
   }
  },
  {
   "cell_type": "markdown",
   "source": [
    "# Analysis"
   ],
   "metadata": {
    "collapsed": false,
    "pycharm": {
     "name": "#%% md\n"
    }
   }
  },
  {
   "cell_type": "code",
   "execution_count": 41,
   "outputs": [],
   "source": [
    "# Show that for any permutation, the final result is the same\n",
    "removable_edges = list(g.es.select(type_ne='walk'))\n",
    "\n",
    "k = 3\n",
    "group = 'red'\n",
    "\n",
    "random_k = random.sample(removable_edges, k)\n",
    "\n",
    "g_prime = copy(g)\n",
    "g_prime.delete_edges(random_k)\n",
    "\n",
    "r_ega = egalitarian(g_prime, census)\n",
    "r_uti = utilitarian(g_prime, census)\n",
    "r_eli = elitarian(g_prime, census, group)\n",
    "\n",
    "for perm in it.permutations(random_k, k):\n",
    "    g_prime = copy(g)\n",
    "    g_prime.delete_edges(random_k)\n",
    "    r_ega_prime = egalitarian(g_prime, census)\n",
    "    r_uti_prime = utilitarian(g_prime, census)\n",
    "    r_eli_prime = elitarian(g_prime, census, group)\n",
    "\n",
    "    assert np.isclose(r_ega_prime, r_ega)\n",
    "    assert np.isclose(r_uti_prime, r_uti)\n",
    "    assert np.isclose(r_eli_prime, r_eli)\n"
   ],
   "metadata": {
    "collapsed": false,
    "pycharm": {
     "name": "#%%\n"
    }
   }
  },
  {
   "cell_type": "code",
   "execution_count": null,
   "outputs": [],
   "source": [
    "# Compute Gini index for all combinations to max budget\n",
    "removable_edges = list(g.es.select(type_ne='walk'))\n",
    "\n",
    "max_budget = len(removable_edges)\n",
    "\n",
    "for k in range(max_budget):\n",
    "    generate_samples()\n",
    "    Gini()"
   ],
   "metadata": {
    "collapsed": false,
    "pycharm": {
     "name": "#%%\n"
    }
   }
  },
  {
   "cell_type": "code",
   "execution_count": null,
   "outputs": [],
   "source": [
    "# Compute mega components for each combination of k budget\n",
    "removable_edges = g.es.select(type_ne='walk')\n",
    "mc_over_budget = pd.DataFrame(columns=['budget','mc'])\n",
    "\n",
    "for k in tqdm(range(1,len(removable_edges)), position=0):\n",
    "    # looking at all possible combinations of edges to remove\n",
    "    for edges_to_remove in it.combinations(removable_edges, k):\n",
    "        g_prime = copy(g)\n",
    "        g_prime.delete_edges(edges_to_remove)\n",
    "        cl = g_prime.clusters()\n",
    "        lcc = cl.giant()\n",
    "\n",
    "        data = {'budget':[k], 'mc':[len(lcc.es)]}\n",
    "        mc_over_budget = pd.concat([mc_over_budget,pd.DataFrame(data)], ignore_index=True)\n",
    "\n",
    "mc_over_budget['budget'] = mc_over_budget['budget'].astype('int')"
   ],
   "metadata": {
    "collapsed": false,
    "pycharm": {
     "name": "#%%\n"
    }
   }
  },
  {
   "cell_type": "code",
   "execution_count": null,
   "outputs": [],
   "source": [
    "fig, ax = plt.subplots()\n",
    "mc_over_budget.plot.scatter(x='budget', y='mc', cmap=\"viridis\", s=50, legend=True, figsize=(5,5), ax=ax)\n",
    "ax.set_xlabel('Edge Budget')\n",
    "ax.set_xticks(range(len(list(removable_edges))))\n",
    "ax.set_yticks(range(11))\n",
    "ax.set_ylabel('Size of Mega Component')"
   ],
   "metadata": {
    "collapsed": false,
    "pycharm": {
     "name": "#%%\n"
    }
   }
  },
  {
   "cell_type": "code",
   "execution_count": null,
   "outputs": [],
   "source": [
    "# Compute Gini index for all combinations to max budget\n",
    "removable_edges = g.es.select(type_ne='walk')\n",
    "gini_over_budget = pd.DataFrame(columns=['budget','gini','metric','group'])\n",
    "\n",
    "for k in tqdm(range(1,len(removable_edges)), position=0):\n",
    "    # looking at all possible combinations of edges to remove\n",
    "    for edges_to_remove in it.combinations(removable_edges, k):\n",
    "        g_prime = copy(g)\n",
    "        g_prime.delete_edges(edges_to_remove)\n",
    "        tt_samples, hops_samples, com_samples = get_tt_hops_com_dfs(g_prime, census)\n",
    "\n",
    "        data = {'budget':[],\n",
    "                'gini':[],\n",
    "                'metric':[],\n",
    "                'group':[]}\n",
    "        for metric_name, metric in zip(['tt','hops','com'], [tt_samples, hops_samples, com_samples]):\n",
    "            for group in list(tt_samples.group.unique()):\n",
    "                data['budget'].append(k)\n",
    "                data['group'].append(group)\n",
    "                data['gini'].append(Gini(metric.metric_value.astype(float).to_numpy()).g)\n",
    "                data['metric'].append(metric_name)\n",
    "\n",
    "        gini_over_budget = pd.concat([gini_over_budget,pd.DataFrame(data)], ignore_index=True)\n",
    "\n",
    "gini_over_budget['metric'] = gini_over_budget['metric'].astype('category')\n",
    "gini_over_budget['budget'] = gini_over_budget['budget'].astype('int')"
   ],
   "metadata": {
    "collapsed": false,
    "pycharm": {
     "name": "#%%\n"
    }
   }
  },
  {
   "cell_type": "code",
   "execution_count": null,
   "outputs": [],
   "source": [
    "fig, ax = plt.subplots(figsize=(10,10))\n",
    "gini_over_budget.plot.scatter(x='budget', y='gini', c='metric', cmap=\"Dark2\", s=50, legend=True, figsize=(10,10), ax=ax)\n",
    "ax.set_yticks(np.arange(0,0.7,0.05))\n",
    "ax.set_xticks(np.arange(0,12))\n",
    "ax.set_ylabel('Gini')\n",
    "ax.set_xlabel('Edge Budget')"
   ],
   "metadata": {
    "collapsed": false,
    "pycharm": {
     "name": "#%%\n"
    }
   }
  },
  {
   "cell_type": "code",
   "execution_count": null,
   "outputs": [],
   "source": [
    "## Random Baseline\n"
   ],
   "metadata": {
    "collapsed": false,
    "pycharm": {
     "name": "#%%\n"
    }
   }
  },
  {
   "cell_type": "code",
   "execution_count": null,
   "outputs": [],
   "source": [
    "## Fully informed greedy"
   ],
   "metadata": {
    "collapsed": false,
    "pycharm": {
     "name": "#%%\n"
    }
   }
  },
  {
   "cell_type": "code",
   "execution_count": null,
   "outputs": [],
   "source": [
    "## GA"
   ],
   "metadata": {
    "collapsed": false,
    "pycharm": {
     "name": "#%%\n"
    }
   }
  },
  {
   "cell_type": "code",
   "execution_count": null,
   "outputs": [],
   "source": [
    "# Show same for mega-components"
   ],
   "metadata": {
    "collapsed": false,
    "pycharm": {
     "name": "#%%\n"
    }
   }
  },
  {
   "cell_type": "code",
   "execution_count": null,
   "outputs": [],
   "source": [
    "# TODO plot utilities red over purple compare that gini\n",
    "# TODO compare avg. utility to lowest group utility"
   ],
   "metadata": {
    "collapsed": false,
    "pycharm": {
     "name": "#%%\n"
    }
   }
  }
 ],
 "metadata": {
  "kernelspec": {
   "display_name": "Python 3",
   "language": "python",
   "name": "python3"
  },
  "language_info": {
   "codemirror_mode": {
    "name": "ipython",
    "version": 2
   },
   "file_extension": ".py",
   "mimetype": "text/x-python",
   "name": "python",
   "nbconvert_exporter": "python",
   "pygments_lexer": "ipython2",
   "version": "2.7.6"
  }
 },
 "nbformat": 4,
 "nbformat_minor": 0
}