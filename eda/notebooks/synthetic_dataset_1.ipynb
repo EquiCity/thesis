{
 "cells": [
  {
   "cell_type": "code",
   "execution_count": 2,
   "metadata": {
    "collapsed": false,
    "jupyter": {
     "outputs_hidden": false
    },
    "pycharm": {
     "name": "#%%\n"
    }
   },
   "outputs": [],
   "source": [
    "import igraph as ig\n",
    "import geopandas as gpd\n",
    "import itertools as it\n",
    "\n",
    "import numpy as np\n",
    "from matplotlib import pyplot as plt"
   ]
  },
  {
   "cell_type": "markdown",
   "metadata": {
    "pycharm": {
     "name": "#%% md\n"
    }
   },
   "source": [
    "# Graph"
   ]
  },
  {
   "cell_type": "code",
   "execution_count": 3,
   "metadata": {
    "collapsed": false,
    "jupyter": {
     "outputs_hidden": false
    },
    "pycharm": {
     "name": "#%%\n"
    }
   },
   "outputs": [],
   "source": [
    "g = ig.Graph(directed=True)"
   ]
  },
  {
   "cell_type": "code",
   "execution_count": 4,
   "outputs": [],
   "source": [
    "V_O = {f'RC{i+1}':i for i in range(2)}\n",
    "V_O_attr = {\n",
    "    'name': [e for e in V_O.keys()],\n",
    "    'x': [0.5, 3.5],\n",
    "    'y': [0.5, 3.5],\n",
    "    'color': ['purple', 'red'],\n",
    "    'type': 'res_node'\n",
    "}\n",
    "g.add_vertices(V_O.values(), V_O_attr)"
   ],
   "metadata": {
    "collapsed": false,
    "pycharm": {
     "name": "#%%\n"
    }
   }
  },
  {
   "cell_type": "code",
   "execution_count": 5,
   "outputs": [],
   "source": [
    "V_P = {f'PT{i+1}':e for i,e in enumerate(range(2,5))}\n",
    "V_P_attr = {\n",
    "    'name': [e for e in V_P.keys()],\n",
    "    'x': [1,3,3.4],\n",
    "    'y': [1,3,3.4],\n",
    "    'color': 'blue',\n",
    "    'type': 'pt_node'\n",
    "}\n",
    "g.add_vertices(V_P.values(), V_P_attr)"
   ],
   "metadata": {
    "collapsed": false,
    "pycharm": {
     "name": "#%%\n"
    }
   }
  },
  {
   "cell_type": "code",
   "execution_count": 6,
   "outputs": [],
   "source": [
    "V_D = {f'POI{i+1}':e for i,e in enumerate(range(5,6))}\n",
    "V_D_attr = {\n",
    "    'name': [e for e in V_D.keys()],\n",
    "    'x': [2.75],\n",
    "    'y': [2.75],\n",
    "    'color': 'green',\n",
    "    'type': 'poi_node'\n",
    "}\n",
    "g.add_vertices(V_D.values(), V_D_attr)"
   ],
   "metadata": {
    "collapsed": false,
    "pycharm": {
     "name": "#%%\n"
    }
   }
  },
  {
   "cell_type": "markdown",
   "source": [
    "## PTN Edges"
   ],
   "metadata": {
    "collapsed": false,
    "pycharm": {
     "name": "#%% md\n"
    }
   }
  },
  {
   "cell_type": "code",
   "execution_count": 7,
   "outputs": [],
   "source": [
    "# Speeds\n",
    "WALKING_SPEED = 5  # units per hour\n",
    "BUS_SPEED = 100  # units per hour\n",
    "TRAIN_SPEED = 1000  # units per hour"
   ],
   "metadata": {
    "collapsed": false,
    "pycharm": {
     "name": "#%%\n"
    }
   }
  },
  {
   "cell_type": "code",
   "execution_count": 8,
   "outputs": [],
   "source": [
    "def compute_dist_from_es(es: list):\n",
    "    positions = [(g.vs[e[0]]['x'], g.vs[e[0]]['y'], g.vs[e[1]]['x'], g.vs[e[1]]['y']) for e in es]\n",
    "    pos_arr = np.array(positions)\n",
    "    return np.sqrt((pos_arr[:,[0,2]].max(axis=1)-pos_arr[:,[0,2]].min(axis=1))**2+\n",
    "                   (pos_arr[:,[1,3]].max(axis=1)-pos_arr[:,[1,3]].min(axis=1))**2)"
   ],
   "metadata": {
    "collapsed": false,
    "pycharm": {
     "name": "#%%\n"
    }
   }
  },
  {
   "cell_type": "markdown",
   "source": [
    "### Walking"
   ],
   "metadata": {
    "collapsed": false,
    "pycharm": {
     "name": "#%% md\n"
    }
   }
  },
  {
   "cell_type": "code",
   "execution_count": 9,
   "outputs": [],
   "source": [
    "E_WALK = list(it.product(V_O.values(),V_P.values())) +\\\n",
    "         list(it.product(V_P.values(), V_D.values())) +\\\n",
    "         list(it.product(V_O.values(), V_D.values()))\n",
    "distances_walk = compute_dist_from_es(E_WALK)\n",
    "E_WALK_attr = {\n",
    "    'distance': distances_walk,\n",
    "    'tt': (distances_walk * 1/WALKING_SPEED) * 60,\n",
    "    'weight': (distances_walk * 1/WALKING_SPEED) * 60,\n",
    "    'color': 'gray',\n",
    "    'type': 'walk',\n",
    "}\n",
    "g.add_edges(E_WALK, E_WALK_attr)"
   ],
   "metadata": {
    "collapsed": false,
    "pycharm": {
     "name": "#%%\n"
    }
   }
  },
  {
   "cell_type": "markdown",
   "source": [
    "### PT"
   ],
   "metadata": {
    "collapsed": false,
    "pycharm": {
     "name": "#%% md\n"
    }
   }
  },
  {
   "cell_type": "code",
   "execution_count": 10,
   "outputs": [],
   "source": [
    "E_BUS = [\n",
    "    (V_P['PT1'],V_P['PT2']),  # Bus_line_1\n",
    "    (V_P['PT2'],V_P['PT1']),  # Bus_line_1\n",
    "    (V_P['PT2'],V_P['PT3']),  # Bus_line_2\n",
    "    (V_P['PT3'],V_P['PT2']),  # Bus_line_2\n",
    "]\n",
    "distances_bus = compute_dist_from_es(E_BUS)\n",
    "E_BUS_attr = {\n",
    "    'name': list(it.repeat(f'Bus_line_1',2)) +\n",
    "            list(it.repeat(f'Bus_line_2',2)),\n",
    "    'distance': distances_bus,\n",
    "    'tt': (distances_bus * 1/BUS_SPEED) * 60,\n",
    "    'weight': (distances_bus * 1/BUS_SPEED) * 60,\n",
    "    'color': 'pink',\n",
    "    'type': 'bus',\n",
    "}\n",
    "g.add_edges(E_BUS, E_BUS_attr)"
   ],
   "metadata": {
    "collapsed": false,
    "pycharm": {
     "name": "#%%\n"
    }
   }
  },
  {
   "cell_type": "code",
   "execution_count": 11,
   "outputs": [
    {
     "data": {
      "text/plain": "<igraph.drawing.Plot at 0x7f0f89ec09d0>",
      "image/svg+xml": "<?xml version=\"1.0\" encoding=\"UTF-8\"?>\n<svg xmlns=\"http://www.w3.org/2000/svg\" xmlns:xlink=\"http://www.w3.org/1999/xlink\" width=\"600pt\" height=\"600pt\" viewBox=\"0 0 600 600\" version=\"1.1\">\n<g id=\"surface6\">\n<rect x=\"0\" y=\"0\" width=\"600\" height=\"600\" style=\"fill:rgb(100%,100%,100%);fill-opacity:1;stroke:none;\"/>\n<path style=\"fill:none;stroke-width:1;stroke-linecap:butt;stroke-linejoin:miter;stroke:rgb(74.509804%,74.509804%,74.509804%);stroke-opacity:1;stroke-miterlimit:10;\" d=\"M 20 20 L 96.175781 96.175781 \"/>\n<path style=\" stroke:none;fill-rule:nonzero;fill:rgb(74.509804%,74.509804%,74.509804%);fill-opacity:1;\" d=\"M 106.261719 106.261719 L 92.898438 99.453125 L 99.453125 92.898438 L 106.261719 106.261719 \"/>\n<path style=\"fill:none;stroke-width:1;stroke-linecap:butt;stroke-linejoin:miter;stroke:rgb(74.509804%,74.509804%,74.509804%);stroke-opacity:1;stroke-miterlimit:10;\" d=\"M 20 20 L 469.507812 469.507812 \"/>\n<path style=\" stroke:none;fill-rule:nonzero;fill:rgb(74.509804%,74.509804%,74.509804%);fill-opacity:1;\" d=\"M 479.59375 479.59375 L 466.230469 472.785156 L 472.785156 466.230469 L 479.59375 479.59375 \"/>\n<path style=\"fill:none;stroke-width:1;stroke-linecap:butt;stroke-linejoin:miter;stroke:rgb(74.509804%,74.509804%,74.509804%);stroke-opacity:1;stroke-miterlimit:10;\" d=\"M 20 20 L 544.175781 544.175781 \"/>\n<path style=\" stroke:none;fill-rule:nonzero;fill:rgb(74.509804%,74.509804%,74.509804%);fill-opacity:1;\" d=\"M 554.261719 554.261719 L 540.898438 547.453125 L 547.453125 540.898438 L 554.261719 554.261719 \"/>\n<path style=\"fill:none;stroke-width:1;stroke-linecap:butt;stroke-linejoin:miter;stroke:rgb(74.509804%,74.509804%,74.509804%);stroke-opacity:1;stroke-miterlimit:10;\" d=\"M 580 580 L 130.492188 130.492188 \"/>\n<path style=\" stroke:none;fill-rule:nonzero;fill:rgb(74.509804%,74.509804%,74.509804%);fill-opacity:1;\" d=\"M 120.40625 120.40625 L 133.769531 127.214844 L 127.214844 133.769531 L 120.40625 120.40625 \"/>\n<path style=\"fill:none;stroke-width:1;stroke-linecap:butt;stroke-linejoin:miter;stroke:rgb(74.509804%,74.509804%,74.509804%);stroke-opacity:1;stroke-miterlimit:10;\" d=\"M 580 580 L 503.824219 503.824219 \"/>\n<path style=\" stroke:none;fill-rule:nonzero;fill:rgb(74.509804%,74.509804%,74.509804%);fill-opacity:1;\" d=\"M 493.738281 493.738281 L 507.101562 500.546875 L 500.546875 507.101562 L 493.738281 493.738281 \"/>\n<path style=\"fill:none;stroke-width:1;stroke-linecap:butt;stroke-linejoin:miter;stroke:rgb(74.509804%,74.509804%,74.509804%);stroke-opacity:1;stroke-miterlimit:10;\" d=\"M 580 580 L 578.492188 578.492188 \"/>\n<path style=\" stroke:none;fill-rule:nonzero;fill:rgb(74.509804%,74.509804%,74.509804%);fill-opacity:1;\" d=\"M 568.40625 568.40625 L 581.769531 575.214844 L 575.214844 581.769531 L 568.40625 568.40625 \"/>\n<path style=\"fill:none;stroke-width:1;stroke-linecap:butt;stroke-linejoin:miter;stroke:rgb(74.509804%,74.509804%,74.509804%);stroke-opacity:1;stroke-miterlimit:10;\" d=\"M 113.332031 113.332031 L 422.839844 422.839844 \"/>\n<path style=\" stroke:none;fill-rule:nonzero;fill:rgb(74.509804%,74.509804%,74.509804%);fill-opacity:1;\" d=\"M 432.929688 432.929688 L 419.5625 426.117188 L 426.117188 419.5625 L 432.929688 432.929688 \"/>\n<path style=\"fill:none;stroke-width:1;stroke-linecap:butt;stroke-linejoin:miter;stroke:rgb(74.509804%,74.509804%,74.509804%);stroke-opacity:1;stroke-miterlimit:10;\" d=\"M 486.667969 486.667969 L 457.160156 457.160156 \"/>\n<path style=\" stroke:none;fill-rule:nonzero;fill:rgb(74.509804%,74.509804%,74.509804%);fill-opacity:1;\" d=\"M 447.070312 447.070312 L 460.4375 453.882812 L 453.882812 460.4375 L 447.070312 447.070312 \"/>\n<path style=\"fill:none;stroke-width:1;stroke-linecap:butt;stroke-linejoin:miter;stroke:rgb(74.509804%,74.509804%,74.509804%);stroke-opacity:1;stroke-miterlimit:10;\" d=\"M 561.332031 561.332031 L 457.160156 457.160156 \"/>\n<path style=\" stroke:none;fill-rule:nonzero;fill:rgb(74.509804%,74.509804%,74.509804%);fill-opacity:1;\" d=\"M 447.070312 447.070312 L 460.4375 453.882812 L 453.882812 460.4375 L 447.070312 447.070312 \"/>\n<path style=\"fill:none;stroke-width:1;stroke-linecap:butt;stroke-linejoin:miter;stroke:rgb(74.509804%,74.509804%,74.509804%);stroke-opacity:1;stroke-miterlimit:10;\" d=\"M 20 20 L 422.839844 422.839844 \"/>\n<path style=\" stroke:none;fill-rule:nonzero;fill:rgb(74.509804%,74.509804%,74.509804%);fill-opacity:1;\" d=\"M 432.929688 432.929688 L 419.5625 426.117188 L 426.117188 419.5625 L 432.929688 432.929688 \"/>\n<path style=\"fill:none;stroke-width:1;stroke-linecap:butt;stroke-linejoin:miter;stroke:rgb(74.509804%,74.509804%,74.509804%);stroke-opacity:1;stroke-miterlimit:10;\" d=\"M 580 580 L 457.160156 457.160156 \"/>\n<path style=\" stroke:none;fill-rule:nonzero;fill:rgb(74.509804%,74.509804%,74.509804%);fill-opacity:1;\" d=\"M 447.070312 447.070312 L 460.4375 453.882812 L 453.882812 460.4375 L 447.070312 447.070312 \"/>\n<path style=\"fill:none;stroke-width:1;stroke-linecap:butt;stroke-linejoin:miter;stroke:rgb(100%,75.294118%,79.607843%);stroke-opacity:1;stroke-miterlimit:10;\" d=\"M 113.332031 113.332031 C 136.402344 325.082031 252.808594 486.660156 462.546875 486.667969 \"/>\n<path style=\" stroke:none;fill-rule:nonzero;fill:rgb(100%,75.294118%,79.607843%);fill-opacity:1;\" d=\"M 476.8125 486.667969 L 462.546875 491.300781 L 462.546875 482.03125 L 476.8125 486.667969 \"/>\n<path style=\"fill:none;stroke-width:1;stroke-linecap:butt;stroke-linejoin:miter;stroke:rgb(100%,75.294118%,79.607843%);stroke-opacity:1;stroke-miterlimit:10;\" d=\"M 486.667969 486.667969 C 463.597656 274.917969 347.191406 113.339844 137.453125 113.332031 \"/>\n<path style=\" stroke:none;fill-rule:nonzero;fill:rgb(100%,75.294118%,79.607843%);fill-opacity:1;\" d=\"M 123.1875 113.332031 L 137.453125 108.699219 L 137.453125 117.96875 L 123.1875 113.332031 \"/>\n<path style=\"fill:none;stroke-width:1;stroke-linecap:butt;stroke-linejoin:miter;stroke:rgb(100%,75.294118%,79.607843%);stroke-opacity:1;stroke-miterlimit:10;\" d=\"M 486.667969 486.667969 C 484.769531 524.121094 501.519531 561.285156 536.957031 561.3125 \"/>\n<path style=\" stroke:none;fill-rule:nonzero;fill:rgb(100%,75.294118%,79.607843%);fill-opacity:1;\" d=\"M 551.222656 561.324219 L 536.953125 565.949219 L 536.957031 556.679688 L 551.222656 561.324219 \"/>\n<path style=\"fill:none;stroke-width:1;stroke-linecap:butt;stroke-linejoin:miter;stroke:rgb(100%,75.294118%,79.607843%);stroke-opacity:1;stroke-miterlimit:10;\" d=\"M 561.332031 561.332031 C 563.230469 523.878906 546.480469 486.714844 511.042969 486.6875 \"/>\n<path style=\" stroke:none;fill-rule:nonzero;fill:rgb(100%,75.294118%,79.607843%);fill-opacity:1;\" d=\"M 496.777344 486.675781 L 511.046875 482.050781 L 511.042969 491.320312 L 496.777344 486.675781 \"/>\n<path style=\"fill-rule:nonzero;fill:rgb(62.745098%,12.54902%,94.117647%);fill-opacity:1;stroke-width:1;stroke-linecap:butt;stroke-linejoin:miter;stroke:rgb(0%,0%,0%);stroke-opacity:1;stroke-miterlimit:10;\" d=\"M 30 20 C 30 25.523438 25.523438 30 20 30 C 14.476562 30 10 25.523438 10 20 C 10 14.476562 14.476562 10 20 10 C 25.523438 10 30 14.476562 30 20 \"/>\n<path style=\"fill-rule:nonzero;fill:rgb(100%,0%,0%);fill-opacity:1;stroke-width:1;stroke-linecap:butt;stroke-linejoin:miter;stroke:rgb(0%,0%,0%);stroke-opacity:1;stroke-miterlimit:10;\" d=\"M 590 580 C 590 585.523438 585.523438 590 580 590 C 574.476562 590 570 585.523438 570 580 C 570 574.476562 574.476562 570 580 570 C 585.523438 570 590 574.476562 590 580 \"/>\n<path style=\"fill-rule:nonzero;fill:rgb(0%,0%,100%);fill-opacity:1;stroke-width:1;stroke-linecap:butt;stroke-linejoin:miter;stroke:rgb(0%,0%,0%);stroke-opacity:1;stroke-miterlimit:10;\" d=\"M 123.332031 113.332031 C 123.332031 118.855469 118.855469 123.332031 113.332031 123.332031 C 107.808594 123.332031 103.332031 118.855469 103.332031 113.332031 C 103.332031 107.808594 107.808594 103.332031 113.332031 103.332031 C 118.855469 103.332031 123.332031 107.808594 123.332031 113.332031 \"/>\n<path style=\"fill-rule:nonzero;fill:rgb(0%,0%,100%);fill-opacity:1;stroke-width:1;stroke-linecap:butt;stroke-linejoin:miter;stroke:rgb(0%,0%,0%);stroke-opacity:1;stroke-miterlimit:10;\" d=\"M 496.667969 486.667969 C 496.667969 492.191406 492.191406 496.667969 486.667969 496.667969 C 481.144531 496.667969 476.667969 492.191406 476.667969 486.667969 C 476.667969 481.144531 481.144531 476.667969 486.667969 476.667969 C 492.191406 476.667969 496.667969 481.144531 496.667969 486.667969 \"/>\n<path style=\"fill-rule:nonzero;fill:rgb(0%,0%,100%);fill-opacity:1;stroke-width:1;stroke-linecap:butt;stroke-linejoin:miter;stroke:rgb(0%,0%,0%);stroke-opacity:1;stroke-miterlimit:10;\" d=\"M 571.332031 561.332031 C 571.332031 566.855469 566.855469 571.332031 561.332031 571.332031 C 555.808594 571.332031 551.332031 566.855469 551.332031 561.332031 C 551.332031 555.808594 555.808594 551.332031 561.332031 551.332031 C 566.855469 551.332031 571.332031 555.808594 571.332031 561.332031 \"/>\n<path style=\"fill-rule:nonzero;fill:rgb(0%,100%,0%);fill-opacity:1;stroke-width:1;stroke-linecap:butt;stroke-linejoin:miter;stroke:rgb(0%,0%,0%);stroke-opacity:1;stroke-miterlimit:10;\" d=\"M 450 440 C 450 445.523438 445.523438 450 440 450 C 434.476562 450 430 445.523438 430 440 C 430 434.476562 434.476562 430 440 430 C 445.523438 430 450 434.476562 450 440 \"/>\n</g>\n</svg>\n"
     },
     "execution_count": 11,
     "metadata": {
      "image/svg+xml": {
       "isolated": true
      }
     },
     "output_type": "execute_result"
    }
   ],
   "source": [
    "# fig, ax = plt.subplots(figsize=(5,5))\n",
    "ig.plot(g, target='plots/synthetic_graphs/synthetic_graph_1.svg')"
   ],
   "metadata": {
    "collapsed": false,
    "pycharm": {
     "name": "#%%\n"
    }
   }
  },
  {
   "cell_type": "code",
   "execution_count": 12,
   "outputs": [
    {
     "data": {
      "text/plain": "[2, 3, 4]"
     },
     "execution_count": 12,
     "metadata": {},
     "output_type": "execute_result"
    }
   ],
   "source": [
    "[f.index for f in g.vs[[v.index for v in g.vs.select(type_eq='pt_node')]]]"
   ],
   "metadata": {
    "collapsed": false,
    "pycharm": {
     "name": "#%%\n"
    }
   }
  },
  {
   "cell_type": "code",
   "execution_count": 13,
   "outputs": [],
   "source": [
    "# fig, ax = plt.subplots(figsize=(5,5))\n",
    "# ig.plot(g, target='plots/synthetic_graphs/synthetic_graph_1.svg')"
   ],
   "metadata": {
    "collapsed": false,
    "pycharm": {
     "name": "#%%\n"
    }
   }
  },
  {
   "cell_type": "code",
   "execution_count": 14,
   "outputs": [],
   "source": [
    "g.es['active'] = 1"
   ],
   "metadata": {
    "collapsed": false,
    "pycharm": {
     "name": "#%%\n"
    }
   }
  },
  {
   "cell_type": "code",
   "execution_count": 15,
   "outputs": [],
   "source": [
    "# g.save('/home/rico/Documents/thesis/eda/notebooks/synthetic_dataset_1/graph.gml')\n",
    "# g.save('/home/rico/Documents/thesis/experiments/base_data/graph_1.gml')"
   ],
   "metadata": {
    "collapsed": false,
    "pycharm": {
     "name": "#%%\n"
    }
   }
  },
  {
   "cell_type": "markdown",
   "source": [
    "# Census Data"
   ],
   "metadata": {
    "collapsed": false,
    "pycharm": {
     "name": "#%% md\n"
    }
   }
  },
  {
   "cell_type": "code",
   "execution_count": 16,
   "outputs": [
    {
     "data": {
      "text/plain": "  neighborhood  n_inh  n_purple  n_red            res_centroids\n0          RC1   1000      1000      0  POINT (0.50000 0.50000)\n1          RC2    100         0    100  POINT (3.50000 3.50000)",
      "text/html": "<div>\n<style scoped>\n    .dataframe tbody tr th:only-of-type {\n        vertical-align: middle;\n    }\n\n    .dataframe tbody tr th {\n        vertical-align: top;\n    }\n\n    .dataframe thead th {\n        text-align: right;\n    }\n</style>\n<table border=\"1\" class=\"dataframe\">\n  <thead>\n    <tr style=\"text-align: right;\">\n      <th></th>\n      <th>neighborhood</th>\n      <th>n_inh</th>\n      <th>n_purple</th>\n      <th>n_red</th>\n      <th>res_centroids</th>\n    </tr>\n  </thead>\n  <tbody>\n    <tr>\n      <th>0</th>\n      <td>RC1</td>\n      <td>1000</td>\n      <td>1000</td>\n      <td>0</td>\n      <td>POINT (0.50000 0.50000)</td>\n    </tr>\n    <tr>\n      <th>1</th>\n      <td>RC2</td>\n      <td>100</td>\n      <td>0</td>\n      <td>100</td>\n      <td>POINT (3.50000 3.50000)</td>\n    </tr>\n  </tbody>\n</table>\n</div>"
     },
     "execution_count": 16,
     "metadata": {},
     "output_type": "execute_result"
    }
   ],
   "source": [
    "data = {\n",
    "    'neighborhood': V_O_attr['name'],\n",
    "    'n_inh': [1000,100],\n",
    "    'n_purple': [1000,0],\n",
    "    'n_red': [0,100],\n",
    "    'res_centroids': gpd.points_from_xy(V_O_attr['x'], V_O_attr['y'])\n",
    "}\n",
    "\n",
    "gdf = gpd.GeoDataFrame(data, geometry='res_centroids')\n",
    "gdf"
   ],
   "metadata": {
    "collapsed": false,
    "pycharm": {
     "name": "#%%\n"
    }
   }
  },
  {
   "cell_type": "code",
   "execution_count": 17,
   "outputs": [],
   "source": [
    "# gdf.to_file('/home/rico/Documents/thesis/eda/notebooks/synthetic_dataset_1/census_data.geojson', driver='GeoJSON')\n",
    "# gdf.to_file('/home/rico/Documents/thesis/experiments/base_data/census_data_1.geojson', driver='GeoJSON')"
   ],
   "metadata": {
    "collapsed": false,
    "pycharm": {
     "name": "#%%\n"
    }
   }
  },
  {
   "cell_type": "markdown",
   "source": [
    "# Plotting"
   ],
   "metadata": {
    "collapsed": false,
    "pycharm": {
     "name": "#%% md\n"
    }
   }
  },
  {
   "cell_type": "code",
   "execution_count": 18,
   "outputs": [],
   "source": [
    "def add_subplot_axes(ax,rect,axisbg='w'):\n",
    "    fig = plt.gcf()\n",
    "    box = ax.get_position()\n",
    "    width = box.width\n",
    "    height = box.height\n",
    "    inax_position  = ax.transAxes.transform(rect[0:2])\n",
    "    transFigure = fig.transFigure.inverted()\n",
    "    infig_position = transFigure.transform(inax_position)    \n",
    "    x = infig_position[0]\n",
    "    y = infig_position[1]\n",
    "    width *= rect[2]\n",
    "    height *= rect[3]  # <= Typo was here\n",
    "    #subax = fig.add_axes([x,y,width,height],facecolor=facecolor)  # matplotlib 2.0+\n",
    "    subax = fig.add_axes([x,y,width,height])\n",
    "    x_labelsize = subax.get_xticklabels()[0].get_size()\n",
    "    y_labelsize = subax.get_yticklabels()[0].get_size()\n",
    "    x_labelsize *= rect[2]**0.5\n",
    "    y_labelsize *= rect[3]**0.5\n",
    "    subax.xaxis.set_tick_params(labelsize=x_labelsize)\n",
    "    subax.yaxis.set_tick_params(labelsize=y_labelsize)\n",
    "    return subax"
   ],
   "metadata": {
    "collapsed": false,
    "pycharm": {
     "name": "#%%\n"
    }
   }
  },
  {
   "cell_type": "code",
   "execution_count": 19,
   "outputs": [
    {
     "data": {
      "text/plain": "<Figure size 720x720 with 1 Axes>",
      "image/png": "[encoded data removed]"
     },
     "metadata": {
      "needs_background": "light"
     },
     "output_type": "display_data"
    }
   ],
   "source": [
    "fig, ax = plt.subplots(figsize=(10,10))\n",
    "ig.plot(g, target=ax)\n",
    "# ax = fig.add_subplot(111)\n",
    "# rect = [0.1,0.1,0.2,0.2]\n",
    "# ax1 = add_subplot_axes(ax,rect)\n",
    "plt.show()"
   ],
   "metadata": {
    "collapsed": false,
    "pycharm": {
     "name": "#%%\n"
    }
   }
  },
  {
   "cell_type": "code",
   "execution_count": 20,
   "outputs": [],
   "source": [
    "ax = ig.plot(g)"
   ],
   "metadata": {
    "collapsed": false,
    "pycharm": {
     "name": "#%%\n"
    }
   }
  },
  {
   "cell_type": "code",
   "execution_count": 21,
   "outputs": [],
   "source": [
    "# ax.save('plots/synthetic_graphs/synthetic_graph_0.png')"
   ],
   "metadata": {
    "collapsed": false,
    "pycharm": {
     "name": "#%%\n"
    }
   }
  },
  {
   "cell_type": "code",
   "execution_count": 21,
   "outputs": [],
   "source": [],
   "metadata": {
    "collapsed": false,
    "pycharm": {
     "name": "#%%\n"
    }
   }
  },
  {
   "cell_type": "code",
   "execution_count": 22,
   "outputs": [],
   "source": [
    "def add_subplot_axes(ax,rect,axisbg='w'):\n",
    "    fig = plt.gcf()\n",
    "    box = ax.get_position()\n",
    "    width = box.width\n",
    "    height = box.height\n",
    "    inax_position  = ax.transAxes.transform(rect[0:2])\n",
    "    transFigure = fig.transFigure.inverted()\n",
    "    infig_position = transFigure.transform(inax_position)    \n",
    "    x = infig_position[0]\n",
    "    y = infig_position[1]\n",
    "    width *= rect[2]\n",
    "    height *= rect[3]  # <= Typo was here\n",
    "    #subax = fig.add_axes([x,y,width,height],facecolor=facecolor)  # matplotlib 2.0+\n",
    "    subax = fig.add_axes([x,y,width,height])\n",
    "    x_labelsize = subax.get_xticklabels()[0].get_size()\n",
    "    y_labelsize = subax.get_yticklabels()[0].get_size()\n",
    "    x_labelsize *= rect[2]**0.5\n",
    "    y_labelsize *= rect[3]**0.5\n",
    "    subax.xaxis.set_tick_params(labelsize=x_labelsize)\n",
    "    subax.yaxis.set_tick_params(labelsize=y_labelsize)\n",
    "    return subax"
   ],
   "metadata": {
    "collapsed": false,
    "pycharm": {
     "name": "#%%\n"
    }
   }
  },
  {
   "cell_type": "code",
   "execution_count": 23,
   "outputs": [
    {
     "data": {
      "text/plain": "<Figure size 720x720 with 1 Axes>",
      "image/png": "[encoded data removed]"
     },
     "metadata": {
      "needs_background": "light"
     },
     "output_type": "display_data"
    }
   ],
   "source": [
    "fig, ax = plt.subplots(figsize=(10,10))\n",
    "ig.plot(g, target=ax)\n",
    "# ax = fig.add_subplot(111)\n",
    "# rect = [0.1,0.1,0.2,0.2]\n",
    "# ax1 = add_subplot_axes(ax,rect)\n",
    "plt.show()"
   ],
   "metadata": {
    "collapsed": false,
    "pycharm": {
     "name": "#%%\n"
    }
   }
  },
  {
   "cell_type": "code",
   "execution_count": 24,
   "outputs": [],
   "source": [
    "ax = ig.plot(g)"
   ],
   "metadata": {
    "collapsed": false,
    "pycharm": {
     "name": "#%%\n"
    }
   }
  },
  {
   "cell_type": "code",
   "execution_count": 25,
   "outputs": [],
   "source": [
    "# ax.save('plots/synthetic_graphs/synthetic_graph_0.png')"
   ],
   "metadata": {
    "collapsed": false,
    "pycharm": {
     "name": "#%%\n"
    }
   }
  },
  {
   "cell_type": "code",
   "execution_count": null,
   "outputs": [
    {
     "name": "stdout",
     "output_type": "stream",
     "text": [
      "PT1->PT2\n"
     ]
    }
   ],
   "source": [
    "from ptnrue.rewards.egalitarian import EgalitarianTheilReward\n",
    "import itertools as it\n",
    "\n",
    "census_data = gdf.copy()\n",
    "census_data['geometry'] = census_data['res_centroids']\n",
    "r = EgalitarianTheilReward(census_data=census_data, com_threshold=15)\n",
    "r.evaluate(g)\n",
    "g_prime = g.copy()\n",
    "\n",
    "rewards = {}\n",
    "\n",
    "n_edges = 1\n",
    "possible_edges = it.combinations(g_prime.es.select(type_ne='walk', active_eq=1), n_edges)\n",
    "\n",
    "for ps in possible_edges:\n",
    "    g_prime = g.copy()\n",
    "    pseudo_index = '|'.join([f\"{e.source_vertex['name']}->{e.target_vertex['name']}\" for e in ps])\n",
    "    print(pseudo_index)\n",
    "    pes = [e.index for e in ps]\n",
    "    g_prime.es[pes]['active'] = 0\n",
    "    rew = r.evaluate(g_prime)\n",
    "    rewards[pseudo_index] = rew"
   ],
   "metadata": {
    "collapsed": false,
    "pycharm": {
     "name": "#%%\n",
     "is_executing": true
    }
   }
  },
  {
   "cell_type": "code",
   "execution_count": 29,
   "outputs": [
    {
     "data": {
      "text/plain": "{'PT1->PT2': 0.00031415065169471167,\n 'PT2->PT1': 91.38995616965695,\n 'PT2->PT3': 91.38995616965695,\n 'PT3->PT2': 87.07255941681852}"
     },
     "execution_count": 29,
     "metadata": {},
     "output_type": "execute_result"
    }
   ],
   "source": [
    "rewards"
   ],
   "metadata": {
    "collapsed": false,
    "pycharm": {
     "name": "#%%\n"
    }
   }
  },
  {
   "cell_type": "code",
   "execution_count": null,
   "outputs": [],
   "source": [],
   "metadata": {
    "collapsed": false,
    "pycharm": {
     "name": "#%%\n"
    }
   }
  }
 ],
 "metadata": {
  "kernelspec": {
   "display_name": "Python 3",
   "language": "python",
   "name": "python3"
  },
  "language_info": {
   "codemirror_mode": {
    "name": "ipython",
    "version": 3
   },
   "file_extension": ".py",
   "mimetype": "text/x-python",
   "name": "python",
   "nbconvert_exporter": "python",
   "pygments_lexer": "ipython3",
   "version": "3.9.12"
  }
 },
 "nbformat": 4,
 "nbformat_minor": 4
}