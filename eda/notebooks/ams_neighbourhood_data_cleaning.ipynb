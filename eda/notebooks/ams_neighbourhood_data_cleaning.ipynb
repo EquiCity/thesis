{
 "cells": [
  {
   "cell_type": "code",
   "execution_count": null,
   "outputs": [],
   "source": [
    "import os\n",
    "from pathlib import Path\n",
    "import pandas as pd\n",
    "import geopandas as gpd\n",
    "from tqdm import tqdm"
   ],
   "metadata": {
    "collapsed": false,
    "pycharm": {
     "name": "#%%\n"
    }
   }
  },
  {
   "cell_type": "code",
   "execution_count": null,
   "outputs": [],
   "source": [
    "BASE_DATA_DIR = Path(\"/home/rico/Documents/thesis/eda/data/Amsterdam/\")"
   ],
   "metadata": {
    "collapsed": false,
    "pycharm": {
     "name": "#%%\n"
    }
   }
  },
  {
   "cell_type": "code",
   "execution_count": null,
   "outputs": [],
   "source": [
    "ams_neighborhoods = gpd.read_file(BASE_DATA_DIR.joinpath('ams-neighbourhoods.geojson'))"
   ],
   "metadata": {
    "collapsed": false,
    "pycharm": {
     "name": "#%%\n"
    }
   }
  },
  {
   "cell_type": "code",
   "execution_count": null,
   "outputs": [],
   "source": [
    "ams_neighborhoods['centroid'] = gpd.points_from_xy(ams_neighborhoods.cent_x, ams_neighborhoods.cent_y, crs='EPSG:4326')\n",
    "ams_neighborhoods['res_centroid'] = gpd.points_from_xy(ams_neighborhoods.res_cent_x, ams_neighborhoods.res_cent_y, crs='EPSG:4326')\n",
    "# Places without residential buildings have no residential centroids. Find them and assign to them the geographical centroid.\n",
    "ams_neighborhoods.loc[ams_neighborhoods['res_cent_x'].isna(), 'res_centroid'] = ams_neighborhoods[ams_neighborhoods['res_cent_x'].isna()]['centroid']\n",
    "ams_neighborhoods = ams_neighborhoods.drop(columns=['res_cent_x', 'res_cent_y', 'cent_x', 'cent_y'])"
   ],
   "metadata": {
    "collapsed": false,
    "pycharm": {
     "name": "#%%\n"
    }
   }
  },
  {
   "cell_type": "code",
   "execution_count": null,
   "outputs": [],
   "source": [
    "kwb_19 = pd.read_excel('/home/rico/Documents/thesis/eda/data/CBS/kwb-2019.xls', na_values='.')\n",
    "kwb_20 = pd.read_excel('/home/rico/Documents/thesis/eda/data/CBS/kwb-2020.xls', na_values='.')\n",
    "kwb_21 = pd.read_excel('/home/rico/Documents/thesis/eda/data/CBS/kwb-2021.xls', na_values='.')\n",
    "metadata_cols = [\"gwb_code_10\", \"gwb_code_8\", \"regio\", \"gm_naam\", \"recs\", \"gwb_code\"]"
   ],
   "metadata": {
    "collapsed": false,
    "pycharm": {
     "name": "#%%\n"
    }
   }
  },
  {
   "cell_type": "code",
   "execution_count": null,
   "outputs": [],
   "source": [
    "def kwb_to_float(kwb: pd.DataFrame) -> pd.DataFrame:\n",
    "    comma_check = kwb.drop(columns=metadata_cols).apply(\n",
    "        lambda x: x.str.contains(',').any() if x.dtype == object else False, axis=0)\n",
    "    cs_floats = comma_check[comma_check == True]\n",
    "    cs_float_cols = cs_floats.index.to_list()\n",
    "    kwb[cs_float_cols] = kwb[cs_float_cols].apply(lambda x: x.str.replace(',', '.'), axis=0).astype(np.float64)\n",
    "    return kwb\n",
    "\n",
    "\n",
    "kwb_19 = kwb_to_float(kwb_19)\n",
    "kwb_20 = kwb_to_float(kwb_20)\n",
    "kwb_21 = kwb_to_float(kwb_21)"
   ],
   "metadata": {
    "collapsed": false,
    "pycharm": {
     "name": "#%%\n"
    }
   }
  },
  {
   "cell_type": "code",
   "execution_count": null,
   "outputs": [],
   "source": [
    "def kwb_merge_ams_neighborhoods(kwb: pd.DataFrame, ams_neighborhoods: gpd.GeoDataFrame) -> gpd.GeoDataFrame:\n",
    "    kwb['BU_CODE'] = kwb['gwb_code']\n",
    "    kwb = kwb.drop(columns=metadata_cols)\n",
    "    ams_neighborhoods = gpd.pd.merge(ams_neighborhoods, kwb, on='BU_CODE')\n",
    "    return ams_neighborhoods\n",
    "\n",
    "\n",
    "kwb_19_ams_neighborhoods = kwb_merge_ams_neighborhoods(kwb_19, ams_neighborhoods)\n",
    "kwb_20_ams_neighborhoods = kwb_merge_ams_neighborhoods(kwb_20, ams_neighborhoods)\n",
    "kwb_21_ams_neighborhoods = kwb_merge_ams_neighborhoods(kwb_21, ams_neighborhoods)\n",
    "\n",
    "assert kwb_19_ams_neighborhoods.columns.tolist() == kwb_20_ams_neighborhoods.columns.tolist() == kwb_21_ams_neighborhoods.columns.tolist()"
   ],
   "metadata": {
    "collapsed": false,
    "pycharm": {
     "name": "#%%\n"
    }
   }
  },
  {
   "cell_type": "code",
   "execution_count": null,
   "outputs": [],
   "source": [
    "# Fill NaNs\n",
    "def inverse_dist_weighted_average(weights, values):\n",
    "    return sum([(1 / weight) * value / sum(1 / weights) for weight, value in zip(weights, values)])\n",
    "\n",
    "for kwb_ams_nhs in tqdm([kwb_19_ams_neighborhoods, kwb_20_ams_neighborhoods, kwb_21_ams_neighborhoods], position=0):\n",
    "    for col in tqdm(kwb_ams_nhs.columns, position=1, leave=False):\n",
    "        if kwb_ams_nhs[col].hasnans:\n",
    "            entries = kwb_ams_nhs[kwb_ams_nhs[col].isna()]\n",
    "            entries.res_centroid = entries.res_centroid.to_crs('epsg:32631')\n",
    "            for i, entry in entries.iterrows():\n",
    "                point = entry.res_centroid\n",
    "                non_nan_areas = kwb_ams_nhs[~kwb_ams_nhs[col].isna()]\n",
    "                distances = non_nan_areas.res_centroid.to_crs('epsg:32631').distance(point).sort_values()\n",
    "                closest_distances_idxs = distances.index[:3]\n",
    "                closest_distances = distances.loc[closest_distances_idxs].values\n",
    "                closest_entries = non_nan_areas.loc[closest_distances_idxs]\n",
    "                interpolated_nan_value = inverse_dist_weighted_average(closest_distances, closest_entries[col].values)\n",
    "                kwb_ams_nhs.loc[entry.name, col] = interpolated_nan_value\n"
   ],
   "metadata": {
    "collapsed": false,
    "pycharm": {
     "name": "#%%\n"
    }
   }
  },
  {
   "cell_type": "code",
   "execution_count": null,
   "outputs": [],
   "source": [
    "def check_na(gdf: gpd.GeoDataFrame) -> bool:\n",
    "    return gdf.apply(lambda x: x.isna(), axis=1).any(axis=0).any()\n",
    "\n",
    "assert not any([check_na(gdf) for gdf in [kwb_19_ams_neighborhoods, kwb_20_ams_neighborhoods, kwb_21_ams_neighborhoods]])"
   ],
   "metadata": {
    "collapsed": false,
    "pycharm": {
     "name": "#%%\n"
    }
   }
  },
  {
   "cell_type": "code",
   "execution_count": null,
   "outputs": [],
   "source": [
    "CLEANED_DIR = BASE_DATA_DIR.joinpath('cleaned_neighbourhood_data')\n",
    "\n",
    "if not os.path.exists(CLEANED_DIR):\n",
    "    os.mkdir(CLEANED_DIR)\n",
    "\n",
    "kwb_19_ams_neighborhoods.to_parquet(BASE_DATA_DIR.joinpath(CLEANED_DIR.joinpath('kwb_19_ams_neighborhoods.parquet')))\n",
    "kwb_20_ams_neighborhoods.to_parquet(BASE_DATA_DIR.joinpath(CLEANED_DIR.joinpath('kwb_20_ams_neighborhoods.parquet')))\n",
    "kwb_21_ams_neighborhoods.to_parquet(BASE_DATA_DIR.joinpath(CLEANED_DIR.joinpath('kwb_21_ams_neighborhoods.parquet')))"
   ],
   "metadata": {
    "collapsed": false,
    "pycharm": {
     "name": "#%%\n"
    }
   }
  }
 ],
 "metadata": {
  "kernelspec": {
   "display_name": "Python 3",
   "language": "python",
   "name": "python3"
  },
  "language_info": {
   "codemirror_mode": {
    "name": "ipython",
    "version": 2
   },
   "file_extension": ".py",
   "mimetype": "text/x-python",
   "name": "python",
   "nbconvert_exporter": "python",
   "pygments_lexer": "ipython2",
   "version": "2.7.6"
  }
 },
 "nbformat": 4,
 "nbformat_minor": 0
}