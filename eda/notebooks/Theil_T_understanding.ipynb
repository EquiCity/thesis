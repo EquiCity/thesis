{
 "cells": [
  {
   "cell_type": "code",
   "execution_count": 1,
   "id": "d119eebb-4394-4f65-bf89-367780bcc1fb",
   "metadata": {},
   "outputs": [],
   "source": [
    "import numpy as np"
   ]
  },
  {
   "cell_type": "code",
   "execution_count": 23,
   "id": "2c511591-7221-430f-a6f9-e5b38f7c4d68",
   "metadata": {},
   "outputs": [],
   "source": [
    "def theil_t(y: np.array) -> float:\n",
    "    \n",
    "    if np.all(y==0):\n",
    "        return 0\n",
    "    \n",
    "    n = y.size\n",
    "    print(f\"{n=}\")\n",
    "    mu = np.mean(y)\n",
    "    print(f\"{mu=}\")\n",
    "    term = y/mu\n",
    "    term = term[term>0]\n",
    "    print(f\"{term=}\")\n",
    "    series = np.sum(term * np.log(term)) \n",
    "    print(f\"{series=}\")\n",
    "    output = 1/n * np.sum(series)\n",
    "    print(f\"{output=}\")\n",
    "    print(f\"{np.log(n)=}\")\n",
    "    return 1/n * np.sum(series)"
   ]
  },
  {
   "cell_type": "code",
   "execution_count": 42,
   "id": "1ffe3dd6-4c68-460d-a359-5f3290a51c6a",
   "metadata": {},
   "outputs": [],
   "source": [
    "def theil_l(y: np.array) -> float:\n",
    "    \n",
    "    if np.all(y==0):\n",
    "        return 0\n",
    "    \n",
    "    n = y.size\n",
    "    print(f\"{n=}\")\n",
    "    mu = np.mean(y)\n",
    "    print(f\"{mu=}\")\n",
    "    y = y[y>0]\n",
    "    term = mu/y\n",
    "    term = term[term>0]\n",
    "    print(f\"{term=}\")\n",
    "    series = np.sum(np.log(term)) \n",
    "    print(f\"{series=}\")\n",
    "    output = 1/n * np.sum(series)\n",
    "    print(f\"{output=}\")\n",
    "    return 1/n * np.sum(series)"
   ]
  },
  {
   "cell_type": "code",
   "execution_count": 43,
   "id": "d5bcc697-e26d-4dab-b6a5-fa70d508ac42",
   "metadata": {},
   "outputs": [
    {
     "name": "stdout",
     "output_type": "stream",
     "text": [
      "n=5\n",
      "mu=1.0\n",
      "term=array([1., 1., 1., 1., 1.])\n",
      "series=0.0\n",
      "output=0.0\n",
      "np.log(n)=1.6094379124341003\n",
      "n=5\n",
      "mu=1.0\n",
      "term=array([1., 1., 1., 1., 1.])\n",
      "series=0.0\n",
      "output=0.0\n"
     ]
    },
    {
     "data": {
      "text/plain": [
       "0.0"
      ]
     },
     "execution_count": 43,
     "metadata": {},
     "output_type": "execute_result"
    }
   ],
   "source": [
    "y_1 = np.array([1,1,1,1,1])\n",
    "theil_t(y_1)\n",
    "theil_l(y_1)"
   ]
  },
  {
   "cell_type": "code",
   "execution_count": 44,
   "id": "cf4c6baf-91cc-4f2f-8e5c-0c2849f27064",
   "metadata": {},
   "outputs": [
    {
     "name": "stdout",
     "output_type": "stream",
     "text": [
      "n=5\n",
      "mu=0.2\n",
      "term=array([5.])\n",
      "series=8.047189562170502\n",
      "output=1.6094379124341005\n",
      "np.log(n)=1.6094379124341003\n",
      "n=5\n",
      "mu=0.2\n",
      "term=array([0.2])\n",
      "series=-1.6094379124341005\n",
      "output=-0.32188758248682015\n"
     ]
    },
    {
     "data": {
      "text/plain": [
       "-0.32188758248682015"
      ]
     },
     "execution_count": 44,
     "metadata": {},
     "output_type": "execute_result"
    }
   ],
   "source": [
    "y_2 = np.array([1,0,0,0,0])\n",
    "theil_t(y_2)\n",
    "theil_l(y_2)"
   ]
  },
  {
   "cell_type": "code",
   "execution_count": null,
   "id": "e44a72ea-9d9a-4b64-8218-bc07434bb946",
   "metadata": {},
   "outputs": [],
   "source": []
  }
 ],
 "metadata": {
  "kernelspec": {
   "display_name": "Python 3",
   "language": "python",
   "name": "python3"
  },
  "language_info": {
   "codemirror_mode": {
    "name": "ipython",
    "version": 3
   },
   "file_extension": ".py",
   "mimetype": "text/x-python",
   "name": "python",
   "nbconvert_exporter": "python",
   "pygments_lexer": "ipython3",
   "version": "3.9.12"
  }
 },
 "nbformat": 4,
 "nbformat_minor": 5
}
