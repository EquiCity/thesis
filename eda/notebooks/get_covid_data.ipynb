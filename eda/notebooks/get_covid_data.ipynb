{
 "cells": [
  {
   "cell_type": "code",
   "execution_count": 8,
   "id": "c946c34a-a69c-4fea-b040-fa0366d8fe97",
   "metadata": {},
   "outputs": [],
   "source": [
    "from pathlib import Path\n",
    "\n",
    "import requests\n",
    "import numpy as np\n",
    "import pandas as pd"
   ]
  },
  {
   "cell_type": "code",
   "execution_count": 23,
   "id": "1064780c-bcc2-46e9-983e-acbebf23dac2",
   "metadata": {},
   "outputs": [],
   "source": [
    "BASE_URI = 'https://raw.githubusercontent.com/OxCGRT/covid-policy-tracker/master/data/'\n",
    "DATA_DIR = Path('sample_data/COVID_interventions/')\n",
    "DATA = ['OxCGRT_withnotes_2020.csv', 'OxCGRT_withnotes_2021.csv', 'OxCGRT_withnotes_2022.csv']\n",
    "LOCAL_DATA = []"
   ]
  },
  {
   "cell_type": "code",
   "execution_count": 24,
   "id": "bec616ce-0627-4614-85fd-019f234073a4",
   "metadata": {},
   "outputs": [],
   "source": [
    "for file in DATA:\n",
    "    r = requests.get(BASE_URI + file + '?raw=true', stream=True)\n",
    "    if r.status_code == 200:\n",
    "        path = DATA_DIR.joinpath(file)\n",
    "        with open(path, 'wb') as f:\n",
    "            for chunk in r:\n",
    "                f.write(chunk)\n",
    "        LOCAL_DATA.append(path)"
   ]
  },
  {
   "cell_type": "code",
   "execution_count": 53,
   "id": "d988a29f-0a60-48a3-b1d6-f5f0bdb8f71a",
   "metadata": {},
   "outputs": [
    {
     "name": "stderr",
     "output_type": "stream",
     "text": [
      "<ipython-input-53-5bce53296646>:2: DtypeWarning: Columns (2,3,61,63,64,65,71,73) have mixed types. Specify dtype option on import or set low_memory=False.\n",
      "  df = pd.read_csv(LOCAL_DATA[0])\n"
     ]
    }
   ],
   "source": [
    "#for file in LOCAL_DATA:\n",
    "df = pd.read_csv(LOCAL_DATA[0])"
   ]
  },
  {
   "cell_type": "code",
   "execution_count": 54,
   "id": "e9ad3d36-8a0b-46ce-8ec5-050d11c18b73",
   "metadata": {},
   "outputs": [
    {
     "name": "stderr",
     "output_type": "stream",
     "text": [
      "<ipython-input-54-e13dc3a4ca2c>:2: SettingWithCopyWarning: \n",
      "A value is trying to be set on a copy of a slice from a DataFrame.\n",
      "Try using .loc[row_indexer,col_indexer] = value instead\n",
      "\n",
      "See the caveats in the documentation: https://pandas.pydata.org/pandas-docs/stable/user_guide/indexing.html#returning-a-view-versus-a-copy\n",
      "  dfnl[\"Date\"] = pd.to_datetime(dfnl.Date, format=\"%Y%m%d\").dt.date\n"
     ]
    }
   ],
   "source": [
    "dfnl = df[df['CountryCode']=='NLD']\n",
    "dfnl[\"Date\"] = pd.to_datetime(dfnl.Date, format=\"%Y%m%d\").dt.date"
   ]
  }
 ],
 "metadata": {
  "kernelspec": {
   "display_name": "Python 3",
   "language": "python",
   "name": "python3"
  },
  "language_info": {
   "codemirror_mode": {
    "name": "ipython",
    "version": 3
   },
   "file_extension": ".py",
   "mimetype": "text/x-python",
   "name": "python",
   "nbconvert_exporter": "python",
   "pygments_lexer": "ipython3",
   "version": "3.9.12"
  }
 },
 "nbformat": 4,
 "nbformat_minor": 5
}
